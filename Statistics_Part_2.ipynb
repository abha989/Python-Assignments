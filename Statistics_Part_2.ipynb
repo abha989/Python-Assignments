{
  "nbformat": 4,
  "nbformat_minor": 0,
  "metadata": {
    "colab": {
      "provenance": [],
      "authorship_tag": "ABX9TyP7GkBk+ADmJfhM1a7FAv9E",
      "include_colab_link": true
    },
    "kernelspec": {
      "name": "python3",
      "display_name": "Python 3"
    },
    "language_info": {
      "name": "python"
    }
  },
  "cells": [
    {
      "cell_type": "markdown",
      "metadata": {
        "id": "view-in-github",
        "colab_type": "text"
      },
      "source": [
        "<a href=\"https://colab.research.google.com/github/abha989/Python-Assignments/blob/main/Statistics_Part_2.ipynb\" target=\"_parent\"><img src=\"https://colab.research.google.com/assets/colab-badge.svg\" alt=\"Open In Colab\"/></a>"
      ]
    },
    {
      "cell_type": "code",
      "source": [
        "Q1- What is hypothesis testing in statistics?"
      ],
      "metadata": {
        "id": "wA_JJhlZJUB7"
      },
      "execution_count": null,
      "outputs": []
    },
    {
      "cell_type": "code",
      "source": [
        "'''Hypothesis testing is a formal statistical method used to make decisions or inferences about a population based on sample data.\n",
        "It helps determine whether there is enough evidence to support a specific claim or hypothesis about a population parameter."
      ],
      "metadata": {
        "id": "qHs5eb10JYk7"
      },
      "execution_count": null,
      "outputs": []
    },
    {
      "cell_type": "code",
      "source": [
        "Q2- What is the null hypothesis, and how does it differ from the alternative hypothesis?"
      ],
      "metadata": {
        "id": "oyBWmc43JuMo"
      },
      "execution_count": null,
      "outputs": []
    },
    {
      "cell_type": "code",
      "source": [
        "'''In statistical hypothesis testing, the null hypothesis (H0) asserts that there is no significant difference or relationship between variables or populations.\n",
        "The alternative hypothesis (Ha or H1) states that there is a significant difference or relationship. The null hypothesis is often the hypothesis a researcher\n",
        "tries to disprove, while the alternative hypothesis is the one they aim to prove"
      ],
      "metadata": {
        "id": "B8IYo9w9KAOA"
      },
      "execution_count": null,
      "outputs": []
    },
    {
      "cell_type": "code",
      "source": [
        "Q3-What is the significance level in hypothesis testing, and why is it important?"
      ],
      "metadata": {
        "id": "XA9C5fzqKQNB"
      },
      "execution_count": null,
      "outputs": []
    },
    {
      "cell_type": "code",
      "source": [
        "''' In hypothesis testing, the significance level (alpha, α) is a probability value, typically 0.05 (5%), that determines the threshold for rejecting the null\n",
        "hypothesis. It's the risk of making a Type I error (false positive), meaning concluding that a difference or effect exists when it doesn't."
      ],
      "metadata": {
        "id": "1WNEQyLkKUfu"
      },
      "execution_count": null,
      "outputs": []
    },
    {
      "cell_type": "code",
      "source": [
        "Q4- What does a P-value represent in hypothesis testing?"
      ],
      "metadata": {
        "id": "nFZfmtITKdA6"
      },
      "execution_count": null,
      "outputs": []
    },
    {
      "cell_type": "code",
      "source": [
        "'''n hypothesis testing, a p-value represents the probability of observing a result as extreme as, or more extreme than, the one actually observed,\n",
        "assuming the null hypothesis is true. It essentially quantifies the strength of evidence against the null hypothesis."
      ],
      "metadata": {
        "id": "1rJrXGghKkqq"
      },
      "execution_count": null,
      "outputs": []
    },
    {
      "cell_type": "code",
      "source": [
        "Q5- How do you interpret the P-value in hypothesis testing?"
      ],
      "metadata": {
        "id": "Z-YqlYWXKujp"
      },
      "execution_count": null,
      "outputs": []
    },
    {
      "cell_type": "code",
      "source": [
        "''' In hypothesis testing, the p-value is the probability of observing results as extreme as, or more extreme than, the ones obtained in the study,\n",
        "assuming the null hypothesis is true. A small p-value (typically <0.05) suggests the results are unlikely due to chance and provides evidence to reject the null\n",
        "hypothesis, indicating statistical significance"
      ],
      "metadata": {
        "id": "A9-TaEGeK0Q_"
      },
      "execution_count": null,
      "outputs": []
    },
    {
      "cell_type": "code",
      "source": [
        "Q6-  What are Type 1 and Type 2 errors in hypothesis testing?"
      ],
      "metadata": {
        "id": "Gh7bRen0K6iU"
      },
      "execution_count": null,
      "outputs": []
    },
    {
      "cell_type": "code",
      "source": [
        "''' In hypothesis testing, Type I and Type II errors refer to incorrect conclusions drawn about the null hypothesis.\n",
        "A Type I error (false positive) occurs when the null hypothesis is incorrectly rejected, while a Type II error (false negative) occurs when the null hypothesis is\n",
        " incorrectly retained"
      ],
      "metadata": {
        "id": "U31eUX7yK-D3"
      },
      "execution_count": null,
      "outputs": []
    },
    {
      "cell_type": "code",
      "source": [
        "Q7- What is the difference between a one-tailed and a two-tailed test in hypothesis testing?"
      ],
      "metadata": {
        "id": "3LAahExZLGOG"
      },
      "execution_count": null,
      "outputs": []
    },
    {
      "cell_type": "code",
      "source": [
        "''' In hypothesis testing, a one-tailed test checks if a parameter is greater than or less than a specific value, while a two-tailed test checks\n",
        "if it's different from that value (either greater or less). One-tailed tests focus on one direction, while two-tailed tests consider both directions of deviation.\n"
      ],
      "metadata": {
        "id": "W7SaFkloLJwU"
      },
      "execution_count": null,
      "outputs": []
    },
    {
      "cell_type": "code",
      "source": [
        "Q8- What is the Z-test, and when is it used in hypothesis testing?"
      ],
      "metadata": {
        "id": "xltukHfKLP_O"
      },
      "execution_count": null,
      "outputs": []
    },
    {
      "cell_type": "code",
      "source": [
        "'''A Z-test is a statistical method used to compare a sample mean to a population mean, or to compare the means of two samples when the population variance\n",
        " is known and the sample size is large. It's primarily used in hypothesis testing to determine if there's a significant difference between groups"
      ],
      "metadata": {
        "id": "GqWcaVg-LUb_"
      },
      "execution_count": null,
      "outputs": []
    },
    {
      "cell_type": "code",
      "source": [
        "Q9- How do you calculate the Z-score, and what does it represent in hypothesis testing?"
      ],
      "metadata": {
        "id": "YfBwXp8vLssw"
      },
      "execution_count": null,
      "outputs": []
    },
    {
      "cell_type": "code",
      "source": [
        "''' A z-score represents how many standard deviations a data point is from the mean of a distribution. It's calculated by subtracting the mean from the data\n",
        " point and dividing the result by the standard deviation. In hypothesis testing, the z-score helps determine if the observed data is significantly different\n",
        " from what would be expected under the null hypothesis."
      ],
      "metadata": {
        "id": "AxZ-3i0mLxOm"
      },
      "execution_count": null,
      "outputs": []
    },
    {
      "cell_type": "code",
      "source": [
        "Q10- What is the T-distribution, and when should it be used instead of the normal distribution?"
      ],
      "metadata": {
        "id": "Zn4mwj0-L3-N"
      },
      "execution_count": null,
      "outputs": []
    },
    {
      "cell_type": "code",
      "source": [
        "''' The t-distribution is a probability distribution similar to the normal distribution but with heavier tails, meaning it has a greater chance of extreme values.\n",
        " It's used as an alternative to the normal distribution when dealing with small sample sizes (n<30) and when the population standard deviation (σ) is not known."
      ],
      "metadata": {
        "id": "yukBb3wBMAOO"
      },
      "execution_count": null,
      "outputs": []
    },
    {
      "cell_type": "code",
      "source": [
        "Q11- What is the difference between a Z-test and a T-test?"
      ],
      "metadata": {
        "id": "d1pTUCrIMDbZ"
      },
      "execution_count": null,
      "outputs": []
    },
    {
      "cell_type": "code",
      "source": [
        "''' The main difference between a z-test and a t-test lies in the sample size and whether the population standard deviation is known.\n",
        " Z-tests are typically used with larger sample sizes (n > 30) and when the population standard deviation is known.\n",
        "  T-tests are used with smaller sample sizes (n <= 30) and when the population standard deviation is unknown."
      ],
      "metadata": {
        "id": "i1k5Z6KXMIia"
      },
      "execution_count": null,
      "outputs": []
    },
    {
      "cell_type": "code",
      "source": [
        "Q12- What is the T-test, and how is it used in hypothesis testing?"
      ],
      "metadata": {
        "id": "Hdj1sdFqNS5A"
      },
      "execution_count": null,
      "outputs": []
    },
    {
      "cell_type": "code",
      "source": [
        "'''A t-test is a statistical hypothesis test used to determine if there's a significant difference between the means of two groups.\n",
        "It's commonly used to compare the means of two groups or to compare the mean of a sample to a known value"
      ],
      "metadata": {
        "id": "nGf8qrevNYwy"
      },
      "execution_count": null,
      "outputs": []
    },
    {
      "cell_type": "code",
      "source": [
        "Q13- What is the relationship between Z-test and T-test in hypothesis testing?"
      ],
      "metadata": {
        "id": "7mkWFih7NfHh"
      },
      "execution_count": null,
      "outputs": []
    },
    {
      "cell_type": "code",
      "source": [
        "''' In hypothesis testing, Z-tests and t-tests are both used to compare sample means to population means or to compare means between two groups,\n",
        "but they differ in their assumptions and how they handle the population standard deviation. Z-tests assume a known population standard deviation and large\n",
        "sample sizes (typically n > 30), while t-tests are used when the population standard deviation is unknown or when the sample size is smaller"
      ],
      "metadata": {
        "id": "42_dh-MoNoS2"
      },
      "execution_count": null,
      "outputs": []
    },
    {
      "cell_type": "code",
      "source": [
        "Q14- What is a confidence interval, and how is it used to interpret statistical results?"
      ],
      "metadata": {
        "id": "eNn4uBpyNrhg"
      },
      "execution_count": null,
      "outputs": []
    },
    {
      "cell_type": "code",
      "source": [
        "''' A confidence interval is a range of values used to estimate an unknown population parameter based on sample data.\n",
        "It provides a level of confidence (e.g., 95%) that the true population parameter falls within that range.\n",
        "This range is calculated using the sample mean, standard deviation, and sample size. The confidence level represents the percentage of times the interval would\n",
        "contain the true population parameter if the experiment were repeated many times."
      ],
      "metadata": {
        "id": "BmP5R9loNu8U"
      },
      "execution_count": null,
      "outputs": []
    },
    {
      "cell_type": "code",
      "source": [
        "Q15- What is the margin of error, and how does it affect the confidence interval?"
      ],
      "metadata": {
        "id": "9FM5ZnO4N2Tq"
      },
      "execution_count": null,
      "outputs": []
    },
    {
      "cell_type": "code",
      "source": [
        "''' The margin of error, also called the maximum error of estimation, is a statistic that measures the precision of an estimate,\n",
        "like a poll or survey result. It represents the potential difference between the sample result and the true population value,\n",
        "and is half the width of the confidence interval. A smaller margin of error indicates a more precise estimate"
      ],
      "metadata": {
        "id": "Dgu0E_iFN6uQ"
      },
      "execution_count": null,
      "outputs": []
    },
    {
      "cell_type": "code",
      "source": [
        "Q16- How is Bayes' Theorem used in statistics, and what is its significance?"
      ],
      "metadata": {
        "id": "Z1s_FjDkOAr8"
      },
      "execution_count": null,
      "outputs": []
    },
    {
      "cell_type": "code",
      "source": [
        "''' Bayes' Theorem is a fundamental formula in probability and statistics used to calculate conditional probability.\n",
        "It allows you to update your belief about an event based on new evidence, incorporating prior knowledge with observed data to arrive at a revised or posterior\n",
        "probability."
      ],
      "metadata": {
        "id": "OcUGHcjAOFA5"
      },
      "execution_count": null,
      "outputs": []
    },
    {
      "cell_type": "code",
      "source": [
        "Q17- What is the Chi-square distribution, and when is it used?"
      ],
      "metadata": {
        "id": "CR7LDWQyOOmy"
      },
      "execution_count": null,
      "outputs": []
    },
    {
      "cell_type": "code",
      "source": [
        "'''The chi-square distribution is a continuous probability distribution used in hypothesis testing, particularly for analyzing categorical data.\n",
        "It's a family of distributions, and its shape is determined by the parameter \"degrees of freedom\" (k).\n",
        "The chi-square test helps determine if there's a significant difference between observed and expected frequencies in one or more categories.\n",
        "It's used in both the goodness-of-fit test (to see if observed data matches expected data) and the independence test (to see if two categorical variables are\n",
        "related)."
      ],
      "metadata": {
        "id": "wdNCgRHjOTGp"
      },
      "execution_count": null,
      "outputs": []
    },
    {
      "cell_type": "code",
      "source": [
        "Q18- What is the Chi-square goodness of fit test, and how is it applied?"
      ],
      "metadata": {
        "id": "gn3leQSCOgqY"
      },
      "execution_count": null,
      "outputs": []
    },
    {
      "cell_type": "code",
      "source": [
        "''' he chi-square goodness-of-fit test is a statistical method used to determine if a sample data set follows a specific distribution or\n",
        "if it is significantly different from what's expected. It compares observed frequencies (counts) to expected frequencies based on a hypothesized distribution.\n",
        " If the differences between observed and expected values are large, it suggests the sample data might not fit the proposed distribution."
      ],
      "metadata": {
        "id": "BzPxDUEvOxDN"
      },
      "execution_count": null,
      "outputs": []
    },
    {
      "cell_type": "code",
      "source": [
        "Q19-  What is the F-distribution, and when is it used in hypothesis testing?"
      ],
      "metadata": {
        "id": "rCa2tlViO0iL"
      },
      "execution_count": null,
      "outputs": []
    },
    {
      "cell_type": "code",
      "source": [
        "''' The F-distribution is a continuous probability distribution used primarily in hypothesis testing, particularly in the context of comparing variances\n",
        "between two or more groups. It's often used in Analysis of Variance (ANOVA) and F-tests. The F-distribution is characterized by two degrees of freedom,\n",
        "one for the numerator and one for the denominator."
      ],
      "metadata": {
        "id": "2YtHW_-BO9W1"
      },
      "execution_count": null,
      "outputs": []
    },
    {
      "cell_type": "code",
      "source": [
        "Q20- What is an ANOVA test, and what are its assumptions?"
      ],
      "metadata": {
        "id": "yCLlnCYVPkXb"
      },
      "execution_count": null,
      "outputs": []
    },
    {
      "cell_type": "code",
      "source": [
        "''' An ANOVA (Analysis of Variance) test is a statistical method used to compare the means of two or more groups.\n",
        "It helps determine if there's a significant difference between group means, rather than just comparing them individually,\n",
        "according to Statistics Solutions and DataCamp. Key assumptions for ANOVA include random sampling, independence of observations, normality of data,\n",
        "and homogeneity of variance"
      ],
      "metadata": {
        "id": "isI08ZjsPvcJ"
      },
      "execution_count": null,
      "outputs": []
    },
    {
      "cell_type": "code",
      "source": [
        "Q21-  What are the different types of ANOVA tests?"
      ],
      "metadata": {
        "id": "EVz8iAN7P7A0"
      },
      "execution_count": null,
      "outputs": []
    },
    {
      "cell_type": "code",
      "source": [
        "''' The two main types of ANOVA tests are one-way ANOVA and two-way ANOVA. One-way ANOVA compares the means of two or more groups when there is only one\n",
        "independent variable. Two-way ANOVA, also known as factorial ANOVA, is used when there are two or more independent variables, and the researchers are\n",
        "interested in examining the main effects of each independent variable and also their interaction effects"
      ],
      "metadata": {
        "id": "5l73R4mHP8jz"
      },
      "execution_count": null,
      "outputs": []
    },
    {
      "cell_type": "code",
      "source": [
        "Q22- What is the F-test, and how does it relate to hypothesis testing?"
      ],
      "metadata": {
        "id": "ncD0OasBQhaG"
      },
      "execution_count": null,
      "outputs": []
    },
    {
      "cell_type": "code",
      "source": [
        "''' The F-test is a statistical test that compares variances between two or more groups or samples, often used as part of Analysis of Variance (ANOVA).\n",
        "It helps determine if there's a significant difference in the means of these groups, by assessing the ratio of variances between the groups and the\n",
        "variance within the groups. In hypothesis testing, the F-test helps decide whether to reject the null hypothesis,\n",
        "which often states that there's no difference between the population variances or means"
      ],
      "metadata": {
        "id": "BGF5wP2lQn82"
      },
      "execution_count": null,
      "outputs": []
    }
  ]
}