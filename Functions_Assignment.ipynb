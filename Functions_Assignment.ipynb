{
  "nbformat": 4,
  "nbformat_minor": 0,
  "metadata": {
    "colab": {
      "provenance": [],
      "toc_visible": true,
      "authorship_tag": "ABX9TyNYghQjzWmRe5D6+s+kl/VN",
      "include_colab_link": true
    },
    "kernelspec": {
      "name": "python3",
      "display_name": "Python 3"
    },
    "language_info": {
      "name": "python"
    }
  },
  "cells": [
    {
      "cell_type": "markdown",
      "metadata": {
        "id": "view-in-github",
        "colab_type": "text"
      },
      "source": [
        "<a href=\"https://colab.research.google.com/github/abha989/Python-Assignments/blob/main/Functions_Assignment.ipynb\" target=\"_parent\"><img src=\"https://colab.research.google.com/assets/colab-badge.svg\" alt=\"Open In Colab\"/></a>"
      ]
    },
    {
      "cell_type": "code",
      "source": [
        "#1- What is the difference between a function and a method in Python?\n",
        "'''In Python, functions and methods are closely related but differ in their usage and context. Here's a breakdown of the differences:\n",
        "\n",
        "1. Definition and Context\n",
        "Function: A function is a block of reusable code that is defined using the def keyword and can exist independently in a module or script.\n",
        "It is not tied to any object or class.\n",
        "\n",
        "Method: A method is a function that is associated with an object and typically defined within a class.\n",
        " It is called on an instance of the class and can operate on the data contained within that instance.\n",
        " How They Are Called\n",
        "Function: Called directly by its name (if in the same scope) or by importing it from a module.\n",
        "Method: Called on an object (or instance) using dot notation.\n",
        "\n",
        "3. Binding\n",
        "Function: Functions are not inherently bound to any object. They take explicit arguments, including objects they may act upon.\n",
        "\n",
        "Method: Methods are bound to the object they are called on,\n",
        "and they can access the object’s attributes and other methods through self (or cls for class methods).\n",
        "\n",
        "4. Types\n",
        "Methods can be further categorized:\n",
        "\n",
        "Instance Method: Operates on an instance of the class and has access to instance attributes (self).\n",
        "Class Method: Operates on the class itself and is defined using the @classmethod decorator. It takes cls as the first parameter.\n",
        "Static Method: Does not operate on an instance or class and is defined using the @staticmethod decorator. It behaves like a regular function but belongs to the class's namespace.\n"
      ],
      "metadata": {
        "id": "kAduTKd4znvT"
      },
      "execution_count": null,
      "outputs": []
    },
    {
      "cell_type": "code",
      "source": [
        "#2- 2. Explain the concept of function arguments and parameters in Python.\n",
        "''' In Python, function arguments and parameters are essential concepts for passing data into and out of functions.\n",
        "Though the terms are often used interchangeably, they refer to different aspects of the same idea.\n",
        "\n",
        "1. Parameters\n",
        "Definition: Parameters are the variables listed in a function's definition. They act as placeholders for the values (arguments) the function will receive when it is called.\n",
        "Purpose: Allow the function to operate on different input values without needing to rewrite the function.\n",
        "\n",
        "2. Arguments\n",
        "Definition: Arguments are the actual values or data passed to a function when it is called.\n",
        "Purpose: Provide the specific data the function will work with.\n",
        "\n"
      ],
      "metadata": {
        "id": "33uoK_V3d_Wy"
      },
      "execution_count": null,
      "outputs": []
    },
    {
      "cell_type": "code",
      "source": [
        "#3- What are the different ways to define and call a function in Python?\n",
        "''' In Python, functions are versatile and can be defined and called in several ways to suit different needs.\n",
        "Here's an overview of the different ways to define and call functions:\n",
        "\n",
        "1. Basic Function Definition and Call\n",
        "Definition: Use the def keyword followed by the function name, parameters in parentheses, and a colon.\n",
        "Call: Use the function name followed by parentheses, passing arguments if needed.\n",
        "\n",
        "2. Function with Default Arguments\n",
        "Definition: Assign default values to parameters in the function definition.\n",
        "Call: Omit arguments for parameters with default values or override them.\n",
        "\n",
        "3. Function with Variable-Length Arguments\n",
        "Definition:\n",
        "Use *args to accept any number of positional arguments.\n",
        "Use **kwargs to accept any number of keyword arguments.\n",
        "Call: Pass any number of arguments.\n",
        "\n",
        "4. Anonymous Functions (Lambda Functions)\n",
        "Definition: Use the lambda keyword for short, single-expression functions.\n",
        "Call: Assign to a variable or use directly.\n",
        "\n",
        "5. Nested Functions\n",
        "Definition: Define a function inside another function. Useful for encapsulating logic or creating closures.\n",
        "Call: Call the inner function through the outer function.\n",
        "\n",
        "6. Recursive Functions\n",
        "Definition: A function that calls itself to solve a problem in smaller steps.\n",
        "Call: Ensure a base case to avoid infinite recursion.\n",
        "\n",
        "7. Higher-Order Functions\n",
        "Definition: Functions that take other functions as arguments or return functions.\n",
        "Call: Pass functions as arguments or call returned functions.\n",
        "\n",
        "8. Methods in Classes\n",
        "Definition: Define a function inside a class. It becomes a method.\n",
        "Call: Call methods on an instance or class using dot notation.\n",
        "\n",
        "9. Generator Functions\n",
        "Definition: Use the yield keyword to return a sequence of values lazily.\n",
        "Call: Iterate over the generator.\n",
        "\n",
        "10. Partial Functions (from functools)\n",
        "Definition: Create a new function by \"pre-filling\" arguments of an existing function.\n",
        "Call: Call the partially applied function.\n",
        "\n"
      ],
      "metadata": {
        "id": "sti-1BHOeTU9"
      },
      "execution_count": null,
      "outputs": []
    },
    {
      "cell_type": "code",
      "source": [
        "#4- What is the purpose of the `return` statement in a Python function?\n",
        "''' The return statement in a Python function serves the following key purposes:\n",
        "\n",
        "1. Return a Value to the Caller\n",
        "Purpose: The primary purpose of the return statement is to send a value back to the code that called the function.\n",
        "This allows the function to produce an output based on its logic.\n",
        "\n",
        "2. End the Function's Execution\n",
        "Purpose: When the return statement is executed, the function terminates immediately, and control returns to the caller.\n",
        "Any code after the return statement within the function is not executed.\n",
        "\n",
        "3. Return Multiple Values\n",
        "Purpose: Python allows a function to return multiple values as a tuple.\n",
        "This is useful for returning related data in a single step.\n",
        "\n",
        "4. Return None (Default Behavior)\n",
        "Purpose: If a function does not include a return statement or the return statement is written without a value,\n",
        "the function returns None by default.\n",
        "\n",
        "5. Enable Reusability and Modularity\n",
        "Purpose: By using return, functions can act as reusable building blocks that perform a specific task and provide output.\n",
        "This makes the code more modular and easier to maintain."
      ],
      "metadata": {
        "id": "R5VllSObfGKN"
      },
      "execution_count": null,
      "outputs": []
    },
    {
      "cell_type": "code",
      "source": [
        "#5- What are iterators in Python and how do they differ from iterables?\n",
        "''' n Python, iterators and iterables are fundamental concepts related to iteration.\n",
        "Understanding the difference between them is crucial for working with loops, data structures, and custom iteration mechanisms.\n",
        "\n",
        "1. What is an Iterable?\n",
        "An iterable is any Python object capable of returning its elements one at a time.\n",
        "It can be passed to the iter() function to get an iterator. Examples of iterables include:\n",
        "\n",
        "Built-in data types like list, tuple, set, dict, and str.\n",
        "Objects that implement the __iter__() method.\n",
        "Key Features of Iterables:\n",
        "An iterable does not generate values on demand; instead, it holds all its elements in memory.\n",
        "\n",
        "What is an Iterator?\n",
        "An iterator is an object that represents a stream of data. It is used to iterate over an iterable, one element at a time. Iterators are created by:\n",
        "\n",
        "Calling iter() on an iterable.\n",
        "Defining a custom class that implements the __iter__() and __next__() methods.\n",
        "Key Features of Iterators:\n",
        "Iterators do not store all elements in memory; instead, they generate elements on demand.\n",
        "Iterators are stateful, meaning they keep track of their position during iteration.\n"
      ],
      "metadata": {
        "id": "9__2kl-mxspn"
      },
      "execution_count": null,
      "outputs": []
    },
    {
      "cell_type": "code",
      "source": [
        "#6- Explain the concept of generators in Python and how they are defined.\n",
        "''' Generators are a special type of iterable in Python that allow you to generate a sequence of values lazily,\n",
        "meaning they produce items one at a time and only when required. This makes them memory-efficient compared to data structures\n",
        "like lists, especially for large datasets or infinite sequences.\n",
        "\n",
        "Defining Generators\n",
        "Generators are defined in two ways:\n",
        "\n",
        "Using a generator function (with the yield keyword).\n",
        "Using a generator expression (a compact syntax similar to list comprehensions).\n",
        "\n",
        "1. Generator Functions\n",
        "Defined like a regular function but use the yield keyword instead of return.\n",
        "Each time yield is executed, the function's state is saved, and it pauses execution.\n",
        "When called again, it resumes from where it left off.\n",
        "\n",
        "Generator Expressions\n",
        "Compact syntax for defining generators, similar to list comprehensions but with parentheses instead of square brackets.\n",
        "They produce items lazily, unlike list comprehensions which create the entire list in memory.\n",
        "Key Features of Generators\n",
        "Memory Efficiency:\n",
        "\n",
        "Generators yield values one at a time, which saves memory compared to storing all values in a list.\n",
        "Useful for handling large datasets or infinite sequences.\n",
        "Lazy Evaluation:\n",
        "\n",
        "Values are generated only when needed.\n",
        "Stateful:\n",
        "\n",
        "Generators remember their state between calls, allowing them to resume execution from where they paused.\n",
        "Infinite Sequences:\n",
        "\n",
        "Generators can be used to produce infinite sequences because they don’t precompute all values."
      ],
      "metadata": {
        "id": "xfU6VTKkzOWW"
      },
      "execution_count": null,
      "outputs": []
    },
    {
      "cell_type": "code",
      "source": [
        "#7 - What are the advantages of using generators over regular functions?\n",
        "''' Generators provide several advantages over regular functions, particularly in scenarios where memory efficiency and lazy\n",
        " evaluation are crucial. Here are the key benefits of using generators:\n",
        "\n",
        " 1. Memory Efficiency\n",
        "Regular Functions: When returning a large dataset, a regular function creates and stores all values in memory\n",
        "(e.g., in a list), which can consume a significant amount of memory.\n",
        "Generators: Generate values one at a time, only when needed, rather than holding the entire dataset in memory.\n",
        "This is especially useful for working with large or infinite sequences.\n",
        "\n",
        "2. Lazy Evaluation\n",
        "Regular Functions: Compute and return all results immediately, even if not all are needed.\n",
        "Generators: Compute values on demand. This can improve performance and reduce overhead when only a subset of results is required.\n",
        "\n",
        "3. Handling Infinite or Very Large Sequences\n",
        "Regular Functions: Cannot handle infinite sequences as they would attempt to compute and store all values,\n",
        "leading to memory exhaustion.\n",
        "Generators: Can represent infinite sequences because they generate values on-the-fly.\n",
        "\n",
        "4. Improved Performance\n",
        "Generators avoid the overhead of constructing and returning large collections (e.g., lists or dictionaries) in memory.\n",
        "The on-demand nature of generators ensures computation happens only when needed.\n",
        "\n",
        "5. Simplified Code for Complex Iterations\n",
        "Generators allow you to express complex iterations more naturally using the yield keyword, leading to cleaner and more\n",
        "readable code compared to manually managing state in a regular function.\n",
        "\n",
        "6. State Preservation\n",
        "Regular Functions: Lose their state after returning.\n",
        "Generators: Maintain their state between yield calls, allowing you to pause and resume computation easily.\n",
        "\n",
        "7. Support for Pipelines\n",
        "Generators can be chained together to form data pipelines, where each generator processes the data before passing\n",
        " it to the next stage.\n",
        "\n",
        "8. Easier to Implement Custom Iterators\n",
        "Generators provide a simpler and more concise way to create iterators compared to manually\n",
        "implementing __iter__() and __next__() methods in a class.\n",
        "\n",
        "9. Compatibility with for Loops\n",
        "Generators work seamlessly with for loops and other iteration tools (e.g., sum, min, max, itertools functions),\n",
        "simplifying their integration into Python code.\n",
        "\n",
        "\n",
        "\n"
      ],
      "metadata": {
        "id": "J1DBQWoQ0EDY"
      },
      "execution_count": null,
      "outputs": []
    },
    {
      "cell_type": "code",
      "source": [
        "#8 - What is a lambda function in Python and when is it typically used?\n",
        "''' A lambda function in Python is a small, anonymous function defined using the lambda keyword.\n",
        " It is often used for short, simple operations without explicitly defining a full function using def.\n",
        "\n",
        " Key Characteristics of Lambda Functions\n",
        "Single Expression: Lambda functions can only contain a single expression. They are limited in functionality compared to\n",
        "regular functions defined using def.\n",
        "Anonymous: They are unnamed functions and are usually used for short-term operations.\n",
        "Lightweight: They are concise and avoid the boilerplate of defining a full function.\n",
        "\n",
        "Advantages of Lambda Functions\n",
        "Conciseness: They allow you to define functions in a single line.\n",
        "Convenience: Useful for short, throwaway functions.\n",
        "Integration: Works well with higher-order functions and as inline operations.\n",
        "\n",
        "Limitations of Lambda Functions\n",
        "Single Expression: Can only contain one expression; no complex logic or multi-line code.\n",
        "Reduced Readability: For complex operations, lambda functions can be harder to read compared to named functions.\n",
        "No Name: They are anonymous, which can make debugging more challenging.\n"
      ],
      "metadata": {
        "id": "K_O4sPCp0kEu"
      },
      "execution_count": null,
      "outputs": []
    },
    {
      "cell_type": "code",
      "source": [
        "#9 - Explain the purpose and usage of the `map()` function in Python.\n",
        "''' The map() Function in Python\n",
        "The map() function in Python is a built-in higher-order function used to apply a given function to each item of an iterable\n",
        "(like a list, tuple, or string) and return a new map object (an iterator) with the results. It simplifies applying the same\n",
        "transformation or computation across a sequence of data.\n",
        "\n",
        "function: The function to apply to each element of the iterable. It can be a predefined function, a lambda function,\n",
        "or a built-in function.\n",
        "iterable: The input sequence(s) to be processed. Multiple iterables can be passed, and they will be processed pairwise.\n",
        "Returns: A map object, which is an iterator that yields the transformed results.\n",
        "\n",
        "Key Features\n",
        "Processes each element of the iterable lazily (i.e., one at a time), which is memory-efficient.\n",
        "Works well with single or multiple iterables.\n",
        "Often combined with list(), tuple(), or set() to obtain the transformed sequence.\n",
        "\n",
        "When to Use map()\n",
        "When you need to apply a transformation function to all elements of an iterable.\n",
        "When working with large datasets and want to avoid creating intermediate lists in memory.\n",
        "\n"
      ],
      "metadata": {
        "id": "Jh_5zTLh2Yi6"
      },
      "execution_count": null,
      "outputs": []
    },
    {
      "cell_type": "code",
      "source": [
        "#10 - What is the difference between `map()`, `reduce()`, and `filter()` functions in Python?\n",
        "'''\n",
        "The map(), reduce(), and filter() functions in Python are higher-order functions used to process iterables.\n",
        "Each has a distinct purpose:\n",
        "\n",
        "1. map()\n",
        "Purpose:\n",
        "Transforms every element in an iterable by applying a given function to each element.\n",
        "Returns a new iterator with the transformed elements.\n",
        "\n",
        "Key Points:\n",
        "Takes a function and one or more iterables as input.\n",
        "The function is applied to corresponding elements of the iterables.\n",
        "The result is a new iterable with the transformed elements.\n",
        "\n",
        "2. filter()\n",
        "Purpose:\n",
        "Filters elements from an iterable based on a condition defined in the function.\n",
        "Returns a new iterator containing only the elements for which the function returns True.\n",
        "Key Points:\n",
        "Takes a function and an iterable as input.\n",
        "The function should return True or False.\n",
        "Elements that evaluate to True are included in the result; others are excluded.\n",
        "\n",
        "3. reduce()\n",
        "Purpose:\n",
        "Reduces an iterable to a single value by repeatedly applying a binary function (a function with two arguments) to its elements.\n",
        "Used for cumulative or aggregative operations like summing, multiplying, or finding the maximum.\n",
        "Key Points:\n",
        "Takes a function and an iterable as input.\n",
        "Combines the first two elements of the iterable using the function, then applies the function cumulatively to the result and the next element.\n",
        "An optional initializer can be provided as the starting value."
      ],
      "metadata": {
        "id": "i7T4mVlP3JGH"
      },
      "execution_count": null,
      "outputs": []
    },
    {
      "cell_type": "code",
      "source": [
        "# PRACTICAL QUESTION"
      ],
      "metadata": {
        "id": "KzlY63W44v2u"
      },
      "execution_count": null,
      "outputs": []
    },
    {
      "cell_type": "code",
      "source": [
        "#1. Write a Python function that takes a list of numbers as input and returns the sum of all even numbers in the list."
      ],
      "metadata": {
        "id": "iBGQbntx40yy"
      },
      "execution_count": null,
      "outputs": []
    },
    {
      "cell_type": "code",
      "source": [
        "def generate_numbers():\n",
        "    count = 0\n",
        "    for i in range(10, 50):\n",
        "        if i % 2 == 0:\n",
        "            count += i\n",
        "    return count\n",
        "\n",
        "result = generate_numbers()\n",
        "print(result)\n",
        "\n",
        "\n"
      ],
      "metadata": {
        "colab": {
          "base_uri": "https://localhost:8080/"
        },
        "id": "UzqnaG-f5Mq7",
        "outputId": "75617b1c-39c6-47f8-a340-2eea73dc13dc"
      },
      "execution_count": null,
      "outputs": [
        {
          "output_type": "stream",
          "name": "stdout",
          "text": [
            "580\n"
          ]
        }
      ]
    },
    {
      "cell_type": "code",
      "source": [
        "#2. Create a Python function that accepts a string and returns the reverse of that string."
      ],
      "metadata": {
        "id": "usP5zJ7wO845"
      },
      "execution_count": null,
      "outputs": []
    },
    {
      "cell_type": "code",
      "source": [
        "def reverse_string():\n",
        " n = input(\"Enter Yout String\")\n",
        " New_string = n[::-1]\n",
        " return New_string\n",
        "result = reverse_string()\n",
        "print(result)"
      ],
      "metadata": {
        "colab": {
          "base_uri": "https://localhost:8080/"
        },
        "id": "k089Xl8TPlue",
        "outputId": "24fe3255-095a-42b5-a20b-8968f911ce7b"
      },
      "execution_count": null,
      "outputs": [
        {
          "output_type": "stream",
          "name": "stdout",
          "text": [
            "Enter Yout StringMy Name Is Abha\n",
            "ahbA sI emaN yM\n"
          ]
        }
      ]
    },
    {
      "cell_type": "code",
      "source": [
        "#3. Implement a Python function that takes a list of integers and returns a new list containing the squares of each number."
      ],
      "metadata": {
        "id": "YbeidpqLRPJn"
      },
      "execution_count": null,
      "outputs": []
    },
    {
      "cell_type": "code",
      "source": [
        "def square_list():\n",
        "  old_list = list(map(int, input(\"Enter the list elements separated by spaces: \").split()))\n",
        "  new_list = []\n",
        "  for i in old_list:\n",
        "    n = i * i\n",
        "    new_list.append(n)\n",
        "  return new_list\n",
        "result = square_list()\n",
        "print(result)\n"
      ],
      "metadata": {
        "colab": {
          "base_uri": "https://localhost:8080/"
        },
        "id": "ZmFm2V2aSTKO",
        "outputId": "f1ca74a6-560e-4fb4-9011-e7a4327dac83"
      },
      "execution_count": null,
      "outputs": [
        {
          "output_type": "stream",
          "name": "stdout",
          "text": [
            "Enter the list elements separated by spaces: 1 2 3 4 5\n",
            "[1, 4, 9, 16, 25]\n"
          ]
        }
      ]
    },
    {
      "cell_type": "code",
      "source": [
        "#4- Write a Python function that checks if a given number is prime or not from 1 to 200."
      ],
      "metadata": {
        "id": "Js0Ti-XAYS3c"
      },
      "execution_count": null,
      "outputs": []
    },
    {
      "cell_type": "code",
      "source": [
        "def prime_check():\n",
        "  new_list = []\n",
        "  for i in range(2, 100):\n",
        "    if i % i == 0 and i % 1 == 0:\n",
        "      new_list.append(i)\n",
        "  return new_list\n",
        "result = prime_check()\n",
        "print(result)"
      ],
      "metadata": {
        "colab": {
          "base_uri": "https://localhost:8080/"
        },
        "id": "lhsEm0Uka6R-",
        "outputId": "ef860f01-22c7-4c46-8c1a-2fcb884e53d5"
      },
      "execution_count": null,
      "outputs": [
        {
          "output_type": "stream",
          "name": "stdout",
          "text": [
            "[1, 2, 3, 4, 5, 6, 7, 8, 9, 10, 11, 12, 13, 14, 15, 16, 17, 18, 19, 20, 21, 22, 23, 24, 25, 26, 27, 28, 29, 30, 31, 32, 33, 34, 35, 36, 37, 38, 39, 40, 41, 42, 43, 44, 45, 46, 47, 48, 49, 50, 51, 52, 53, 54, 55, 56, 57, 58, 59, 60, 61, 62, 63, 64, 65, 66, 67, 68, 69, 70, 71, 72, 73, 74, 75, 76, 77, 78, 79, 80, 81, 82, 83, 84, 85, 86, 87, 88, 89, 90, 91, 92, 93, 94, 95, 96, 97, 98, 99]\n"
          ]
        }
      ]
    },
    {
      "cell_type": "code",
      "source": [
        "#5- Create an iterator class in Python that generates the Fibonacci sequence up to a specified number of terms.\n"
      ],
      "metadata": {
        "id": "KGvpWvcxexhc"
      },
      "execution_count": null,
      "outputs": []
    },
    {
      "cell_type": "code",
      "source": [
        "def fib(n):\n",
        "  a = 0\n",
        "  b = 1\n",
        "  for i in range(n):\n",
        "    yield a\n",
        "    a, b = b, a+b"
      ],
      "metadata": {
        "id": "P9P1DWFwGh0U"
      },
      "execution_count": null,
      "outputs": []
    },
    {
      "cell_type": "code",
      "source": [
        "f = fib(5)"
      ],
      "metadata": {
        "id": "rg4DAaaLZ1-6"
      },
      "execution_count": null,
      "outputs": []
    },
    {
      "cell_type": "code",
      "source": [
        "f"
      ],
      "metadata": {
        "colab": {
          "base_uri": "https://localhost:8080/"
        },
        "id": "23JW9Ka7aP4x",
        "outputId": "58ea07e8-bc03-4716-9889-5893cf1c25ba"
      },
      "execution_count": null,
      "outputs": [
        {
          "output_type": "execute_result",
          "data": {
            "text/plain": [
              "<generator object fib at 0x7a9ba4e6eb60>"
            ]
          },
          "metadata": {},
          "execution_count": 15
        }
      ]
    },
    {
      "cell_type": "code",
      "source": [
        "next(f)"
      ],
      "metadata": {
        "colab": {
          "base_uri": "https://localhost:8080/"
        },
        "id": "R5kn1U6ZaKAA",
        "outputId": "6829752f-bc09-4a5d-ee85-a754aa7944b6"
      },
      "execution_count": null,
      "outputs": [
        {
          "output_type": "execute_result",
          "data": {
            "text/plain": [
              "0"
            ]
          },
          "metadata": {},
          "execution_count": 16
        }
      ]
    },
    {
      "cell_type": "code",
      "source": [
        "next(f)"
      ],
      "metadata": {
        "colab": {
          "base_uri": "https://localhost:8080/"
        },
        "id": "UHwruQTVaj_P",
        "outputId": "45800106-e797-40b0-9257-015a4cffd7d6"
      },
      "execution_count": null,
      "outputs": [
        {
          "output_type": "execute_result",
          "data": {
            "text/plain": [
              "1"
            ]
          },
          "metadata": {},
          "execution_count": 17
        }
      ]
    },
    {
      "cell_type": "code",
      "source": [
        "next(f)"
      ],
      "metadata": {
        "colab": {
          "base_uri": "https://localhost:8080/"
        },
        "id": "KMgA61jBamwc",
        "outputId": "fedf6f21-3a7f-468e-bb9a-e7ce37f1ae90"
      },
      "execution_count": null,
      "outputs": [
        {
          "output_type": "execute_result",
          "data": {
            "text/plain": [
              "1"
            ]
          },
          "metadata": {},
          "execution_count": 18
        }
      ]
    },
    {
      "cell_type": "code",
      "source": [
        "next(f)"
      ],
      "metadata": {
        "colab": {
          "base_uri": "https://localhost:8080/"
        },
        "id": "NePY96tOaqkG",
        "outputId": "1bc98d8b-dc77-4fc3-f05d-139c6f6ca2b1"
      },
      "execution_count": null,
      "outputs": [
        {
          "output_type": "execute_result",
          "data": {
            "text/plain": [
              "2"
            ]
          },
          "metadata": {},
          "execution_count": 19
        }
      ]
    },
    {
      "cell_type": "code",
      "source": [
        "next(f)"
      ],
      "metadata": {
        "colab": {
          "base_uri": "https://localhost:8080/"
        },
        "id": "5DLU7FVzasoM",
        "outputId": "63614d5a-00cb-49c5-c0fc-141a3b3ed559"
      },
      "execution_count": null,
      "outputs": [
        {
          "output_type": "execute_result",
          "data": {
            "text/plain": [
              "3"
            ]
          },
          "metadata": {},
          "execution_count": 20
        }
      ]
    },
    {
      "cell_type": "code",
      "source": [
        "#6- Write a generator function in Python that yields the powers of 2 up to a given exponent."
      ],
      "metadata": {
        "id": "YiGzC8b5cFam"
      },
      "execution_count": null,
      "outputs": []
    },
    {
      "cell_type": "code",
      "source": [
        "def exponent(n):\n",
        "  for i in range(n):\n",
        "    x = 2 ** i\n",
        "    yield x"
      ],
      "metadata": {
        "id": "7_rGcI5nnNBn"
      },
      "execution_count": null,
      "outputs": []
    },
    {
      "cell_type": "code",
      "source": [
        "for value in exponent(8):\n",
        "  print(value)"
      ],
      "metadata": {
        "colab": {
          "base_uri": "https://localhost:8080/"
        },
        "id": "eZuo2Bq6qm4Q",
        "outputId": "db557390-f931-49d3-d630-72060025ebac"
      },
      "execution_count": null,
      "outputs": [
        {
          "output_type": "stream",
          "name": "stdout",
          "text": [
            "1\n",
            "2\n",
            "4\n",
            "8\n",
            "16\n",
            "32\n",
            "64\n",
            "128\n"
          ]
        }
      ]
    },
    {
      "cell_type": "code",
      "source": [
        "#8. Use a lambda function in Python to sort a list of tuples based on the second element of each tuple."
      ],
      "metadata": {
        "id": "IXRlD_env-43"
      },
      "execution_count": null,
      "outputs": []
    },
    {
      "cell_type": "code",
      "source": [
        "tuples_list = [(1, 3), (4, 1), (2, 2), (5, 0)]\n",
        "sorted_list = sorted(tuples_list, key=lambda x: x[1])\n",
        "print(sorted_list)\n"
      ],
      "metadata": {
        "id": "DvBLKa-9wBO6",
        "colab": {
          "base_uri": "https://localhost:8080/"
        },
        "outputId": "a14a5676-5927-41f3-83b8-bb732d212a73"
      },
      "execution_count": null,
      "outputs": [
        {
          "output_type": "stream",
          "name": "stdout",
          "text": [
            "[(5, 0), (4, 1), (2, 2), (1, 3)]\n"
          ]
        }
      ]
    },
    {
      "cell_type": "code",
      "source": [
        "#9. Write a Python program that uses `map()` to convert a list of temperatures from Celsius to Fahrenheit."
      ],
      "metadata": {
        "id": "9cMgTyV7rSWs"
      },
      "execution_count": null,
      "outputs": []
    },
    {
      "cell_type": "code",
      "source": [
        "celsius_temps = [0, 20, 25, 30, 37, 100]\n",
        "convert = list(map(lambda i : i * 9/5 + 32,celsius_temps))\n",
        "print(convert)"
      ],
      "metadata": {
        "colab": {
          "base_uri": "https://localhost:8080/"
        },
        "id": "m-jm8RVuxoBk",
        "outputId": "e867fa8f-3f2b-4466-e562-3c0d60aed11a"
      },
      "execution_count": null,
      "outputs": [
        {
          "output_type": "stream",
          "name": "stdout",
          "text": [
            "[32.0, 68.0, 77.0, 86.0, 98.6, 212.0]\n"
          ]
        }
      ]
    },
    {
      "cell_type": "code",
      "source": [
        "#10. Create a Python program that uses `filter()` to remove all the vowels from a given string."
      ],
      "metadata": {
        "id": "0AW-tUyd07iP"
      },
      "execution_count": null,
      "outputs": []
    },
    {
      "cell_type": "code",
      "source": [
        "input_string = (\"My name is abha yadav, what yours\")\n",
        "result_string = ''.join(filter(lambda char: char.lower() not in \"aeiou\", input_string))\n",
        "print(result_string)"
      ],
      "metadata": {
        "colab": {
          "base_uri": "https://localhost:8080/"
        },
        "id": "XH-dwPU26eiY",
        "outputId": "584310ae-a830-4195-c904-fa259d0c0cae"
      },
      "execution_count": null,
      "outputs": [
        {
          "output_type": "stream",
          "name": "stdout",
          "text": [
            "My nm s bh ydv, wht yrs\n"
          ]
        }
      ]
    },
    {
      "cell_type": "code",
      "source": [
        "#11. Write a Python program, which returns a list with 2-tuples. Each tuple consists of the order number and the product of the price per item and the quantity. The product should be increased by 10,- € if the value of theorder is smaller than 100,00 €.Write a Python program using lambda and map."
      ],
      "metadata": {
        "id": "uG2p4kMx6saw"
      },
      "execution_count": null,
      "outputs": []
    },
    {
      "cell_type": "code",
      "source": [
        "orders = [\n",
        "    [34587, \"Learning Python\", 4, 45.50],\n",
        "    [98762, \"Programming in C\", 3, 32.95],\n",
        "    [77226, \"Head First Java\", 2, 24.50],\n",
        "    [88112, \"The C Programming Language\", 5, 35.00]\n",
        "]\n",
        "calculate_order = lambda order: (\n",
        "    order[0],  # Order number\n",
        "    order[2] * order[3] + (10 if order[2] * order[3] < 100 else 0)\n",
        ")\n",
        "result = list(map(calculate_order, orders))\n",
        "print(result)"
      ],
      "metadata": {
        "colab": {
          "base_uri": "https://localhost:8080/"
        },
        "id": "8h544vXc73_s",
        "outputId": "970ae872-ba50-4103-d328-dbb2045a8b2d"
      },
      "execution_count": null,
      "outputs": [
        {
          "output_type": "stream",
          "name": "stdout",
          "text": [
            "[(34587, 182.0), (98762, 108.85000000000001), (77226, 59.0), (88112, 175.0)]\n"
          ]
        }
      ]
    }
  ]
}