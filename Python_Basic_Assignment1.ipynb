{
  "nbformat": 4,
  "nbformat_minor": 0,
  "metadata": {
    "colab": {
      "provenance": [],
      "toc_visible": true,
      "mount_file_id": "1yTXlAYJO-n5uvRy2CtMGR_pn3SU2N1Yb",
      "authorship_tag": "ABX9TyOEsD1OO9ZedgWx33kihi4m",
      "include_colab_link": true
    },
    "kernelspec": {
      "name": "python3",
      "display_name": "Python 3"
    },
    "language_info": {
      "name": "python"
    }
  },
  "cells": [
    {
      "cell_type": "markdown",
      "metadata": {
        "id": "view-in-github",
        "colab_type": "text"
      },
      "source": [
        "<a href=\"https://colab.research.google.com/github/abha989/Python-Assignments/blob/main/Python_Basic_Assignment1.ipynb\" target=\"_parent\"><img src=\"https://colab.research.google.com/assets/colab-badge.svg\" alt=\"Open In Colab\"/></a>"
      ]
    },
    {
      "cell_type": "code",
      "source": [
        "# Python Practical Question"
      ],
      "metadata": {
        "id": "pVWtGSZ6bLO7"
      },
      "execution_count": null,
      "outputs": []
    },
    {
      "cell_type": "code",
      "source": [
        "#1- Write a Python program to print \"Hello, World!\n",
        "print(\"Hello, World!\")"
      ],
      "metadata": {
        "colab": {
          "base_uri": "https://localhost:8080/"
        },
        "id": "IDJgK51QeOY2",
        "outputId": "3c2bf2da-cd41-4618-faac-a61bfcf0e3a4"
      },
      "execution_count": null,
      "outputs": [
        {
          "output_type": "stream",
          "name": "stdout",
          "text": [
            "Hello, World!\n"
          ]
        }
      ]
    },
    {
      "cell_type": "code",
      "source": [
        "#2- Write a Python program that displays your name and age\n",
        "Name = input(\"Enter your name: \")\n",
        "Age = int(input(\"Enter your age: \"))"
      ],
      "metadata": {
        "colab": {
          "base_uri": "https://localhost:8080/"
        },
        "id": "KR01yapgfUlp",
        "outputId": "96d774e2-350f-4d46-d916-99d8f82c0ce0"
      },
      "execution_count": null,
      "outputs": [
        {
          "name": "stdout",
          "output_type": "stream",
          "text": [
            "Enter your name: abha\n",
            "Enter your age: 25\n"
          ]
        }
      ]
    },
    {
      "cell_type": "code",
      "source": [
        "#3- Write code to print all the pre-defined keywords in Python using the keyword library\n",
        "import keyword\n",
        "keywords = keyword.kwlist\n",
        "print(keywords)\n"
      ],
      "metadata": {
        "colab": {
          "base_uri": "https://localhost:8080/"
        },
        "id": "8tkwUKRYiRHe",
        "outputId": "7ddd26ab-b29b-4c99-90b7-ba0d12c696d1"
      },
      "execution_count": null,
      "outputs": [
        {
          "output_type": "stream",
          "name": "stdout",
          "text": [
            "['False', 'None', 'True', 'and', 'as', 'assert', 'async', 'await', 'break', 'class', 'continue', 'def', 'del', 'elif', 'else', 'except', 'finally', 'for', 'from', 'global', 'if', 'import', 'in', 'is', 'lambda', 'nonlocal', 'not', 'or', 'pass', 'raise', 'return', 'try', 'while', 'with', 'yield']\n"
          ]
        }
      ]
    },
    {
      "cell_type": "code",
      "execution_count": null,
      "metadata": {
        "colab": {
          "base_uri": "https://localhost:8080/"
        },
        "id": "ONoEWMDX3Hdv",
        "outputId": "d97687c2-d857-4beb-9eff-f0b0e38d1b60"
      },
      "outputs": [
        {
          "output_type": "stream",
          "name": "stdout",
          "text": [
            "['False', 'None', 'True', 'and', 'as', 'assert', 'async', 'await', 'break', 'class', 'continue', 'def', 'del', 'elif', 'else', 'except', 'finally', 'for', 'from', 'global', 'if', 'import', 'in', 'is', 'lambda', 'nonlocal', 'not', 'or', 'pass', 'raise', 'return', 'try', 'while', 'with', 'yield']\n",
            "Enter your word - abha\n",
            "Given word is not in keyword list\n"
          ]
        }
      ],
      "source": [
        "#4- Write a program that checks if a given word is a Python keyword0\n",
        "\n",
        "import keyword\n",
        "keywords = keyword.kwlist\n",
        "print(keywords)\n",
        "word = input(\"Enter your word - \")\n",
        "\n",
        "if word in keywords :\n",
        " print(\"Given word is in keyword list\")\n",
        "else:\n",
        "  print(\"Given word is not in keyword list\")\n",
        "\n",
        "\n"
      ]
    },
    {
      "cell_type": "code",
      "source": [
        "#5- Create a list and tuple in Python, and demonstrate how attempting to change an element works differently for each\n",
        "# Creating list  Fruits\n",
        "Fruits = []\n",
        "for i in range(0,5):\n",
        "  item = input(f\"Enter the list items \")\n",
        "  Fruits.append(item)\n",
        "print(Fruits)\n",
        "\n"
      ],
      "metadata": {
        "colab": {
          "base_uri": "https://localhost:8080/"
        },
        "id": "IvCHT71ostUO",
        "outputId": "fb31e386-74ae-4bbb-8ffa-c335d4247e84"
      },
      "execution_count": null,
      "outputs": [
        {
          "output_type": "stream",
          "name": "stdout",
          "text": [
            "Enter the list items apple\n",
            "Enter the list items banana\n",
            "Enter the list items pear\n",
            "Enter the list items papaya\n",
            "Enter the list items orange\n",
            "['apple', 'banana', 'pear', 'papaya', 'orange']\n"
          ]
        }
      ]
    },
    {
      "cell_type": "code",
      "source": [
        "# Now attempt to change elements in list , replacing papaya from pomegranate\n",
        "for i in range(len(Fruits)):\n",
        "  if Fruits[i] == 'papaya':\n",
        "    Fruits[i] = 'Pomegranate'\n",
        "print(Fruits)"
      ],
      "metadata": {
        "colab": {
          "base_uri": "https://localhost:8080/"
        },
        "id": "aglaEEZYyL2X",
        "outputId": "1ea4917e-5582-4b86-ae7a-5654adceae64"
      },
      "execution_count": null,
      "outputs": [
        {
          "output_type": "stream",
          "name": "stdout",
          "text": [
            "['apple', 'banana', 'pear', 'Pomegranate', 'orange']\n"
          ]
        }
      ]
    },
    {
      "cell_type": "code",
      "source": [
        "# Now Creating tuple Vegetable\n",
        "Tuple_1 = tuple(range(5))\n",
        "print(Tuple_1)\n",
        "\n",
        "\n"
      ],
      "metadata": {
        "colab": {
          "base_uri": "https://localhost:8080/"
        },
        "id": "7ZaxbBq52OBY",
        "outputId": "2ca2c561-3386-4e65-a0e0-1bcfeff48f72"
      },
      "execution_count": null,
      "outputs": [
        {
          "output_type": "stream",
          "name": "stdout",
          "text": [
            "(0, 1, 2, 3, 4)\n"
          ]
        }
      ]
    },
    {
      "cell_type": "code",
      "source": [
        "#Trying to add elements in tuple\n",
        "Tuple_1.append(5)\n",
        "print(Tuple_1)\n"
      ],
      "metadata": {
        "colab": {
          "base_uri": "https://localhost:8080/",
          "height": 180
        },
        "id": "TPa-H-sM5_vn",
        "outputId": "4f350c3c-84f0-463b-cecf-df1ddaae4908"
      },
      "execution_count": null,
      "outputs": [
        {
          "output_type": "error",
          "ename": "AttributeError",
          "evalue": "'tuple' object has no attribute 'append'",
          "traceback": [
            "\u001b[0;31m---------------------------------------------------------------------------\u001b[0m",
            "\u001b[0;31mAttributeError\u001b[0m                            Traceback (most recent call last)",
            "\u001b[0;32m<ipython-input-26-3b0aac0c7957>\u001b[0m in \u001b[0;36m<cell line: 2>\u001b[0;34m()\u001b[0m\n\u001b[1;32m      1\u001b[0m \u001b[0;31m#Trying to add elements in tuple\u001b[0m\u001b[0;34m\u001b[0m\u001b[0;34m\u001b[0m\u001b[0m\n\u001b[0;32m----> 2\u001b[0;31m \u001b[0mTuple_1\u001b[0m\u001b[0;34m.\u001b[0m\u001b[0mappend\u001b[0m\u001b[0;34m(\u001b[0m\u001b[0;36m5\u001b[0m\u001b[0;34m)\u001b[0m\u001b[0;34m\u001b[0m\u001b[0;34m\u001b[0m\u001b[0m\n\u001b[0m\u001b[1;32m      3\u001b[0m \u001b[0mprint\u001b[0m\u001b[0;34m(\u001b[0m\u001b[0mTuple_1\u001b[0m\u001b[0;34m)\u001b[0m\u001b[0;34m\u001b[0m\u001b[0;34m\u001b[0m\u001b[0m\n",
            "\u001b[0;31mAttributeError\u001b[0m: 'tuple' object has no attribute 'append'"
          ]
        }
      ]
    },
    {
      "cell_type": "code",
      "source": [
        "# As shown above tuple is immutable and not support append method\n",
        "# Here is other way to make changes in tuple\n",
        "Tuple_2 = tuple(range(5,9))\n",
        "Tuple_3 = Tuple_1 + Tuple_2\n",
        "print(Tuple_3)"
      ],
      "metadata": {
        "colab": {
          "base_uri": "https://localhost:8080/"
        },
        "id": "y_O0FDW76hPV",
        "outputId": "766334da-a1ac-43ff-b37b-480aecc90d39"
      },
      "execution_count": null,
      "outputs": [
        {
          "output_type": "stream",
          "name": "stdout",
          "text": [
            "(0, 1, 2, 3, 4, 5, 6, 7, 8)\n"
          ]
        }
      ]
    },
    {
      "cell_type": "code",
      "source": [
        "#6- Write a function to demonstrate the behavior of mutable and immutable arguments\n",
        "\n",
        "def demonstrate_mutable_immutable(mutable_arg, immutable_arg):\n",
        "    # Modify the mutable argument (list)\n",
        "    mutable_arg.append(100)\n",
        "    print(f\"Inside function - Mutable argument after modification: {mutable_arg}\")\n",
        "\n",
        "    # Attempt to modify the immutable argument (integer)\n",
        "    immutable_arg += 10\n",
        "    print(f\"Inside function - Immutable argument after modification attempt: {immutable_arg}\")\n",
        "\n",
        "# Create mutable and immutable arguments\n",
        "mutable_list = [10, 20, 30]  # List (mutable)\n",
        "immutable_number = 50    # Integer (immutable)\n",
        "\n",
        "# Call the function\n",
        "print(\"Before function call:\")\n",
        "print(f\"Mutable argument: {mutable_list}\")\n",
        "print(f\"Immutable argument: {immutable_number}\")\n",
        "\n",
        "demonstrate_mutable_immutable(mutable_list, immutable_number)\n",
        "\n",
        "print(\"\\nAfter function call:\")\n",
        "print(f\"Mutable argument: {mutable_list}\")  # Modified in place\n",
        "print(f\"Immutable argument: {immutable_number}\")  # Unchanged\n",
        "\n",
        "\n"
      ],
      "metadata": {
        "colab": {
          "base_uri": "https://localhost:8080/"
        },
        "id": "O0coP2NBTc3Q",
        "outputId": "6160073b-4989-40ea-bd98-c768805f1cbb"
      },
      "execution_count": null,
      "outputs": [
        {
          "output_type": "stream",
          "name": "stdout",
          "text": [
            "Before function call:\n",
            "Mutable argument: [10, 20, 30]\n",
            "Immutable argument: 50\n",
            "Inside function - Mutable argument after modification: [10, 20, 30, 100]\n",
            "Inside function - Immutable argument after modification attempt: 60\n",
            "\n",
            "After function call:\n",
            "Mutable argument: [10, 20, 30, 100]\n",
            "Immutable argument: 50\n"
          ]
        }
      ]
    },
    {
      "cell_type": "code",
      "source": [
        "#7- Write a function to demonstrate the behavior of mutable and immutable arguments\n",
        "\n",
        "def demonstrate_mutable_immutable(mutable_arg, immutable_arg):\n",
        "    # Modify the mutable argument (list)\n",
        "    mutable_arg.append(100)\n",
        "    print(f\"Inside function - Mutable argument after modification: {mutable_arg}\")\n",
        "\n",
        "    # Attempt to modify the immutable argument (integer)\n",
        "    immutable_arg += 10\n",
        "    print(f\"Inside function - Immutable argument after modification attempt: {immutable_arg}\")\n",
        "\n",
        "# Create mutable and immutable arguments\n",
        "mutable_list = [10, 20, 30]  # List (mutable)\n",
        "immutable_number = 50    # Integer (immutable)\n",
        "\n",
        "# Call the function\n",
        "print(\"Before function call:\")\n",
        "print(f\"Mutable argument: {mutable_list}\")\n",
        "print(f\"Immutable argument: {immutable_number}\")\n",
        "\n",
        "demonstrate_mutable_immutable(mutable_list, immutable_number)\n",
        "\n",
        "print(\"\\nAfter function call:\")\n",
        "print(f\"Mutable argument: {mutable_list}\")  # Modified in place\n",
        "print(f\"Immutable argument: {immutable_number}\")  # Unchanged\n"
      ],
      "metadata": {
        "colab": {
          "base_uri": "https://localhost:8080/"
        },
        "id": "ibv3c2G03gqh",
        "outputId": "5d711b9c-b85c-41b4-b570-9cb58de341d5"
      },
      "execution_count": null,
      "outputs": [
        {
          "output_type": "stream",
          "name": "stdout",
          "text": [
            "Before function call:\n",
            "Mutable argument: [10, 20, 30]\n",
            "Immutable argument: 50\n",
            "Inside function - Mutable argument after modification: [10, 20, 30, 100]\n",
            "Inside function - Immutable argument after modification attempt: 60\n",
            "\n",
            "After function call:\n",
            "Mutable argument: [10, 20, 30, 100]\n",
            "Immutable argument: 50\n"
          ]
        }
      ]
    },
    {
      "cell_type": "code",
      "source": [
        "#8-  Write a program to demonstrate the use of logical operators\n",
        "num = int(input(\"Enter the number: \"))\n",
        "for i in range(10, 50):\n",
        "    if num < 10 or num > 50:\n",
        "        print('Given number is out of range')\n",
        "        break\n",
        "    elif num == i and num % 2 == 0:\n",
        "        print(\"Number is in range and even\")\n",
        "        break\n",
        "    elif num == i and num % 2 != 0:\n",
        "        print(\"Number is in range but not even\")\n",
        "        break\n",
        "    elif num != i and num % 2 == 0:\n",
        "        print(\"Number is not in range but even\")\n",
        "        break\n"
      ],
      "metadata": {
        "colab": {
          "base_uri": "https://localhost:8080/"
        },
        "id": "kzLSAWGOZPJY",
        "outputId": "e106042d-a073-4b17-af0f-ef2fb1e107f6"
      },
      "execution_count": null,
      "outputs": [
        {
          "output_type": "stream",
          "name": "stdout",
          "text": [
            "Enter the number: 55\n",
            "Given number is out of range\n"
          ]
        }
      ]
    },
    {
      "cell_type": "code",
      "source": [
        "#9 - Write a Python program to convert user input from string to integer, float, and boolean types\n",
        "print(\"Fill the form: \")\n",
        "Name = input(\"Enter your Name \")\n",
        "Age = input(\"Enter your Age \",)\n",
        "Age = int(Age)\n",
        "Height = input(\"Enter your Height\")\n",
        "Height = float(Height)\n",
        "print(bool(\"\"))\n",
        "print(type(Name))\n",
        "print(type(Age))\n",
        "print(type(Height))"
      ],
      "metadata": {
        "colab": {
          "base_uri": "https://localhost:8080/"
        },
        "id": "xEuhzuqeP4oG",
        "outputId": "dfa06a9d-f7d1-40e9-b123-f5fd9bab219d"
      },
      "execution_count": null,
      "outputs": [
        {
          "output_type": "stream",
          "name": "stdout",
          "text": [
            "Fill the form: \n",
            "Enter your Name Abha \n",
            "Enter your Age 30\n",
            "Enter your Height5.4\n",
            "False\n",
            "<class 'str'>\n",
            "<class 'int'>\n",
            "<class 'float'>\n"
          ]
        }
      ]
    },
    {
      "cell_type": "code",
      "source": [
        "#10- Write code to demonstrate type casting with list elements\n",
        "list = [1,2,3,2.5, 6,1.5]\n",
        "list_float = []\n",
        "for i in list:\n",
        "  list_float.append(float(i))\n",
        "print(list_float)\n",
        "\n",
        "\n",
        "\n"
      ],
      "metadata": {
        "id": "4stXZ_SJQKeS",
        "colab": {
          "base_uri": "https://localhost:8080/"
        },
        "outputId": "c1a38910-6ae3-4643-e7b7-cc5ed366dbf8"
      },
      "execution_count": null,
      "outputs": [
        {
          "output_type": "stream",
          "name": "stdout",
          "text": [
            "[1.0, 2.0, 3.0, 2.5, 6.0, 1.5]\n"
          ]
        }
      ]
    },
    {
      "cell_type": "code",
      "source": [
        "#11- Write a program that checks if a number is positive, negative, or zero\n",
        "Number = int(input(\"Enter the number:\"))\n",
        "if Number > 0:\n",
        "  print(\"Given number is positive\")\n",
        "elif Number < 0:\n",
        "  print(\"Given number is Negative\")\n",
        "elif Number == 0:\n",
        "  print(\"Number is zero\")"
      ],
      "metadata": {
        "colab": {
          "base_uri": "https://localhost:8080/"
        },
        "id": "lWfSYKcFeC-4",
        "outputId": "da50752e-063d-4dce-ac2d-e10c2cc04fda"
      },
      "execution_count": null,
      "outputs": [
        {
          "output_type": "stream",
          "name": "stdout",
          "text": [
            "Enter the number:-5\n",
            "Given number is Negative\n"
          ]
        }
      ]
    },
    {
      "cell_type": "code",
      "source": [
        "#12- Write a for loop to print numbers from 1 to 10\n",
        "for i in range(1,11):\n",
        "   print (i)"
      ],
      "metadata": {
        "colab": {
          "base_uri": "https://localhost:8080/"
        },
        "id": "M3K-1S02ZZxk",
        "outputId": "456c8971-6542-4a7d-eacd-f2459c1ebee9"
      },
      "execution_count": null,
      "outputs": [
        {
          "output_type": "stream",
          "name": "stdout",
          "text": [
            "1\n",
            "2\n",
            "3\n",
            "4\n",
            "5\n",
            "6\n",
            "7\n",
            "8\n",
            "9\n",
            "10\n"
          ]
        }
      ]
    },
    {
      "cell_type": "code",
      "source": [
        "#13-  Write a Python program to find the sum of all even numbers between 1 and 50\n",
        "sum = 0\n",
        "for i in range(1,51):\n",
        "  if i % 2 == 0:\n",
        "    sum = sum+i\n",
        "print(sum)\n"
      ],
      "metadata": {
        "colab": {
          "base_uri": "https://localhost:8080/"
        },
        "id": "-r61sC8xaUvw",
        "outputId": "f1a72c10-0a60-4600-8de3-d50756ee7fbe"
      },
      "execution_count": null,
      "outputs": [
        {
          "output_type": "stream",
          "name": "stdout",
          "text": [
            "650\n"
          ]
        }
      ]
    },
    {
      "cell_type": "code",
      "source": [
        "#14- Write a program to reverse a string using a while loop\n",
        "string =input(\"Enter the string\")\n",
        "reverse =\"\"\n",
        "i = len(string) -1\n",
        "while i >= 0:\n",
        " reverse= reverse + string[i]\n",
        " i=i-1\n",
        "print(reverse)\n"
      ],
      "metadata": {
        "colab": {
          "base_uri": "https://localhost:8080/"
        },
        "id": "APQsaAaOooVM",
        "outputId": "e0fd29be-42eb-4f7e-c959-7d8320e547f5"
      },
      "execution_count": null,
      "outputs": [
        {
          "output_type": "stream",
          "name": "stdout",
          "text": [
            "Enter the stringI Love India\n",
            "aidnI evoL I\n"
          ]
        }
      ]
    },
    {
      "cell_type": "code",
      "source": [
        "#15- Write a Python program to calculate the factorial of a number provided by the user using a while loop\n",
        "num = int(input(\"Enter the number\"))\n",
        "fact = 1\n",
        "i=1\n",
        "while i <= num:\n",
        " fact = i * fact\n",
        " i = i+1\n",
        "print(fact)\n",
        "\n",
        "\n"
      ],
      "metadata": {
        "colab": {
          "base_uri": "https://localhost:8080/"
        },
        "id": "Kqpfikd7XYGC",
        "outputId": "da0b68fd-8d43-415c-b28c-cc0bd5c9f915"
      },
      "execution_count": null,
      "outputs": [
        {
          "output_type": "stream",
          "name": "stdout",
          "text": [
            "Enter the number5\n",
            "120\n"
          ]
        }
      ]
    },
    {
      "cell_type": "code",
      "source": [
        "# Python Basic question"
      ],
      "metadata": {
        "id": "tQzJjcjLbD9h"
      },
      "execution_count": null,
      "outputs": []
    },
    {
      "cell_type": "code",
      "source": [
        "#1- What is Python, and why is it popular\n",
        "#  Python’s combination of simplicity, power, and versatility has made it one of the most popular programming languages today."
      ],
      "metadata": {
        "id": "Cwyn9KbSbYYu"
      },
      "execution_count": null,
      "outputs": []
    },
    {
      "cell_type": "code",
      "source": [
        "#2- What is an interpreter in Python\n",
        "'''Ans interpreter in Python is a software tool that directly executes Python code by reading and translating it line by line into machine code\n",
        " or an intermediate form that the computer can execute.\n",
        "     Examples of Python Interpreters:\n",
        "     CPython: The default and most widely used Python interpreter, written in C.\n",
        "     PyPy: A faster Python interpreter using Just-In-Time (JIT) compilation techniques.\n",
        "     Jython: A Python interpreter that runs on the Java Virtual Machine (JVM).\n",
        "    IronPython: A Python interpreter implemented in C# for the .NET framework.\n",
        "    MicroPython: A lightweight Python interpreter for microcontrollers and embedded systems'''"
      ],
      "metadata": {
        "id": "oLVMAWmifqFR"
      },
      "execution_count": null,
      "outputs": []
    },
    {
      "cell_type": "code",
      "source": [
        "#3- What are pre-defined keywords in Python\n",
        "'''Keywords are reserved words in Python that have special meanings and cannot be used as identifiers (variable names, function names, etc.).\n",
        "     Examples of keywords include if, else, while, for, def, class, import, try, except, return, True, False, None, etc.\n",
        "     Keywords are case-sensitive and cannot be redefined or overridden within a Python program.'''"
      ],
      "metadata": {
        "id": "SjSOrKaOg4qS"
      },
      "execution_count": null,
      "outputs": []
    },
    {
      "cell_type": "code",
      "source": [
        "#4- Can keywords be used as variable names\n",
        "'''Ans Keywords are part of the Python language syntax and cannot be used as identifiers (e.g., variable, function, or class names). They are\n",
        " case-sensitive and must be used exactly as defined, these keywords, these keywords have specific meanings and purposes."
      ],
      "metadata": {
        "id": "5moYEYuKhVH9"
      },
      "execution_count": null,
      "outputs": []
    },
    {
      "cell_type": "code",
      "source": [
        "#5-  What is mutability in Python\n",
        "''' In Python, objects can be either changeable (modifiable) or unchangeable (unchangeable),Mutable objects, such as lists and dictionaries, can be\n",
        "      modified after creation,Mutability affects how objects are stored and manipulated in memory, impacting performance, memory usage, and\n",
        "      concurrency in Python programs.'''\n"
      ],
      "metadata": {
        "id": "Y_ys_hLpht63"
      },
      "execution_count": null,
      "outputs": []
    },
    {
      "cell_type": "code",
      "source": [
        "#6- Why are lists mutable, but tuples are immutable\n",
        "'''The distinction in mutability between lists and tuples is a deliberate design choice in Python to provide tools tailored to different needs.\n",
        " Lists are mutable to allow for dynamic, flexible collections, while tuples are immutable for safety, performance,\n",
        "  and use in contexts requiring hashable objects.\n",
        "\n",
        "  1. Purpose and Use Case\n",
        "Lists:\n",
        "Designed to hold collections of items that may change over time.\n",
        "Commonly used when you need a dynamic data structure that supports adding, removing, or modifying elements.\n",
        "Mutability supports these use cases effectively.\n",
        "Tuples:\n",
        "Intended to represent fixed collections of items, often used for grouping related but immutable data.\n",
        "Their immutability ensures that their contents remain constant, which can make them safer to use in certain contexts, such as dictionary keys.\n",
        "\n",
        "2. Memory and Performance\n",
        "Lists:\n",
        "The ability to modify lists requires additional memory overhead to support operations like appending or resizing.\n",
        "Python uses dynamic arrays for lists, allowing them to grow or shrink.\n",
        "Tuples:\n",
        "Being immutable, tuples can be optimized for memory and performance.\n",
        "Since tuples cannot change, Python can store them in a more compact and efficient way, and reuse tuples when they have identical values (interning).\n",
        "\n",
        "3. Hashability\n",
        "Lists:\n",
        "Since their content can change, lists cannot guarantee consistent hash values, making them unsuitable for use as dictionary keys or in sets.\n",
        "Tuples:\n",
        "Their immutability allows them to be hashable (as long as all their elements are hashable), enabling their use as dictionary keys or in sets.\n",
        "\n",
        "4. Conceptual Simplicity\n",
        "Lists:\n",
        "Represent mutable sequences, making them more flexible but requiring careful management to avoid unintended modifications.\n",
        "Tuples:\n",
        "Represent immutable sequences, providing guarantees that the data will remain unchanged, which simplifies reasoning about the program's behavior.'''\n",
        "\n",
        "#7- What is the difference between “==” and “is” operators in Python\n",
        "''' \"==\" Value Equality Operator -\n",
        "Purpose: To determine if the contents or values of two objects are the same.\n",
        "Behavior: Compares the data stored in the objects.\n",
        "Usage Scenario: When you want to check if two variables have the same value, regardless of whether they are the same object.\n",
        "\n",
        "is: Identity Operator\n",
        "Purpose: Checks if two objects are the same object in memory (i.e., have the same identity).\n",
        "Behavior: It evaluates to True only if both operands refer to the exact same object, not just objects with the same value.'''\n",
        "\n",
        "#8- What are logical operators in Python\n",
        "''' Logical operators in Python are used to combine conditional statements or expressions to produce a boolean result.\n",
        "These operators evaluate one or more expressions and return either True or False based on their logic.\n",
        "\n",
        "1. And Operator - &&\n",
        "Purpose: Returns True if both expressions are True. Otherwise, it returns False.\n",
        "\n",
        "2. or Operator\n",
        "Purpose: Returns True if at least one of the expressions is True. Returns False only if both are False.\n",
        "\n",
        "3. not Operator\n",
        "Purpose: Reverses the truth value of the expression it is applied to.\n",
        "\n",
        "Precedence of Logical Operators\n",
        "Logical operators have a precedence order that determines how expressions are evaluated:\n",
        "1- Not (highest precedence)\n",
        "2- And\n",
        "3- or (lowest precedence)'''\n",
        "\n",
        "#9- What is type casting in Python\n",
        "''' Type casting in Python refers to the process of converting one data type into another.\n",
        " This is often used when you need to perform operations on incompatible data types or explicitly specify a desired data type.\n",
        " Proper use of type casting ensures smoother operations and avoids runtime errors caused by incompatible types.\n",
        "\n",
        " Python provides two main types of type casting:\n",
        " Implicit Type Casting: Python automatically converts one data type to another without requiring explicit instructions from the programmer.\n",
        "\n",
        " Explicit Type Casting: The programmer manually converts one data type to another using predefined functions in Python.'''\n",
        "\n",
        " #10- What is the difference between implicit and explicit type casting\n",
        " '''The key difference between implicit and explicit type casting lies in how and why the type conversion happens. Here's a detailed explanation:\n",
        "\n",
        "1. Implicit Type Casting\n",
        "Python automatically converts one data type to another without the programmer's intervention.\n",
        "This happens when the conversion is safe, meaning there's no risk of losing data or precision.\n",
        "\n",
        "Characteristics:\n",
        "\n",
        "Automatic: Performed by Python during operations involving mixed data types.\n",
        "Lossless: Ensures no data is lost or corrupted.\n",
        "Typically occurs in arithmetic operations where a \"smaller\" type is promoted to a \"larger\" type for consistency.\n",
        "\n",
        "2. Explicit Type Casting\n",
        "The programmer manually converts one data type to another using Python's type conversion functions like int(), float(), str(), etc.\n",
        "This is required when Python cannot implicitly convert types, or when the programmer needs control over the conversion process.\n",
        "\n",
        "Characteristics:\n",
        "\n",
        "Manual: Requires explicit use of type-casting functions.\n",
        "May Lose Data: Some conversions may result in loss of precision or truncation.\n",
        "Useful for incompatible types (e.g., converting strings to integers).'''\n",
        "\n",
        "#11- What is the purpose of conditional statements in Python\n",
        "'''Conditional statements in Python allow you to execute specific blocks of code based on whether certain conditions are met.\n",
        " They are fundamental to implementing decision-making logic in your programs, enabling dynamic behavior rather than executing all code sequentially.\n",
        "\n",
        "Key Purposes:\n",
        "\n",
        "1- Decision-Making:\n",
        "Conditional statements enable the program to make decisions and choose different paths of execution based on conditions.\n",
        "\n",
        "2- Control Flow:\n",
        "They control the flow of the program by determining which block of code is executed.\n",
        "This helps avoid executing unnecessary code, making the program efficient and logical.\n",
        "\n",
        "3- Dynamic Behavior:\n",
        "Programs can behave differently depending on the input or environment.\n",
        "\n",
        "4- Error Handling and Validation:\n",
        "Conditions are often used to validate user input or handle potential errors in logic.\n",
        "\n",
        "5- Implementing Logic:\n",
        "They allow you to implement complex logical operations by combining conditions using logical operators (and, or, not).\n",
        "\n",
        "Types of Conditional Statements in Python\n",
        "1- If statement\n",
        "Executes a block of code if a specified condition is True.\n",
        "\n",
        "2- If-Else statement\n",
        "Adds an alternative block of code to execute if the condition is False.\n",
        "\n",
        "3- if-elif-else Statement:\n",
        "Allows multiple conditions to be checked in sequence.\n",
        "\n",
        "4-Nested if Statements:\n",
        "Allows conditional statements within other conditional statements.\n",
        "\n",
        "Benefits of Conditional Statements\n",
        "\n",
        "1- Flexibility: Allows the program to adapt based on inputs or changing conditions.\n",
        "2- Clarity: Makes the logic of the program easier to understand.\n",
        "3- Efficiency: Prevents unnecessary code execution, improving performance.\n",
        "4- Real-world Modeling: Enables programs to model decision-making processes similar to those in real life.'''\n",
        "\n",
        "#12- How does the elif statement work\n",
        "''' The elif statement in Python is used to specify multiple conditions in a program, providing an alternative to writing several nested if-else statements.\n",
        " It stands for \"else if\" and is used after an initial if statement to check additional conditions if the previous condition(s) were False.\n",
        " How elif Works\n",
        "\n",
        "1- The program first checks the condition in the if statement.\n",
        "2- If the if condition evaluates to True, the corresponding block of code is executed, and the rest of the elif and else statements are skipped.\n",
        "3- If the if condition evaluates to False, the program evaluates the condition in the elif statement.\n",
        "4- The first elif condition that evaluates to True executes its corresponding block of code, skipping the rest of the elif and else statements.\n",
        "5- If none of the conditions in the if and elif statements are True, the else block (if present) executes.'''\n",
        "\n",
        "#13- What is the difference between for and while loops\n",
        "''' The for loop and while loop in Python are used to repeat blocks of code, but they serve different purposes and are suited to different types of tasks.\n",
        " Here's a detailed comparison:\n",
        "\n",
        " 1. for Loop\n",
        "Definition: A for loop is used when the number of iterations is known or when iterating over a sequence (e.g., a list, tuple, dictionary, string, or range).\n",
        "\n",
        "Key Characteristics:\n",
        "1- Iterates over elements of a sequence or a range.\n",
        "2- Best for situations where the iteration count or range is predefined.\n",
        "3- More concise and straightforward when working with sequences.\n",
        "\n",
        "Use Cases:\n",
        "1- Iterating over a sequence (e.g., list, tuple, dictionary).\n",
        "2- Performing a fixed number of iterations.\n",
        "3- Applying an operation to all items in a sequence.\n",
        "\n",
        "2. while Loop\n",
        "Definition: A while loop is used when the number of iterations is not known in advance but depends on a condition that needs to be met.\n",
        "\n",
        "Key Characteristics:\n",
        "\n",
        "1- Repeats as long as a specified condition is True.\n",
        "2- Best for situations where the termination depends on dynamic conditions.\n",
        "3- May lead to infinite loops if the condition is never falsified.\n",
        "\n",
        "Use Cases:\n",
        "\n",
        "1- Repeating actions until a specific condition is met.\n",
        "2- Waiting for user input or external events.\n",
        "3- Implementing loops where the number of iterations is not predetermined.'''\n",
        "\n",
        "#14- Describe a scenario where a while loop is more suitable than a for loop.\n",
        "''' A while loop is more suitable than a for loop when the number of iterations is not known beforehand\n",
        " and the loop must continue until a specific condition is met.\n",
        "\n",
        " Scenario: User Input Validation\n",
        "Imagine a program that prompts a user to enter a valid password.\n",
        "The program doesn't know how many attempts the user will need to provide the correct password,\n",
        "so the loop must run indefinitely until the condition (correct password) is met.\n",
        "\n",
        "Why a while Loop is Better:\n",
        "1- Condition-Based Termination: The loop continues until the user enters the correct password.\n",
        "2- Unknown Iterations: The number of attempts needed is not predetermined; it depends on user input.\n",
        "3- Dynamic Behavior: The condition (user_password != correct_password) drives the loop, making it dynamic and flexible.\n",
        "\n",
        "Why Not a for Loop?\n",
        "A for loop is typically used for a predetermined number of iterations or for iterating over a sequence.\n",
        " In this scenario, we can't predict how many attempts the user will need, making the while loop the ideal choice.\n",
        "\n",
        "\n",
        "\n",
        "\n",
        "\n",
        "\n",
        "\n",
        "\n",
        "\n",
        "\n",
        "\n",
        "\n",
        "\n",
        "\n",
        "\n",
        "\n",
        "\n",
        "\n"
      ],
      "metadata": {
        "id": "uUxMXGTElMrx"
      },
      "execution_count": null,
      "outputs": []
    }
  ]
}