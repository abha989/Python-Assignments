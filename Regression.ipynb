{
  "cells": [
    {
      "cell_type": "markdown",
      "metadata": {
        "id": "view-in-github",
        "colab_type": "text"
      },
      "source": [
        "<a href=\"https://colab.research.google.com/github/abha989/Python-Assignments/blob/main/Regression.ipynb\" target=\"_parent\"><img src=\"https://colab.research.google.com/assets/colab-badge.svg\" alt=\"Open In Colab\"/></a>"
      ]
    },
    {
      "cell_type": "code",
      "source": [
        "Q1- B- What is Simple Linear Regression?"
      ],
      "metadata": {
        "id": "bSKe8uBBT34f"
      },
      "execution_count": null,
      "outputs": []
    },
    {
      "cell_type": "code",
      "source": [
        "'''Simple linear regression is a statistical method used to model the relationship between a single independent variable (a predictor) and a\n",
        "dependent variable (an outcome) using a straight line. It aims to find the best-fitting line that represents the relationship between the two variables, and this line can be used to make predictions about the dependent variable based on the independent variable"
      ],
      "metadata": {
        "id": "z_KBEBU_T75r"
      },
      "execution_count": null,
      "outputs": []
    },
    {
      "cell_type": "code",
      "source": [
        "Q2- What are the key assumptions of Simple Linear Regression?"
      ],
      "metadata": {
        "id": "PGUX1vI6UXMp"
      },
      "execution_count": null,
      "outputs": []
    },
    {
      "cell_type": "code",
      "source": [
        "''' The key assumptions of Simple Linear Regression include linearity, independence of errors, homoscedasticity, and normality of residuals.\n",
        "These assumptions ensure that the regression model is reliable and provides accurate predictions."
      ],
      "metadata": {
        "id": "D27xrm0yUbq7"
      },
      "execution_count": null,
      "outputs": []
    },
    {
      "cell_type": "code",
      "source": [
        "Q3- What does the coefficient m represent in the equation Y=mX+c?"
      ],
      "metadata": {
        "id": "El1XOrCRUgzP"
      },
      "execution_count": null,
      "outputs": []
    },
    {
      "cell_type": "code",
      "source": [
        "'''In the equation Y = mX + c, the coefficient m represents the slope or gradient of the line. It indicates how steep the line is and whether it slopes upwards\n",
        " or downwards."
      ],
      "metadata": {
        "id": "b-a7oHh7UkcO"
      },
      "execution_count": null,
      "outputs": []
    },
    {
      "cell_type": "code",
      "source": [
        "Q4- What does the intercept c represent in the equation Y=mX+c?"
      ],
      "metadata": {
        "id": "HHK-ijk_Up8C"
      },
      "execution_count": null,
      "outputs": []
    },
    {
      "cell_type": "code",
      "source": [
        "''' In the equation y = mx + c, the intercept 'c' represents the y-intercept. This means it's the point where the line crosses the y-axis on a graph. More specifically, it's the y-coordinate of that point when x is equal to zero.\n",
        "In simpler terms:\n",
        "m: is the slope (how steep the line is).\n",
        "c: is where the line crosses the vertical y-axis."
      ],
      "metadata": {
        "id": "6YquQTCXUvI3"
      },
      "execution_count": null,
      "outputs": []
    },
    {
      "cell_type": "code",
      "source": [
        "Q5- How do we calculate the slope m in Simple Linear Regression?"
      ],
      "metadata": {
        "id": "4gUNGzsjU1jP"
      },
      "execution_count": null,
      "outputs": []
    },
    {
      "cell_type": "code",
      "source": [
        "'''In simple linear regression, the slope m is calculated using the formula: m = (Σ(xᵢ - x̄)(yᵢ - ȳ)) / Σ(xᵢ - x̄)² where xᵢ and yᵢ are individual data points,\n",
        " x̄ and ȳ are the means of the x and y values, respectively, and the summations are over all data points. This formula essentially calculates the change in the\n",
        "  dependent variable (y) for a one-unit change in the independent variable (x)."
      ],
      "metadata": {
        "id": "V7xGB0cEU4-B"
      },
      "execution_count": null,
      "outputs": []
    },
    {
      "cell_type": "code",
      "source": [
        "Q6- What is the purpose of the least squares method in Simple Linear Regression?"
      ],
      "metadata": {
        "id": "hcROEsh6U_WV"
      },
      "execution_count": null,
      "outputs": []
    },
    {
      "cell_type": "code",
      "source": [
        "''' The least squares method in simple linear regression aims to find the \"line of best fit\" by minimizing the sum of squared differences between the observed\n",
        "data points and the predicted values from the regression line. In other words, it finds the line that minimizes the overall error or discrepancy between the\n",
        "observed data and the model's predictions."
      ],
      "metadata": {
        "id": "-Q1FEnmoVHM0"
      },
      "execution_count": null,
      "outputs": []
    },
    {
      "cell_type": "code",
      "source": [
        "Q7-How is the coefficient of determination (R²) interpreted in Simple Linear Regression?"
      ],
      "metadata": {
        "id": "tHXvtVUcVKJi"
      },
      "execution_count": null,
      "outputs": []
    },
    {
      "cell_type": "code",
      "source": [
        "'''In Simple Linear Regression, the coefficient of determination, denoted as R² (R-squared), is a key metric that indicates how well the independent variable (X)\n",
        "explains the variability in the dependent variable (Y)\n",
        "In statistics, the coefficient of determination, denoted R2 or r2 and pronounced \"R squared\", is the proportion of the variation in the dependent variable that\n",
        "is predictable from the independent variable(s). It is a statistic used in the context of statistical models whose main purpose is either the prediction of future\n",
        " outcomes or the testing of hypotheses, on the basis of other related information. It provides a measure of how well observed outcomes are replicated by the\n",
        " model, based on the proportion of total variation of outcomes explained by the model"
      ],
      "metadata": {
        "id": "sxTXZ9ZhVRGi"
      },
      "execution_count": null,
      "outputs": []
    },
    {
      "cell_type": "code",
      "source": [
        "Q8- What is Multiple Linear Regression?"
      ],
      "metadata": {
        "id": "SAGsB_7IV7CV"
      },
      "execution_count": null,
      "outputs": []
    },
    {
      "cell_type": "code",
      "source": [
        "''' Multiple linear regression is a statistical method used to predict a dependent variable's value based on the values of two or more independent variables.\n",
        " It's an extension of simple linear regression, which deals with only one independent variable. MLR helps understand how multiple factors interact to influence a\n",
        "  result, making it valuable in fields like economics, finance, and social sciences."
      ],
      "metadata": {
        "id": "JcL5OxCOV-8I"
      },
      "execution_count": null,
      "outputs": []
    },
    {
      "cell_type": "code",
      "source": [
        "Q9- What is the main difference between Simple and Multiple Linear Regression?"
      ],
      "metadata": {
        "id": "zuaK0umMWF9g"
      },
      "execution_count": null,
      "outputs": []
    },
    {
      "cell_type": "code",
      "source": [
        "''' The primary distinction between simple and multiple linear regression lies in the number of independent variables used to predict a dependent variable.\n",
        "Simple linear regression utilizes one independent variable, while multiple linear regression incorporates two or more. Multiple regression allows for more\n",
        "complex models that consider the influence of multiple factors simultaneously"
      ],
      "metadata": {
        "id": "eC3kyOQXWJ_k"
      },
      "execution_count": null,
      "outputs": []
    },
    {
      "cell_type": "code",
      "source": [
        "Q10- What are the key assumptions of Multiple Linear Regression?"
      ],
      "metadata": {
        "id": "j7orzRApWRzW"
      },
      "execution_count": null,
      "outputs": []
    },
    {
      "cell_type": "code",
      "source": [
        "'''The key assumptions of Multiple Linear Regression (MLR) are linearity, independence, no multicollinearity, homoscedasticity, and normality of residuals.\n",
        "These assumptions are crucial for the reliability and validity of the regression model's predictions."
      ],
      "metadata": {
        "id": "cnMnQhX-WYvo"
      },
      "execution_count": null,
      "outputs": []
    },
    {
      "cell_type": "code",
      "source": [
        "Q11- What is heteroscedasticity, and how does it affect the results of a Multiple Linear Regression model?"
      ],
      "metadata": {
        "id": "NFBzSk1FWbRY"
      },
      "execution_count": null,
      "outputs": []
    },
    {
      "cell_type": "code",
      "source": [
        "'''Heteroscedasticity in a Multiple Linear Regression model means the variance of the error terms (residuals) is not constant across all values of the\n",
        "independent variables. This violates a key assumption of Ordinary Least Squares (OLS) regression, which assumes homoscedasticity (constant variance).\n",
        " Heteroscedasticity can lead to unreliable standard errors for the regression coefficients, making hypothesis tests and confidence intervals invalid,\n",
        " even though the coefficient estimates themselves may remain unbiased.\n"
      ],
      "metadata": {
        "id": "zU6Kyi-kWevq"
      },
      "execution_count": null,
      "outputs": []
    },
    {
      "cell_type": "code",
      "source": [
        "Q12- How can you improve a Multiple Linear Regression model with high multicollinearity?"
      ],
      "metadata": {
        "id": "VAALH2oLWxEg"
      },
      "execution_count": null,
      "outputs": []
    },
    {
      "cell_type": "code",
      "source": [
        "'''To improve a multiple linear regression model with high multicollinearity, consider these strategies: removing correlated variables, using robust regression\n",
        "techniques like ridge or lasso, or applying dimensionality reduction methods such as Principal Component Analysis (PCA). You might also try increasing the sample\n",
        "size to reduce the impact of multicollinearity,"
      ],
      "metadata": {
        "id": "u5KneMm4W5TR"
      },
      "execution_count": null,
      "outputs": []
    },
    {
      "cell_type": "code",
      "source": [
        "Q13- What are some common techniques for transforming categorical variables for use in regression models?"
      ],
      "metadata": {
        "id": "qGuUUlTyW8jD"
      },
      "execution_count": null,
      "outputs": []
    },
    {
      "cell_type": "code",
      "source": [
        "'''Several techniques transform categorical variables for use in regression models, including one-hot encoding, label encoding, ordinal encoding, and target\n",
        " encoding. One-hot encoding creates binary columns for each category, while label encoding assigns unique integers. Ordinal encoding preserves a meaningful order\n",
        "  among categories, and target encoding replaces categories with the mean target value within each category.\n",
        "\n",
        "  Common Techniques:\n",
        "\n",
        "  1- One-Hot Encoding:\n",
        "  2- Label Encoding:\n",
        "  3- Target Encoding:\n",
        "  4- Binary Encoding:\n",
        "  5- Frequency Encoding:\n"
      ],
      "metadata": {
        "id": "k1WG9jClXBl4"
      },
      "execution_count": null,
      "outputs": []
    },
    {
      "cell_type": "code",
      "source": [
        "Q14- What is the role of interaction terms in Multiple Linear Regression?"
      ],
      "metadata": {
        "id": "GAE1GGkWXdXa"
      },
      "execution_count": null,
      "outputs": []
    },
    {
      "cell_type": "code",
      "source": [
        "''' In Multiple Linear Regression, interaction terms represent how the effect of one independent variable on the dependent variable changes depending on the\n",
        "values of another independent variable. Essentially, they capture situations where the relationship between two predictors isn't simply additive."
      ],
      "metadata": {
        "id": "82XFhhsgXl4u"
      },
      "execution_count": null,
      "outputs": []
    },
    {
      "cell_type": "code",
      "source": [
        "Q15- How can the interpretation of intercept differ between Simple and Multiple Linear Regression?"
      ],
      "metadata": {
        "id": "VL-cadiaXts_"
      },
      "execution_count": null,
      "outputs": []
    },
    {
      "cell_type": "code",
      "source": [
        "'''In both simple and multiple linear regression, the intercept represents the predicted value of the dependent variable when all independent variables are zero.\n",
        " However, the interpretation of the intercept can be slightly different when moving from simple to multiple regression due to the presence of multiple independent\n",
        "  variables in the latter.\n"
      ],
      "metadata": {
        "id": "pHVevZm6X0jF"
      },
      "execution_count": null,
      "outputs": []
    },
    {
      "cell_type": "code",
      "source": [
        "Q16- What is the significance of the slope in regression analysis, and how does it affect predictions?"
      ],
      "metadata": {
        "id": "ud-9WW8pX379"
      },
      "execution_count": null,
      "outputs": []
    },
    {
      "cell_type": "code",
      "source": [
        "'''In regression analysis, the slope represents the change in the dependent variable (y) for every one-unit change in the independent variable (x).\n",
        " It essentially quantifies the strength and direction of the linear relationship between the two variables. This directly impacts predictions: a steeper slope\n",
        " (larger magnitude) indicates a stronger relationship, while a zero slope suggests no linear relationship."
      ],
      "metadata": {
        "id": "iIio7k5-X-Qm"
      },
      "execution_count": null,
      "outputs": []
    },
    {
      "cell_type": "code",
      "source": [
        "Q17- How does the intercept in a regression model provide context for the relationship between variables?"
      ],
      "metadata": {
        "id": "6Ul4kANJYGAG"
      },
      "execution_count": null,
      "outputs": []
    },
    {
      "cell_type": "code",
      "source": [
        "'''In regression models, the intercept provides crucial context for the relationship between variables by representing the predicted value of the dependent\n",
        "variable when all independent variables are zero. This baseline value helps understand the starting point or \"base level\" of the dependent variable when no\n",
        "independent variables are influencing it."
      ],
      "metadata": {
        "id": "j5zrzpf5YKQz"
      },
      "execution_count": null,
      "outputs": []
    },
    {
      "cell_type": "code",
      "source": [
        "Q18- What are the limitations of using R² as a sole measure of model performance?"
      ],
      "metadata": {
        "id": "9jpE745_YQp_"
      },
      "execution_count": null,
      "outputs": []
    },
    {
      "cell_type": "code",
      "source": [
        "'''\n",
        "Using R² (coefficient of determination) as the sole measure of model performance has several important limitations, especially when you're trying to assess the\n",
        "quality, reliability, or generalizability of a regression model. Here's a breakdown:"
      ],
      "metadata": {
        "id": "YD5kGGXFYUlZ"
      },
      "execution_count": null,
      "outputs": []
    },
    {
      "cell_type": "code",
      "source": [
        "Q19- How would you interpret a large standard error for a regression coefficient?"
      ],
      "metadata": {
        "id": "mGfmBR4IYxM1"
      },
      "execution_count": null,
      "outputs": []
    },
    {
      "cell_type": "code",
      "source": [
        "'''A large standard error for a regression coefficient suggests that the estimated coefficient is unreliable and less precise. It indicates that the estimated\n",
        "value is likely to fluctuate significantly if the study were to be repeated with a different sample, suggesting less confidence in the effect of the independent\n",
        "variable."
      ],
      "metadata": {
        "id": "taf666uzY0_f"
      },
      "execution_count": null,
      "outputs": []
    },
    {
      "cell_type": "code",
      "source": [
        "Q20- How can heteroscedasticity be identified in residual plots, and why is it important to address it?"
      ],
      "metadata": {
        "id": "Wgk4h2aIY70w"
      },
      "execution_count": null,
      "outputs": []
    },
    {
      "cell_type": "code",
      "source": [
        "''' Heteroscedasticity, or non-constant variance of errors, can be identified in residual plots by looking for a fan or cone shape, where the spread of residuals\n",
        "widens or narrows as the fitted values increase. Addressing heteroscedasticity is crucial because it violates the assumptions of linear regression, potentially\n",
        "leading to unreliable standard errors and confidence intervals, and affecting the validity of hypothesis tests."
      ],
      "metadata": {
        "id": "gXKFZyc1ZAM3"
      },
      "execution_count": null,
      "outputs": []
    },
    {
      "cell_type": "code",
      "source": [
        "Q21- What does it mean if a Multiple Linear Regression model has a high R² but low adjusted R²?"
      ],
      "metadata": {
        "id": "hRmUxLA4ZHMZ"
      },
      "execution_count": null,
      "outputs": []
    },
    {
      "cell_type": "code",
      "source": [
        "''' If a Multiple Linear Regression model has a high R² but a low Adjusted R², it usually means that the model includes too many predictors, and some of them are\n",
        "not actually contributing to explaining the variation in the dependent variable. Here's what that really means:\n",
        "\n",
        "R² (Coefficient of Determination):\n",
        "Measures the proportion of variance in the dependent variable explained by all the predictors.\n",
        "\n",
        "Always increases or stays the same when you add more variables—even if they are irrelevant.\n",
        "\n",
        "Adjusted R²:\n",
        "Penalizes the inclusion of unnecessary predictors.\n",
        "\n",
        "Only increases if the new predictor improves the model more than would be expected by chance.\n",
        "\n",
        "Can decrease if you add a variable that does not improve model performance."
      ],
      "metadata": {
        "id": "VL_YLQ9kZLz-"
      },
      "execution_count": null,
      "outputs": []
    },
    {
      "cell_type": "code",
      "source": [
        "Q22- Why is it important to scale variables in Multiple Linear Regression?"
      ],
      "metadata": {
        "id": "7jtR5fb6ZXNr"
      },
      "execution_count": null,
      "outputs": []
    },
    {
      "cell_type": "code",
      "source": [
        "''' Scaling variables in Multiple Linear Regression (MLR) is crucial for several reasons, primarily related to model performance, interpretability, and\n",
        "computational efficiency. By scaling, all variables contribute equally to the model, leading to faster convergence of iterative algorithms like Gradient Descent,\n",
        "improved coefficient interpretation, and can help prevent bias from variables with larger values"
      ],
      "metadata": {
        "id": "nru9eN4rZbMF"
      },
      "execution_count": null,
      "outputs": []
    },
    {
      "cell_type": "code",
      "source": [
        "Q23- What is polynomial regression?"
      ],
      "metadata": {
        "id": "F6uxRcKAZjEQ"
      },
      "execution_count": null,
      "outputs": []
    },
    {
      "cell_type": "code",
      "source": [
        "''' Polynomial regression is a type of regression analysis where the relationship between a dependent variable and one or more independent variables is modeled\n",
        "as an nth-degree polynomial. Unlike linear regression, which assumes a straight-line relationship, polynomial regression can model non-linear relationships.\n",
        "It does this by including terms of the independent variable raised to different powers (e.g., x, x², x³, etc.) in the model."
      ],
      "metadata": {
        "id": "m18Cov1MZqfF"
      },
      "execution_count": null,
      "outputs": []
    },
    {
      "cell_type": "code",
      "source": [
        "Q24- How does polynomial regression differ from linear regression?"
      ],
      "metadata": {
        "id": "rTEYAU-FZtjq"
      },
      "execution_count": null,
      "outputs": []
    },
    {
      "cell_type": "code",
      "source": [
        "''' Polynomial regression extends linear regression by allowing for non-linear relationships between variables. While linear regression assumes a straight-line\n",
        "relationship, polynomial regression uses higher-degree polynomials (like squares, cubes, etc.) to model more complex curved relationships.\n",
        "Essentially, polynomial regression adds extra terms to the regression equation, allowing the model to capture more complex patterns in the data."
      ],
      "metadata": {
        "id": "q4ekI0uOZxWx"
      },
      "execution_count": null,
      "outputs": []
    },
    {
      "cell_type": "code",
      "source": [
        "Q25- When is polynomial regression used?"
      ],
      "metadata": {
        "id": "gQL_cpF7Z4Tk"
      },
      "execution_count": null,
      "outputs": []
    },
    {
      "cell_type": "code",
      "source": [
        "''' Polynomial regression is used when the relationship between an independent variable and a dependent variable is non-linear, meaning a straight line cannot\n",
        "accurately capture the data. It's particularly useful when the data points exhibit a curvilinear pattern, such as a curve, not a straight line."
      ],
      "metadata": {
        "id": "BbSqCpooZ7-0"
      },
      "execution_count": null,
      "outputs": []
    },
    {
      "cell_type": "code",
      "source": [
        "Q26- What is the general equation for polynomial regression?"
      ],
      "metadata": {
        "id": "XvSnEohwabYC"
      },
      "execution_count": null,
      "outputs": []
    },
    {
      "cell_type": "code",
      "source": [
        "''' The general equation for polynomial regression, where 'y' is the dependent variable and 'x' is the independent variable, is:\n",
        "y = β₀ + β₁x + β₂x² + ... + βₙxⁿ + ε. Here, β₀, β₁, β₂, ..., βₙ are the coefficients, and 'n' is the degree of the polynomial. The term 'ε' represents the error\n",
        "term."
      ],
      "metadata": {
        "id": "60NRqvbNabtQ"
      },
      "execution_count": null,
      "outputs": []
    },
    {
      "cell_type": "code",
      "source": [
        "Q27- Can polynomial regression be applied to multiple variables?"
      ],
      "metadata": {
        "id": "CgQK4JQSajlG"
      },
      "execution_count": null,
      "outputs": []
    },
    {
      "cell_type": "code",
      "source": [
        "''' Yes, polynomial regression can be applied to multiple variables. It's essentially an extension of multiple linear regression that allows you to model\n",
        "non-linear relationships between the dependent variable and multiple independent variables.\n"
      ],
      "metadata": {
        "id": "6XKXnq7Uanbc"
      },
      "execution_count": null,
      "outputs": []
    },
    {
      "cell_type": "code",
      "source": [
        "Q28- What are the limitations of polynomial regression?"
      ],
      "metadata": {
        "id": "RBwRzydWaxUJ"
      },
      "execution_count": null,
      "outputs": []
    },
    {
      "cell_type": "code",
      "source": [
        "''' Polynomial regression, while useful for modeling nonlinear relationships, has limitations. It can lead to overfitting with high-degree polynomials,\n",
        "making it difficult to generalize to new data. Additionally, selecting the optimal polynomial degree and dealing with outliers can be challenging, and\n",
        "computational costs increase with higher-degree polynomials.\n"
      ],
      "metadata": {
        "id": "OwnmSJtKa0va"
      },
      "execution_count": null,
      "outputs": []
    },
    {
      "cell_type": "code",
      "source": [
        "Q29- What methods can be used to evaluate model fit when selecting the degree of a polynomial?"
      ],
      "metadata": {
        "id": "cPDS9a-ja6ui"
      },
      "execution_count": null,
      "outputs": []
    },
    {
      "cell_type": "code",
      "source": [
        "''' Several methods can be used to evaluate model fit when selecting the degree of a polynomial. One popular method is using the least squares approach,\n",
        "which minimizes the sum of squared residuals between observed and predicted values. Other useful techniques include:\n",
        "\n",
        "1- . R-squared (Coefficient of Determination): R-squared measures the proportion of variance in the dependent variable that is explained by the independent\n",
        "variable(s), or in this case, the polynomial term. It is a valuable metric for comparing different polynomial degrees.\n",
        "\n",
        "2- 2. Mean Squared Error (MSE): MSE calculates the average of the squared differences between the observed and predicted values.\n",
        " A lower MSE indicates a better fit.\n",
        "3. Akaike Information Criterion (AIC) and Bayesian Information Criterion (BIC): These information criteria help evaluate model fit by penalizing for the number\n",
        "of parameters in the model. Lower AIC or BIC values suggest a better model fit.\n",
        "\n",
        "4. Validation Sets: To prevent overfitting, it's crucial to evaluate the model's performance on a separate validation set that wasn't used for training.\n",
        "\n",
        "5. Test Sets: After selecting a model based on validation data, a test set is used to provide an unbiased estimate of the model's generalization performance.\n",
        "\n",
        "6. Bias-Variance Tradeoff: A higher-degree polynomial can be more complex and potentially overfit the training data, while a lower-degree polynomial might underfit.\n",
        " Balancing the bias and variance of the model is key to achieving good generalization performance.\n",
        "\n",
        "7. Visual Inspection: Plotting the data and the fitted polynomial can provide a visual indication of how well the model fits the"
      ],
      "metadata": {
        "id": "ZOcnAFY-a-dQ"
      },
      "execution_count": null,
      "outputs": []
    },
    {
      "cell_type": "code",
      "source": [
        "Q30-  Why is visualization important in polynomial regression?"
      ],
      "metadata": {
        "id": "sy2ZBtpIbaB4"
      },
      "execution_count": null,
      "outputs": []
    },
    {
      "cell_type": "code",
      "source": [
        "''' Visualization is crucial in polynomial regression for understanding the relationship between variables and evaluating the model's fit.\n",
        " It helps in identifying non-linear patterns, choosing the appropriate polynomial degree, and assessing whether the model is overfitting or underfitting the data.\n",
        ""
      ],
      "metadata": {
        "id": "GhT7NC4yblAe"
      },
      "execution_count": null,
      "outputs": []
    },
    {
      "cell_type": "code",
      "source": [
        "Q31- How is polynomial regression implemented in Python?"
      ],
      "metadata": {
        "id": "Dxl_iWEwbtKO"
      },
      "execution_count": null,
      "outputs": []
    },
    {
      "cell_type": "code",
      "source": [
        "''' Polynomial regression, which models the relationship between independent and dependent variables as an nth degree polynomial,\n",
        "can be implemented in Python using the scikit-learn library. The process generally involves the following steps:\n",
        "Import Libraries: Import necessary libraries such as numpy for numerical operations, matplotlib for plotting, and scikit-learn for polynomial feature\n",
        "transformation and linear regression.\n",
        "Generate or Load Data: Create or load the dataset to be used for regression. The data should ideally exhibit a non-linear relationship between the independent and\n",
        " dependent variables.\n",
        "Create Polynomial Features: Use PolynomialFeatures from scikit-learn to transform the original features into polynomial features. This involves creating new\n",
        "features that are powers of the original features (e.g., x, x^2, x^3, etc.). The degree of the polynomial is a hyperparameter that can be adjusted.\n",
        "Fit the Model: Use LinearRegression to fit a linear model to the transformed polynomial features. Although the features are polynomial, the model is linear in\n",
        "terms of the coefficients, making it a linear regression model.\n",
        "Make Predictions: Use the fitted model to make predictions on new data.\n",
        "Visualize Results: Plot the original data points and the polynomial regression curve to visualize the fit.\n",
        "Evaluate the Model: Use metrics such as R-squared to measure the goodness of fit.\n"
      ],
      "metadata": {
        "id": "oR2zJnCNbwpR"
      },
      "execution_count": null,
      "outputs": []
    }
  ],
  "metadata": {
    "colab": {
      "provenance": [],
      "authorship_tag": "ABX9TyMZGfhhcdleaX/IRpL/X26w",
      "include_colab_link": true
    },
    "kernelspec": {
      "display_name": "Python 3",
      "name": "python3"
    },
    "language_info": {
      "name": "python"
    }
  },
  "nbformat": 4,
  "nbformat_minor": 0
}