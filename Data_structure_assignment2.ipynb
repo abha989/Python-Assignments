{
  "nbformat": 4,
  "nbformat_minor": 0,
  "metadata": {
    "colab": {
      "provenance": [],
      "authorship_tag": "ABX9TyN85m33ZTWG3PpOX4i1JZkG",
      "include_colab_link": true
    },
    "kernelspec": {
      "name": "python3",
      "display_name": "Python 3"
    },
    "language_info": {
      "name": "python"
    }
  },
  "cells": [
    {
      "cell_type": "markdown",
      "metadata": {
        "id": "view-in-github",
        "colab_type": "text"
      },
      "source": [
        "<a href=\"https://colab.research.google.com/github/abha989/Python-Assignments/blob/main/Data_structure_assignment2.ipynb\" target=\"_parent\"><img src=\"https://colab.research.google.com/assets/colab-badge.svg\" alt=\"Open In Colab\"/></a>"
      ]
    },
    {
      "cell_type": "code",
      "execution_count": null,
      "metadata": {
        "id": "_Wt0CUKP9-dv",
        "colab": {
          "base_uri": "https://localhost:8080/"
        },
        "outputId": "34e14abb-622f-4f3a-cfad-4c14826a972c"
      },
      "outputs": [
        {
          "name": "stdout",
          "output_type": "stream",
          "text": [
            "My Name is : Abha\n"
          ]
        }
      ],
      "source": [
        "#1-  Write a code to create a string with your name and print it\n",
        "Name = input(\"My Name is : \")"
      ]
    },
    {
      "cell_type": "code",
      "source": [
        "#2- Write a code to find the length of the string \"Hello World\"\n",
        "S= \"Hello World\"\n",
        "\n",
        "count = 0\n",
        "for i in S:\n",
        " count = count + 1\n",
        "print(f\"len of string {count}\")\n"
      ],
      "metadata": {
        "colab": {
          "base_uri": "https://localhost:8080/"
        },
        "id": "_YEaauvDDOJP",
        "outputId": "ad4146e2-be20-4f12-8564-bd85b5edcd49"
      },
      "execution_count": null,
      "outputs": [
        {
          "output_type": "stream",
          "name": "stdout",
          "text": [
            "len of string 11\n"
          ]
        }
      ]
    },
    {
      "cell_type": "code",
      "source": [
        "#3- Write a code to slice the first 3 characters from the string \"Python Programming\"\n",
        "S = \"Python Programming\"\n",
        "print(S[:3])"
      ],
      "metadata": {
        "colab": {
          "base_uri": "https://localhost:8080/"
        },
        "id": "gVZA8npsERcN",
        "outputId": "b4de87cb-e15c-460b-9586-df91a0f65a66"
      },
      "execution_count": null,
      "outputs": [
        {
          "output_type": "stream",
          "name": "stdout",
          "text": [
            "Pyt\n"
          ]
        }
      ]
    },
    {
      "cell_type": "code",
      "source": [
        "#4- Write a code to convert the string \"hello\" to uppercase\n",
        "S = \"hello\"\n",
        "New_string = S.upper()\n",
        "print(New_string)"
      ],
      "metadata": {
        "colab": {
          "base_uri": "https://localhost:8080/"
        },
        "id": "YFem-XRFGgOk",
        "outputId": "b57a89df-6af0-4658-d42d-385f9c856006"
      },
      "execution_count": null,
      "outputs": [
        {
          "output_type": "stream",
          "name": "stdout",
          "text": [
            "HELLO\n"
          ]
        }
      ]
    },
    {
      "cell_type": "code",
      "source": [
        "#5- Write a code to replace the word \"apple\" with \"orange\" in the string \"I like apple\"\n",
        "string = \"I like apple\"\n",
        "print(string.replace(\"apple\",\"orange\"))"
      ],
      "metadata": {
        "colab": {
          "base_uri": "https://localhost:8080/"
        },
        "id": "vTujaKw6sFTv",
        "outputId": "34be7236-85c1-4c37-f0a0-6cf2a99e5b89"
      },
      "execution_count": null,
      "outputs": [
        {
          "output_type": "stream",
          "name": "stdout",
          "text": [
            "I like orange\n"
          ]
        }
      ]
    },
    {
      "cell_type": "code",
      "source": [
        "#6- Write a code to create a list with numbers 1 to 5 and print it\n",
        "num = []\n",
        "for i in range(1,6):\n",
        "  num.append(i)\n",
        "print(num)\n",
        "\n"
      ],
      "metadata": {
        "colab": {
          "base_uri": "https://localhost:8080/"
        },
        "id": "UdOeI3xoKDrh",
        "outputId": "72cafa05-a797-48c5-8908-968f6e490ef7"
      },
      "execution_count": null,
      "outputs": [
        {
          "output_type": "stream",
          "name": "stdout",
          "text": [
            "[1, 2, 3, 4, 5]\n"
          ]
        }
      ]
    },
    {
      "cell_type": "code",
      "source": [
        "#7- Write a code to append the number 10 to the list [1, 2, 3, 4]\n",
        "list = [1, 2, 3, 4]\n",
        "list.append(10)\n",
        "print(list)"
      ],
      "metadata": {
        "colab": {
          "base_uri": "https://localhost:8080/"
        },
        "id": "1nKgtA9WNZu6",
        "outputId": "8c246911-fd5f-4cf4-92f3-d863a2187a95"
      },
      "execution_count": null,
      "outputs": [
        {
          "output_type": "stream",
          "name": "stdout",
          "text": [
            "[1, 2, 3, 4, 10]\n"
          ]
        }
      ]
    },
    {
      "cell_type": "code",
      "source": [
        "#8- Write a code to remove the number 3 from the list [1, 2, 3, 4, 5]\n",
        "list = [1, 2, 3, 4, 5]\n",
        "list_2= []\n",
        "for i in list:\n",
        "  if i == 3:\n",
        "     continue\n",
        "  list_2.append(i)\n",
        "print(list_2)\n",
        "\n",
        "\n"
      ],
      "metadata": {
        "colab": {
          "base_uri": "https://localhost:8080/"
        },
        "id": "pvtVxk20N4sV",
        "outputId": "f9b8d329-3e59-460d-d4f3-7247bf854d24"
      },
      "execution_count": null,
      "outputs": [
        {
          "output_type": "stream",
          "name": "stdout",
          "text": [
            "[1, 2, 4, 5]\n"
          ]
        }
      ]
    },
    {
      "cell_type": "code",
      "source": [
        "#9- Write a code to access the second element in the list ['a', 'b', 'c', 'd']\n",
        "list = ['a', 'b', 'c', 'd']\n",
        "del list[1]\n",
        "print(list)\n"
      ],
      "metadata": {
        "colab": {
          "base_uri": "https://localhost:8080/"
        },
        "id": "sK2CFXSFNVjb",
        "outputId": "c1d66ae0-b526-468f-ccd0-14c9995441ec"
      },
      "execution_count": null,
      "outputs": [
        {
          "output_type": "stream",
          "name": "stdout",
          "text": [
            "['a', 'c', 'd']\n"
          ]
        }
      ]
    },
    {
      "cell_type": "code",
      "source": [
        "#10 Write a code to reverse the list [10, 20, 30, 40, 50].\n",
        "list = [10, 20, 30, 40, 50]\n",
        "print(list[: :-1])\n"
      ],
      "metadata": {
        "colab": {
          "base_uri": "https://localhost:8080/"
        },
        "id": "2xmE99uxQqie",
        "outputId": "f025650a-b5d0-4357-863e-cdd7dbe8c870"
      },
      "execution_count": null,
      "outputs": [
        {
          "output_type": "stream",
          "name": "stdout",
          "text": [
            "[50, 40, 30, 20, 10]\n"
          ]
        }
      ]
    },
    {
      "cell_type": "code",
      "source": [
        "#11- Write a code to create a tuple with the elements 10, 20, 30 and print it.\n",
        "print(tuple(range(10,40,10)))\n"
      ],
      "metadata": {
        "colab": {
          "base_uri": "https://localhost:8080/"
        },
        "id": "pAk8QOxzTS_G",
        "outputId": "226d7fa1-b3a4-451d-f99f-cd5210ceacc2"
      },
      "execution_count": null,
      "outputs": [
        {
          "output_type": "stream",
          "name": "stdout",
          "text": [
            "(10, 20, 30)\n"
          ]
        }
      ]
    },
    {
      "cell_type": "code",
      "source": [
        "#12- Write a code to access the first element of the tuple ('apple', 'banana', 'cherry').\n",
        "tuple = ('apple', 'banana', 'cherry')\n",
        "print(tuple[1:])"
      ],
      "metadata": {
        "colab": {
          "base_uri": "https://localhost:8080/"
        },
        "id": "wGIaD4GkT-YK",
        "outputId": "d4e4b548-9c62-4866-e9a1-626b66a7cca2"
      },
      "execution_count": null,
      "outputs": [
        {
          "output_type": "stream",
          "name": "stdout",
          "text": [
            "('banana', 'cherry')\n"
          ]
        }
      ]
    },
    {
      "cell_type": "code",
      "source": [
        "#13- Write a code to count how many times the number 2 appears in the tuple (1, 2, 3, 2, 4, 2).\n",
        "tuple = (1, 2, 3, 2, 4, 2)\n",
        "print(tuple.count(2))"
      ],
      "metadata": {
        "id": "9batenp2VWqy",
        "colab": {
          "base_uri": "https://localhost:8080/"
        },
        "outputId": "2b038a8e-ac51-481f-b3dc-9475a5f37c28"
      },
      "execution_count": null,
      "outputs": [
        {
          "output_type": "stream",
          "name": "stdout",
          "text": [
            "3\n"
          ]
        }
      ]
    },
    {
      "cell_type": "code",
      "source": [
        "#14- Write a code to find the index of the element \"cat\" in the tuple ('dog', 'cat', 'rabbit')\n",
        "tuple = ('dog', 'cat', 'rabbit')\n",
        "print(tuple.index('cat'))\n"
      ],
      "metadata": {
        "colab": {
          "base_uri": "https://localhost:8080/"
        },
        "id": "oHIRcc2MrzH8",
        "outputId": "05dc671b-4aa3-41c8-c462-9ab08f96433e"
      },
      "execution_count": null,
      "outputs": [
        {
          "output_type": "stream",
          "name": "stdout",
          "text": [
            "1\n"
          ]
        }
      ]
    },
    {
      "cell_type": "code",
      "source": [
        "#15- Write a code to check if the element \"banana\" is in the tuple ('apple', 'orange', 'banana').\n",
        "tuple = ('apple', 'orange', 'banana')\n",
        "print('banana' in tuple)"
      ],
      "metadata": {
        "colab": {
          "base_uri": "https://localhost:8080/"
        },
        "id": "lJHd0eFkyMiA",
        "outputId": "494264ce-0139-46e8-860e-e387fef1720a"
      },
      "execution_count": null,
      "outputs": [
        {
          "output_type": "stream",
          "name": "stdout",
          "text": [
            "True\n"
          ]
        }
      ]
    },
    {
      "cell_type": "code",
      "source": [
        "#16- Write a code to create a set with the elements 1, 2, 3, 4, 5 and print it.\n",
        "set_1 = set()\n",
        "for item in range(1,6):\n",
        "  set_1.add(item)\n",
        "print(set_1)\n",
        "\n"
      ],
      "metadata": {
        "colab": {
          "base_uri": "https://localhost:8080/"
        },
        "id": "wRlI0NZeypQU",
        "outputId": "09eb3648-44e3-46c3-8073-fb9c7dc0443e"
      },
      "execution_count": null,
      "outputs": [
        {
          "output_type": "stream",
          "name": "stdout",
          "text": [
            "{1, 2, 3, 4, 5}\n"
          ]
        }
      ]
    },
    {
      "cell_type": "code",
      "source": [
        "#17- Write a code to add the element 6 to the set {1, 2, 3, 4}\n",
        "set_2 = {1, 2, 3, 4}\n",
        "set_1 = {6}\n",
        "print(set_2 | set_1)\n"
      ],
      "metadata": {
        "colab": {
          "base_uri": "https://localhost:8080/"
        },
        "id": "hN3hmnRL3pdA",
        "outputId": "1669e5c0-1413-4780-ee45-03ad29277d03"
      },
      "execution_count": null,
      "outputs": [
        {
          "output_type": "stream",
          "name": "stdout",
          "text": [
            "{1, 2, 3, 4, 6}\n"
          ]
        }
      ]
    },
    {
      "cell_type": "code",
      "source": [
        "#18- Write a code to create a tuple with the elements 10, 20, 30 and print it.\n",
        "tuple_1 = ()\n",
        "for i in [10,20,30]:\n",
        "  tuple_1= tuple_1 + (i,)\n",
        "print(tuple_1)\n"
      ],
      "metadata": {
        "colab": {
          "base_uri": "https://localhost:8080/"
        },
        "id": "UrOYNIOV5JSc",
        "outputId": "a17a1425-2f31-4c73-bf0f-03fa98a55409"
      },
      "execution_count": null,
      "outputs": [
        {
          "output_type": "stream",
          "name": "stdout",
          "text": [
            "(10, 20, 30)\n"
          ]
        }
      ]
    },
    {
      "cell_type": "code",
      "source": [
        "#19- Write a code to access the first element of the tuple ('apple', 'banana', 'cherry').\n",
        "tuple = ('apple', 'banana', 'cherry')\n",
        "tuple[:1:]\n"
      ],
      "metadata": {
        "colab": {
          "base_uri": "https://localhost:8080/"
        },
        "id": "S_Md0LPuq4i3",
        "outputId": "67ffd06e-13c3-4d1a-f763-eb8e47d739f2"
      },
      "execution_count": null,
      "outputs": [
        {
          "output_type": "execute_result",
          "data": {
            "text/plain": [
              "('apple',)"
            ]
          },
          "metadata": {},
          "execution_count": 36
        }
      ]
    },
    {
      "cell_type": "code",
      "source": [
        "#20- Write a code to count how many times the number 2 appears in the tuple (1, 2, 3, 2, 4, 2).\n",
        "tuple = (1, 2, 3, 2, 4, 2)\n",
        "tuple.count(2)"
      ],
      "metadata": {
        "colab": {
          "base_uri": "https://localhost:8080/"
        },
        "id": "MlM2wfqhvxcI",
        "outputId": "a1ea5771-5d58-4431-ff80-218501dd0efe"
      },
      "execution_count": null,
      "outputs": [
        {
          "output_type": "execute_result",
          "data": {
            "text/plain": [
              "3"
            ]
          },
          "metadata": {},
          "execution_count": 37
        }
      ]
    },
    {
      "cell_type": "code",
      "source": [
        "#21- Write a code to find the index of the element \"cat\" in the tuple ('dog', 'cat', 'rabbit').\n",
        "tuple = ('dog', 'cat', 'rabbit')\n",
        "tuple.index('cat')"
      ],
      "metadata": {
        "colab": {
          "base_uri": "https://localhost:8080/"
        },
        "id": "V9KLvx8dwENE",
        "outputId": "79ac2bde-884e-4e51-ea17-98937a6eb635"
      },
      "execution_count": null,
      "outputs": [
        {
          "output_type": "execute_result",
          "data": {
            "text/plain": [
              "1"
            ]
          },
          "metadata": {},
          "execution_count": 39
        }
      ]
    },
    {
      "cell_type": "code",
      "source": [
        "#22- Write a code to check if the element \"banana\" is in the tuple ('apple', 'orange', 'banana').\n",
        "tuple = ('apple', 'orange', 'banana')\n",
        "'banana' in tuple"
      ],
      "metadata": {
        "colab": {
          "base_uri": "https://localhost:8080/"
        },
        "id": "x7GDaXN3wWeX",
        "outputId": "6a08417a-6d9c-45c3-f2fb-4903f8e92003"
      },
      "execution_count": null,
      "outputs": [
        {
          "output_type": "execute_result",
          "data": {
            "text/plain": [
              "True"
            ]
          },
          "metadata": {},
          "execution_count": 40
        }
      ]
    },
    {
      "cell_type": "code",
      "source": [
        "#23- Write a code to create a set with the elements 1, 2, 3, 4, 5 and print it.\n",
        "my_set = set()\n",
        "for i in range(1,6):\n",
        "  my_set.add(i)\n",
        "print(my_set)"
      ],
      "metadata": {
        "colab": {
          "base_uri": "https://localhost:8080/"
        },
        "id": "lbpGjwuCw8DT",
        "outputId": "1c10c211-c7e0-4770-9b7b-9241d5f02f2d"
      },
      "execution_count": null,
      "outputs": [
        {
          "output_type": "stream",
          "name": "stdout",
          "text": [
            "{1, 2, 3, 4, 5}\n"
          ]
        }
      ]
    },
    {
      "cell_type": "code",
      "source": [
        "#24- Write a code to add the element 6 to the set {1, 2, 3, 4}\n",
        "set_1 = {6}\n",
        "set_2 = {1, 2, 3, 4}\n",
        "print(set_1 | set_2)"
      ],
      "metadata": {
        "colab": {
          "base_uri": "https://localhost:8080/"
        },
        "id": "7uNVBbGGxze-",
        "outputId": "27a8a7e3-0499-4f71-a59a-4d766211601e"
      },
      "execution_count": null,
      "outputs": [
        {
          "output_type": "stream",
          "name": "stdout",
          "text": [
            "{1, 2, 3, 4, 6}\n"
          ]
        }
      ]
    },
    {
      "cell_type": "code",
      "source": [
        "# Data Types and Structures Questions"
      ],
      "metadata": {
        "id": "4UBEM4KsyO72"
      },
      "execution_count": null,
      "outputs": []
    },
    {
      "cell_type": "code",
      "source": [
        "#1- What are data structures, and why are they important\n",
        "''' Data structures are specialized formats for organizing, storing, and managing data in a way that enables efficient access and modification.\n",
        "They are fundamental concepts in computer science and programming, providing a systematic way to handle data.\n",
        "\n",
        "Why Are Data Structures Important?\n",
        "\n",
        "1- Efficient Data Management Data structures allow you to organize and manage data efficiently, reducing complexity and improving performance.\n",
        " For example, arrays provide O(1) access to elements, while hash maps offer O(1) lookup.\n",
        "\n",
        "2- Optimized Performance Choosing the right data structure can significantly improve the performance of algorithms,\n",
        " particularly in terms of time and space complexity.\n",
        "\n",
        "3- Solving Complex Problems Many real-world problems, such as shortest path calculations or text auto-completion,\n",
        "require advanced data structures like graphs or tries.\n",
        "\n",
        "4- Scalability Proper use of data structures ensures that applications can handle growing amounts of data without degrading performance.\n",
        "\n",
        "5- Foundation for Algorithms Algorithms rely on data structures to perform tasks like sorting, searching, and optimization.\n",
        "\n",
        "6- Code Reusability and Modularity Using data structures can make code modular and reusable. For example,\n",
        "a stack or queue implementation can be used across multiple projects.\n",
        "\n"
      ],
      "metadata": {
        "id": "nKjooQB-yZcv"
      },
      "execution_count": null,
      "outputs": []
    },
    {
      "cell_type": "code",
      "source": [
        "#2- Explain the difference between mutable and immutable data types with examples\n",
        "''' Mutable Data Types - Mutable data types allow modifications to their contents without changing their identity in memory.\n",
        "\n",
        " Key Characteristics:\n",
        "    - The data can be changed after creation.\n",
        "    - The memory address of the object remains the same after modification.\n",
        "\n",
        " Examples: Lists, Dictionary, Sets\n",
        " Performance - Mutable types are more flexible for dynamic operations\n",
        " Hashing - Mutable types (e.g., lists) cannot be used as dictionary keys.\n",
        "Side Effects - Mutable types can cause side effects when passed to functions or shared among variables, as changes to one reference affect all others.\n",
        "\n",
        "Immutable Data Types:- Immutable data types do not allow modifications to their contents. Any change results in the creation of a new object in memory.\n",
        "\n",
        "Key Characteristics:\n",
        "   - Data cannot be changed after creation.\n",
        "   - Any modification creates a new object with a different memory address.\n",
        "\n",
        "Examples: Strings, Tuples, Integers, Floats, Booleans\n",
        "Performance- Immutable types are faster to access because they are fixed.\n",
        "Hashing - Immutable types (e.g., tuples, strings) can be used as dictionary keys or set elements because their hash value does not change.\n",
        "Side Effects: Immutable types prevent such side effects, making the code more predictable."
      ],
      "metadata": {
        "id": "RWPTdrPhz8Rj"
      },
      "execution_count": null,
      "outputs": []
    },
    {
      "cell_type": "code",
      "source": [
        "#3- What are the main differences between lists and tuples in Python\n",
        "''' List: - List is unorderd data set.\n",
        "          - List are mutable, you can modify the elements of list after creation.\n",
        "          - List is slow because it is dynamic\n",
        "          - it is usefull when your data is changing frequently\n",
        "          - Consuming large memory space\n",
        "          - Not hashable (cannot be used as keys in dictionaries)\n",
        "          - Slower compared to tuples\n",
        "\n",
        "   Tuple:- - List is ordered data set.\n",
        "           -Tuples are immutable and cannot be modified once created.\n",
        "           - Faster due to fixed size\n",
        "           - Used for fixed or constant data\n",
        "           - Smaller memory footprint\n",
        "           -Faster due to immutability\n",
        "           - Hashable if elements are hashable"
      ],
      "metadata": {
        "id": "njyAPT5R30Ki"
      },
      "execution_count": null,
      "outputs": []
    },
    {
      "cell_type": "code",
      "source": [
        "#4- Describe how dictionaries store data\n",
        "''' Dictionaries in Python are implemented using a hash table data structure.\n",
        "A hash table allows for efficient storage and retrieval of data by mapping keys to values.\n",
        "Here's a detailed explanation of how dictionaries work under the hood:\n",
        "\n",
        "1. Structure of a Dictionary\n",
        "A dictionary consists of:\n",
        "Keys: Unique, immutable objects (e.g., strings, numbers, or tuples).\n",
        "Values: Any object (mutable or immutable).\n",
        "Hash Table: An internal array that stores mappings between keys and values.\n",
        "\n",
        "Key Features\n",
        "\n",
        "Hashing:\n",
        "\n",
        "When a key is added to a dictionary, Python calculates its hash value using the hash() function.\n",
        "The hash value is an integer that determines where the key-value pair will be stored in the hash table.\n",
        "\n",
        "Buckets:\n",
        "\n",
        "The hash table consists of a series of buckets, which are slots for storing data.\n",
        "Each bucket can store one or more key-value pairs.\n",
        "\n",
        "Indexing:\n",
        "\n",
        "The hash value of the key is used to compute an index in the hash table, determining which bucket will store the key-value pair.\n",
        "\n"
      ],
      "metadata": {
        "id": "wT4Jl-VH8Bs2"
      },
      "execution_count": null,
      "outputs": []
    },
    {
      "cell_type": "code",
      "source": [
        "#5- Why might you use a set instead of a list in Python\n",
        "''' Both sets and lists are collection data types in Python, but they have distinct characteristics that make them suitable for different use cases.\n",
        " - Sets automatically ensure that all elements are unique. If you try to add duplicate elements to a set, it will store only one copy.\n",
        " -Sets support mathematical operations like union, intersection, difference, and symmetric difference, which are not directly supported by lists.\n",
        " - Sets are generally faster than lists for adding element, removing elements, membership checks.\n",
        " -Sets provide  O(1) average time complexity for membership testing (using the in operator) because they are implemented as hash tables."
      ],
      "metadata": {
        "id": "Cdd20qkiARrr"
      },
      "execution_count": null,
      "outputs": []
    },
    {
      "cell_type": "code",
      "source": [
        "#6- What is a string in Python, and how is it different from a list\n",
        "''' A string in Python is a sequence of characters enclosed within single quotes ('), double quotes (\"), or triple quotes (''' or \"\"\").\n",
        " It is used to represent textual data.\n",
        "\n",
        "STRING :\n",
        "      -Strings are immutable and cannot be modified after they are created, where list can be modified after creation.\n",
        "      -Sequence of character, lists are sequence of any data type..\n",
        "      -Always contain characters ,lists contain mixed data types.\n",
        "      -Creating new strings when making new changes, in lists modification can be done in existing list.\n",
        "\n",
        "\n"
      ],
      "metadata": {
        "id": "rILq37_jWWPV"
      },
      "execution_count": null,
      "outputs": []
    },
    {
      "cell_type": "code",
      "source": [
        "#7- How do tuples ensure data integrity in Python\n",
        "''' A tuple is an immutable sequence in Python, meaning its elements cannot be modified after the tuple is created.\n",
        " This immutability makes tuples a reliable way to ensure data integrity in various contexts.\n",
        "\n",
        " Hashability-\n",
        " Tuples are hashable if all their elements are also hashable, which allows them to be used as keys in dictionaries or elements in sets.\n",
        " This property ensures that the tuple's content is consistent and cannot change, providing a reliable identifier for data.\n",
        "\n",
        "Fixed Structure:-\n",
        "Tuples have a fixed number of elements, and the structure is maintained once created. This ensures the consistency of data formats across the application.\n",
        "developers can rely on the structure to remain unchanged, reducing the risk of errors when passing or processing data.\n",
        "\n",
        "Lightweight Alternative to Lists:-\n",
        "uples are designed to be more memory-efficient than lists, making them suitable for storing static or read-only data.\n",
        "The reduced risk of modification helps maintain the integrity of critical data."
      ],
      "metadata": {
        "id": "eMwMhEBLbQTS"
      },
      "execution_count": null,
      "outputs": []
    },
    {
      "cell_type": "code",
      "source": [
        "#8- What is a hash table, and how does it relate to dictionaries in Python.\n",
        "''' hash table is a data structure that stores key-value pairs. It uses a hashing function to compute an index (or \"hash\") for each key,\n",
        "mapping it to a specific slot (or \"bucket\") in an array. This structure allows for efficient data storage and retrieval, typically with\n",
        "𝑂(1) average time complexity for operations like insertion, deletion, and lookup.\n",
        "how does it relate to dictionaries in Python:\n",
        "In Python, dictionaries are implemented using hash tables. Here’s how they are related:\n",
        "Key Value Storage:-Python dictionaries store data as key-value pairs, just like hash tables.\n",
        "Hashing- The hash() function in Python computes a hash value for dictionary keys.\n",
        "Collision Handling:- If two keys hash to the same index, the dictionary ensures that each key-value pair is uniquely stored.\n",
        "\n",
        "\n",
        "\n",
        "\n",
        "\n"
      ],
      "metadata": {
        "id": "q5_KxrUhku27"
      },
      "execution_count": null,
      "outputs": []
    },
    {
      "cell_type": "code",
      "source": [
        "#9- Can lists contain different data types in Python\n",
        "''' Yes list is collection of diffrent data types\n",
        "ex -my_list = [42, 3.14, \"hello\", True]"
      ],
      "metadata": {
        "id": "-S7tqQeGougv"
      },
      "execution_count": null,
      "outputs": []
    },
    {
      "cell_type": "code",
      "source": [
        "#10-  Explain why strings are immutable in Python\n",
        "''' n Python, strings are immutable, which means that once a string is created, it cannot be changed. If you try to modify a string,\n",
        "Python creates a new string object instead of altering the original one. Here are the key reasons why Python strings are immutable:\n",
        "1- Memory Optimization\n",
        "Strings are used frequently in programs, often as keys in dictionaries or elements in sets. Their immutability allows Python to safely reuse string objects with the same content, saving memory through a technique called string interning.\n",
        "For example, two variables holding the same string literal (s1 = \"hello\"; s2 = \"hello\") may reference the same memory location.\n",
        "2- Hashing and Use as Dictionary Keys\n",
        "Strings are commonly used as keys in dictionaries. For a key to work reliably, its value must not change during its lifetime.\n",
        "Immutable strings ensure consistent behavior when used in hash-based collections like dictionaries and sets.\n",
        "3. Thread Safety\n",
        "Immutability makes strings inherently thread-safe. Multiple threads can read the same string without the risk\n",
        "of unexpected behavior due to modifications from another thread.\n",
        "4. Simpler Implementation\n",
        "String immutability simplifies the internal implementation of Python. Operations like slicing, concatenation,\n",
        "or searching can create new objects without needing to manage complex memory handling for partial modifications.\n",
        "5. Encourages Functional Programming\n",
        "Immutability aligns with functional programming principles, where data is not changed but new data is created instead.\n",
        "This promotes code clarity and reduces side effects.\n"
      ],
      "metadata": {
        "id": "YGplYy23peR4"
      },
      "execution_count": null,
      "outputs": []
    },
    {
      "cell_type": "code",
      "source": [
        "#11- What advantages do dictionaries offer over lists for certain tasks\n",
        "'''Dictionaries in Python offer several advantages over lists for certain tasks,\n",
        "primarily due to their key-value pair structure and the way they are optimized for fast lookups.\n",
        "Below are some key reasons why dictionaries might be preferable over lists for specific use cases:\n",
        "\n",
        "1. Fast Lookups by Key:- Dictionaries provide constant-time 𝑂(1)\n",
        "(1) lookup for values based on keys, while lists require linear time 𝑂(𝑛) searches for an element by value\n",
        "or tasks where quick lookups are needed (such as when processing large datasets), dictionaries are far more efficient than lists.\n",
        "\n",
        "Key-Value Pair Mapping:- Dictionaries allow you to map one piece of data (the key) to another piece (the value).\n",
        "This is ideal for tasks where you need to associate values with unique identifiers (e.g., mapping student names to their grades).\n",
        "If you need to associate one value (e.g., name) with another (e.g., grade), a dictionary provides a clear and intuitive structure.\n",
        "\n",
        "Unique Keys:- Dictionaries ensure unique keys.\n",
        "You cannot have two identical keys in a dictionary, which makes them a good choice for tasks where you need to enforce uniqueness.\n",
        "This property is useful when you need to track unique items (such as identifiers, names, or categories) and associate them with specific values.\n",
        "\n",
        "Better for Large Datasets:- Dictionaries are optimized for large datasets where fast lookups and key-value associations are required.\n",
        "They are particularly effective when you need to store data with a known identifier and frequently query it.\n",
        "For tasks involving large data that needs to be efficiently accessed by specific keys, dictionaries outperform lists due to their constant-time lookup efficiency.\n",
        "\n",
        "Better for Dealing with Missing Data:- Dictionaries provide a way to handle missing keys gracefully using methods like .get(),\n",
        "which allows you to specify a default value if the key does not exist.\n",
        "This feature is helpful when dealing with uncertain or incomplete datasets where some keys may be missing.\n",
        "\n",
        "\n"
      ],
      "metadata": {
        "id": "xEPZFt_lp_U_"
      },
      "execution_count": null,
      "outputs": []
    },
    {
      "cell_type": "code",
      "source": [
        "#12-  Describe a scenario where using a tuple would be preferable over a list\n",
        "''' Using a tuple is preferable over a list when immutability is desired. Immutability means the data cannot be changed after the tuple is created. This is particularly useful in scenarios where the data represents a fixed collection of items that should not be modified,\n",
        " ensuring integrity and reducing the likelihood of bugs.\n"
      ],
      "metadata": {
        "id": "XTG4PzN0tJDe"
      },
      "execution_count": null,
      "outputs": []
    },
    {
      "cell_type": "code",
      "source": [
        "#13- How do sets handle duplicate values in Python\n",
        "'''In Python, sets automatically eliminate duplicate values. When you create a set,\n",
        "any duplicate elements are removed, and only unique elements are stored.\n",
        "This behavior is due to the mathematical definition of a set, which inherently contains only distinct elements.\n",
        "\n"
      ],
      "metadata": {
        "id": "8Z-KvAclvI_z"
      },
      "execution_count": null,
      "outputs": []
    },
    {
      "cell_type": "code",
      "source": [
        "#14-  How does the “in” keyword work differently for lists and dictionaries\n",
        "''' The in keyword in Python is used to check for membership in a collection.\n",
        "However, its behavior differs depending on the type of collection, such as lists and dictionaries.\n",
        "\n",
        "For lists:- When used with a list, the in keyword checks if a specific value is present in the list.\n",
        "It performs a linear search, meaning it iterates through the list elements one by one until it finds a match or reaches the end.\n",
        "\n",
        "For Dictionaries:- When used with a dictionary, the in keyword checks for the presence of a key, not a value.\n",
        " It is a hash-based lookup, which is significantly faster than a linear search."
      ],
      "metadata": {
        "id": "hF3tl2n8xeI1"
      },
      "execution_count": null,
      "outputs": []
    },
    {
      "cell_type": "code",
      "source": [
        "#15- Can you modify the elements of a tuple? Explain why or why not\n",
        "''' o, you cannot modify the elements of a tuple in Python because tuples are immutable.\n",
        " Once a tuple is created, its elements cannot be changed, added, or removed.\n",
        " This immutability is a fundamental characteristic of tuples and is what distinguishes them from lists, which are mutable.\n",
        "Why Tuples Are Immutable:\n",
        "Design Choice: The immutability of tuples makes them more predictable and ensures they remain constant throughout their lifetime. This is useful when:\n",
        "Data integrity is critical (e.g., representing fixed configurations or constants).\n",
        "Tuples are used as dictionary keys or elements of sets (both of which require immutable and hashable objects).\n",
        "Efficiency: Tuples consume less memory and are faster to process compared to lists because they don’t require additional overhead to support changes.\n",
        "\n"
      ],
      "metadata": {
        "id": "LIZHl7cFyXIZ"
      },
      "execution_count": null,
      "outputs": []
    },
    {
      "cell_type": "code",
      "source": [
        "#16- What is a nested dictionary, and give an example of its use case\n",
        "'''A nested dictionary is a dictionary where the values are themselves dictionaries.\n",
        "This structure allows for the representation of hierarchical or multi-level data in a single variable.\n",
        " Nested dictionaries are particularly useful when organizing complex data that has multiple attributes or levels of detail.\n",
        "Example of a Nested Dictionary:\n",
        "Consider a system for managing student records at a university. Each student has multiple pieces of data,\n",
        "such as their grades, personal information, and enrollment status. A nested dictionary can represent this information'''\n",
        "\n",
        "students = {\n",
        "    \"student_1\": {\n",
        "        \"name\": \"Alice\",\n",
        "        \"age\": 21,\n",
        "        \"grades\": {\"math\": 90, \"science\": 85, \"history\": 88},\n",
        "        \"enrolled\": True\n",
        "    },\n",
        "    \"student_2\": {\n",
        "        \"name\": \"Bob\",\n",
        "        \"age\": 22,\n",
        "        \"grades\": {\"math\": 75, \"science\": 80, \"history\": 78},\n",
        "        \"enrolled\": False\n",
        "    },\n",
        "    \"student_3\": {\n",
        "        \"name\": \"Charlie\",\n",
        "        \"age\": 20,\n",
        "        \"grades\": {\"math\": 95, \"science\": 92, \"history\": 91},\n",
        "        \"enrolled\": True\n",
        "    }\n",
        "}\n",
        "\n",
        "''' Use Case: Accessing and Manipulating Data\n",
        "A nested dictionary allows easy access to specific data points."
      ],
      "metadata": {
        "id": "HOBk86OOzYr_"
      },
      "execution_count": null,
      "outputs": []
    },
    {
      "cell_type": "code",
      "source": [
        "#17- Describe the time complexity of accessing elements in a dictionary\n",
        "''' The time complexity of accessing elements in a dictionary in Python is, on average, O(1) (constant time).\n",
        " This is due to the way dictionaries are implemented using hash tables, which allow for very fast lookups.\n",
        "\n",
        "How Dictionaries Achieve O(1) Access Time:\n",
        "Hashing:\n",
        "When a key-value pair is added to a dictionary, the key is passed through a hash function to compute a hash value (an integer).\n",
        "This hash value determines the index or \"bucket\" in the underlying hash table where the value is stored.\n",
        "\n",
        "Direct Indexing:\n",
        "To retrieve a value, the key is hashed again, and the hash table is accessed directly at the computed index.\n",
        "This process avoids the need to search through all elements, resulting in constant time for lookups, insertions, and deletions in the average case.\n",
        "\n",
        "\n"
      ],
      "metadata": {
        "id": "ijTMOrFo2_BX"
      },
      "execution_count": null,
      "outputs": []
    },
    {
      "cell_type": "code",
      "source": [
        "#18-  In what situations are lists preferred over dictionaries\n",
        "''' Lists are preferred over dictionaries in situations where order, simplicity,\n",
        "or sequential data processing is more critical than the need for key-value mapping.\n",
        "Below are some specific scenarios where lists are a better choice:\n",
        "\n",
        "1:- When Order Matters:\n",
        "Lists maintain the order of their elements, making them ideal for tasks where the sequence is important.\n",
        "Dictionaries, as of Python 3.7+, also maintain insertion order, but lists are simpler for sequential data.\n",
        "\n",
        "2 :- When Data is Homogeneous\n",
        "If you're working with a collection of similar items\n",
        "(e.g., numbers, strings, or objects) and don't need to associate them with unique keys, a list is more appropriate.\n",
        "\n",
        "3:- When Random Access by Index is Required\n",
        "Lists provide easy access to elements using integer indices, which is useful for positional data.\n",
        "\n",
        "4:- When Iterative Processing is Needed\n",
        "Lists are better suited for tasks that involve sequential or iterative processing of elements.\n",
        "They are particularly useful for algorithms that process data one item at a time\n",
        "\n",
        "5:- When Simplicity is Preferred\n",
        "Lists are simpler to understand and use than dictionaries. If you don’t need the key-value structure,\n",
        " a list reduces complexity and avoids unnecessary overhead.\n",
        "\n",
        "6:- For Storing Ordered Multi-Value Data\n",
        "If you need to store data that is naturally ordered or indexed, such as a matrix or a sequence of timestamps, lists are preferable.\n",
        "\n",
        "7:- When Memory Overhead is a Concern\n",
        "Lists have a smaller memory footprint compared to dictionaries because they don’t need to store hash values and keys.\n",
        "Use lists when you want to minimize memory usage.\n",
        "\n",
        "8:-  When Keys Are Not Meaningful\n",
        "If the data doesn’t have a natural \"key,\" using a dictionary might feel forced and unnecessary.\n",
        "\n"
      ],
      "metadata": {
        "id": "PCNU_AHV3mZT"
      },
      "execution_count": null,
      "outputs": []
    },
    {
      "cell_type": "code",
      "source": [
        "#19- Why are dictionaries considered unordered, and how does that affect data retrieval\n",
        "\n",
        "''' Dictionaries in Python were historically considered unordered because they did not maintain the order in which keys were added.\n",
        "\n",
        "Hash-Based Storage:\n",
        "Dictionaries use a hash table to store key-value pairs. A hash table determines the position of an element based on its hash value, not its insertion order.\n",
        "The order of elements in memory can appear arbitrary and is unrelated to the order of insertion.\n",
        "Conceptual Design:\n",
        "Dictionaries are designed for fast lookups, insertions, and deletions, not for maintaining order. Their primary purpose is to map keys to values efficiently.\n"
      ],
      "metadata": {
        "id": "YZ2GLh1-5Lz8"
      },
      "execution_count": null,
      "outputs": []
    },
    {
      "cell_type": "code",
      "source": [
        "#20- Explain the difference between a list and a dictionary in terms of data retrieval.\n",
        "''' The primary difference between a list and a dictionary in terms of data retrieval lies in how elements are accessed and what is required to retrieve them.\n",
        "Lists:-\n",
        "Access by Index: Elements in a list are retrieved using their positional index (an integer).\n",
        "Linear Search (O(n)): In the worst case, retrieving an element by value may require scanning the entire list.\n",
        "Ordered by Default: Elements in a list are always stored and retrieved in the order they were added.\n",
        "Data representation: A list is a simple collection of elements, typically used for sequential or homogeneous data (e.g., a series of numbers or strings).\n",
        "Flexibility in Retrieval: Data is accessed by numeric indices, which limits flexibility when searching or working with elements.\n",
        "\n",
        "Dictionary:- Access by Key: Elements in a dictionary are retrieved using unique keys (which can be strings, numbers, tuples, etc.).\n",
        "Hash-Based Lookup (O(1)): Dictionaries use a hash table for quick key lookups, providing constant-time retrieval in most cases.\n",
        "Ordere of retrieval(Python 3.7+): Dictionaries preserve insertion order as of Python 3.7, but the retrieval is still based on keys.\n",
        "Data Representation:- A dictionary is a collection of key-value pairs, often used for mapping and structured data (e.g., attributes of an object).\n",
        "Flexibility in Retrieval:- Data is accessed by keys, making retrieval more intuitive for labeled or descriptive data."
      ],
      "metadata": {
        "id": "HxOgEVT97Ed3"
      },
      "execution_count": null,
      "outputs": []
    }
  ]
}