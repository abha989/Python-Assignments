{
  "nbformat": 4,
  "nbformat_minor": 0,
  "metadata": {
    "colab": {
      "provenance": [],
      "authorship_tag": "ABX9TyPmXet2ADbhJdoyQlrdzLaV",
      "include_colab_link": true
    },
    "kernelspec": {
      "name": "python3",
      "display_name": "Python 3"
    },
    "language_info": {
      "name": "python"
    }
  },
  "cells": [
    {
      "cell_type": "markdown",
      "metadata": {
        "id": "view-in-github",
        "colab_type": "text"
      },
      "source": [
        "<a href=\"https://colab.research.google.com/github/abha989/Python-Assignments/blob/main/Files_%26_exceptional_handeling.ipynb\" target=\"_parent\"><img src=\"https://colab.research.google.com/assets/colab-badge.svg\" alt=\"Open In Colab\"/></a>"
      ]
    },
    {
      "cell_type": "code",
      "execution_count": null,
      "metadata": {
        "id": "vn7CPczbjtRd"
      },
      "outputs": [],
      "source": [
        "#1- What is the difference between interpreted and compiled languages?\n",
        "'''--> Interpreted Languages:\n",
        "How it works: The source code is read and executed line-by-line by an interpreter at runtime, without converting the entire code into machine language beforehand.\n",
        "Examples: Python, JavaScript, Ruby, PHP\n",
        "Advantages:\n",
        "Easier debugging: Errors are caught immediately during execution, making it easier to identify and fix bugs.\n",
        "Flexibility: Quick to test and modify code since no compilation is needed.\n",
        "Disadvantages:\n",
        "Slower execution: Each line is processed on the fly, which can slow down performance.\n",
        "Runtime errors: Bugs may not be detected until the specific part of the code is executed.\n",
        "\n",
        "Compiled Languages:\n",
        "How it works: The source code is transformed into machine code using a compiler before the program runs. This machine code is a standalone executable that can be run directly by the computer's processor.\n",
        "Examples: C, C++, Rust, Go\n",
        "Advantages:\n",
        "Faster execution: Since the code is already compiled into machine language, it runs quickly.\n",
        "Optimization: Compilers can optimize code for better performance.\n",
        "Disadvantages:\n",
        "Longer development cycle: Compilation can take time, especially for large programs.\n",
        "Less flexibility: Changing the code requires recompiling.\n"
      ]
    },
    {
      "cell_type": "code",
      "source": [
        "#2- What is exception handling in Python?\n",
        "'''--> Exception handling is a way to manage errors gracefully during the execution of a Python program. Instead of the program crashing when an error occurs,\n",
        " you can catch and handle the error, allowing the program to continue or fail gracefully."
      ],
      "metadata": {
        "id": "8PiOwucsm3bS"
      },
      "execution_count": null,
      "outputs": []
    },
    {
      "cell_type": "code",
      "source": [
        "#3- What is the purpose of the finally block in exception handling?\n",
        "'''--> The finally block in Python is used to define code that should always execute, regardless of whether an exception was raised or not.\n",
        " Its primary purpose is to perform cleanup actions, such as:\n",
        "\n",
        "Closing files\n",
        "Releasing resources (e.g., network connections, database connections)\n",
        "Releasing locks in multi-threaded applications\n",
        "This ensures that critical code runs even if an error occurs or if the program exits early.\n",
        "\n",
        "Key Points:\n",
        "Always Executes: Runs no matter what—whether there’s an exception, no exception, or even if a return statement is used in the try or except block.\n",
        "Resource Management: Ideal for tasks like closing files, freeing memory, or disconnecting from a database."
      ],
      "metadata": {
        "id": "gyIEfT68nRYx"
      },
      "execution_count": null,
      "outputs": []
    },
    {
      "cell_type": "code",
      "source": [
        "#4- What is logging in Python?\n",
        "'''--> Logging in Python is a way to track events that happen when your code runs. It helps developers understand what the code is doing, debug issues,\n",
        "and monitor applications—especially in production environments.\n",
        "\n",
        "Instead of using print() statements for debugging, logging provides a flexible, standardized way to record messages with different importance levels."
      ],
      "metadata": {
        "id": "JWBf6SLjoJji"
      },
      "execution_count": null,
      "outputs": []
    },
    {
      "cell_type": "code",
      "source": [
        "#5- What is the significance of the __del__ method in Python?\n",
        "'''--> The __del__ method, also known as the destructor, is a special method in Python that is automatically called when an object is about to be destroyed.\n",
        " It allows you to define custom cleanup behavior, such as releasing resources (e.g., closing files, network connections, or freeing up memory).\n",
        "\n",
        " Explicit Deletion: Using del obj.\n",
        "Reference Count Drops to Zero: When no more references to the object exist.\n",
        "Program Exit: Python automatically cleans up objects when a program finishes."
      ],
      "metadata": {
        "id": "fp6I3C_HogBJ"
      },
      "execution_count": null,
      "outputs": []
    },
    {
      "cell_type": "code",
      "source": [
        "#6- What is the difference between import and from ... import in Python?\n",
        "'''--> Both import and from ... import are used to include external modules or specific components of modules in Python.\n",
        "The key difference lies in how they bring in the functionality and how you access it in your code.\n",
        "\n",
        "Best Practices:\n",
        "Use import module when working with large modules to avoid confusion.\n",
        "Use from module import function for frequently used functions to reduce typing.\n",
        "Avoid from module import * unless absolutely necessary (e.g., in interactive sessions).\n",
        "Need more examples or details on Python modules and packages?"
      ],
      "metadata": {
        "id": "fiGAUI_cpgUD"
      },
      "execution_count": null,
      "outputs": []
    },
    {
      "cell_type": "code",
      "source": [
        "#7- How can you handle multiple exceptions in Python?\n",
        "'''--> In Python, you can handle multiple exceptions using the try...except blocks.\n",
        "This allows you to catch and respond to different types of errors that might occur during code execution.\n",
        "\n"
      ],
      "metadata": {
        "id": "HFefjraRqKNX"
      },
      "execution_count": null,
      "outputs": []
    },
    {
      "cell_type": "code",
      "source": [
        "#8- What is the purpose of the with statement when handling files in Python?\n",
        "'''--> The with statement in Python is used to simplify file handling by automatically managing resources like files.\n",
        "It ensures that files are properly opened and closed, even if errors occur during file operations. This eliminates the need to explicitly call file.close()."
      ],
      "metadata": {
        "id": "zeBJv1icrhXk"
      },
      "execution_count": null,
      "outputs": []
    },
    {
      "cell_type": "code",
      "source": [
        "#9- What is the difference between multithreading and multiprocessing?\n",
        "'''--> Both multithreading and multiprocessing are techniques used to achieve concurrent execution in Python.\n",
        "They help improve performance by handling multiple tasks simultaneously, but they differ in how they work and when to use them.\n",
        "\n",
        "1. Multithreading\n",
        "Multithreading allows multiple threads to run in the same process, sharing the same memory space. It's best suited for I/O-bound tasks like reading files, making network requests, or handling user interfaces.\n",
        "\n",
        "Key Features:\n",
        "Shared Memory: Threads share the same data and resources.\n",
        "Lightweight: Threads are smaller and faster to create compared to processes.\n",
        "Best for I/O-bound tasks: Efficient when the program waits for external operations (e.g., file reading, API calls).\n",
        "\n",
        "2. Multiprocessing\n",
        "Multiprocessing creates separate processes, each with its own memory space. It's ideal for CPU-bound tasks like mathematical computations, data processing, and machine learning.\n",
        "\n",
        "Key Features:\n",
        "Independent Memory: Each process has its own memory, avoiding data conflicts.\n",
        "True Parallelism: Can utilize multiple CPU cores effectively.\n",
        "Best for CPU-bound tasks: Great for intensive computations."
      ],
      "metadata": {
        "id": "e70DLwSJrzQ9"
      },
      "execution_count": null,
      "outputs": []
    },
    {
      "cell_type": "code",
      "source": [
        "#10- What are the advantages of using logging in a program?\n",
        "'''--> 1. Better Debugging and Troubleshooting\n",
        "Traceability: Logging helps track events and provides detailed information about what is happening in the program at any given moment.\n",
        "Error Tracking: With the ability to log exceptions and errors, you can easily identify and debug issues that occur during execution.\n",
        "Log Levels: Logging allows you to categorize messages by severity levels (e.g., DEBUG, INFO, WARNING, ERROR, CRITICAL), helping prioritize issues.\n",
        "Persistent Logs\n",
        "File Output: Unlike print(), which just outputs to the console, logging can be directed to files or external systems.\n",
        "This ensures that logs are persistent and can be referred to later for analysis\n",
        "Configurable and Flexible\n",
        "Log Rotation: You can configure logging to rotate log files, ensuring they don’t grow too large.\n",
        "Non-Intrusive for Production\n",
        "No need for code changes: Unlike using print(), logging is non-intrusive in production environments. You can set different logging levels to control the verbosity of logs.\n",
        "Avoids clutter: In production, you can reduce log verbosity to ERROR or WARNING, keeping logs focused on critical issues.\n",
        "Performance Monitoring\n",
        "Track Application Flow: Logging can help you monitor how your application behaves during execution, tracking function calls, user actions, and resource usage.\n",
        "Detect Performance Bottlenecks: By logging performance-related data (e.g., time taken by specific functions), you can identify slow parts of the program and optimize them.\n",
        "Easy Integration with Monitoring Systems\n",
        "External Tools: Logs can be integrated with monitoring systems or log aggregation services (e.g., ELK Stack, Splunk). This helps automate the detection of patterns, errors, or abnormal behaviors.\n",
        "\n",
        "Example:\n",
        "\n",
        "If multiple error logs are detected in a short period, an alert can be triggered for further investigation.\n",
        ". Enhances Collaboration and Documentation\n",
        "Sharing Logs: Developers and system administrators can use logs to communicate problems and solutions without requiring direct access to the system.\n",
        "Detailed Documentation: Logs act as a detailed record of what happened and when, helping document the application's behavior and decisions in production."
      ],
      "metadata": {
        "id": "mILV6ZegsM_e"
      },
      "execution_count": null,
      "outputs": []
    },
    {
      "cell_type": "code",
      "source": [
        "#11- What is memory management in Python?\n",
        "'''--> Memory management in Python is a critical aspect that determines how the interpreter manages memory allocation and deallocation for objects.\n",
        "Python's memory management system handles everything automatically in the background, but understanding its key components can help you write more efficient\n",
        "programs.\n",
        "\n",
        "1-Key Concepts of Memory Management in Python\n",
        "Automatic Memory Management\n",
        "Python uses an automatic garbage collection system, which means it handles memory allocation and deallocation for you. You don't need to manually allocate or free memory, as in languages like C or C++.\n",
        "\n",
        "2-Memory Allocation\n",
        "When an object is created, Python automatically allocates memory for it. The size of the memory allocation depends on the type and size of the object.\n",
        "\n",
        "3-Garbage Collection\n",
        "Python automatically removes objects that are no longer in use, freeing memory to prevent memory leaks. This is done using a garbage collector.\n",
        "\n",
        "4-Reference Counting\n",
        "Python primarily uses reference counting to track the number of references to an object. When the reference count reaches zero (i.e., when no variable points to the object), the object is no longer in use and can be deleted."
      ],
      "metadata": {
        "id": "9whajskAu5tV"
      },
      "execution_count": null,
      "outputs": []
    },
    {
      "cell_type": "code",
      "source": [
        "#12- What are the basic steps involved in exception handling in Python?\n",
        "'''--> Exception handling in Python follows a structured approach that allows the program to gracefully handle errors without crashing.\n",
        "Here are the basic steps involved in exception handling:\n",
        "\n",
        "1. Using try Block\n",
        "The first step in handling exceptions is to place the code that might raise an exception inside a try block. This is where Python will attempt to execute the code.\n",
        "2. Using except Block\n",
        "If an error occurs in the try block, the code in the except block is executed. You can specify the type of exception you want to catch,\n",
        "allowing you to handle different types of errors differently.\n",
        "3. Optional else Block\n",
        "An else block is optional and runs only if no exception occurs in the try block. It's a way to specify code that should only run when the try block is\n",
        "successful (i.e., no errors).\n",
        "4. Optional finally Block\n",
        "A finally block is optional and will always be executed, whether or not an exception occurs.\n",
        "This is typically used for cleanup operations, such as closing files or releasing resou\n",
        " 5. Catching Multiple Exceptions\n",
        "You can catch multiple exceptions by using multiple except blocks or by specifying them in a tuple.\n",
        "6. Handling General Exceptions\n",
        "You can catch all exceptions using a bare except block. However, this is not recommended in most cases because it can hide bugs or unexpected issues.\n",
        "It’s better to catch specific exceptions where possible.\n",
        "7. Raising Exceptions Manually\n",
        "You can also raise exceptions intentionally using the raise keyword. This is useful when you want to trigger an exception based on a specific condition.\n"
      ],
      "metadata": {
        "id": "ophS6uRMvVKD"
      },
      "execution_count": null,
      "outputs": []
    },
    {
      "cell_type": "code",
      "source": [
        "#13- Why is memory management important in Python?\n",
        "'''--> Memory management is a critical aspect of any programming language, and in Python, it plays a significant role in ensuring the efficiency,\n",
        "reliability, and performance of your programs. Understanding and optimizing memory management in Python helps avoid issues like memory leaks, slow performance,\n",
        "and increased resource consumption.\n",
        "\n",
        "Here are some key reasons why memory management is so important in Python:\n",
        "1. Efficient Use of System Resources"
      ],
      "metadata": {
        "id": "n7CEghhWvsgN"
      },
      "execution_count": null,
      "outputs": []
    },
    {
      "cell_type": "code",
      "source": [
        "#14-  What is the role of try and except in exception handling?\n",
        "'''- In Python, try and except are used for exception handling, which helps prevent a program from crashing when an error occurs. Here's how they work:\n",
        "\n",
        "1. try Block\n",
        "The code that might raise an exception is placed inside the try block.\n",
        "If no error occurs, the try block runs normally, and the except block is skipped.\n",
        "2. except Block\n",
        "If an exception occurs inside the try block, Python immediately jumps to the corresponding except block.\n",
        "You can specify different types of exceptions to handle specific errors."
      ],
      "metadata": {
        "id": "bYCIQRL10Q1u"
      },
      "execution_count": null,
      "outputs": []
    },
    {
      "cell_type": "code",
      "source": [
        "#15- How does Python's garbage collection system work?\n",
        "'''- Python uses automatic garbage collection (GC) to manage memory efficiently by reclaiming memory occupied by objects that are no longer in use.\n",
        "It primarily relies on reference counting and cyclic garbage collection.\n",
        "\n",
        "1. Reference Counting\n",
        "Every Python object has a reference count, which tracks how many variables reference it.\n",
        "When an object’s reference count drops to zero, Python automatically deletes it and frees the memory.\n",
        "\n",
        "2. Cyclic Garbage Collection\n",
        "Reference counting alone cannot handle circular references (when two or more objects reference each other).\n",
        "Python has a cyclic garbage collector to detect and clean up such cases.\n",
        "\n",
        "3. How Python’s Garbage Collector Works\n",
        "Python’s GC runs automatically but can also be manually triggered using gc.collect().\n",
        "It operates in generations:\n",
        "Gen 0 (young objects): Objects created recently.\n",
        "Gen 1 (middle-aged objects): Objects that survived one GC cycle.\n",
        "Gen 2 (old objects): Objects that survived multiple GC cycles.\n",
        "Objects in higher generations are collected less frequently to optimize performance."
      ],
      "metadata": {
        "id": "wYQuAxlr0sxH"
      },
      "execution_count": null,
      "outputs": []
    },
    {
      "cell_type": "code",
      "source": [
        "#16- What is the purpose of the else block in exception handling?\n",
        "'''- The else block in exception handling is used to execute code only if no exceptions occur in the try block.\n",
        "It helps separate the normal execution flow from error handling.\n",
        "\n",
        "Why Use else in try-except?\n",
        "✅ Improves readability by keeping normal execution separate from error handling.\n",
        "✅ Ensures specific code runs only when no exceptions occur.\n",
        "✅ Prevents unintended exception handling—avoids placing error-free code inside try, which could mask bugs."
      ],
      "metadata": {
        "id": "WD1iFULo1aaZ"
      },
      "execution_count": null,
      "outputs": []
    },
    {
      "cell_type": "code",
      "source": [
        "#17- F What are the common logging levels in Python?\n",
        "'''- Common Logging Levels in Python\n",
        "Python’s logging module provides different levels of severity to categorize log messages. These levels help control which messages are recorded based on\n",
        "their importance.\n",
        "\n",
        "How Logging Levels Work\n",
        "The default logging level is WARNING, meaning only WARNING, ERROR, and CRITICAL messages appear unless configured otherwise.\n",
        "To capture lower levels (DEBUG and INFO), use logging.basicConfig(level=logging.DEBUG).\n",
        "Logging helps in debugging, monitoring, and analyzing issues without using excessive print() statements."
      ],
      "metadata": {
        "id": "bGdmR1sm2E6h"
      },
      "execution_count": null,
      "outputs": []
    },
    {
      "cell_type": "code",
      "source": [
        "#18- What is the difference between os.fork() and multiprocessing in Python?\n",
        "'''- Both os.fork() and the multiprocessing module in Python are used to create new processes, but they differ significantly in functionality, portability,\n",
        " and use cases.\n",
        "\n",
        " 1. os.fork()\n",
        "What it does:\n",
        "\n",
        "Creates a child process by duplicating the parent process.\n",
        "Returns 0 in the child process and the child's PID in the parent process.\n",
        "Works only on Unix-based systems (Linux, macOS)—not available on Windows.\n",
        "\n",
        "2. multiprocessing Module\n",
        "What it does:\n",
        "\n",
        "Provides a high-level way to create multiple processes.\n",
        "Works across all operating systems (Windows, macOS, Linux).\n",
        "Uses separate memory space for each process, avoiding shared memory issues.\n"
      ],
      "metadata": {
        "id": "SuKvcPOL5i_K"
      },
      "execution_count": null,
      "outputs": []
    },
    {
      "cell_type": "code",
      "source": [
        "#19- What is the importance of closing a file in Python?\n",
        "'''-\n",
        "\n",
        "When working with files in Python, it's essential to close the file after use to free up system resources and ensure data integrity.\n",
        "\n",
        "Why is Closing a File Important?\n",
        "Prevents Data Loss & Corruption\n",
        "\n",
        "If a file remains open, data may not be written properly.\n",
        "Closing ensures all buffered data is flushed (saved to disk).\n",
        "Releases System Resources\n",
        "\n",
        "Open files consume system memory and file handles.\n",
        "Closing prevents memory leaks and resource exhaustion.\n",
        "Allows Other Programs to Access the File\n",
        "\n",
        "Some operating systems lock open files.\n",
        "Closing ensures other programs or processes can read/write to the file.\n",
        "Ensures Changes are Saved\n",
        "\n",
        "Some file operations use buffering, meaning data isn’t written immediately.\n",
        "Closing forces the buffer to be written to disk, preventing incomplete writes."
      ],
      "metadata": {
        "id": "1RuR_XyY6PyP"
      },
      "execution_count": null,
      "outputs": []
    },
    {
      "cell_type": "code",
      "source": [
        "#20- What is the difference between file.read() and file.readline() in Python?\n",
        "'''- Difference Between file.read() and file.readline() in Python\n",
        "Both file.read() and file.readline() are used to read data from a file, but they behave differently.\n",
        "\n",
        "1. file.read(size) – Reads the Entire File or a Specific Number of Characters\n",
        "What it does:\n",
        "\n",
        "Reads the entire file if no argument is given.\n",
        "Reads up to size characters if an argument is provided.\n",
        "Returns a single string containing the file content.\n",
        "\n",
        ". file.readline() – Reads a Single Line at a Time\n",
        "What it does:\n",
        "\n",
        "Reads one line at a time, including the newline (\\n) at the end.\n",
        "Returns a string containing the line.\n",
        "Stops at the end of the file."
      ],
      "metadata": {
        "id": "VN-Qm_3z6k9X"
      },
      "execution_count": null,
      "outputs": []
    },
    {
      "cell_type": "code",
      "source": [
        "#21- What is the logging module in Python used for?\n",
        "'''- The logging module in Python is used for tracking events in a program. It helps developers record messages about their program’s execution,\n",
        "making it easier to debug, monitor, and analyze software behavior.\n",
        "\n",
        "Why Use the logging Module Instead of print()?\n",
        "✅ Better Debugging: Provides structured logs instead of scattered print() statements.\n",
        "✅ Different Logging Levels: Allows filtering logs based on severity (e.g., INFO, ERROR).\n",
        "✅ Log to Files, Not Just Console: Supports writing logs to files, databases, or external systems.\n",
        "✅ Thread-Safe & Scalable: Works well in multi-threaded and large applications."
      ],
      "metadata": {
        "id": "VzQkHGNQ68NO"
      },
      "execution_count": null,
      "outputs": []
    },
    {
      "cell_type": "code",
      "source": [
        "#22- What is the os module in Python used for in file handling?\n",
        "'''- The logging module in Python is used for tracking events in a program.\n",
        "It helps developers record messages about their program’s execution, making it easier to debug, monitor, and analyze software behavior.\n",
        "\n",
        "Why Use the logging Module Instead of print()?\n",
        "✅ Better Debugging: Provides structured logs instead of scattered print() statements.\n",
        "✅ Different Logging Levels: Allows filtering logs based on severity (e.g., INFO, ERROR).\n",
        "✅ Log to Files, Not Just Console: Supports writing logs to files, databases, or external systems.\n",
        "✅ Thread-Safe & Scalable: Works well in multi-threaded and large applications.\n",
        "\n"
      ],
      "metadata": {
        "id": "GfYW-s-j7PxS"
      },
      "execution_count": null,
      "outputs": []
    },
    {
      "cell_type": "code",
      "source": [
        "#23- What are the challenges associated with memory management in Python?\n",
        "'''- Memory management in Python is an important aspect of programming, but it comes with some challenges, especially because of Python’s\n",
        "dynamic nature and automatic memory management. Let's explore these challenges in detail:\n",
        "\n",
        "1. Automatic Garbage Collection\n",
        "Python uses an automatic garbage collection system that includes reference counting and a cyclic garbage collector. While automatic memory management helps ease the developer’s task, it can also lead to several challenges:\n",
        "\n",
        "Challenges:\n",
        "Reference Counting and Cyclic References:\n",
        "\n",
        "Python’s garbage collector relies on reference counting to track memory usage. When an object’s reference count drops to zero, it is deallocated.\n",
        "Cyclic references (e.g., an object referencing itself) can prevent garbage collection from deallocating objects.\n",
        "The cyclic garbage collector can address this, but it’s not always perfect and may not clean up all cyclic references.\n",
        "\n",
        "2. Memory Leaks\n",
        "Memory leaks occur when objects are not properly deallocated, leading to memory consumption that grows over time. In Python, memory leaks can still happen,\n",
        "especially if:\n",
        "\n",
        "Circular references are not collected by the garbage collector.\n",
        "External libraries or C extensions fail to properly free memory.\n",
        "Resources like file handles or network connections are not closed.\n",
        "Challenges:\n",
        "Invisible Leaks: Memory leaks in Python may not be obvious and can accumulate gradually, making them harder to spot.\n",
        "Manual Cleanup Required: Python provides automatic garbage collection, but you still need to ensure resources like file handles or network sockets are manually\n",
        "closed.\n"
      ],
      "metadata": {
        "id": "pNko2bTa7oln"
      },
      "execution_count": null,
      "outputs": []
    },
    {
      "cell_type": "code",
      "source": [
        "#24- How do you raise an exception manually in Python?\n",
        "'''- In Python, you can manually raise an exception using the raise statement. This is useful when you want to signal an error or exceptional situation\n",
        "in your program. Raising exceptions manually gives you the flexibility to stop normal program execution and handle errors as needed."
      ],
      "metadata": {
        "id": "Iw8Vr5Ab8U6S"
      },
      "execution_count": null,
      "outputs": []
    },
    {
      "cell_type": "code",
      "source": [
        "#25-  Why is it important to use multithreading in certain applications?"
      ],
      "metadata": {
        "id": "pKlvs31e80o9"
      },
      "execution_count": null,
      "outputs": []
    },
    {
      "cell_type": "code",
      "source": [
        "'''- Multithreading is crucial in specific types of applications for a variety of reasons, particularly when tasks can be executed concurrently or need to be performed in parallel without blocking the main execution flow.\n",
        " Below are the main reasons why multithreading is beneficial:\n",
        "\n",
        " 1. Improved Application Performance and Responsiveness\n",
        "Multithreading helps in parallelizing tasks, which can significantly improve the performance of certain types of applications.\n",
        "\n",
        "Use Case: GUI Applications\n",
        "Problem: In graphical user interface (GUI) applications, long-running tasks (like data processing or network requests) could make the interface unresponsive if executed on the main thread.\n",
        "Solution: By offloading these tasks to background threads, the main thread can continue handling user input and drawing the UI."
      ],
      "metadata": {
        "id": "XkLMsjIT822g"
      },
      "execution_count": null,
      "outputs": []
    },
    {
      "cell_type": "code",
      "source": [
        "# Practical Questions"
      ],
      "metadata": {
        "id": "cVND0cb0sNpV"
      },
      "execution_count": null,
      "outputs": []
    },
    {
      "cell_type": "code",
      "source": [
        "#1-  How can you open a file for writing in Python and write a string to it"
      ],
      "metadata": {
        "id": "jZwdnHKSsRpO"
      },
      "execution_count": null,
      "outputs": []
    },
    {
      "cell_type": "code",
      "source": [
        "file = open(\"pizza_types.txt\",'r')\n",
        "file = open(\"pizza_types.txt\",'w')\n",
        "file.write(\"My name is abha yadav\\n\")\n",
        "file.write(\"and this is my first file\")\n",
        "\n"
      ],
      "metadata": {
        "id": "Y1MfA47Ys1T7",
        "colab": {
          "base_uri": "https://localhost:8080/"
        },
        "outputId": "10d14460-88c6-4f94-8ce5-32cc67ae5541"
      },
      "execution_count": null,
      "outputs": [
        {
          "output_type": "execute_result",
          "data": {
            "text/plain": [
              "25"
            ]
          },
          "metadata": {},
          "execution_count": 18
        }
      ]
    },
    {
      "cell_type": "code",
      "source": [
        "#2- Write a Python program to read the contents of a file and print each line?"
      ],
      "metadata": {
        "id": "StbSWt06LYuF"
      },
      "execution_count": null,
      "outputs": []
    },
    {
      "cell_type": "code",
      "source": [
        "file = open(\"pizza_types.txt\",'r')\n",
        "file.seek(0)\n",
        "for i in file:\n",
        "  print(i)"
      ],
      "metadata": {
        "colab": {
          "base_uri": "https://localhost:8080/"
        },
        "id": "HKSDsVThLb5g",
        "outputId": "683837c7-c127-4a2a-816f-ea8cd830763c"
      },
      "execution_count": null,
      "outputs": [
        {
          "output_type": "stream",
          "name": "stdout",
          "text": [
            "My name is abha yadav\n",
            "\n",
            "and this is my first file\n"
          ]
        }
      ]
    },
    {
      "cell_type": "code",
      "source": [
        "#3- How would you handle a case where the file doesn't exist while trying to open it for reading?"
      ],
      "metadata": {
        "id": "-Ck4ChquMVWM"
      },
      "execution_count": null,
      "outputs": []
    },
    {
      "cell_type": "code",
      "source": [
        "try:\n",
        "  with open(\"numbers.txt\") as File:\n",
        "    content = file.read()\n",
        "    print(content)\n",
        "except FileNotFoundError:\n",
        "  print(\"Error: The file does not exist. Please check the file name and path\")\n"
      ],
      "metadata": {
        "colab": {
          "base_uri": "https://localhost:8080/"
        },
        "id": "iiI581vzMWeK",
        "outputId": "9eff086b-92b1-4ff7-a9aa-b772615b93e3"
      },
      "execution_count": null,
      "outputs": [
        {
          "output_type": "stream",
          "name": "stdout",
          "text": [
            "Error: The file does not exist. Please check the file name and path\n"
          ]
        }
      ]
    },
    {
      "cell_type": "code",
      "source": [
        "#4- Write a Python script that reads from one file and writes its content to another file?"
      ],
      "metadata": {
        "id": "EPBoLPYhlsma"
      },
      "execution_count": null,
      "outputs": []
    },
    {
      "cell_type": "code",
      "source": [
        "try:\n",
        "\n",
        "    with open(\"pizza_types.txt\", \"r\", encoding=\"utf-8\") as file:\n",
        "        content = file.read()\n",
        "\n",
        "\n",
        "    with open(\"new.txt\", \"w\", encoding=\"utf-8\") as destination:\n",
        "        destination.write(content)\n",
        "\n",
        "\n",
        "    with open(\"new.txt\", \"r\", encoding=\"utf-8\") as destination:\n",
        "        for line in destination:\n",
        "            print(line.strip())\n",
        "\n",
        "except FileNotFoundError:\n",
        "    print(\"Error: 'pizza_types.txt' not found.\")\n",
        "except Exception as e:\n",
        "    print(f\"An error occurred: {e}\")\n"
      ],
      "metadata": {
        "colab": {
          "base_uri": "https://localhost:8080/"
        },
        "id": "k6xTz27UmE9d",
        "outputId": "c8a351a9-1137-4312-97c5-16209b9c4955"
      },
      "execution_count": 20,
      "outputs": [
        {
          "output_type": "stream",
          "name": "stdout",
          "text": [
            "1\n",
            "2\n",
            "3\n",
            "4\n",
            "5\n"
          ]
        }
      ]
    },
    {
      "cell_type": "code",
      "source": [
        "#5- How would you catch and handle division by zero error in Python?"
      ],
      "metadata": {
        "id": "2qLVJHkI0De1"
      },
      "execution_count": null,
      "outputs": []
    },
    {
      "cell_type": "code",
      "source": [
        "try:\n",
        "  a=6/0\n",
        "except:\n",
        "  print(\"Change the denominator\")"
      ],
      "metadata": {
        "colab": {
          "base_uri": "https://localhost:8080/"
        },
        "id": "x_eXQnZ3d_V7",
        "outputId": "e0bb5125-2b77-4620-d9c1-8ceafc37be31"
      },
      "execution_count": null,
      "outputs": [
        {
          "output_type": "stream",
          "name": "stdout",
          "text": [
            "Change the denominator\n"
          ]
        }
      ]
    },
    {
      "cell_type": "code",
      "source": [
        "#6- Write a Python program that logs an error message to a log file when a division by zero exception occurs?"
      ],
      "metadata": {
        "id": "SNnzZuTUfQv5"
      },
      "execution_count": null,
      "outputs": []
    },
    {
      "cell_type": "code",
      "source": [
        "import logging\n",
        "logging.basicConfig(\n",
        "    filename=\"error.log\",\n",
        "    level=logging.ERROR,\n",
        "    format=\"%(asctime)s - %(levelname)s - %(message)s\"\n",
        ")\n",
        "try:\n",
        "  a=6/0\n",
        "except:\n",
        "  logging.error(\"Change the denominator\")\n"
      ],
      "metadata": {
        "id": "oCtwTPtTfZ0P",
        "colab": {
          "base_uri": "https://localhost:8080/"
        },
        "outputId": "49e67fe2-7ebe-41b7-8fce-b1f5897ce068"
      },
      "execution_count": null,
      "outputs": [
        {
          "output_type": "stream",
          "name": "stderr",
          "text": [
            "ERROR:root:Change the denominator\n"
          ]
        }
      ]
    },
    {
      "cell_type": "code",
      "source": [
        "#7- How do you log information at different levels (INFO, ERROR, WARNING) in Python using the logging module?"
      ],
      "metadata": {
        "id": "GyyW03b356PY"
      },
      "execution_count": null,
      "outputs": []
    },
    {
      "cell_type": "code",
      "source": [
        "import logging\n",
        "\n",
        "\n",
        "logging.basicConfig(\n",
        "    filename=\"app.log\",\n",
        "    level=logging.DEBUG,\n",
        "    format=\"%(asctime)s - %(levelname)s - %(message)s\"\n",
        ")\n",
        "logging.debug(\"This is a DEBUG message (useful for troubleshooting).\")\n",
        "logging.info(\"This is an INFO message (general program information).\")\n",
        "logging.warning(\"This is a WARNING message (something might be wrong).\")\n",
        "logging.error(\"This is an ERROR message (an error occurred).\")\n",
        "logging.critical(\"This is a CRITICAL message (serious problem).\")\n",
        "\n",
        "print(\"Logs have been written to 'app.log'.\")\n"
      ],
      "metadata": {
        "id": "Ha-t0fug6QBP",
        "colab": {
          "base_uri": "https://localhost:8080/"
        },
        "outputId": "2ad0329f-975e-4a69-c926-fbdd425ad8af"
      },
      "execution_count": 16,
      "outputs": [
        {
          "output_type": "stream",
          "name": "stderr",
          "text": [
            "WARNING:root:This is a WARNING message (something might be wrong).\n",
            "ERROR:root:This is an ERROR message (an error occurred).\n",
            "CRITICAL:root:This is a CRITICAL message (serious problem).\n"
          ]
        },
        {
          "output_type": "stream",
          "name": "stdout",
          "text": [
            "Logs have been written to 'app.log'.\n"
          ]
        }
      ]
    },
    {
      "cell_type": "code",
      "source": [
        "#8- Write a program to handle a file opening error using exception handling?"
      ],
      "metadata": {
        "id": "VnQ_mEfh67vQ"
      },
      "execution_count": null,
      "outputs": []
    },
    {
      "cell_type": "code",
      "source": [
        "import logging\n",
        "logging.basicConfig(\n",
        "    filename=\"error.log\",\n",
        "    level=logging.ERROR,\n",
        "    format=\"%(asctime)s - %(levelname)s - %(message)s\"\n",
        ")\n",
        "try:\n",
        "  file = open(\"burger_type.txt\")\n",
        "except:\n",
        "  logging.error(\"File Directory Not Found\")\n",
        "\n",
        "\n"
      ],
      "metadata": {
        "colab": {
          "base_uri": "https://localhost:8080/"
        },
        "id": "eAX26XFt7Apo",
        "outputId": "cefc427c-2f3c-4f76-9f8d-d52bcab49ba7"
      },
      "execution_count": null,
      "outputs": [
        {
          "output_type": "stream",
          "name": "stderr",
          "text": [
            "ERROR:root:File Directory Not Found\n"
          ]
        }
      ]
    },
    {
      "cell_type": "code",
      "source": [
        "#9-  How can you read a file line by line and store its content in a list in Python?"
      ],
      "metadata": {
        "id": "tpu3hA3X-j2S"
      },
      "execution_count": null,
      "outputs": []
    },
    {
      "cell_type": "code",
      "source": [
        "lines= []\n",
        "with open(\"pizza_types.txt\",\"r\") as file:\n",
        "  for i in file:\n",
        "    lines.append(lines)\n",
        "print(lines)\n"
      ],
      "metadata": {
        "colab": {
          "base_uri": "https://localhost:8080/"
        },
        "id": "1BiJ_KQ8_2GM",
        "outputId": "0ff41f11-c79d-488a-cd57-bc5b906d5ccd"
      },
      "execution_count": null,
      "outputs": [
        {
          "output_type": "stream",
          "name": "stdout",
          "text": [
            "[[...], [...]]\n"
          ]
        }
      ]
    },
    {
      "cell_type": "code",
      "source": [
        "#10- How can you append data to an existing file in Python?"
      ],
      "metadata": {
        "id": "orGuChXLDa8b"
      },
      "execution_count": null,
      "outputs": []
    },
    {
      "cell_type": "code",
      "source": [
        "with open(\"pizza_types.txt\",'a') as file:\n",
        "  file.write(\"My name is abha yadav\\n\")\n",
        "file = open(\"pizza_types.txt\",'r')\n",
        "content = file.read()\n",
        "print(content)\n"
      ],
      "metadata": {
        "colab": {
          "base_uri": "https://localhost:8080/"
        },
        "id": "iQ4pJ4JDDfWa",
        "outputId": "1e07bbeb-bb93-4359-feec-66f805dde18f"
      },
      "execution_count": null,
      "outputs": [
        {
          "output_type": "stream",
          "name": "stdout",
          "text": [
            "My name is abha yadav\n",
            "My name is abha yadav\n",
            "My name is abha yadav\n",
            "My name is abha yadav\n",
            "My name is abha yadav\n",
            "My name is abha yadav\n",
            "My name is abha yadav\n",
            "My name is abha yadav\n",
            "\n"
          ]
        }
      ]
    },
    {
      "cell_type": "code",
      "source": [
        "#11- Write a Python program that uses a try-except block to handle an error when attempting to access a dictionary key that doesn't exist?"
      ],
      "metadata": {
        "id": "Hryske0RFks8"
      },
      "execution_count": null,
      "outputs": []
    },
    {
      "cell_type": "code",
      "source": [
        "def get_value_from_data_key(data,key):\n",
        "  try:\n",
        "    value=data[key]\n",
        "    return value\n",
        "  except KeyError:\n",
        "    print(\"Error:The'{key}'not in dictionary\")\n",
        "    return None\n",
        "\n",
        "my_dict = {\n",
        "    \"name\": \"Alice\",\n",
        "    \"age\": 25,\n",
        "    \"city\": \"New York\"\n",
        "}\n",
        "print(get_value_from_data_key(my_dict,\"name\"))\n",
        "print(get_value_from_data_key(my_dict,\"email\"))\n",
        "\n"
      ],
      "metadata": {
        "id": "dlk4rXh8FqDg",
        "colab": {
          "base_uri": "https://localhost:8080/"
        },
        "outputId": "12d1535b-84ca-4f87-d771-fad2f7d69ea1"
      },
      "execution_count": null,
      "outputs": [
        {
          "output_type": "stream",
          "name": "stdout",
          "text": [
            "Alice\n",
            "Error:The'{key}'not in dictionary\n",
            "None\n"
          ]
        }
      ]
    },
    {
      "cell_type": "code",
      "source": [
        "#12- Write a program that demonstrates using multiple except blocks to handle different types of exceptions?"
      ],
      "metadata": {
        "id": "Ric6pmEFQ5hX"
      },
      "execution_count": null,
      "outputs": []
    },
    {
      "cell_type": "code",
      "source": [
        "def divide_numbers():\n",
        "  try:\n",
        "    num1=int(input(\"enter the numerator: \"))\n",
        "    num2=int(input(\"enter the denominator: \"))\n",
        "    result=num1 / num2\n",
        "    print(f\"Result: {result}\")\n",
        "  except ZeroDivisionError:\n",
        "    print(\"Error: Cannot be divided by Zero\")\n",
        "  except ValueError:\n",
        "    print(\"Please Enter the valid number\")\n",
        "  except Exception as e:\n",
        "    print(f\"an unexpected error has occured: {e}\")\n",
        "\n",
        "divide_numbers()\n"
      ],
      "metadata": {
        "colab": {
          "base_uri": "https://localhost:8080/"
        },
        "id": "G6YX5mWhRz7w",
        "outputId": "1400c0dd-cc3e-4ee1-b0e6-98f616dffc93"
      },
      "execution_count": null,
      "outputs": [
        {
          "output_type": "stream",
          "name": "stdout",
          "text": [
            "enter the numerator: 10\n",
            "enter the denominator: 0\n",
            "Error: Cannot be divided by Zero\n"
          ]
        }
      ]
    },
    {
      "cell_type": "code",
      "source": [
        "#13- How would you check if a file exists before attempting to read it in Python?"
      ],
      "metadata": {
        "id": "vH1h1YW0Xfel"
      },
      "execution_count": null,
      "outputs": []
    },
    {
      "cell_type": "code",
      "source": [
        "import os\n",
        "file_path = \"pizza_types.txt\"\n",
        "\n",
        "if os.path.exists(file_path):\n",
        "    with open(\"pizza_type.txt\",'r') as file:\n",
        "      content = file.read()\n",
        "      print(content)\n",
        "else:\n",
        "  print(\"The file not found\")\n"
      ],
      "metadata": {
        "colab": {
          "base_uri": "https://localhost:8080/"
        },
        "id": "vqQB3O3IX77L",
        "outputId": "3465a40c-6e38-4e6f-f854-f54533b56448"
      },
      "execution_count": null,
      "outputs": [
        {
          "output_type": "stream",
          "name": "stdout",
          "text": [
            "The file not found\n"
          ]
        }
      ]
    },
    {
      "cell_type": "code",
      "source": [
        "#14- Write a program that uses the logging module to log both informational and error messages?"
      ],
      "metadata": {
        "id": "P7uv_TuvZ7NW"
      },
      "execution_count": null,
      "outputs": []
    },
    {
      "cell_type": "code",
      "source": [
        "import logging\n",
        "logging.basicConfig(\n",
        "    file_name=\"app.log\",\n",
        "    level =logging.INFO,\n",
        "    format=\"%(asctime)s - %(levelname)s - %(message)s\"\n",
        ")\n",
        "def divide_numbers(num1,num2):\n",
        "  try:\n",
        "    result = num1/num2\n",
        "    logging.INFO(f\"Division successful: {num1} / {num2} = {result}\")\n",
        "    return result\n",
        "  except ZeroDivisionError:\n",
        "    logging.ERROR(\"Cannot perform division by zero\")\n",
        "    return None\n",
        "  except Exception as e:\n",
        "    logging.error(f\"Unexpected error occurred: {e}\")\n",
        "    return None\n",
        "print(divide_numbers(5,15))\n",
        "\n",
        "\n",
        "\n",
        "\n",
        "\n",
        "\n"
      ],
      "metadata": {
        "colab": {
          "base_uri": "https://localhost:8080/"
        },
        "id": "BETs3-uFa62A",
        "outputId": "cd54559d-f35b-4af9-b7c7-49096db6fc19"
      },
      "execution_count": null,
      "outputs": [
        {
          "output_type": "stream",
          "name": "stderr",
          "text": [
            "ERROR:root:Unexpected error occurred: 'int' object is not callable\n"
          ]
        },
        {
          "output_type": "stream",
          "name": "stdout",
          "text": [
            "None\n"
          ]
        }
      ]
    },
    {
      "cell_type": "code",
      "source": [
        "#15- Write a Python program that prints the content of a file and handles the case when the file is empty?"
      ],
      "metadata": {
        "id": "bpWzVfzZgzbb"
      },
      "execution_count": null,
      "outputs": []
    },
    {
      "cell_type": "code",
      "source": [
        "import os\n",
        "file_path = \"pizza_types.txt\"\n",
        "\n",
        "if os.path.exists and os.path.getsize(file_path)== 0:\n",
        "  with open(\"pizza_types.txt\",'r')as file:\n",
        "    content = file.read()\n",
        "    print(content)\n",
        "else:\n",
        "  print(\"The file is empty\")"
      ],
      "metadata": {
        "colab": {
          "base_uri": "https://localhost:8080/"
        },
        "id": "GHbOjq-zhUzc",
        "outputId": "f0623398-0f44-40a2-c6e7-ada65e5799d7"
      },
      "execution_count": null,
      "outputs": [
        {
          "output_type": "stream",
          "name": "stdout",
          "text": [
            "The file is empty\n"
          ]
        }
      ]
    },
    {
      "cell_type": "code",
      "source": [
        "#16- Demonstrate how to use memory profiling to check the memory usage of a small program?"
      ],
      "metadata": {
        "id": "IjV5oEGUkHyQ"
      },
      "execution_count": null,
      "outputs": []
    },
    {
      "cell_type": "code",
      "source": [
        "from memory_profiler import profile\n",
        "\n",
        "@profile\n",
        "def create_large_list():\n",
        "    \"\"\"Creates a large list and returns it\"\"\"\n",
        "    large_list = [i for i in range(1000000)]\n",
        "    return large_list\n",
        "\n",
        "if __name__ == \"__main__\":\n",
        "    create_large_list()\n"
      ],
      "metadata": {
        "id": "5wNJnFFUmxdX"
      },
      "execution_count": null,
      "outputs": []
    },
    {
      "cell_type": "code",
      "source": [
        "#17- Write a Python program to create and write a list of numbers to a file, one number per line?"
      ],
      "metadata": {
        "id": "olLdGYqYktSJ"
      },
      "execution_count": null,
      "outputs": []
    },
    {
      "cell_type": "code",
      "source": [
        "list_1 = [1,2,3,4,5]\n",
        "with open(\"pizza_types.txt\",'w')as file:\n",
        "  for i in list_1:\n",
        "    file.write(f\"{i}\\n\")\n",
        "print(\"List is created\")\n",
        "with open(\"pizza_types.txt\",'r')as file:\n",
        "  content=file.read()\n",
        "  print(content)"
      ],
      "metadata": {
        "colab": {
          "base_uri": "https://localhost:8080/"
        },
        "id": "fKk7Xo_3kz1L",
        "outputId": "1681fe2f-7ad9-484d-c925-2e81cfbf4a40"
      },
      "execution_count": 7,
      "outputs": [
        {
          "output_type": "stream",
          "name": "stdout",
          "text": [
            "List is created\n",
            "1\n",
            "2\n",
            "3\n",
            "4\n",
            "5\n",
            "\n"
          ]
        }
      ]
    },
    {
      "cell_type": "code",
      "source": [
        "#18- How would you implement a basic logging setup that logs to a file with rotation after 1MB?"
      ],
      "metadata": {
        "id": "XxNF-Aq9Tdrh"
      },
      "execution_count": null,
      "outputs": []
    },
    {
      "cell_type": "code",
      "source": [
        "import logging\n",
        "from logging.handlers import RotatingFileHandler\n",
        "\n",
        "\n",
        "log_file = \"app.log\"\n",
        "max_size = 1 * 1024 * 1024\n",
        "backup_count = 3\n",
        "\n",
        "logging.basicConfig(\n",
        "    level=logging.INFO,\n",
        "    format=\"%(asctime)s - %(levelname)s - %(message)s\",\n",
        "    handlers=[\n",
        "        RotatingFileHandler(log_file, maxBytes=max_size, backupCount=backup_count)\n",
        "    ]\n",
        ")\n",
        "\n",
        "\n",
        "for i in range(10000):\n",
        "    logging.info(f\"This is log message number {i}\")\n"
      ],
      "metadata": {
        "id": "JUA246aoUk9f"
      },
      "execution_count": 11,
      "outputs": []
    },
    {
      "cell_type": "code",
      "source": [
        "#19- Write a program that handles both IndexError and KeyError using a try-except block?"
      ],
      "metadata": {
        "id": "W0TXDKELgynp"
      },
      "execution_count": null,
      "outputs": []
    },
    {
      "cell_type": "code",
      "source": [
        "def handle_exceptions():\n",
        "    my_list = [1, 2, 3]\n",
        "    my_dict = {\"a\": 10, \"b\": 20, \"c\": 30}\n",
        "\n",
        "    try:\n",
        "        print(\"List element:\", my_list[5])\n",
        "        print(\"Dictionary value:\", my_dict[\"z\"])\n",
        "\n",
        "    except IndexError:\n",
        "        print(\"Error: List index is out of range!\")\n",
        "\n",
        "    except KeyError:\n",
        "        print(\"Error: Key not found in dictionary!\")\n",
        "\n",
        "\n",
        "handle_exceptions()\n"
      ],
      "metadata": {
        "colab": {
          "base_uri": "https://localhost:8080/"
        },
        "id": "ZIowHVw6g5Qz",
        "outputId": "0bddacd7-38ab-418b-8435-646d8ad068e9"
      },
      "execution_count": 12,
      "outputs": [
        {
          "output_type": "stream",
          "name": "stdout",
          "text": [
            "Error: List index is out of range!\n"
          ]
        }
      ]
    },
    {
      "cell_type": "code",
      "source": [
        "#20- How would you open a file and read its contents using a context manager in Python?"
      ],
      "metadata": {
        "id": "dfoiSLf0ipDD"
      },
      "execution_count": null,
      "outputs": []
    },
    {
      "cell_type": "code",
      "source": [
        "\n",
        "with open(\"pizza_types.txt\", \"r\") as file:\n",
        "    content = file.read()\n",
        "print(content)\n"
      ],
      "metadata": {
        "colab": {
          "base_uri": "https://localhost:8080/"
        },
        "id": "fx2F9lCPi25N",
        "outputId": "8ccc25b9-326b-4787-e234-bf3a5744adba"
      },
      "execution_count": 13,
      "outputs": [
        {
          "output_type": "stream",
          "name": "stdout",
          "text": [
            "1\n",
            "2\n",
            "3\n",
            "4\n",
            "5\n",
            "\n"
          ]
        }
      ]
    },
    {
      "cell_type": "code",
      "source": [
        "#21-  Write a Python program that reads a file and prints the number of occurrences of a specific word?"
      ],
      "metadata": {
        "id": "I7yGi2fwi-a5"
      },
      "execution_count": null,
      "outputs": []
    },
    {
      "cell_type": "code",
      "source": [
        "def count_word_occurrences(filename, word):\n",
        "    try:\n",
        "        with open(filename, \"r\", encoding=\"utf-8\") as file:\n",
        "            content = file.read().lower()\n",
        "            word_count = content.split().count(word.lower())\n",
        "        print(f\"The word '{word}' appears {word_count} times in '{filename}'.\")\n",
        "    except FileNotFoundError:\n",
        "        print(f\"Error: The file '{filename}' was not found.\")\n",
        "    except Exception as e:\n",
        "        print(f\"An error occurred: {e}\")\n",
        "\n",
        "\n",
        "filename = \"pizza_types.txt\"\n",
        "word = \"1\"\n",
        "count_word_occurrences(filename, word)\n"
      ],
      "metadata": {
        "colab": {
          "base_uri": "https://localhost:8080/"
        },
        "id": "RrdJhBX1ji-o",
        "outputId": "1201b05c-7693-479d-e03b-5c642151ee2b"
      },
      "execution_count": 15,
      "outputs": [
        {
          "output_type": "stream",
          "name": "stdout",
          "text": [
            "The word '1' appears 1 times in 'pizza_types.txt'.\n"
          ]
        }
      ]
    },
    {
      "cell_type": "code",
      "source": [
        "#22-  How can you check if a file is empty before attempting to read its contents?"
      ],
      "metadata": {
        "id": "jw25QX9IO61b"
      },
      "execution_count": 8,
      "outputs": []
    },
    {
      "cell_type": "code",
      "source": [
        "import os\n",
        "file_path = \"pizza_types.txt\"\n",
        "\n",
        "try:\n",
        "    with open(file_path, 'r') as file:\n",
        "        content = file.read()\n",
        "        print(content)\n",
        "except FileNotFoundError:\n",
        "    if os.path.exists(file_path) and os.path.getsize(file_path) == 0:\n",
        "        print(\"Error: File exists but is empty.\")\n",
        "    else:\n",
        "        print(\"Error: File not found.\")\n"
      ],
      "metadata": {
        "colab": {
          "base_uri": "https://localhost:8080/"
        },
        "id": "MFr11qsOO_dU",
        "outputId": "d0e67214-141b-4646-9642-27371243f8f6"
      },
      "execution_count": 9,
      "outputs": [
        {
          "output_type": "stream",
          "name": "stdout",
          "text": [
            "1\n",
            "2\n",
            "3\n",
            "4\n",
            "5\n",
            "\n"
          ]
        }
      ]
    },
    {
      "cell_type": "code",
      "source": [
        "#23-  Write a Python program that writes to a log file when an error occurs during file handling."
      ],
      "metadata": {
        "id": "wd48xLGprb7-"
      },
      "execution_count": null,
      "outputs": []
    },
    {
      "cell_type": "code",
      "source": [
        "import logging\n",
        "import os\n",
        "logging.basicConfig(\n",
        "    filename=\"app.log\",\n",
        "    level=logging.INFO,\n",
        "    format=\"%(asctime)s - %(levelname)s - %(message)s\"\n",
        ")\n",
        "\n",
        "file_path = \"pizzas_types.txt\"\n",
        "\n",
        "try:\n",
        "    with open(file_path, 'r') as file:\n",
        "        content = file.read()\n",
        "        print(content)\n",
        "except FileNotFoundError:\n",
        "    if os.path.exists(file_path) and os.path.getsize(file_path) == 0:\n",
        "        logging.info(\"Error: File exists but is empty.\")\n",
        "        print(\"Error: File exists but is empty.\")\n",
        "    else:\n",
        "        logging.info(\"Error: File not found.\")\n",
        "        print(\"Error: File not found.\")\n"
      ],
      "metadata": {
        "colab": {
          "base_uri": "https://localhost:8080/"
        },
        "id": "AYdeeoapOn0A",
        "outputId": "95f75257-ed5a-4a00-f275-a740acb0b236"
      },
      "execution_count": 3,
      "outputs": [
        {
          "output_type": "stream",
          "name": "stdout",
          "text": [
            "Error: File not found.\n"
          ]
        }
      ]
    }
  ]
}