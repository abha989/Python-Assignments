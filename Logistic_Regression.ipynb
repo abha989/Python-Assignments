{
  "nbformat": 4,
  "nbformat_minor": 0,
  "metadata": {
    "colab": {
      "provenance": [],
      "authorship_tag": "ABX9TyMXkp6hIz3OxkQwJ2fmUJOr",
      "include_colab_link": true
    },
    "kernelspec": {
      "name": "python3",
      "display_name": "Python 3"
    },
    "language_info": {
      "name": "python"
    }
  },
  "cells": [
    {
      "cell_type": "markdown",
      "metadata": {
        "id": "view-in-github",
        "colab_type": "text"
      },
      "source": [
        "<a href=\"https://colab.research.google.com/github/abha989/Python-Assignments/blob/main/Logistic_Regression.ipynb\" target=\"_parent\"><img src=\"https://colab.research.google.com/assets/colab-badge.svg\" alt=\"Open In Colab\"/></a>"
      ]
    },
    {
      "cell_type": "code",
      "execution_count": null,
      "metadata": {
        "id": "HccGyaMMQ5Yh"
      },
      "outputs": [],
      "source": [
        "Q1- What is Logistic Regression, and how does it differ from Linear Regression."
      ]
    },
    {
      "cell_type": "code",
      "source": [
        "'''Logistic regression and linear regression are both used in statistics and machine learning for making predictions, but they differ in how they handle the\n",
        " dependent variable and the type of prediction they make. Linear regression predicts a continuous numerical value, while logistic regression predicts a\n",
        " categorical outcome, typically a binary one"
      ],
      "metadata": {
        "id": "LLutOFjJRFuQ"
      },
      "execution_count": null,
      "outputs": []
    },
    {
      "cell_type": "code",
      "source": [
        "Q2-  What is the mathematical equation of Logistic Regression."
      ],
      "metadata": {
        "id": "no4q9F7sRI1J"
      },
      "execution_count": null,
      "outputs": []
    },
    {
      "cell_type": "code",
      "source": [
        "''' The mathematical equation for logistic regression models the probability of an event occurring given a set of input features.\n",
        "It uses the logistic function (also known as the sigmoid function) to transform a linear combination of input features into a probability between 0 and 1."
      ],
      "metadata": {
        "id": "kXsYHsR3UEyD"
      },
      "execution_count": null,
      "outputs": []
    },
    {
      "cell_type": "code",
      "source": [
        "Q3- Why do we use the Sigmoid function in Logistic Regression."
      ],
      "metadata": {
        "id": "VirQgpCjRLtd"
      },
      "execution_count": null,
      "outputs": []
    },
    {
      "cell_type": "code",
      "source": [
        "''' The sigmoid function is used in logistic regression to convert the linear output of the model into a probability between 0 and 1.\n",
        "This probability represents the likelihood of the input belonging to a specific class, making it suitable for binary classification tasks.\n"
      ],
      "metadata": {
        "id": "ynXYh-vdUKqy"
      },
      "execution_count": null,
      "outputs": []
    },
    {
      "cell_type": "code",
      "source": [
        "Q4- What is the cost function of Logistic Regression."
      ],
      "metadata": {
        "id": "DJ_Om9nBUQWr"
      },
      "execution_count": null,
      "outputs": []
    },
    {
      "cell_type": "code",
      "source": [
        "''' The cost function for logistic regression is typically log-loss, also known as binary cross-entropy, which measures the difference between the predicted\n",
        "probabilities and the actual class labels. It penalizes incorrect predictions more heavily as they deviate from the true labels.\n"
      ],
      "metadata": {
        "id": "g2iVRqFeUTdz"
      },
      "execution_count": null,
      "outputs": []
    },
    {
      "cell_type": "code",
      "source": [
        "Q5- What is Regularization in Logistic Regression? Why is it needed."
      ],
      "metadata": {
        "id": "rVppOiRPUXui"
      },
      "execution_count": null,
      "outputs": []
    },
    {
      "cell_type": "code",
      "source": [
        "''' Regularization in logistic regression is a technique that adds a penalty term to the loss function during model training to prevent overfitting and improve generalization performance. It helps the model learn simpler relationships between the features and the target variable, making it more robust and accurate on unseen data.\n",
        "Why Regularization is Needed:\n",
        "Overfitting:\n",
        "Logistic regression, like other machine learning models, can overfit the training data, meaning it learns the noise and specific details of the training set, leading to poor performance on new, unseen data.\n",
        "High Variance:\n",
        "Overfitting is often associated with high variance, where the model's predictions are highly sensitive to small changes in the training data.\n",
        "Generalization:\n",
        "Regularization helps to reduce the variance and improve the model's ability to generalize to new data by discouraging the model from assigning excessive importance to any single feature.\n",
        "Simpler Models:\n",
        "By penalizing large coefficients, regularization encourages the model to learn simpler relationships, which are less likely to overfit the training data."
      ],
      "metadata": {
        "id": "OR-0TsEwUfRi"
      },
      "execution_count": null,
      "outputs": []
    },
    {
      "cell_type": "code",
      "source": [
        "Q6- Explain the difference between Lasso, Ridge, and Elastic Net regressionC"
      ],
      "metadata": {
        "id": "SFMbrRftUiu3"
      },
      "execution_count": null,
      "outputs": []
    },
    {
      "cell_type": "code",
      "source": [
        "''' Lasso, Ridge, and Elastic Net regressions are all regularization techniques used to prevent overfitting in linear models. Ridge regression uses L2\n",
        "regularization, which penalizes the sum of the squared coefficients, shrinking them towards zero but never eliminating them. Lasso regression uses L1\n",
        "regularization, penalizing the sum of the absolute values of the coefficients, and can set some coefficients exactly to zero, effectively performing feature\n",
        "selection. Elastic Net combines both L1 and L2 penalties, offering a balance between feature selection and coefficient shrinkage."
      ],
      "metadata": {
        "id": "EtEi6v5gUmBS"
      },
      "execution_count": null,
      "outputs": []
    },
    {
      "cell_type": "code",
      "source": [
        "Q7- When should we use Elastic Net instead of Lasso or Ridge."
      ],
      "metadata": {
        "id": "_vaLE-8QUuM9"
      },
      "execution_count": null,
      "outputs": []
    },
    {
      "cell_type": "code",
      "source": [
        "''' Elastic Net should be used when you have many correlated features and you need a balance between feature selection and shrinkage.\n",
        "It's especially useful when you have high-dimensional data and a small number of samples. Unlike Lasso, which can randomly remove one feature from a group of\n",
        "correlated features, Elastic Net can select groups of correlated features.\n"
      ],
      "metadata": {
        "id": "d7OM2KWbUyLJ"
      },
      "execution_count": null,
      "outputs": []
    },
    {
      "cell_type": "code",
      "source": [
        "Q8- What is the impact of the regularization parameter (λ) in Logistic Regression."
      ],
      "metadata": {
        "id": "CGTH6eQlU4PQ"
      },
      "execution_count": null,
      "outputs": []
    },
    {
      "cell_type": "code",
      "source": [
        "''' In Logistic Regression, the regularization parameter (λ) controls the strength of the penalty term, influencing the model's complexity and preventing\n",
        "overfitting. A higher λ value leads to stronger regularization, shrinking coefficients towards zero and creating a simpler model. This helps the model\n",
        "generalize better to new, unseen data."
      ],
      "metadata": {
        "id": "mQ9QwLaPU7oS"
      },
      "execution_count": null,
      "outputs": []
    },
    {
      "cell_type": "code",
      "source": [
        "Q9- What are the key assumptions of Logistic Regression."
      ],
      "metadata": {
        "id": "7VzpZkvZVCp-"
      },
      "execution_count": null,
      "outputs": []
    },
    {
      "cell_type": "code",
      "source": [
        "''' Logistic regression makes several key assumptions to ensure reliable and valid results. These include linearity of the log-odds, independence of\n",
        "observations, absence of multicollinearity, and a large enough sample size. Additionally, the model should not be unduly influenced by outliers, and the outcome\n",
        " variable should be binary or categorical.\n"
      ],
      "metadata": {
        "id": "ZJnAgpeGVFqs"
      },
      "execution_count": null,
      "outputs": []
    },
    {
      "cell_type": "code",
      "source": [
        "Q10- What are some alternatives to Logistic Regression for classification tasks."
      ],
      "metadata": {
        "id": "h4jRrlfhVL6I"
      },
      "execution_count": null,
      "outputs": []
    },
    {
      "cell_type": "code",
      "source": [
        "''' Several algorithms offer alternatives to Logistic Regression for classification tasks, including Support Vector Machines (SVMs), Decision Trees, Random\n",
        "Forests, and Naive Bayes. These methods can be particularly useful when dealing with non-linear relationships or when the dataset is large or complex"
      ],
      "metadata": {
        "id": "PuHoT5xMVOvG"
      },
      "execution_count": null,
      "outputs": []
    },
    {
      "cell_type": "code",
      "source": [
        "Q11- What are Classification Evaluation Metrics."
      ],
      "metadata": {
        "id": "yGiT8S30VVKH"
      },
      "execution_count": null,
      "outputs": []
    },
    {
      "cell_type": "code",
      "source": [
        "''' Classification evaluation metrics are used to assess how well a machine learning model performs in predicting the correct class for a given input.\n",
        "These metrics provide insights into a model's accuracy, precision, recall, and other aspects of its predictive ability. Common metrics include accuracy,\n",
        "precision, recall, F1-score, and area under the receiver operating characteristic curve (AUC-ROC)."
      ],
      "metadata": {
        "id": "58PkTYM3VX1X"
      },
      "execution_count": null,
      "outputs": []
    },
    {
      "cell_type": "code",
      "source": [
        "Q12- C How does class imbalance affect Logistic Regression."
      ],
      "metadata": {
        "id": "RTEfyHjfVdgy"
      },
      "execution_count": null,
      "outputs": []
    },
    {
      "cell_type": "code",
      "source": [
        "''' Class imbalance, where one class has significantly more observations than the other, can negatively impact logistic regression models.\n",
        "This leads to biased parameter estimates, poor performance for the minority class, and reduced generalization ability. Traditional logistic regression may\n",
        "favor the majority class, neglecting the minority class"
      ],
      "metadata": {
        "id": "i5yxKl8IVgfr"
      },
      "execution_count": null,
      "outputs": []
    },
    {
      "cell_type": "code",
      "source": [
        "Q13- What is Hyperparameter Tuning in Logistic Regression."
      ],
      "metadata": {
        "id": "TzDYhmJRVmLN"
      },
      "execution_count": null,
      "outputs": []
    },
    {
      "cell_type": "code",
      "source": [
        "''' Hyperparameter tuning in logistic regression is the process of optimizing the performance of a logistic regression model by adjusting its non-learned\n",
        "parameters, also known as hyperparameters. These parameters are set before training and influence how the model learns from the data.\n"
      ],
      "metadata": {
        "id": "cWtrs8WkVpYN"
      },
      "execution_count": null,
      "outputs": []
    },
    {
      "cell_type": "code",
      "source": [
        "Q14- What are different solvers in Logistic Regression? Which one should be used."
      ],
      "metadata": {
        "id": "wiujyX6SVu91"
      },
      "execution_count": null,
      "outputs": []
    },
    {
      "cell_type": "code",
      "source": [
        "''' In Logistic Regression, different solvers are optimization algorithms used to find the best model parameters. The choice of solver depends on the size and characteristics of your dataset, as well as your specific needs regarding computational efficiency, regularization, and multiclass classification. Here's a breakdown of some common solvers and when to use them:\n",
        "liblinear:\n",
        "This solver is efficient for small datasets, especially when sparse (many zero values). It's also suitable for binary classification problems and supports L1 and L2 regularization. However, it can't handle multiclass problems directly.\n",
        "lbfgs (Limited-memory Broyden–Fletcher–Goldfarb–Shanno):\n",
        "This is a good general-purpose solver, particularly for medium-sized datasets. It's computationally efficient and works well with dense datasets. It supports L2 regularization but not L1.\n",
        "sag (Stochastic Average Gradient):\n",
        "This solver is designed for large datasets. It uses stochastic gradient descent to update the parameters efficiently, making it suitable for large-scale problems. It supports L2 regularization.\n",
        "saga (Stochastic Accelerated Gradient):\n",
        "Similar to SAG, but it's a variant that can handle L1 regularization as well. This makes it a good choice for very large datasets or when L1 regularization is needed.\n",
        "newton-cg (Newton's Method with Conjugate Gradient):\n",
        "This solver computes the full Hessian matrix, which can be computationally expensive for high-dimensional datasets. However, it can be efficient for datasets where the number of samples is much larger than the number of features. It supports L2 regularization.\n",
        "srrg (Stochastic Recursive Regularized Gradient):\n",
        "This solver is similar to SAG and SAGA but uses a different update mechanism. It is also designed for large datasets and can handle L1 and L2 regularization.\n",
        "Which solver to use:\n",
        "For small datasets or sparse data with binary classification: Use liblinear.\n",
        "For medium-sized datasets or general-purpose logistic regression: Use lbfgs.\n",
        "For large datasets: Use sag or saga.\n",
        "For multiclass problems (except liblinear): Any solver except liblinear can be used. However, liblinear can be used with a one-versus-rest strategy.\n",
        "For L1 regularization: Use saga or srrg.\n"
      ],
      "metadata": {
        "id": "xopDRvTWVyWY"
      },
      "execution_count": null,
      "outputs": []
    },
    {
      "cell_type": "code",
      "source": [
        "Q15- How is Logistic Regression extended for multiclass classification."
      ],
      "metadata": {
        "id": "PCt5Oth2V6c7"
      },
      "execution_count": null,
      "outputs": []
    },
    {
      "cell_type": "code",
      "source": [
        "''' Logistic Regression is extended for multiclass classification using techniques like One-vs-Rest (OvR) or One-vs-One. OvR trains a separate binary logistic\n",
        "regression model for each class, treating it against all other classes, while One-vs-One trains a classifier for each pair of classes. One-vs-All is also\n",
        "known as One-vs-Rest and trains one model for each class, predicting the class with the highest probability.\n"
      ],
      "metadata": {
        "id": "xrQfUCW1V-uB"
      },
      "execution_count": null,
      "outputs": []
    },
    {
      "cell_type": "code",
      "source": [
        "Q16- What are the advantages and disadvantages of Logistic Regression."
      ],
      "metadata": {
        "id": "6uQb1gOQWFFZ"
      },
      "execution_count": null,
      "outputs": []
    },
    {
      "cell_type": "code",
      "source": [
        "'''  Advantages\n",
        "\n",
        "1- Easy to implement and interpret yet efficient in training\n",
        "2- The predicted parameters give inference about the importance of each feature\n",
        "3- Performs well on low-dimensional data.\n",
        "4- Very efficient when the dataset has features that are linearly separable.\n",
        "5- Outputs well-calibrated probabilities along with classification results.\n",
        "\n",
        "Disadvantage\n",
        "\n",
        "1- Overfits on high dimensional data\n",
        "2- Non linear problems can't be solved with logistic regression since it has a linear decision surface\n",
        "3- \tAssumes linearity between dependent and independent variables.\n",
        "4- Fails to capture complex relationships.\n",
        "5- Only important and relevant features should be used otherwise model's predictive value will degrade."
      ],
      "metadata": {
        "id": "E-QPiwIBWIZ6"
      },
      "execution_count": null,
      "outputs": []
    },
    {
      "cell_type": "code",
      "source": [
        "Q17- What are some use cases of Logistic Regression."
      ],
      "metadata": {
        "id": "aSEdHkJxWuQG"
      },
      "execution_count": null,
      "outputs": []
    },
    {
      "cell_type": "code",
      "source": [
        "''' Logistic regression, a statistical method used for binary classification, finds applications across various fields like healthcare, finance, marketing, and more. It predicts the probability of an event happening (e.g., yes/no, 1/0) based on input variables.\n",
        "Here are some key use cases of logistic regression:\n",
        "1. Healthcare:\n",
        "Predicting disease risk:\n",
        "Estimating the likelihood of a patient developing a specific disease based on factors like family history, lifestyle, and medical history.\n",
        "Medical diagnosis:\n",
        "Classifying whether a patient has a particular condition based on test results and symptoms.\n",
        "Patient mortality prediction:\n",
        "Assessing the probability of a patient's survival based on their condition and other factors.\n",
        "2. Finance:\n",
        "Fraud detection:\n",
        "Identifying fraudulent transactions based on transaction patterns, user behavior, and other relevant data.\n",
        "Credit risk assessment:\n",
        "Evaluating the probability of a loan applicant defaulting on their loan based on their credit history and other factors.\n",
        "Insurance risk assessment:\n",
        "Predicting the likelihood of an insurance claim based on factors like age, driving history, and location.\n",
        "3. Marketing:\n",
        "Click-through rate prediction:\n",
        "Estimating the probability of a user clicking on an advertisement based on their demographics, browsing history, and other factors.\n",
        "Customer churn prediction:\n",
        "Identifying customers at risk of leaving a business based on their engagement patterns and other behavioral data.\n",
        "Targeted advertising:\n",
        "Identifying which customers are most likely to respond to a specific marketing campaign based on their demographics and online behavior.\n",
        "4. Other Industries:\n",
        "Email spam detection:\n",
        "Identifying spam emails based on keywords, sender information, and other features.\n",
        "Predicting part failure in manufacturing:\n",
        "Estimating the probability of a machine part failing based on its age, usage, and environmental conditions.\n",
        "Disaster management:\n",
        "Predicting the likelihood of certain behaviors during disasters (e.g., evacuation) based on factors like location, socioeconomic status, and disaster type."
      ],
      "metadata": {
        "id": "UJELGDEmWxdT"
      },
      "execution_count": null,
      "outputs": []
    },
    {
      "cell_type": "code",
      "source": [
        "Q18- What is the difference between Softmax Regression and Logistic Regression."
      ],
      "metadata": {
        "id": "U4ZqA80KWxbE"
      },
      "execution_count": null,
      "outputs": []
    },
    {
      "cell_type": "code",
      "source": [
        "''' In logistic regression we assumed that the labels were binary: y(i)∈{0,1} . We used such a classifier to distinguish between two kinds of hand-written digits.\n",
        " Softmax regression allows us to handle y(i)∈{1,…,K} where K is the number of classes."
      ],
      "metadata": {
        "id": "82dWpRUDW-GC"
      },
      "execution_count": null,
      "outputs": []
    },
    {
      "cell_type": "code",
      "source": [
        "Q19- How do we choose between One-vs-Rest (OvR) and Softmax for multiclass classification."
      ],
      "metadata": {
        "id": "XiA_sdwDXE7C"
      },
      "execution_count": null,
      "outputs": []
    },
    {
      "cell_type": "code",
      "source": [
        "''' The choice between One-vs-Rest (OvR) and Softmax for multiclass classification depends on the specific problem and the characteristics of the data.\n",
        "OvR is often preferred for its simplicity and ability to handle large datasets, while Softmax offers a unified approach that can be more effective when class\n",
        "relationships are important.\n"
      ],
      "metadata": {
        "id": "jBXHR8H0XIIg"
      },
      "execution_count": null,
      "outputs": []
    },
    {
      "cell_type": "code",
      "source": [
        "Q20- How do we interpret coefficients in Logistic Regression?"
      ],
      "metadata": {
        "id": "rERTYowEXQas"
      },
      "execution_count": null,
      "outputs": []
    },
    {
      "cell_type": "code",
      "source": [
        "''' In logistic regression, coefficients are interpreted by considering their sign and magnitude, and by exponentiating them to find odds ratios.\n",
        " A positive coefficient means the log-odds of the event increases with a one-unit increase in the predictor variable, while a negative coefficient indicates a\n",
        " decrease. Exponentiating the coefficient (e^coefficient) yields the odds ratio, which represents how much the odds of the event change for a one-unit change in\n",
        "  the predictor.\n"
      ],
      "metadata": {
        "id": "Nh2U1YduXT2I"
      },
      "execution_count": null,
      "outputs": []
    },
    {
      "cell_type": "code",
      "source": [
        "PRACTICAL"
      ],
      "metadata": {
        "id": "1-ofrlU-Xa2v"
      },
      "execution_count": null,
      "outputs": []
    },
    {
      "cell_type": "code",
      "source": [
        "Q1 C Write a Python program that loads a dataset, splits it into training and testing sets, applies Logistic\n",
        "Regression, and prints the model accuracyC"
      ],
      "metadata": {
        "id": "0-fGVrifXcDm"
      },
      "execution_count": null,
      "outputs": []
    },
    {
      "cell_type": "code",
      "source": [
        "from sklearn.datasets import load_iris\n",
        "from sklearn.model_selection import train_test_split\n",
        "from sklearn.linear_model import LogisticRegression\n",
        "from sklearn.metrics import accuracy_score\n",
        "\n",
        "# Step 1: Load dataset\n",
        "data = load_iris()\n",
        "X = data.data\n",
        "y = data.target\n",
        "\n",
        "# Step 2: Split into training and testing sets (80% train, 20% test)\n",
        "X_train, X_test, y_train, y_test = train_test_split(X, y, test_size=0.2, random_state=42)\n",
        "\n",
        "# Step 3: Initialize and train Logistic Regression model\n",
        "model = LogisticRegression(max_iter=200)\n",
        "model.fit(X_train, y_train)\n",
        "\n",
        "# Step 4: Make predictions and calculate accuracy\n",
        "y_pred = model.predict(X_test)\n",
        "accuracy = accuracy_score(y_test, y_pred)\n",
        "\n",
        "# Step 5: Print model accuracy\n",
        "print(f\"Model Accuracy: {accuracy:.2f}\")\n"
      ],
      "metadata": {
        "colab": {
          "base_uri": "https://localhost:8080/"
        },
        "id": "394gPfAbX1dL",
        "outputId": "54ec3604-ab79-4082-b22b-bbe50d1163ee"
      },
      "execution_count": 2,
      "outputs": [
        {
          "output_type": "stream",
          "name": "stdout",
          "text": [
            "Model Accuracy: 1.00\n"
          ]
        }
      ]
    },
    {
      "cell_type": "code",
      "source": [
        "Q2- Write a Python program to apply L1 regularization (Lasso) on a dataset using LogisticRegression(penalty='l1')\n",
        "and print the model accuracyC"
      ],
      "metadata": {
        "id": "BLxJQiGkX4xk"
      },
      "execution_count": null,
      "outputs": []
    },
    {
      "cell_type": "code",
      "source": [
        "from sklearn.datasets import load_iris\n",
        "from sklearn.model_selection import train_test_split\n",
        "from sklearn.linear_model import LogisticRegression\n",
        "from sklearn.metrics import accuracy_score\n",
        "\n",
        "# Step 1: Load dataset\n",
        "data = load_iris()\n",
        "X = data.data\n",
        "y = data.target\n",
        "\n",
        "# Filter for binary classification (since L1 in LogisticRegression works best with binary)\n",
        "X = X[y != 2]\n",
        "y = y[y != 2]\n",
        "\n",
        "# Step 2: Split into training and testing sets\n",
        "X_train, X_test, y_train, y_test = train_test_split(X, y, test_size=0.2, random_state=42)\n",
        "\n",
        "# Step 3: Initialize Logistic Regression with L1 regularization (use solver that supports L1)\n",
        "model = LogisticRegression(penalty='l1', solver='liblinear')\n",
        "\n",
        "# Step 4: Train the model\n",
        "model.fit(X_train, y_train)\n",
        "\n",
        "# Step 5: Predict and evaluate\n",
        "y_pred = model.predict(X_test)\n",
        "accuracy = accuracy_score(y_test, y_pred)\n",
        "\n",
        "# Step 6: Print accuracy\n",
        "print(f\"Model Accuracy with L1 Regularization: {accuracy:.2f}\")\n"
      ],
      "metadata": {
        "colab": {
          "base_uri": "https://localhost:8080/"
        },
        "id": "CT08Ypf6X8qw",
        "outputId": "401af9b8-880a-460a-f511-ac21ebdaea70"
      },
      "execution_count": 1,
      "outputs": [
        {
          "output_type": "stream",
          "name": "stdout",
          "text": [
            "Model Accuracy with L1 Regularization: 1.00\n"
          ]
        }
      ]
    },
    {
      "cell_type": "code",
      "source": [
        "Q3- Write a Python program to train Logistic Regression with L2 regularization (Ridge) using\n",
        "LogisticRegression(penalty='l2'). Print model accuracy and coefficientsC"
      ],
      "metadata": {
        "id": "ladtrTrhYCKh"
      },
      "execution_count": null,
      "outputs": []
    },
    {
      "cell_type": "code",
      "source": [
        "from sklearn.datasets import load_iris\n",
        "from sklearn.model_selection import train_test_split\n",
        "from sklearn.linear_model import LogisticRegression\n",
        "from sklearn.metrics import accuracy_score\n",
        "\n",
        "# Step 1: Load dataset\n",
        "data = load_iris()\n",
        "X = data.data\n",
        "y = data.target\n",
        "\n",
        "# Step 2: Split into training and testing sets\n",
        "X_train, X_test, y_train, y_test = train_test_split(X, y, test_size=0.2, random_state=42)\n",
        "\n",
        "# Step 3: Initialize Logistic Regression with L2 regularization (default)\n",
        "model = LogisticRegression(penalty='l2', solver='lbfgs', multi_class='auto', max_iter=200)\n",
        "\n",
        "# Step 4: Train the model\n",
        "model.fit(X_train, y_train)\n",
        "\n",
        "# Step 5: Predict and evaluate\n",
        "y_pred = model.predict(X_test)\n",
        "accuracy = accuracy_score(y_test, y_pred)\n",
        "\n",
        "# Step 6: Print accuracy and coefficients\n",
        "print(f\"Model Accuracy with L2 Regularization: {accuracy:.2f}\")\n",
        "print(\"Model Coefficients (per class):\")\n",
        "print(model.coef_)\n"
      ],
      "metadata": {
        "colab": {
          "base_uri": "https://localhost:8080/"
        },
        "id": "mv8TLXHdYFfq",
        "outputId": "c95e2c21-4f90-4044-b234-d4992b742335"
      },
      "execution_count": 3,
      "outputs": [
        {
          "output_type": "stream",
          "name": "stdout",
          "text": [
            "Model Accuracy with L2 Regularization: 1.00\n",
            "Model Coefficients (per class):\n",
            "[[-0.39345607  0.96251768 -2.37512436 -0.99874594]\n",
            " [ 0.50843279 -0.25482714 -0.21301129 -0.77574766]\n",
            " [-0.11497673 -0.70769055  2.58813565  1.7744936 ]]\n"
          ]
        },
        {
          "output_type": "stream",
          "name": "stderr",
          "text": [
            "/usr/local/lib/python3.11/dist-packages/sklearn/linear_model/_logistic.py:1247: FutureWarning: 'multi_class' was deprecated in version 1.5 and will be removed in 1.7. From then on, it will always use 'multinomial'. Leave it to its default value to avoid this warning.\n",
            "  warnings.warn(\n"
          ]
        }
      ]
    },
    {
      "cell_type": "code",
      "source": [
        "Q4- Write a Python program to train Logistic Regression with Elastic Net Regularization (penalty='elasticnet')C"
      ],
      "metadata": {
        "id": "9nRobb15YQXE"
      },
      "execution_count": null,
      "outputs": []
    },
    {
      "cell_type": "code",
      "source": [
        "from sklearn.datasets import load_iris\n",
        "from sklearn.model_selection import train_test_split\n",
        "from sklearn.linear_model import LogisticRegression\n",
        "from sklearn.metrics import accuracy_score\n",
        "\n",
        "# Step 1: Load dataset\n",
        "data = load_iris()\n",
        "X = data.data\n",
        "y = data.target\n",
        "\n",
        "# For simplicity, reduce to binary classification (only 2 classes)\n",
        "X = X[y != 2]\n",
        "y = y[y != 2]\n",
        "\n",
        "# Step 2: Split into training and testing sets\n",
        "X_train, X_test, y_train, y_test = train_test_split(X, y, test_size=0.2, random_state=42)\n",
        "\n",
        "# Step 3: Initialize Logistic Regression with Elastic Net Regularization\n",
        "model = LogisticRegression(\n",
        "    penalty='elasticnet',\n",
        "    solver='saga',         # 'saga' is required for elasticnet\n",
        "    l1_ratio=0.5,          # Balance between L1 and L2 (0.5 means equal weight)\n",
        "    max_iter=1000\n",
        ")\n",
        "\n",
        "# Step 4: Train the model\n",
        "model.fit(X_train, y_train)\n",
        "\n",
        "# Step 5: Predict and evaluate\n",
        "y_pred = model.predict(X_test)\n",
        "accuracy = accuracy_score(y_test, y_pred)\n",
        "\n",
        "# Step 6: Output results\n",
        "print(f\"Model Accuracy with Elastic Net Regularization: {accuracy:.2f}\")\n",
        "print(\"Model Coefficients:\")\n",
        "print(model.coef_)\n"
      ],
      "metadata": {
        "colab": {
          "base_uri": "https://localhost:8080/"
        },
        "id": "UXmq2lHlYRS8",
        "outputId": "d610051a-ec72-4bd2-8a80-37dfc4f9fb81"
      },
      "execution_count": 4,
      "outputs": [
        {
          "output_type": "stream",
          "name": "stdout",
          "text": [
            "Model Accuracy with Elastic Net Regularization: 1.00\n",
            "Model Coefficients:\n",
            "[[ 0.         -0.95303044  2.54041252  0.57106192]]\n"
          ]
        },
        {
          "output_type": "stream",
          "name": "stderr",
          "text": [
            "/usr/local/lib/python3.11/dist-packages/sklearn/linear_model/_sag.py:348: ConvergenceWarning: The max_iter was reached which means the coef_ did not converge\n",
            "  warnings.warn(\n"
          ]
        }
      ]
    },
    {
      "cell_type": "code",
      "source": [
        "Q5- Write a Python program to train a Logistic Regression model for multiclass classification using\n",
        "multi_class='ovr"
      ],
      "metadata": {
        "id": "cBb9bFRRYc-N"
      },
      "execution_count": null,
      "outputs": []
    },
    {
      "cell_type": "code",
      "source": [
        "from sklearn.datasets import load_iris\n",
        "from sklearn.model_selection import train_test_split\n",
        "from sklearn.linear_model import LogisticRegression\n",
        "from sklearn.metrics import accuracy_score\n",
        "\n",
        "# Step 1: Load the Iris dataset (3 classes: 0, 1, 2)\n",
        "data = load_iris()\n",
        "X = data.data\n",
        "y = data.target\n",
        "\n",
        "# Step 2: Split the data into training and testing sets\n",
        "X_train, X_test, y_train, y_test = train_test_split(X, y, test_size=0.2, random_state=42)\n",
        "\n",
        "# Step 3: Initialize Logistic Regression with One-vs-Rest (OvR) strategy\n",
        "model = LogisticRegression(multi_class='ovr', solver='lbfgs', max_iter=200)\n",
        "\n",
        "# Step 4: Train the model\n",
        "model.fit(X_train, y_train)\n",
        "\n",
        "# Step 5: Make predictions and evaluate\n",
        "y_pred = model.predict(X_test)\n",
        "accuracy = accuracy_score(y_test, y_pred)\n",
        "\n",
        "# Step 6: Print results\n",
        "print(f\"Model Accuracy (OvR Multiclass): {accuracy:.2f}\")\n",
        "print(\"Model Coefficients (per class):\")\n",
        "print(model.coef_)\n"
      ],
      "metadata": {
        "colab": {
          "base_uri": "https://localhost:8080/"
        },
        "id": "TQcMOmzgYgD_",
        "outputId": "f3d621ad-a3b7-43c7-e0cc-e6a11e7ef355"
      },
      "execution_count": 5,
      "outputs": [
        {
          "output_type": "stream",
          "name": "stdout",
          "text": [
            "Model Accuracy (OvR Multiclass): 0.97\n",
            "Model Coefficients (per class):\n",
            "[[-0.42762216  0.88771927 -2.21471658 -0.91610036]\n",
            " [-0.03387836 -2.0442989   0.54266011 -1.0179372 ]\n",
            " [-0.38904645 -0.62147609  2.7762982   2.09067085]]\n"
          ]
        },
        {
          "output_type": "stream",
          "name": "stderr",
          "text": [
            "/usr/local/lib/python3.11/dist-packages/sklearn/linear_model/_logistic.py:1256: FutureWarning: 'multi_class' was deprecated in version 1.5 and will be removed in 1.7. Use OneVsRestClassifier(LogisticRegression(..)) instead. Leave it to its default value to avoid this warning.\n",
            "  warnings.warn(\n"
          ]
        }
      ]
    },
    {
      "cell_type": "code",
      "source": [
        "Q6- Write a Python program to apply GridSearchCV to tune the hyperparameters (C and penalty) of Logistic\n",
        "Regression. Print the best parameters and accuracyC"
      ],
      "metadata": {
        "id": "xMBZ6sb1YhoN"
      },
      "execution_count": null,
      "outputs": []
    },
    {
      "cell_type": "code",
      "source": [
        "from sklearn.datasets import load_iris\n",
        "from sklearn.model_selection import train_test_split, GridSearchCV\n",
        "from sklearn.linear_model import LogisticRegression\n",
        "from sklearn.metrics import accuracy_score\n",
        "\n",
        "# Step 1: Load dataset\n",
        "data = load_iris()\n",
        "X = data.data\n",
        "y = data.target\n",
        "\n",
        "# For simplicity, convert to binary classification\n",
        "X = X[y != 2]\n",
        "y = y[y != 2]\n",
        "\n",
        "# Step 2: Split dataset\n",
        "X_train, X_test, y_train, y_test = train_test_split(X, y, test_size=0.2, random_state=42)\n",
        "\n",
        "# Step 3: Define parameter grid\n",
        "param_grid = {\n",
        "    'C': [0.01, 0.1, 1, 10, 100],\n",
        "    'penalty': ['l1', 'l2'],\n",
        "    'solver': ['liblinear']  # 'liblinear' supports both l1 and l2 penalties\n",
        "}\n",
        "\n",
        "# Step 4: Setup GridSearchCV\n",
        "grid = GridSearchCV(LogisticRegression(max_iter=1000), param_grid, cv=5, scoring='accuracy')\n",
        "\n",
        "# Step 5: Fit GridSearchCV\n",
        "grid.fit(X_train, y_train)\n",
        "\n",
        "# Step 6: Predict and evaluate on test set\n",
        "best_model = grid.best_estimator_\n",
        "y_pred = best_model.predict(X_test)\n",
        "test_accuracy = accuracy_score(y_test, y_pred)\n",
        "\n",
        "# Step 7: Print best parameters and accuracy\n",
        "print(\"Best Parameters Found by GridSearchCV:\")\n",
        "print(grid.best_params_)\n",
        "print(f\"Test Accuracy with Best Parameters: {test_accuracy:.2f}\")\n"
      ],
      "metadata": {
        "colab": {
          "base_uri": "https://localhost:8080/"
        },
        "id": "YBnNy8MdYk-i",
        "outputId": "43f0308d-de67-432f-cd7c-4e9155efb1cc"
      },
      "execution_count": 6,
      "outputs": [
        {
          "output_type": "stream",
          "name": "stdout",
          "text": [
            "Best Parameters Found by GridSearchCV:\n",
            "{'C': 0.01, 'penalty': 'l2', 'solver': 'liblinear'}\n",
            "Test Accuracy with Best Parameters: 1.00\n"
          ]
        }
      ]
    },
    {
      "cell_type": "code",
      "source": [
        "Q7- Write a Python program to evaluate Logistic Regression using Stratified K-Fold Cross-Validation. Print the\n",
        "average accuracyC"
      ],
      "metadata": {
        "id": "kyt9AqfJYr7-"
      },
      "execution_count": null,
      "outputs": []
    },
    {
      "cell_type": "code",
      "source": [
        "from sklearn.datasets import load_iris\n",
        "from sklearn.model_selection import StratifiedKFold, cross_val_score\n",
        "from sklearn.linear_model import LogisticRegression\n",
        "import numpy as np\n",
        "\n",
        "# Step 1: Load dataset\n",
        "data = load_iris()\n",
        "X = data.data\n",
        "y = data.target\n",
        "\n",
        "# Step 2: Define the model\n",
        "model = LogisticRegression(max_iter=200)\n",
        "\n",
        "# Step 3: Setup Stratified K-Fold cross-validation\n",
        "skf = StratifiedKFold(n_splits=5, shuffle=True, random_state=42)\n",
        "\n",
        "# Step 4: Evaluate model using cross_val_score\n",
        "scores = cross_val_score(model, X, y, cv=skf, scoring='accuracy')\n",
        "\n",
        "# Step 5: Print results\n",
        "print(f\"Accuracy scores for each fold: {scores}\")\n",
        "print(f\"Average Accuracy: {np.mean(scores):.2f}\")\n"
      ],
      "metadata": {
        "colab": {
          "base_uri": "https://localhost:8080/"
        },
        "id": "ivt_bDPxYunF",
        "outputId": "04f125df-7f79-4f90-b36a-fbaedbb90974"
      },
      "execution_count": 7,
      "outputs": [
        {
          "output_type": "stream",
          "name": "stdout",
          "text": [
            "Accuracy scores for each fold: [1.         0.96666667 0.93333333 1.         0.93333333]\n",
            "Average Accuracy: 0.97\n"
          ]
        }
      ]
    },
    {
      "cell_type": "code",
      "source": [
        "Q8- Write a Python program to load a dataset from a CSV file, apply Logistic Regression, and evaluate its\n",
        "accuracy."
      ],
      "metadata": {
        "id": "lMBafQszY0WY"
      },
      "execution_count": null,
      "outputs": []
    },
    {
      "cell_type": "code",
      "source": [
        "import pandas as pd\n",
        "from sklearn.model_selection import train_test_split\n",
        "from sklearn.linear_model import LogisticRegression\n",
        "from sklearn.metrics import accuracy_score\n",
        "import os # Import the os module\n",
        "\n",
        "# Step 1: Load dataset from CSV\n",
        "# Replace 'your_file.csv' with the actual path to your CSV file\n",
        "# If you don't have a CSV, you can create a dummy one for demonstration or skip this cell.\n",
        "\n",
        "# --- Suggested Change: Create a dummy CSV if it doesn't exist for demonstration ---\n",
        "csv_file_path = 'your_file.csv'\n",
        "\n",
        "if not os.path.exists(csv_file_path):\n",
        "    print(f\"Creating a dummy CSV file at: {csv_file_path}\")\n",
        "    # Create a simple DataFrame with some data\n",
        "    dummy_data = {\n",
        "        'feature1': [1, 2, 3, 4, 5, 6, 7, 8, 9, 10],\n",
        "        'feature2': [0.1, 0.2, 0.3, 0.4, 0.5, 0.6, 0.7, 0.8, 0.9, 1.0],\n",
        "        'target': [0, 0, 0, 0, 1, 1, 1, 1, 1, 1] # Binary target\n",
        "    }\n",
        "    dummy_df = pd.DataFrame(dummy_data)\n",
        "    dummy_df.to_csv(csv_file_path, index=False)\n",
        "    print(\"Dummy CSV created.\")\n",
        "# --- End of Suggested Change ---\n",
        "\n",
        "\n",
        "try:\n",
        "    data = pd.read_csv(csv_file_path)\n",
        "    print(f\"Successfully loaded data from {csv_file_path}\")\n",
        "\n",
        "    # Step 2: Separate features and target\n",
        "    # Replace 'target' with the actual name of your target column\n",
        "    # Ensure the column names exist in your CSV\n",
        "    if 'target' in data.columns:\n",
        "        X = data.drop('target', axis=1)\n",
        "        y = data['target']\n",
        "\n",
        "        # Check if there are enough samples and features\n",
        "        if X.shape[0] > 1 and X.shape[1] > 0 and y.nunique() > 1:\n",
        "\n",
        "            # Step 3: Split into training and testing sets\n",
        "            X_train, X_test, y_train, y_test = train_test_split(X, y, test_size=0.2, random_state=42)\n",
        "\n",
        "            # Step 4: Train Logistic Regression model\n",
        "            # Adjust max_iter if convergence warning occurs\n",
        "            model = LogisticRegression(max_iter=1000)\n",
        "            model.fit(X_train, y_train)\n",
        "\n",
        "            # Step 5: Predict and evaluate\n",
        "            y_pred = model.predict(X_test)\n",
        "            accuracy = accuracy_score(y_test, y_pred)\n",
        "\n",
        "            # Step 6: Print accuracy\n",
        "            print(f\"Logistic Regression Accuracy: {accuracy:.2f}\")\n",
        "        else:\n",
        "            print(\"Dataset is too small or does not have enough distinct classes for meaningful training.\")\n",
        "\n",
        "    else:\n",
        "        print(\"Error: 'target' column not found in the CSV file. Please check the column names.\")\n",
        "\n",
        "except FileNotFoundError:\n",
        "    print(f\"Error: The file '{csv_file_path}' was not found.\")\n",
        "except Exception as e:\n",
        "    print(f\"An error occurred: {e}\")"
      ],
      "metadata": {
        "colab": {
          "base_uri": "https://localhost:8080/"
        },
        "id": "NNcoWP4bZC8g",
        "outputId": "2265e217-a2e6-4e6f-bf70-aa112616386c"
      },
      "execution_count": 9,
      "outputs": [
        {
          "output_type": "stream",
          "name": "stdout",
          "text": [
            "Creating a dummy CSV file at: your_file.csv\n",
            "Dummy CSV created.\n",
            "Successfully loaded data from your_file.csv\n",
            "Logistic Regression Accuracy: 1.00\n"
          ]
        }
      ]
    },
    {
      "cell_type": "code",
      "source": [
        "Q9- Write a Python program to apply RandomizedSearchCV for tuning hyperparameters (C, penalty, solver) in\n",
        "Logistic Regression. Print the best parameters and accuracyM"
      ],
      "metadata": {
        "id": "RSv0VQc0ZEnt"
      },
      "execution_count": null,
      "outputs": []
    },
    {
      "cell_type": "code",
      "source": [
        "import pandas as pd\n",
        "import numpy as np\n",
        "from sklearn.datasets import load_iris\n",
        "from sklearn.model_selection import train_test_split, RandomizedSearchCV\n",
        "from sklearn.linear_model import LogisticRegression\n",
        "from sklearn.metrics import accuracy_score\n",
        "from scipy.stats import loguniform\n",
        "\n",
        "# Step 1: Load dataset (you can replace this with pd.read_csv('your_file.csv'))\n",
        "data = load_iris()\n",
        "X = data.data\n",
        "y = data.target\n",
        "\n",
        "# Step 2: Split into training and testing sets\n",
        "X_train, X_test, y_train, y_test = train_test_split(X, y, test_size=0.2, random_state=42)\n",
        "\n",
        "# Step 3: Define the parameter distribution\n",
        "param_dist = {\n",
        "    'C': loguniform(0.001, 100),  # Continuous range for C\n",
        "    'penalty': ['l1', 'l2'],\n",
        "    'solver': ['liblinear', 'saga']  # These solvers support both l1 and l2\n",
        "}\n",
        "\n",
        "# Step 4: Initialize Logistic Regression\n",
        "model = LogisticRegression(max_iter=1000)\n",
        "\n",
        "# Step 5: Setup RandomizedSearchCV\n",
        "random_search = RandomizedSearchCV(\n",
        "    model,\n",
        "    param_distributions=param_dist,\n",
        "    n_iter=20,\n",
        "    scoring='accuracy',\n",
        "    cv=5,\n",
        "    random_state=42,\n",
        "    n_jobs=-1\n",
        ")\n",
        "\n",
        "# Step 6: Fit on training data\n",
        "random_search.fit(X_train, y_train)\n",
        "\n",
        "# Step 7: Evaluate on test set\n",
        "best_model = random_search.best_estimator_\n",
        "y_pred = best_model.predict(X_test)\n",
        "accuracy = accuracy_score(y_test, y_pred)\n",
        "\n",
        "# Step 8: Print results\n",
        "print(\"Best Parameters Found by RandomizedSearchCV:\")\n",
        "print(random_search.best_params_)\n",
        "print(f\"Test Accuracy with Best Parameters: {accuracy:.2f}\")\n"
      ],
      "metadata": {
        "colab": {
          "base_uri": "https://localhost:8080/"
        },
        "id": "6uXy38PaZJwY",
        "outputId": "0f7b2a2c-97d6-43ce-8d60-072756d16cef"
      },
      "execution_count": 10,
      "outputs": [
        {
          "output_type": "stream",
          "name": "stdout",
          "text": [
            "Best Parameters Found by RandomizedSearchCV:\n",
            "{'C': np.float64(14.528246637516036), 'penalty': 'l2', 'solver': 'saga'}\n",
            "Test Accuracy with Best Parameters: 1.00\n"
          ]
        }
      ]
    },
    {
      "cell_type": "code",
      "source": [
        "Q10- Write a Python program to implement One-vs-One (OvO) Multiclass Logistic Regression and print accuracy"
      ],
      "metadata": {
        "id": "JmsI7wOEZQv4"
      },
      "execution_count": null,
      "outputs": []
    },
    {
      "cell_type": "code",
      "source": [
        "from sklearn.datasets import load_iris\n",
        "from sklearn.linear_model import LogisticRegression\n",
        "from sklearn.multiclass import OneVsOneClassifier\n",
        "from sklearn.model_selection import train_test_split\n",
        "from sklearn.metrics import accuracy_score\n",
        "\n",
        "# Step 1: Load dataset\n",
        "data = load_iris()\n",
        "X = data.data\n",
        "y = data.target\n",
        "\n",
        "# Step 2: Split into training and testing sets\n",
        "X_train, X_test, y_train, y_test = train_test_split(X, y, test_size=0.2, random_state=42)\n",
        "\n",
        "# Step 3: Initialize One-vs-One classifier with Logistic Regression\n",
        "model = OneVsOneClassifier(LogisticRegression(max_iter=200))\n",
        "\n",
        "# Step 4: Train the model\n",
        "model.fit(X_train, y_train)\n",
        "\n",
        "# Step 5: Predict and evaluate\n",
        "y_pred = model.predict(X_test)\n",
        "accuracy = accuracy_score(y_test, y_pred)\n",
        "\n",
        "# Step 6: Print accuracy\n",
        "print(f\"One-vs-One Logistic Regression Accuracy: {accuracy:.2f}\")\n"
      ],
      "metadata": {
        "colab": {
          "base_uri": "https://localhost:8080/"
        },
        "id": "x_FKIFSsZT-m",
        "outputId": "6b85c90a-dc2b-42c0-cb80-cc6c1480c3cb"
      },
      "execution_count": 11,
      "outputs": [
        {
          "output_type": "stream",
          "name": "stdout",
          "text": [
            "One-vs-One Logistic Regression Accuracy: 1.00\n"
          ]
        }
      ]
    },
    {
      "cell_type": "code",
      "source": [
        "Q11- Write a Python program to train a Logistic Regression model and visualize the confusion matrix for binary\n",
        "classificationM"
      ],
      "metadata": {
        "id": "bLycyCH_ZZuy"
      },
      "execution_count": null,
      "outputs": []
    },
    {
      "cell_type": "code",
      "source": [
        "import matplotlib.pyplot as plt\n",
        "import seaborn as sns\n",
        "from sklearn.datasets import load_breast_cancer\n",
        "from sklearn.linear_model import LogisticRegression\n",
        "from sklearn.model_selection import train_test_split\n",
        "from sklearn.metrics import confusion_matrix, accuracy_score\n",
        "\n",
        "# Step 1: Load binary classification dataset\n",
        "data = load_breast_cancer()\n",
        "X = data.data\n",
        "y = data.target\n",
        "\n",
        "# Step 2: Split into train/test sets\n",
        "X_train, X_test, y_train, y_test = train_test_split(X, y, test_size=0.2, random_state=42)\n",
        "\n",
        "# Step 3: Train Logistic Regression model\n",
        "model = LogisticRegression(max_iter=1000)\n",
        "model.fit(X_train, y_train)\n",
        "\n",
        "# Step 4: Predict on test set\n",
        "y_pred = model.predict(X_test)\n",
        "\n",
        "# Step 5: Compute accuracy\n",
        "accuracy = accuracy_score(y_test, y_pred)\n",
        "print(f\"Model Accuracy: {accuracy:.2f}\")\n",
        "\n",
        "# Step 6: Compute confusion matrix\n",
        "cm = confusion_matrix(y_test, y_pred)\n",
        "\n",
        "# Step 7: Visualize confusion matrix\n",
        "plt.figure(figsize=(6,4))\n",
        "sns.heatmap(cm, annot=True, fmt='d', cmap='Blues', xticklabels=data.target_names, yticklabels=data.target_names)\n",
        "plt.xlabel('Predicted Label')\n",
        "plt.ylabel('True Label')\n",
        "plt.title('Confusion Matrix - Logistic Regression')\n",
        "plt.show()\n"
      ],
      "metadata": {
        "colab": {
          "base_uri": "https://localhost:8080/",
          "height": 571
        },
        "id": "E9FIk0m0ZdUA",
        "outputId": "3df311b2-5bfc-4897-b5bc-91fab9adec68"
      },
      "execution_count": 12,
      "outputs": [
        {
          "output_type": "stream",
          "name": "stderr",
          "text": [
            "/usr/local/lib/python3.11/dist-packages/sklearn/linear_model/_logistic.py:465: ConvergenceWarning: lbfgs failed to converge (status=1):\n",
            "STOP: TOTAL NO. OF ITERATIONS REACHED LIMIT.\n",
            "\n",
            "Increase the number of iterations (max_iter) or scale the data as shown in:\n",
            "    https://scikit-learn.org/stable/modules/preprocessing.html\n",
            "Please also refer to the documentation for alternative solver options:\n",
            "    https://scikit-learn.org/stable/modules/linear_model.html#logistic-regression\n",
            "  n_iter_i = _check_optimize_result(\n"
          ]
        },
        {
          "output_type": "stream",
          "name": "stdout",
          "text": [
            "Model Accuracy: 0.96\n"
          ]
        },
        {
          "output_type": "display_data",
          "data": {
            "text/plain": [
              "<Figure size 600x400 with 2 Axes>"
            ],
            "image/png": "[encoded data removed]"
          },
          "metadata": {}
        }
      ]
    },
    {
      "cell_type": "code",
      "source": [
        "Q12- Write a Python program to train a Logistic Regression model and evaluate its performance using Precision,\n",
        "Recall, and F1-ScoreM"
      ],
      "metadata": {
        "id": "17G3VD1dZidt"
      },
      "execution_count": null,
      "outputs": []
    },
    {
      "cell_type": "code",
      "source": [
        "from sklearn.datasets import load_breast_cancer\n",
        "from sklearn.linear_model import LogisticRegression\n",
        "from sklearn.model_selection import train_test_split\n",
        "from sklearn.metrics import precision_score, recall_score, f1_score\n",
        "\n",
        "# Step 1: Load binary classification dataset\n",
        "data = load_breast_cancer()\n",
        "X = data.data\n",
        "y = data.target\n",
        "\n",
        "# Step 2: Split into training and testing sets\n",
        "X_train, X_test, y_train, y_test = train_test_split(X, y, test_size=0.2, random_state=42)\n",
        "\n",
        "# Step 3: Train Logistic Regression model\n",
        "model = LogisticRegression(max_iter=1000)\n",
        "model.fit(X_train, y_train)\n",
        "\n",
        "# Step 4: Predict on test set\n",
        "y_pred = model.predict(X_test)\n",
        "\n",
        "# Step 5: Calculate evaluation metrics\n",
        "precision = precision_score(y_test, y_pred)\n",
        "recall = recall_score(y_test, y_pred)\n",
        "f1 = f1_score(y_test, y_pred)\n",
        "\n",
        "# Step 6: Print the results\n",
        "print(f\"Precision: {precision:.2f}\")\n",
        "print(f\"Recall:    {recall:.2f}\")\n",
        "print(f\"F1-Score:  {f1:.2f}\")\n"
      ],
      "metadata": {
        "id": "Xjgt3IqpZmOe"
      },
      "execution_count": null,
      "outputs": []
    },
    {
      "cell_type": "code",
      "source": [
        "Q13- Write a Python program to train a Logistic Regression model on imbalanced data and apply class weights to\n",
        "improve model performanceM"
      ],
      "metadata": {
        "id": "bw64t0SmZrxN"
      },
      "execution_count": null,
      "outputs": []
    },
    {
      "cell_type": "code",
      "source": [
        "from sklearn.datasets import make_classification\n",
        "from sklearn.linear_model import LogisticRegression\n",
        "from sklearn.model_selection import train_test_split\n",
        "from sklearn.metrics import classification_report\n",
        "from collections import Counter\n",
        "\n",
        "# Step 1: Generate imbalanced dataset\n",
        "X, y = make_classification(\n",
        "    n_samples=1000,\n",
        "    n_features=20,\n",
        "    n_classes=2,\n",
        "    weights=[0.9, 0.1],  # 90% of class 0, 10% of class 1\n",
        "    flip_y=0,\n",
        "    random_state=42\n",
        ")\n",
        "\n",
        "print(f\"Original class distribution: {Counter(y)}\")\n",
        "\n",
        "# Step 2: Split into training and testing sets\n",
        "X_train, X_test, y_train, y_test = train_test_split(X, y, test_size=0.2, random_state=42)\n",
        "\n",
        "# Step 3: Train Logistic Regression without class weights\n",
        "model_no_weights = LogisticRegression(max_iter=1000)\n",
        "model_no_weights.fit(X_train, y_train)\n",
        "y_pred_no_weights = model_no_weights.predict(X_test)\n",
        "\n",
        "print(\"\\nWithout class weights:\")\n",
        "print(classification_report(y_test, y_pred_no_weights))\n",
        "\n",
        "# Step 4: Train Logistic Regression with class weights ('balanced')\n",
        "model_weights = LogisticRegression(class_weight='balanced', max_iter=1000)\n",
        "model_weights.fit(X_train, y_train)\n",
        "y_pred_weights = model_weights.predict(X_test)\n",
        "\n",
        "print(\"\\nWith class weights (balanced):\")\n",
        "print(classification_report(y_test, y_pred_weights))\n"
      ],
      "metadata": {
        "colab": {
          "base_uri": "https://localhost:8080/"
        },
        "id": "janeJWjWZvMb",
        "outputId": "3e50af2f-47d7-4524-b1d6-773b375d2487"
      },
      "execution_count": 14,
      "outputs": [
        {
          "output_type": "stream",
          "name": "stdout",
          "text": [
            "Original class distribution: Counter({np.int64(0): 900, np.int64(1): 100})\n",
            "\n",
            "Without class weights:\n",
            "              precision    recall  f1-score   support\n",
            "\n",
            "           0       0.95      0.97      0.96       185\n",
            "           1       0.50      0.40      0.44        15\n",
            "\n",
            "    accuracy                           0.93       200\n",
            "   macro avg       0.73      0.68      0.70       200\n",
            "weighted avg       0.92      0.93      0.92       200\n",
            "\n",
            "\n",
            "With class weights (balanced):\n",
            "              precision    recall  f1-score   support\n",
            "\n",
            "           0       0.97      0.84      0.90       185\n",
            "           1       0.25      0.67      0.36        15\n",
            "\n",
            "    accuracy                           0.82       200\n",
            "   macro avg       0.61      0.75      0.63       200\n",
            "weighted avg       0.91      0.82      0.86       200\n",
            "\n"
          ]
        }
      ]
    },
    {
      "cell_type": "code",
      "source": [
        "Q14- Write a Python program to train Logistic Regression on the Titanic dataset, handle missing values, and\n",
        "evaluate performanceM"
      ],
      "metadata": {
        "id": "CJKeM6NgZ0-y"
      },
      "execution_count": null,
      "outputs": []
    },
    {
      "cell_type": "code",
      "source": [
        "import pandas as pd\n",
        "from sklearn.model_selection import train_test_split\n",
        "from sklearn.linear_model import LogisticRegression\n",
        "from sklearn.metrics import accuracy_score, classification_report\n",
        "from sklearn.preprocessing import OneHotEncoder\n",
        "from sklearn.impute import SimpleImputer\n",
        "from sklearn.compose import ColumnTransformer\n",
        "from sklearn.pipeline import Pipeline\n",
        "\n",
        "# Step 1: Load Titanic dataset\n",
        "# If you don't have the file, you can download from https://raw.githubusercontent.com/datasciencedojo/datasets/master/titanic.csv\n",
        "titanic_url = \"https://raw.githubusercontent.com/datasciencedojo/datasets/master/titanic.csv\"\n",
        "df = pd.read_csv(titanic_url)\n",
        "\n",
        "# Step 2: Select features and target\n",
        "features = ['Pclass', 'Sex', 'Age', 'SibSp', 'Parch', 'Fare', 'Embarked']\n",
        "target = 'Survived'\n",
        "X = df[features]\n",
        "y = df[target]\n",
        "\n",
        "# Step 3: Define preprocessing for numeric and categorical features\n",
        "numeric_features = ['Pclass', 'Age', 'SibSp', 'Parch', 'Fare']\n",
        "categorical_features = ['Sex', 'Embarked']\n",
        "\n",
        "numeric_transformer = SimpleImputer(strategy='median')\n",
        "categorical_transformer = Pipeline(steps=[\n",
        "    ('imputer', SimpleImputer(strategy='most_frequent')),\n",
        "    ('onehot', OneHotEncoder(handle_unknown='ignore'))\n",
        "])\n",
        "\n",
        "preprocessor = ColumnTransformer(\n",
        "    transformers=[\n",
        "        ('num', numeric_transformer, numeric_features),\n",
        "        ('cat', categorical_transformer, categorical_features)\n",
        "    ])\n",
        "\n",
        "# Step 4: Create pipeline with preprocessing and logistic regression\n",
        "model = Pipeline(steps=[\n",
        "    ('preprocessor', preprocessor),\n",
        "    ('classifier', LogisticRegression(max_iter=1000))\n",
        "])\n",
        "\n",
        "# Step 5: Split dataset\n",
        "X_train, X_test, y_train, y_test = train_test_split(X, y, test_size=0.2, random_state=42)\n",
        "\n",
        "# Step 6: Train model\n",
        "model.fit(X_train, y_train)\n",
        "\n",
        "# Step 7: Predict and evaluate\n",
        "y_pred = model.predict(X_test)\n",
        "accuracy = accuracy_score(y_test, y_pred)\n",
        "\n",
        "print(f\"Accuracy: {accuracy:.2f}\")\n",
        "print(\"\\nClassification Report:\")\n",
        "print(classification_report(y_test, y_pred))\n"
      ],
      "metadata": {
        "colab": {
          "base_uri": "https://localhost:8080/"
        },
        "id": "DoRJpCl-Z5pP",
        "outputId": "6e3c3d3f-9e50-4163-9077-40456a491529"
      },
      "execution_count": 15,
      "outputs": [
        {
          "output_type": "stream",
          "name": "stdout",
          "text": [
            "Accuracy: 0.81\n",
            "\n",
            "Classification Report:\n",
            "              precision    recall  f1-score   support\n",
            "\n",
            "           0       0.83      0.86      0.84       105\n",
            "           1       0.79      0.74      0.76        74\n",
            "\n",
            "    accuracy                           0.81       179\n",
            "   macro avg       0.81      0.80      0.80       179\n",
            "weighted avg       0.81      0.81      0.81       179\n",
            "\n"
          ]
        }
      ]
    },
    {
      "cell_type": "code",
      "source": [
        "Q 15- Write a Python program to apply feature scaling (Standardization) before training a Logistic Regression\n",
        "model. Evaluate its accuracy and compare results with and without scaling"
      ],
      "metadata": {
        "id": "nzofOGM4aBOY"
      },
      "execution_count": null,
      "outputs": []
    },
    {
      "cell_type": "code",
      "source": [
        "from sklearn.datasets import load_breast_cancer\n",
        "from sklearn.linear_model import LogisticRegression\n",
        "from sklearn.model_selection import train_test_split\n",
        "from sklearn.preprocessing import StandardScaler\n",
        "from sklearn.metrics import accuracy_score\n",
        "\n",
        "# Load dataset\n",
        "data = load_breast_cancer()\n",
        "X = data.data\n",
        "y = data.target\n",
        "\n",
        "# Split into train/test sets\n",
        "X_train, X_test, y_train, y_test = train_test_split(X, y, test_size=0.2, random_state=42)\n",
        "\n",
        "# 1. Logistic Regression WITHOUT scaling\n",
        "model_no_scaling = LogisticRegression(max_iter=1000)\n",
        "model_no_scaling.fit(X_train, y_train)\n",
        "y_pred_no_scaling = model_no_scaling.predict(X_test)\n",
        "accuracy_no_scaling = accuracy_score(y_test, y_pred_no_scaling)\n",
        "\n",
        "# 2. Logistic Regression WITH StandardScaler\n",
        "scaler = StandardScaler()\n",
        "X_train_scaled = scaler.fit_transform(X_train)\n",
        "X_test_scaled = scaler.transform(X_test)\n",
        "\n",
        "model_scaling = LogisticRegression(max_iter=1000)\n",
        "model_scaling.fit(X_train_scaled, y_train)\n",
        "y_pred_scaling = model_scaling.predict(X_test_scaled)\n",
        "accuracy_scaling = accuracy_score(y_test, y_pred_scaling)\n",
        "\n",
        "print(f\"Accuracy WITHOUT scaling: {accuracy_no_scaling:.2f}\")\n",
        "print(f\"Accuracy WITH scaling:    {accuracy_scaling:.2f}\")\n"
      ],
      "metadata": {
        "id": "nurl346waDnL"
      },
      "execution_count": null,
      "outputs": []
    },
    {
      "cell_type": "code",
      "source": [
        "Q16- Write a Python program to train Logistic Regression and evaluate its performance using ROC-AUC scoreM"
      ],
      "metadata": {
        "id": "zZqN2nDWaKjA"
      },
      "execution_count": null,
      "outputs": []
    },
    {
      "cell_type": "code",
      "source": [
        "from sklearn.datasets import load_breast_cancer\n",
        "from sklearn.linear_model import LogisticRegression\n",
        "from sklearn.model_selection import train_test_split\n",
        "from sklearn.metrics import roc_auc_score\n",
        "\n",
        "# Step 1: Load dataset\n",
        "data = load_breast_cancer()\n",
        "X = data.data\n",
        "y = data.target\n",
        "\n",
        "# Step 2: Split into train/test sets\n",
        "X_train, X_test, y_train, y_test = train_test_split(X, y, test_size=0.2, random_state=42)\n",
        "\n",
        "# Step 3: Train Logistic Regression\n",
        "model = LogisticRegression(max_iter=1000)\n",
        "model.fit(X_train, y_train)\n",
        "\n",
        "# Step 4: Predict probabilities for positive class\n",
        "y_probs = model.predict_proba(X_test)[:, 1]\n",
        "\n",
        "# Step 5: Calculate ROC-AUC score\n",
        "roc_auc = roc_auc_score(y_test, y_probs)\n",
        "\n",
        "print(f\"ROC-AUC Score: {roc_auc:.3f}\")\n"
      ],
      "metadata": {
        "id": "tm5HBvnGaMZ1"
      },
      "execution_count": null,
      "outputs": []
    },
    {
      "cell_type": "code",
      "source": [
        "Q17- Write a Python program to train Logistic Regression using a custom learning rate (C=0.5) and evaluate\n",
        "accuracyM"
      ],
      "metadata": {
        "id": "hGnV6MbuaRq7"
      },
      "execution_count": null,
      "outputs": []
    },
    {
      "cell_type": "code",
      "source": [
        "from sklearn.datasets import load_breast_cancer\n",
        "from sklearn.linear_model import LogisticRegression\n",
        "from sklearn.model_selection import train_test_split\n",
        "from sklearn.metrics import accuracy_score\n",
        "\n",
        "# Load dataset\n",
        "data = load_breast_cancer()\n",
        "X = data.data\n",
        "y = data.target\n",
        "\n",
        "# Split data into train and test sets\n",
        "X_train, X_test, y_train, y_test = train_test_split(X, y, test_size=0.2, random_state=42)\n",
        "\n",
        "# Train Logistic Regression with custom C (regularization strength)\n",
        "model = LogisticRegression(C=0.5, max_iter=1000)\n",
        "model.fit(X_train, y_train)\n",
        "\n",
        "# Predict and evaluate accuracy\n",
        "y_pred = model.predict(X_test)\n",
        "accuracy = accuracy_score(y_test, y_pred)\n",
        "\n",
        "print(f\"Accuracy with C=0.5: {accuracy:.2f}\")\n"
      ],
      "metadata": {
        "id": "razo_gNtaYT3"
      },
      "execution_count": null,
      "outputs": []
    },
    {
      "cell_type": "code",
      "source": [
        "Q18- Write a Python program to train Logistic Regression and identify important features based on model\n",
        "coefficientsM"
      ],
      "metadata": {
        "id": "ncWtwNt1agUQ"
      },
      "execution_count": null,
      "outputs": []
    },
    {
      "cell_type": "code",
      "source": [
        "import numpy as np\n",
        "import pandas as pd\n",
        "from sklearn.datasets import load_breast_cancer\n",
        "from sklearn.linear_model import LogisticRegression\n",
        "from sklearn.model_selection import train_test_split\n",
        "\n",
        "# Load dataset\n",
        "data = load_breast_cancer()\n",
        "X = data.data\n",
        "y = data.target\n",
        "feature_names = data.feature_names\n",
        "\n",
        "# Split data\n",
        "X_train, X_test, y_train, y_test = train_test_split(X, y, test_size=0.2, random_state=42)\n",
        "\n",
        "# Train Logistic Regression\n",
        "model = LogisticRegression(max_iter=1000)\n",
        "model.fit(X_train, y_train)\n",
        "\n",
        "# Get coefficients\n",
        "coefficients = model.coef_[0]\n",
        "\n",
        "# Create a DataFrame of features and their coefficients\n",
        "feature_importance = pd.DataFrame({\n",
        "    'Feature': feature_names,\n",
        "    'Coefficient': coefficients,\n",
        "    'Absolute Coefficient': np.abs(coefficients)\n",
        "})\n",
        "\n",
        "# Sort by absolute coefficient descending\n",
        "feature_importance = feature_importance.sort_values(by='Absolute Coefficient', ascending=False)\n",
        "\n",
        "print(\"Feature importance based on model coefficients:\")\n",
        "print(feature_importance[['Feature', 'Coefficient']])\n"
      ],
      "metadata": {
        "id": "R40SClzpajOk"
      },
      "execution_count": null,
      "outputs": []
    },
    {
      "cell_type": "code",
      "source": [
        "Q19- Write a Python program to train Logistic Regression and evaluate its performance using Cohen’s Kappa\n",
        "ScoreM"
      ],
      "metadata": {
        "id": "B0mn-0wnamVL"
      },
      "execution_count": null,
      "outputs": []
    },
    {
      "cell_type": "code",
      "source": [
        "from sklearn.datasets import load_breast_cancer\n",
        "from sklearn.linear_model import LogisticRegression\n",
        "from sklearn.model_selection import train_test_split\n",
        "from sklearn.metrics import cohen_kappa_score\n",
        "\n",
        "# Load dataset\n",
        "data = load_breast_cancer()\n",
        "X = data.data\n",
        "y = data.target\n",
        "\n",
        "# Split data into train and test sets\n",
        "X_train, X_test, y_train, y_test = train_test_split(X, y, test_size=0.2, random_state=42)\n",
        "\n",
        "# Train Logistic Regression\n",
        "model = LogisticRegression(max_iter=1000)\n",
        "model.fit(X_train, y_train)\n",
        "\n",
        "# Predict on test set\n",
        "y_pred = model.predict(X_test)\n",
        "\n",
        "# Calculate Cohen's Kappa Score\n",
        "kappa = cohen_kappa_score(y_test, y_pred)\n",
        "\n",
        "print(f\"Cohen's Kappa Score: {kappa:.3f}\")\n"
      ],
      "metadata": {
        "id": "Wk2puYcRaqTw"
      },
      "execution_count": null,
      "outputs": []
    },
    {
      "cell_type": "code",
      "source": [
        "Q20- Write a Python program to train Logistic Regression and visualize the Precision-Recall Curve for binary\n",
        "classificatio:"
      ],
      "metadata": {
        "id": "fWwFQwrpau9w"
      },
      "execution_count": null,
      "outputs": []
    },
    {
      "cell_type": "code",
      "source": [
        "import matplotlib.pyplot as plt\n",
        "from sklearn.datasets import load_breast_cancer\n",
        "from sklearn.linear_model import LogisticRegression\n",
        "from sklearn.model_selection import train_test_split\n",
        "from sklearn.metrics import precision_recall_curve, average_precision_score\n",
        "\n",
        "# Load dataset\n",
        "data = load_breast_cancer()\n",
        "X = data.data\n",
        "y = data.target\n",
        "\n",
        "# Split into train/test sets\n",
        "X_train, X_test, y_train, y_test = train_test_split(X, y, test_size=0.2, random_state=42)\n",
        "\n",
        "# Train Logistic Regression\n",
        "model = LogisticRegression(max_iter=1000)\n",
        "model.fit(X_train, y_train)\n",
        "\n",
        "# Predict probabilities for the positive class\n",
        "y_scores = model.predict_proba(X_test)[:, 1]\n",
        "\n",
        "# Compute precision-recall curve\n",
        "precision, recall, thresholds = precision_recall_curve(y_test, y_scores)\n",
        "\n",
        "# Compute average precision score\n",
        "avg_precision = average_precision_score(y_test, y_scores)\n",
        "\n",
        "# Plot Precision-Recall curve\n",
        "plt.figure(figsize=(8, 6))\n",
        "plt.plot(recall, precision, label=f'Logistic Regression (AP = {avg_precision:.2f})')\n",
        "plt.xlabel('Recall')\n",
        "plt.ylabel('Precision')\n",
        "plt.title('Precision-Recall Curve')\n",
        "plt.legend()\n",
        "plt.grid(True)\n",
        "plt.show()\n"
      ],
      "metadata": {
        "id": "E72Z58Ata0vW"
      },
      "execution_count": null,
      "outputs": []
    },
    {
      "cell_type": "code",
      "source": [
        "Q 21- Write a Python program to train Logistic Regression with different solvers (liblinear, saga, lbfgs) and compare\n",
        "their accuracyM"
      ],
      "metadata": {
        "id": "J42zZbADa3kh"
      },
      "execution_count": null,
      "outputs": []
    },
    {
      "cell_type": "code",
      "source": [
        "from sklearn.datasets import load_breast_cancer\n",
        "from sklearn.linear_model import LogisticRegression\n",
        "from sklearn.model_selection import train_test_split\n",
        "from sklearn.metrics import accuracy_score\n",
        "\n",
        "# Load dataset\n",
        "data = load_breast_cancer()\n",
        "X = data.data\n",
        "y = data.target\n",
        "\n",
        "# Split into train/test sets\n",
        "X_train, X_test, y_train, y_test = train_test_split(X, y, test_size=0.2, random_state=42)\n",
        "\n",
        "# List of solvers to compare\n",
        "solvers = ['liblinear', 'saga', 'lbfgs']\n",
        "\n",
        "# Dictionary to store accuracy scores\n",
        "accuracies = {}\n",
        "\n",
        "for solver in solvers:\n",
        "    # Create Logistic Regression model with specified solver\n",
        "    model = LogisticRegression(solver=solver, max_iter=1000)\n",
        "\n",
        "    # Train the model\n",
        "    model.fit(X_train, y_train)\n",
        "\n",
        "    # Predict on test data\n",
        "    y_pred = model.predict(X_test)\n",
        "\n",
        "    # Calculate accuracy\n",
        "    accuracy = accuracy_score(y_test, y_pred)\n",
        "\n",
        "    # Store accuracy\n",
        "    accuracies[solver] = accuracy\n",
        "\n",
        "# Print accuracy results\n",
        "print(\"Accuracy comparison for different solvers:\")\n",
        "for solver, acc in accuracies.items():\n",
        "    print(f\"Solver: {solver:8} --> Accuracy: {acc:.3f}\")\n"
      ],
      "metadata": {
        "id": "UhOI7NU6a7KR"
      },
      "execution_count": null,
      "outputs": []
    },
    {
      "cell_type": "code",
      "source": [
        "Q22- Write a Python program to train Logistic Regression and evaluate its performance using Matthews\n",
        "Correlation Coefficient (MCC)M"
      ],
      "metadata": {
        "id": "oRnvNvMOa_gw"
      },
      "execution_count": null,
      "outputs": []
    },
    {
      "cell_type": "code",
      "source": [
        "from sklearn.datasets import load_breast_cancer\n",
        "from sklearn.linear_model import LogisticRegression\n",
        "from sklearn.model_selection import train_test_split\n",
        "from sklearn.metrics import matthews_corrcoef\n",
        "\n",
        "# Load dataset\n",
        "data = load_breast_cancer()\n",
        "X = data.data\n",
        "y = data.target\n",
        "\n",
        "# Split into training and testing sets\n",
        "X_train, X_test, y_train, y_test = train_test_split(X, y, test_size=0.2, random_state=42)\n",
        "\n",
        "# Train Logistic Regression\n",
        "model = LogisticRegression(max_iter=1000)\n",
        "model.fit(X_train, y_train)\n",
        "\n",
        "# Predict on test set\n",
        "y_pred = model.predict(X_test)\n",
        "\n",
        "# Calculate Matthews Correlation Coefficient\n",
        "mcc = matthews_corrcoef(y_test, y_pred)\n",
        "\n",
        "print(f\"Matthews Correlation Coefficient (MCC): {mcc:.3f}\")\n"
      ],
      "metadata": {
        "id": "ljlWyFLEbC2X"
      },
      "execution_count": null,
      "outputs": []
    },
    {
      "cell_type": "code",
      "source": [
        "Q23- Write a Python program to train Logistic Regression on both raw and standardized data. Compare their\n",
        "accuracy to see the impact of feature scalingM"
      ],
      "metadata": {
        "id": "AuDG01N0bHNY"
      },
      "execution_count": null,
      "outputs": []
    },
    {
      "cell_type": "code",
      "source": [
        "from sklearn.datasets import load_breast_cancer\n",
        "from sklearn.linear_model import LogisticRegression\n",
        "from sklearn.model_selection import train_test_split\n",
        "from sklearn.preprocessing import StandardScaler\n",
        "from sklearn.metrics import accuracy_score\n",
        "\n",
        "# Load dataset\n",
        "data = load_breast_cancer()\n",
        "X = data.data\n",
        "y = data.target\n",
        "\n",
        "# Split into training and testing sets\n",
        "X_train, X_test, y_train, y_test = train_test_split(X, y, test_size=0.2, random_state=42)\n",
        "\n",
        "# 1. Train Logistic Regression on raw data\n",
        "model_raw = LogisticRegression(max_iter=1000)\n",
        "model_raw.fit(X_train, y_train)\n",
        "y_pred_raw = model_raw.predict(X_test)\n",
        "accuracy_raw = accuracy_score(y_test, y_pred_raw)\n",
        "\n",
        "# 2. Train Logistic Regression on standardized data\n",
        "scaler = StandardScaler()\n",
        "X_train_scaled = scaler.fit_transform(X_train)\n",
        "X_test_scaled = scaler.transform(X_test)\n",
        "\n",
        "model_scaled = LogisticRegression(max_iter=1000)\n",
        "model_scaled.fit(X_train_scaled, y_train)\n",
        "y_pred_scaled = model_scaled.predict(X_test_scaled)\n",
        "accuracy_scaled = accuracy_score(y_test, y_pred_scaled)\n",
        "\n",
        "# Print accuracy comparison\n",
        "print(f\"Accuracy on raw data:         {accuracy_raw:.3f}\")\n",
        "print(f\"Accuracy on standardized data: {accuracy_scaled:.3f}\")\n"
      ],
      "metadata": {
        "id": "3unAyC7TbJxa"
      },
      "execution_count": null,
      "outputs": []
    },
    {
      "cell_type": "code",
      "source": [
        "Q 24- Write a Python program to train Logistic Regression and find the optimal C (regularization strength) using\n",
        "cross-validationM"
      ],
      "metadata": {
        "id": "v-YokDMTbQJJ"
      },
      "execution_count": null,
      "outputs": []
    },
    {
      "cell_type": "code",
      "source": [
        "from sklearn.datasets import load_breast_cancer\n",
        "from sklearn.linear_model import LogisticRegression\n",
        "from sklearn.model_selection import GridSearchCV, train_test_split\n",
        "from sklearn.metrics import accuracy_score\n",
        "\n",
        "# Load dataset\n",
        "data = load_breast_cancer()\n",
        "X = data.data\n",
        "y = data.target\n",
        "\n",
        "# Split dataset into train and test sets\n",
        "X_train, X_test, y_train, y_test = train_test_split(X, y, test_size=0.2, random_state=42)\n",
        "\n",
        "# Define Logistic Regression model\n",
        "model = LogisticRegression(max_iter=1000)\n",
        "\n",
        "# Define parameter grid for C (regularization strength)\n",
        "param_grid = {'C': [0.01, 0.1, 0.5, 1, 5, 10, 100]}\n",
        "\n",
        "# Setup GridSearchCV with 5-fold cross-validation\n",
        "grid_search = GridSearchCV(model, param_grid, cv=5, scoring='accuracy')\n",
        "\n",
        "# Fit grid search\n",
        "grid_search.fit(X_train, y_train)\n",
        "\n",
        "# Best parameter and best score from CV\n",
        "best_C = grid_search.best_params_['C']\n",
        "best_score = grid_search.best_score_\n",
        "\n",
        "# Evaluate on test set\n",
        "best_model = grid_search.best_estimator_\n",
        "y_pred = best_model.predict(X_test)\n",
        "test_accuracy = accuracy_score(y_test, y_pred)\n",
        "\n",
        "print(f\"Best C found by cross-validation: {best_C}\")\n",
        "print(f\"Cross-validated accuracy: {best_score:.3f}\")\n",
        "print(f\"Test set accuracy with best C: {test_accuracy:.3f}\")\n"
      ],
      "metadata": {
        "id": "CMkKPiO6bV4G"
      },
      "execution_count": null,
      "outputs": []
    },
    {
      "cell_type": "code",
      "source": [
        "Q25- Write a Python program to train Logistic Regression, save the trained model using joblib, and load it again to\n",
        "make predictions."
      ],
      "metadata": {
        "id": "orMI5rWybdwf"
      },
      "execution_count": null,
      "outputs": []
    },
    {
      "cell_type": "code",
      "source": [
        "import joblib\n",
        "from sklearn.datasets import load_breast_cancer\n",
        "from sklearn.linear_model import LogisticRegression\n",
        "from sklearn.model_selection import train_test_split\n",
        "from sklearn.metrics import accuracy_score\n",
        "\n",
        "# Load dataset\n",
        "data = load_breast_cancer()\n",
        "X = data.data\n",
        "y = data.target\n",
        "\n",
        "# Split dataset\n",
        "X_train, X_test, y_train, y_test = train_test_split(X, y, test_size=0.2, random_state=42)\n",
        "\n",
        "# Train Logistic Regression\n",
        "model = LogisticRegression(max_iter=1000)\n",
        "model.fit(X_train, y_train)\n",
        "\n",
        "# Save the trained model to a file\n",
        "model_filename = 'logistic_model.joblib'\n",
        "joblib.dump(model, model_filename)\n",
        "print(f\"Model saved to {model_filename}\")\n",
        "\n",
        "# Load the model from the file\n",
        "loaded_model = joblib.load(model_filename)\n",
        "print(\"Model loaded from file.\")\n",
        "\n",
        "# Make predictions with the loaded model\n",
        "y_pred = loaded_model.predict(X_test)\n",
        "\n",
        "# Evaluate accuracy\n",
        "accuracy = accuracy_score(y_test, y_pred)\n",
        "print(f\"Accuracy of loaded model: {accuracy:.3f}\")\n"
      ],
      "metadata": {
        "id": "U-lRX1OSbg6z"
      },
      "execution_count": null,
      "outputs": []
    }
  ]
}