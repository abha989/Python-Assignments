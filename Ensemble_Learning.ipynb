{
  "nbformat": 4,
  "nbformat_minor": 0,
  "metadata": {
    "colab": {
      "provenance": [],
      "authorship_tag": "ABX9TyPvSLclLsmovWCjfQ1XzumD",
      "include_colab_link": true
    },
    "kernelspec": {
      "name": "python3",
      "display_name": "Python 3"
    },
    "language_info": {
      "name": "python"
    }
  },
  "cells": [
    {
      "cell_type": "markdown",
      "metadata": {
        "id": "view-in-github",
        "colab_type": "text"
      },
      "source": [
        "<a href=\"https://colab.research.google.com/github/abha989/Python-Assignments/blob/main/Ensemble_Learning.ipynb\" target=\"_parent\"><img src=\"https://colab.research.google.com/assets/colab-badge.svg\" alt=\"Open In Colab\"/></a>"
      ]
    },
    {
      "cell_type": "code",
      "execution_count": null,
      "metadata": {
        "id": "GDHeYQBYQXcK"
      },
      "outputs": [],
      "source": [
        "Q1- Can we use Bagging for regression problems?"
      ]
    },
    {
      "cell_type": "code",
      "source": [
        "''' Yes, bagging can be used for regression problems. It works by creating multiple regression models, each trained on a different subset of the training data,\n",
        "and then averaging their predictions. This averaging process helps to reduce variance and improve the stability of predictions, making the model more robust to\n",
        "outliers and noise."
      ],
      "metadata": {
        "id": "ePTyYuycQzku"
      },
      "execution_count": null,
      "outputs": []
    },
    {
      "cell_type": "code",
      "source": [
        "Q2-  What is the difference between multiple model training and single model training?"
      ],
      "metadata": {
        "id": "6fdNdUbKQ9_X"
      },
      "execution_count": null,
      "outputs": []
    },
    {
      "cell_type": "code",
      "source": [
        "''' The main difference between multiple model training and single model training lies in the number of models used and how they are trained.\n",
        "Single model training involves training a single model, while multiple model training involves training multiple models and often combining their predictions.\n",
        "Multiple model training can lead to better performance by capturing diverse aspects of the data and mitigating overfitting"
      ],
      "metadata": {
        "id": "PRFWIWwtRCtX"
      },
      "execution_count": null,
      "outputs": []
    },
    {
      "cell_type": "code",
      "source": [
        "Q3- Explain the concept of feature randomness in Random Forest2"
      ],
      "metadata": {
        "id": "93Hp7cBlRIyz"
      },
      "execution_count": null,
      "outputs": []
    },
    {
      "cell_type": "code",
      "source": [
        "''' In a Random Forest, feature randomness refers to the technique of selecting a random subset of features for each decision tree during the training process,\n",
        "instead of using all available features. This process, also known as \"feature bagging\" or \"random subspace method,\" introduces randomness into the model,\n",
        "making individual trees less correlated with each other and improving the overall model's generalization ability."
      ],
      "metadata": {
        "id": "3ZPEGiwHRMzz"
      },
      "execution_count": null,
      "outputs": []
    },
    {
      "cell_type": "code",
      "source": [
        "Q4- What is OOB (Out-of-Bag) Score?"
      ],
      "metadata": {
        "id": "iQRN-I6mRS_4"
      },
      "execution_count": null,
      "outputs": []
    },
    {
      "cell_type": "code",
      "source": [
        "''' The Out-of-Bag (OOB) score, also known as the OOB error, is a method used to evaluate the performance of machine learning models, particularly in bagging\n",
        "algorithms like Random Forests. It involves using the portion of the training data that is not included in a given tree's bootstrap sample to assess the tree's\n",
        "predictive accuracy on that data. This allows for a validation step within the training process, without the need for a separate validation dataset."
      ],
      "metadata": {
        "id": "6kPukLxPRa3z"
      },
      "execution_count": null,
      "outputs": []
    },
    {
      "cell_type": "code",
      "source": [
        "Q5- How can you measure the importance of features in a Random Forest model?"
      ],
      "metadata": {
        "id": "ekeTUs7KRgZn"
      },
      "execution_count": null,
      "outputs": []
    },
    {
      "cell_type": "code",
      "source": [
        "''' In Random Forest models, feature importance is typically measured using Gini importance (or Mean Decrease in Impurity) and Mean Decrease in Accuracy.\n",
        " Gini importance quantifies how much a feature contributes to reducing impurity in the nodes of the decision trees within the forest. Mean Decrease in Accuracy\n",
        "  measures how much the model's accuracy decreases when a feature's values are randomly shuffled."
      ],
      "metadata": {
        "id": "c_mznN5cRkrS"
      },
      "execution_count": null,
      "outputs": []
    },
    {
      "cell_type": "code",
      "source": [
        "Q6- Explain the working principle of a Bagging Classifier?"
      ],
      "metadata": {
        "id": "AIl0PYjMRvv7"
      },
      "execution_count": null,
      "outputs": []
    },
    {
      "cell_type": "code",
      "source": [
        "''' A Bagging classifier. A Bagging classifier is an ensemble meta-estimator that fits base classifiers each on random subsets of the original dataset and then\n",
        "aggregate their individual predictions (either by voting or by averaging) to form a final prediction."
      ],
      "metadata": {
        "id": "k9D40RkvR2rS"
      },
      "execution_count": null,
      "outputs": []
    },
    {
      "cell_type": "code",
      "source": [
        "Q7- ow do you evaluate a Bagging Classifier’s performance?"
      ],
      "metadata": {
        "id": "V80ZhXCfR6-q"
      },
      "execution_count": null,
      "outputs": []
    },
    {
      "cell_type": "code",
      "source": [
        "''' To evaluate a Bagging Classifier's performance, you typically use standard classification metrics like accuracy, precision, recall, F1-score, and AUC-ROC.\n",
        "These metrics help assess how well the model makes predictions on unseen data. You can also use cross-validation to get a more robust estimate of the model's\n",
        "performance."
      ],
      "metadata": {
        "id": "vNji1HTRSCFD"
      },
      "execution_count": null,
      "outputs": []
    },
    {
      "cell_type": "code",
      "source": [
        "Q8- How does a Bagging Regressor work?"
      ],
      "metadata": {
        "id": "bgee9knESJHm"
      },
      "execution_count": null,
      "outputs": []
    },
    {
      "cell_type": "code",
      "source": [
        "''' A Bagging regressor is an ensemble meta-estimator that fits base regressors each on random subsets of the original dataset and then aggregate their individual\n",
        " predictions (either by voting or by averaging) to form a final prediction.\n",
        ""
      ],
      "metadata": {
        "id": "QMqorejgSNNo"
      },
      "execution_count": null,
      "outputs": []
    },
    {
      "cell_type": "code",
      "source": [
        "Q9- What is the main advantage of ensemble techniques?"
      ],
      "metadata": {
        "id": "_8Ze1naJSV69"
      },
      "execution_count": null,
      "outputs": []
    },
    {
      "cell_type": "code",
      "source": [
        "'''The main advantage of ensemble techniques in machine learning is improved predictive accuracy and generalization by combining the strengths of multiple models.\n",
        " This approach often leads to better results than using a single model alone, as it reduces overfitting and improves robustness to unseen data"
      ],
      "metadata": {
        "id": "zUAIyD0uSZRo"
      },
      "execution_count": null,
      "outputs": []
    },
    {
      "cell_type": "code",
      "source": [
        "Q10- What is the main challenge of ensemble methods?"
      ],
      "metadata": {
        "id": "FLZGxSqCSfpz"
      },
      "execution_count": null,
      "outputs": []
    },
    {
      "cell_type": "code",
      "source": [
        "''' The main challenge in developing ensemble models is not just about achieving high accuracy for the individual base models, but about ensuring that these\n",
        "models make different types of errors. This diversity in errors is crucial for the ensemble to effectively combine predictions and improve overall performance"
      ],
      "metadata": {
        "id": "5wbasFuWSj4J"
      },
      "execution_count": null,
      "outputs": []
    },
    {
      "cell_type": "code",
      "source": [
        "Q11- Explain the key idea behind ensemble techniques2"
      ],
      "metadata": {
        "id": "JUoCPvxSSqQe"
      },
      "execution_count": null,
      "outputs": []
    },
    {
      "cell_type": "code",
      "source": [
        "''' The key idea behind ensemble techniques is to combine multiple models to produce a more robust and accurate prediction than any single model could achieve on its own.\n",
        "\n"
      ],
      "metadata": {
        "id": "jrzSbzTfSyxM"
      },
      "execution_count": null,
      "outputs": []
    },
    {
      "cell_type": "code",
      "source": [
        "Q12- What is a Random Forest Classifier?"
      ],
      "metadata": {
        "id": "I9PCo9P2S4mE"
      },
      "execution_count": null,
      "outputs": []
    },
    {
      "cell_type": "code",
      "source": [
        "''' A Random Forest Classifier is a machine learning algorithm that uses an ensemble of decision trees to classify data. It aggregates the predictions from\n",
        "multiple decision trees to improve accuracy and reduce overfitting. Each tree in the forest is trained on a random subset of the data and a random subset of\n",
        "features, adding randomness and improving generalization"
      ],
      "metadata": {
        "id": "x7JcmNrRS_bS"
      },
      "execution_count": null,
      "outputs": []
    },
    {
      "cell_type": "code",
      "source": [
        "Q13- What are the main types of ensemble techniques?"
      ],
      "metadata": {
        "id": "O9GqDUBQTEb8"
      },
      "execution_count": null,
      "outputs": []
    },
    {
      "cell_type": "code",
      "source": [
        "''' The main types of ensemble techniques are bagging, boosting, and stacking. Bagging involves training multiple models on different subsets of the data and\n",
        "combining their predictions, while boosting trains models sequentially, with each model focusing on correcting the errors of the previous ones.\n",
        " Stacking involves training multiple models and using their predictions as input to a final \"meta-model\" that learns how to combine them optimally"
      ],
      "metadata": {
        "id": "WeRovAKbTIeg"
      },
      "execution_count": null,
      "outputs": []
    },
    {
      "cell_type": "code",
      "source": [
        "Q14- What is ensemble learning in machine learning?"
      ],
      "metadata": {
        "id": "rUfkj1FlTPqY"
      },
      "execution_count": null,
      "outputs": []
    },
    {
      "cell_type": "code",
      "source": [
        "''' Ensemble learning in machine learning combines the predictions of multiple models to improve predictive performance. It leverages the strengths of different\n",
        "models to achieve better results than any single model alone. Common techniques include bagging, boosting, and stacking.\n"
      ],
      "metadata": {
        "id": "cThJg2avTTHs"
      },
      "execution_count": null,
      "outputs": []
    },
    {
      "cell_type": "code",
      "source": [
        "Q15- When should we avoid using ensemble methods?"
      ],
      "metadata": {
        "id": "WSwapQbpTbFb"
      },
      "execution_count": null,
      "outputs": []
    },
    {
      "cell_type": "code",
      "source": [
        "''' Ensemble methods, while generally beneficial, shouldn't be used in all situations. They can be computationally expensive, complex to interpret, and may not\n",
        "always be necessary if a single strong model can achieve good performance. Furthermore, ensemble methods might struggle to reduce bias if the base models are\n",
        "biased.\n",
        "\n",
        " Here's a more detailed look at when to avoid ensemble methods:\n",
        "1. Limited Computational Resources: Training multiple models can be resource-intensive, both in terms of time and hardware.\n",
        " If you're working with a limited budget or have constraints on processing power, a single, well-tuned model might be a better choice.\n",
        "2. Need for Interpretability: Ensemble models can be harder to interpret than single models, especially when using multiple different base models.\n",
        " If you need to understand why a model is making specific predictions, an ensemble might not be ideal.\n",
        "3. Lack of Diversity in Base Models: Ensemble methods work best when the base models are diverse and uncorrelated. If your base models are too similar or rely on\n",
        "the same features, the ensemble may not offer significant improvements.\n",
        "4. When a Single Model Suffices: If a single model, such as a neural network or a well-tuned support vector machine, can achieve good performance on your problem,\n",
        " there's no need to add the complexity and overhead of an ensemble.\n",
        "5. Bias Reduction Concerns: Bagging, a popular ensemble method, primarily reduces variance but might not significantly reduce bias if the base models are biased.\n",
        " If bias is a major concern, consider alternative methods like regularization or using a different model type.\n",
        "6. Data Imbalance: Ensemble methods can be sensitive to data imbalances, where one class is significantly more represented than others. If you have an imbalanced\n",
        " dataset, you might need to consider techniques like oversampling, undersampling, or using cost-sensitive learning to address the imbalance before applying an\n",
        " ensemble.\n",
        "7. Overfitting: While ensemble methods can help reduce overfitting, they can also overfit if the base models are overfitting or if the ensemble itself is not\n",
        "properly regularized.\n",
        "In summary, ensemble methods offer many benefits, but they are not a one-size-fits-all solution. Carefully consider the specific characteristics of your problem,\n",
        "available resources, and the need for interpretability before choosing an ensemble approach.\n"
      ],
      "metadata": {
        "id": "ci2jf6mKTf6f"
      },
      "execution_count": null,
      "outputs": []
    },
    {
      "cell_type": "code",
      "source": [
        "Q16- How does Bagging help in reducing overfitting?"
      ],
      "metadata": {
        "id": "4-kVYdpWT778"
      },
      "execution_count": null,
      "outputs": []
    },
    {
      "cell_type": "code",
      "source": [
        "''' Bagging reduces overfitting by training multiple models on different subsets of the data and then combining their predictions. This process helps to reduce\n",
        "variance, a key contributor to overfitting, and improves the model's ability to generalize to unseen data.\n",
        "Here's a more detailed explanation:\n",
        "Training on diverse subsets:\n",
        "\n",
        "Bagging, short for Bootstrap Aggregating, creates multiple subsets of the training data through bootstrapping (sampling with replacement).\n",
        "Each subset is used to train a separate model.\n",
        "Reducing variance:\n",
        "By training on different subsets, the models become more diverse, and their errors tend to be more independent. When the predictions from these diverse models are\n",
        "averaged or combined, the overall model's variance is reduced.\n",
        "Improving generalization:\n",
        "Reduced variance leads to a more robust and stable model that is less likely to overfit the training data. The model can generalize better to new,\n",
        "unseen data because it's less sensitive to the specific details of the training set.\n",
        "Aggregation of predictions:\n",
        "The final prediction is typically an average of the predictions from all the individual models. This averaging process further reduces the impact of any single\n",
        "model's errors and improves the overall accuracy."
      ],
      "metadata": {
        "id": "bt6kr9ocUAtg"
      },
      "execution_count": null,
      "outputs": []
    },
    {
      "cell_type": "code",
      "source": [
        "Q17- Why is Random Forest better than a single Decision Tree?"
      ],
      "metadata": {
        "id": "RgocUfttURTY"
      },
      "execution_count": null,
      "outputs": []
    },
    {
      "cell_type": "code",
      "source": [
        "''' Random forest algorithms are generally superior to single decision trees due to their ability to reduce overfitting, improve accuracy, and provide more robust predictions. By combining multiple decision trees, random forests leverage ensemble learning to enhance prediction performance.\n",
        "Here's a more detailed breakdown:\n",
        "Reduced Overfitting:\n",
        "Decision trees can overfit the training data, meaning they learn the training data too well and perform poorly on new, unseen data. Random forests address this by averaging the predictions of multiple, diverse trees, which helps to smooth out the decision boundary and prevent overfitting.\n",
        "Improved Accuracy:\n",
        "The ensemble nature of random forests allows them to capture a wider range of patterns in the data, leading to more accurate predictions than a single decision tree.\n",
        "Robustness:\n",
        "Random forests are more robust to noise and missing data compared to single decision trees.\n",
        "Feature Importance:\n",
        "Random forests provide a measure of feature importance, indicating which features are most influential in the predictions.\n",
        "Scalability:\n",
        "Random forests can handle large datasets efficiently.\n",
        "Computational Cost:\n",
        "While random forests can be more computationally expensive to train than a single decision tree, the increased accuracy often justifies the added cost."
      ],
      "metadata": {
        "id": "LMCRT9jcUZHa"
      },
      "execution_count": null,
      "outputs": []
    },
    {
      "cell_type": "code",
      "source": [
        "Q18- What is the role of bootstrap sampling in Bagging?"
      ],
      "metadata": {
        "id": "jJhN-U-cUaTa"
      },
      "execution_count": null,
      "outputs": []
    },
    {
      "cell_type": "code",
      "source": [
        "'''In Bagging, bootstrap sampling creates diverse training subsets by randomly selecting data points from the original dataset with replacement. This process allows models to train on different, yet related, versions of the data, leading to a more robust and stable ensemble model.\n",
        "Elaboration:\n",
        "Sampling with Replacement:\n",
        "Bootstrapping involves selecting data points at random from the original dataset, but with replacement. This means that the same data point can be selected multiple times for a single bootstrap sample, while others may not be included at all.\n",
        "Diverse Training Sets:\n",
        "By sampling with replacement, each bootstrap sample contains a slightly different composition of data points compared to the original dataset and to other bootstrap samples. This introduces diversity into the training process.\n",
        "Improved Generalization:\n",
        "The diversity introduced by bootstrap sampling helps to reduce variance in the individual models, leading to better generalization and preventing overfitting.\n",
        "Ensemble Advantage:\n",
        "Bagging combines the predictions of multiple models trained on these diverse bootstrap samples, further enhancing the stability and accuracy of the final prediction."
      ],
      "metadata": {
        "id": "zTHFKexgUd0-"
      },
      "execution_count": null,
      "outputs": []
    },
    {
      "cell_type": "code",
      "source": [
        "Q19- What are some real-world applications of ensemble techniques?"
      ],
      "metadata": {
        "id": "gj4e2kVMUn9_"
      },
      "execution_count": null,
      "outputs": []
    },
    {
      "cell_type": "code",
      "source": [
        "''' Ensemble techniques, which combine multiple machine learning models, are widely used in various real-world applications to improve accuracy, robustness, and generalization. They are particularly valuable in industries like finance, healthcare, and cybersecurity.\n",
        "Here are some specific applications:\n",
        "Finance:\n",
        "Ensemble methods are used for tasks like credit scoring, risk assessment, fraud detection, and stock market prediction. By combining predictions from various models, they can improve the accuracy of financial decisions and identify fraudulent activities.\n",
        "Healthcare:\n",
        "Ensemble techniques are employed in disease diagnosis, patient risk assessment, and personalized treatment planning. They can analyze medical images, genetic data, and patient records to improve the accuracy of diagnoses and predict the likelihood of certain conditions.\n",
        "Cybersecurity:\n",
        "Ensemble models are used for intrusion detection, malware detection, and distributed denial of service (DDoS) attack prevention. By combining insights from different security models, they can enhance the ability to detect and prevent cyber threats.\n",
        "Remote Sensing:\n",
        "Ensembles are used for tasks like land cover mapping, change detection, and satellite image analysis.\n",
        "Marketing:\n",
        "Ensemble methods are used for customer segmentation, churn prediction, and personalized marketing campaigns. By analyzing customer behavior and preferences, they can help businesses optimize their marketing strategies and improve customer retention.\n",
        "Image Recognition:\n",
        "Ensembles are used for object recognition, face recognition, and emotion recognition. By combining the predictions of multiple models, they can achieve higher accuracy in these tasks.\n",
        "Natural Language Processing:\n",
        "Ensemble methods can improve sentiment analysis, text classification, and machine translation.\n",
        "Other Applications:\n",
        "Ensemble techniques are also used in various other fields, including remote sensing, land cover mapping, and change detection.\n",
        "Advantages of Ensemble Learning:\n",
        "Improved Accuracy:\n",
        "By combining predictions from multiple models, ensemble methods often yield better results than individual models.\n",
        "Reduced Bias and Variance:\n",
        "Ensemble techniques can help reduce the bias and variance of individual models, leading to more reliable predictions.\n",
        "Increased Robustness:\n",
        "Ensembles are more robust to noise and outliers in the data, making them more reliable in real-world applications.\n",
        "Generalization:\n",
        "Ensembles tend to generalize better to unseen data, meaning they perform well on new data that they haven't been trained on.\n"
      ],
      "metadata": {
        "id": "0Nnnt7f6UsIJ"
      },
      "execution_count": null,
      "outputs": []
    },
    {
      "cell_type": "code",
      "source": [
        "Q20- What is the difference between Bagging and Boosting?"
      ],
      "metadata": {
        "id": "p_AQpBo2UzAm"
      },
      "execution_count": null,
      "outputs": []
    },
    {
      "cell_type": "code",
      "source": [
        "''' Bagging (Bootstrap Aggregating) and Boosting are ensemble learning techniques that combine multiple models to improve predictive accuracy. Bagging trains models independently on different subsets of the data (bootstrapped datasets) to reduce variance and overfitting, while Boosting trains models sequentially, focusing on correcting errors of previous models to reduce bias.\n",
        "Key Differences:\n",
        "Training Method:\n",
        "Bagging trains models in parallel on different subsets of the data, while Boosting trains models sequentially, with each model learning from the errors of the previous one.\n",
        "Error Handling:\n",
        "Bagging treats each model's error equally, while Boosting gives more weight to data points with higher errors, making subsequent models focus on correcting them.\n",
        "Bias and Variance:\n",
        "Bagging is primarily used to reduce variance and overfitting, making it suitable for unstable models like decision trees. Boosting is used to reduce bias, making it more effective for stable models like linear regression.\n",
        "Overfitting:\n",
        "Bagging is less prone to overfitting than Boosting, which can overfit if the number of models or iterations is high.\n",
        "Computational Cost:\n",
        "Both methods increase computational cost due to the need to train multiple models. However, Bagging can be easier to implement and run in parallel.\n",
        "Accuracy:\n",
        "Bagging is effective in improving accuracy by reducing variance, while Boosting can be more effective in achieving higher accuracy by reducing bias and variance.\n",
        "Model Complexity:\n",
        "Both Bagging and Boosting can increase model complexity, which can make interpretation challenging. Bagging tends to be simpler to interpret due to its independence."
      ],
      "metadata": {
        "id": "N5p8t5yUU3MG"
      },
      "execution_count": null,
      "outputs": []
    },
    {
      "cell_type": "code",
      "source": [
        "Practical"
      ],
      "metadata": {
        "id": "wNcUZbrQU965"
      },
      "execution_count": null,
      "outputs": []
    },
    {
      "cell_type": "code",
      "source": [
        "Q21- Train a Bagging Classifier using Decision Trees on a sample dataset and print model accuracy2"
      ],
      "metadata": {
        "id": "OMLy0mzUVBAu"
      },
      "execution_count": null,
      "outputs": []
    },
    {
      "cell_type": "code",
      "source": [
        "from sklearn.ensemble import BaggingClassifier\n",
        "from sklearn.tree import DecisionTreeClassifier\n",
        "from sklearn.datasets import load_iris\n",
        "from sklearn.model_selection import train_test_split\n",
        "from sklearn.metrics import accuracy_score\n",
        "\n",
        "# Load sample dataset\n",
        "data = load_iris()\n",
        "X, y = data.data, data.target\n",
        "\n",
        "# Split into training and testing sets\n",
        "X_train, X_test, y_train, y_test = train_test_split(X, y, test_size=0.3, random_state=42)\n",
        "\n",
        "# Create a Bagging classifier using Decision Trees as base estimators\n",
        "bagging_model = BaggingClassifier(\n",
        "    # Changed base_estimator to estimator\n",
        "    estimator=DecisionTreeClassifier(),\n",
        "    n_estimators=50,\n",
        "    random_state=42\n",
        ")\n",
        "\n",
        "# Train the model\n",
        "bagging_model.fit(X_train, y_train)\n",
        "\n",
        "# Predict on test data\n",
        "y_pred = bagging_model.predict(X_test)\n",
        "\n",
        "# Evaluate accuracy\n",
        "accuracy = accuracy_score(y_test, y_pred)\n",
        "print(f\"Model Accuracy: {accuracy:.4f}\")"
      ],
      "metadata": {
        "colab": {
          "base_uri": "https://localhost:8080/"
        },
        "id": "wC_1N1vzVXDT",
        "outputId": "4c090a6b-4f56-499e-b8b4-edef4c4a730d"
      },
      "execution_count": 3,
      "outputs": [
        {
          "output_type": "stream",
          "name": "stdout",
          "text": [
            "Model Accuracy: 1.0000\n"
          ]
        }
      ]
    },
    {
      "cell_type": "code",
      "source": [
        "Q22- Train a Bagging Regressor using Decision Trees and evaluate using Mean Squared Error (MSE)2"
      ],
      "metadata": {
        "id": "YALFHv9bVa1j"
      },
      "execution_count": null,
      "outputs": []
    },
    {
      "cell_type": "code",
      "source": [
        "from sklearn.ensemble import BaggingRegressor  # Import BaggingRegressor\n",
        "from sklearn.tree import DecisionTreeRegressor  # Use DecisionTreeRegressor for regression\n",
        "from sklearn.datasets import load_diabetes  # Load a regression dataset\n",
        "from sklearn.model_selection import train_test_split\n",
        "from sklearn.metrics import mean_squared_error  # Import mean_squared_error\n",
        "\n",
        "# Load sample dataset (using load_diabetes for a regression example)\n",
        "data = load_diabetes()\n",
        "X, y = data.data, data.target\n",
        "\n",
        "# Split into training and testing sets\n",
        "X_train, X_test, y_train, y_test = train_test_split(X, y, test_size=0.3, random_state=42)\n",
        "\n",
        "# Create a Bagging regressor using Decision Trees as base estimators\n",
        "bagging_model = BaggingRegressor(\n",
        "    estimator=DecisionTreeRegressor(), # Use estimator and DecisionTreeRegressor\n",
        "    n_estimators=50,\n",
        "    random_state=42\n",
        ")\n",
        "\n",
        "# Train the model\n",
        "bagging_model.fit(X_train, y_train)\n",
        "\n",
        "# Predict on test data\n",
        "y_pred = bagging_model.predict(X_test)\n",
        "\n",
        "# Evaluate using Mean Squared Error\n",
        "mse = mean_squared_error(y_test, y_pred)\n",
        "print(f\"Model Mean Squared Error: {mse:.4f}\")"
      ],
      "metadata": {
        "colab": {
          "base_uri": "https://localhost:8080/"
        },
        "id": "9VYGBNUvVzYW",
        "outputId": "282fb91a-452d-4257-af77-779e0016fdea"
      },
      "execution_count": 4,
      "outputs": [
        {
          "output_type": "stream",
          "name": "stdout",
          "text": [
            "Model Mean Squared Error: 2987.0074\n"
          ]
        }
      ]
    },
    {
      "cell_type": "code",
      "source": [
        "Q23- Train a Random Forest Classifier on the Breast Cancer dataset and print feature importance scores"
      ],
      "metadata": {
        "id": "dOQxJDUaV077"
      },
      "execution_count": null,
      "outputs": []
    },
    {
      "cell_type": "code",
      "source": [
        "from sklearn.ensemble import RandomForestClassifier\n",
        "from sklearn.datasets import load_breast_cancer\n",
        "from sklearn.model_selection import train_test_split\n",
        "import pandas as pd\n",
        "\n",
        "# Load Breast Cancer dataset\n",
        "data = load_breast_cancer()\n",
        "X, y = data.data, data.target\n",
        "feature_names = data.feature_names\n",
        "\n",
        "# Train-test split\n",
        "X_train, X_test, y_train, y_test = train_test_split(X, y, test_size=0.3, random_state=42)\n",
        "\n",
        "# Train Random Forest Classifier\n",
        "model = RandomForestClassifier(n_estimators=100, random_state=42)\n",
        "model.fit(X_train, y_train)\n",
        "\n",
        "# Get feature importances\n",
        "importances = model.feature_importances_\n",
        "\n",
        "# Create a DataFrame for better readability\n",
        "importance_df = pd.DataFrame({\n",
        "    'Feature': feature_names,\n",
        "    'Importance': importances\n",
        "}).sort_values(by='Importance', ascending=False)\n",
        "\n",
        "# Print feature importance\n",
        "print(\"Feature Importance Scores (Top 10):\")\n",
        "print(importance_df.head(10))\n"
      ],
      "metadata": {
        "colab": {
          "base_uri": "https://localhost:8080/"
        },
        "id": "dGvuchwAV8da",
        "outputId": "eece7477-bbde-4fde-c766-4eaf774103c0"
      },
      "execution_count": 5,
      "outputs": [
        {
          "output_type": "stream",
          "name": "stdout",
          "text": [
            "Feature Importance Scores (Top 10):\n",
            "                 Feature  Importance\n",
            "7    mean concave points    0.141934\n",
            "27  worst concave points    0.127136\n",
            "23            worst area    0.118217\n",
            "6         mean concavity    0.080557\n",
            "20          worst radius    0.077975\n",
            "22       worst perimeter    0.074292\n",
            "2         mean perimeter    0.060092\n",
            "3              mean area    0.053810\n",
            "26       worst concavity    0.041080\n",
            "0            mean radius    0.032312\n"
          ]
        }
      ]
    },
    {
      "cell_type": "code",
      "source": [
        "Q24- Train a Random Forest Regressor and compare its performance with a single Decision Tree2"
      ],
      "metadata": {
        "id": "H31xlqBGWD5z"
      },
      "execution_count": null,
      "outputs": []
    },
    {
      "cell_type": "code",
      "source": [
        "from sklearn.datasets import fetch_california_housing\n",
        "from sklearn.model_selection import train_test_split\n",
        "from sklearn.tree import DecisionTreeRegressor\n",
        "from sklearn.ensemble import RandomForestRegressor\n",
        "from sklearn.metrics import r2_score\n",
        "\n",
        "# Load dataset\n",
        "data = fetch_california_housing()\n",
        "X, y = data.data, data.target\n",
        "\n",
        "# Train-test split\n",
        "X_train, X_test, y_train, y_test = train_test_split(X, y, test_size=0.3, random_state=42)\n",
        "\n",
        "# Train a single Decision Tree Regressor\n",
        "tree_model = DecisionTreeRegressor(random_state=42)\n",
        "tree_model.fit(X_train, y_train)\n",
        "tree_preds = tree_model.predict(X_test)\n",
        "tree_r2 = r2_score(y_test, tree_preds)\n",
        "\n",
        "# Train a Random Forest Regressor\n",
        "rf_model = RandomForestRegressor(n_estimators=100, random_state=42)\n",
        "rf_model.fit(X_train, y_train)\n",
        "rf_preds = rf_model.predict(X_test)\n",
        "rf_r2 = r2_score(y_test, rf_preds)\n",
        "\n",
        "# Compare performance\n",
        "print(f\"Decision Tree R² Score: {tree_r2:.4f}\")\n",
        "print(f\"Random Forest R² Score: {rf_r2:.4f}\")\n"
      ],
      "metadata": {
        "colab": {
          "base_uri": "https://localhost:8080/"
        },
        "id": "dBuI0EK2WMax",
        "outputId": "8a23b5d0-b685-41f2-ec01-066ce07cc1b7"
      },
      "execution_count": 6,
      "outputs": [
        {
          "output_type": "stream",
          "name": "stdout",
          "text": [
            "Decision Tree R² Score: 0.5977\n",
            "Random Forest R² Score: 0.8046\n"
          ]
        }
      ]
    },
    {
      "cell_type": "code",
      "source": [
        "Q25- Compute the Out-of-Bag (OOB) Score for a Random Forest Classifier2"
      ],
      "metadata": {
        "id": "MkozvV_OWUBT"
      },
      "execution_count": null,
      "outputs": []
    },
    {
      "cell_type": "code",
      "source": [
        "from sklearn.ensemble import RandomForestClassifier\n",
        "from sklearn.datasets import load_breast_cancer\n",
        "from sklearn.model_selection import train_test_split\n",
        "\n",
        "# Load dataset\n",
        "data = load_breast_cancer()\n",
        "X, y = data.data, data.target\n",
        "\n",
        "# Split the dataset (optional for additional evaluation)\n",
        "X_train, X_test, y_train, y_test = train_test_split(X, y, test_size=0.3, random_state=42)\n",
        "\n",
        "# Train Random Forest with OOB enabled\n",
        "model = RandomForestClassifier(\n",
        "    n_estimators=100,\n",
        "    oob_score=True,       # Enable OOB scoring\n",
        "    bootstrap=True,       # Required for OOB\n",
        "    random_state=42\n",
        ")\n",
        "\n",
        "model.fit(X_train, y_train)\n",
        "\n",
        "# Print OOB score\n",
        "print(f\"OOB Score: {model.oob_score_:.4f}\")\n"
      ],
      "metadata": {
        "colab": {
          "base_uri": "https://localhost:8080/"
        },
        "id": "IiusmI-OWYmj",
        "outputId": "a8fad4c8-8c90-45b6-cc17-8d6600c37731"
      },
      "execution_count": 7,
      "outputs": [
        {
          "output_type": "stream",
          "name": "stdout",
          "text": [
            "OOB Score: 0.9548\n"
          ]
        }
      ]
    },
    {
      "cell_type": "code",
      "source": [
        "Q26- Train a Bagging Classifier using SVM as a base estimator and print accuracy2"
      ],
      "metadata": {
        "id": "S07ebfKEWa4m"
      },
      "execution_count": null,
      "outputs": []
    },
    {
      "cell_type": "code",
      "source": [
        "from sklearn.ensemble import BaggingClassifier\n",
        "from sklearn.svm import SVC\n",
        "from sklearn.datasets import load_iris\n",
        "from sklearn.model_selection import train_test_split\n",
        "from sklearn.metrics import accuracy_score\n",
        "\n",
        "# Load the Iris dataset\n",
        "data = load_iris()\n",
        "X, y = data.data, data.target\n",
        "\n",
        "# Train-test split\n",
        "X_train, X_test, y_train, y_test = train_test_split(X, y, test_size=0.3, random_state=42)\n",
        "\n",
        "# Define the base SVM model (using probability=False for speed)\n",
        "base_svm = SVC(kernel='rbf', C=1.0, gamma='scale')\n",
        "\n",
        "# Create a Bagging classifier with SVM as the base estimator\n",
        "bagging_model = BaggingClassifier(\n",
        "    # Changed base_estimator to estimator\n",
        "    estimator=base_svm,\n",
        "    n_estimators=10,\n",
        "    random_state=42\n",
        ")\n",
        "\n",
        "# Train the model\n",
        "bagging_model.fit(X_train, y_train)\n",
        "\n",
        "# Predict on test data\n",
        "y_pred = bagging_model.predict(X_test)\n",
        "\n",
        "# Evaluate and print accuracy\n",
        "accuracy = accuracy_score(y_test, y_pred)\n",
        "print(f\"Bagging Classifier with SVM Accuracy: {accuracy:.4f}\")"
      ],
      "metadata": {
        "colab": {
          "base_uri": "https://localhost:8080/"
        },
        "id": "fbARq-bpWqif",
        "outputId": "4a69ba21-4b6d-41c3-ae1e-5598dc6a54bb"
      },
      "execution_count": 9,
      "outputs": [
        {
          "output_type": "stream",
          "name": "stdout",
          "text": [
            "Bagging Classifier with SVM Accuracy: 1.0000\n"
          ]
        }
      ]
    },
    {
      "cell_type": "code",
      "source": [
        "Q27- Train a Random Forest Classifier with different numbers of trees and compare accuracy"
      ],
      "metadata": {
        "id": "gUb9GZH0Wr3a"
      },
      "execution_count": null,
      "outputs": []
    },
    {
      "cell_type": "code",
      "source": [
        "from sklearn.ensemble import RandomForestClassifier\n",
        "from sklearn.datasets import load_breast_cancer\n",
        "from sklearn.model_selection import train_test_split\n",
        "from sklearn.metrics import accuracy_score\n",
        "import matplotlib.pyplot as plt\n",
        "\n",
        "# Load dataset\n",
        "data = load_breast_cancer()\n",
        "X, y = data.data, data.target\n",
        "\n",
        "# Split dataset\n",
        "X_train, X_test, y_train, y_test = train_test_split(X, y, test_size=0.3, random_state=42)\n",
        "\n",
        "# Test different numbers of trees\n",
        "tree_counts = [1, 5, 10, 50, 100, 200]\n",
        "accuracies = []\n",
        "\n",
        "# Train and evaluate Random Forest for each setting\n",
        "for n in tree_counts:\n",
        "    model = RandomForestClassifier(n_estimators=n, random_state=42)\n",
        "    model.fit(X_train, y_train)\n",
        "    y_pred = model.predict(X_test)\n",
        "    acc = accuracy_score(y_test, y_pred)\n",
        "    accuracies.append(acc)\n",
        "    print(f\"{n} trees: Accuracy = {acc:.4f}\")\n",
        "\n",
        "# Plot results\n",
        "plt.figure(figsize=(8, 5))\n",
        "plt.plot(tree_counts, accuracies, marker='o')\n",
        "plt.title(\"Random Forest Accuracy vs Number of Trees\")\n",
        "plt.xlabel(\"Number of Trees\")\n",
        "plt.ylabel(\"Accuracy\")\n",
        "plt.grid(True)\n",
        "plt.show()\n"
      ],
      "metadata": {
        "colab": {
          "base_uri": "https://localhost:8080/",
          "height": 594
        },
        "id": "78To1t9yWwde",
        "outputId": "09249117-f321-47ca-c4f1-409265d0cfe3"
      },
      "execution_count": 10,
      "outputs": [
        {
          "output_type": "stream",
          "name": "stdout",
          "text": [
            "1 trees: Accuracy = 0.9474\n",
            "5 trees: Accuracy = 0.9649\n",
            "10 trees: Accuracy = 0.9649\n",
            "50 trees: Accuracy = 0.9708\n",
            "100 trees: Accuracy = 0.9708\n",
            "200 trees: Accuracy = 0.9708\n"
          ]
        },
        {
          "output_type": "display_data",
          "data": {
            "text/plain": [
              "<Figure size 800x500 with 1 Axes>"
            ],
            "image/png": "[encoded data removed]"
          },
          "metadata": {}
        }
      ]
    },
    {
      "cell_type": "code",
      "source": [
        "Q 28-  Train a Bagging Classifier using Logistic Regression as a base estimator and print AUC score2"
      ],
      "metadata": {
        "id": "KcOxL1eqW8m0"
      },
      "execution_count": null,
      "outputs": []
    },
    {
      "cell_type": "code",
      "source": [
        "from sklearn.ensemble import BaggingClassifier\n",
        "from sklearn.linear_model import LogisticRegression\n",
        "from sklearn.datasets import load_breast_cancer\n",
        "from sklearn.model_selection import train_test_split\n",
        "from sklearn.metrics import roc_auc_score\n",
        "\n",
        "# Load dataset\n",
        "data = load_breast_cancer()\n",
        "X, y = data.data, data.target\n",
        "\n",
        "# Train-test split\n",
        "X_train, X_test, y_train, y_test = train_test_split(X, y, test_size=0.3, random_state=42)\n",
        "\n",
        "# Define the base logistic regression model\n",
        "base_lr = LogisticRegression(max_iter=1000, solver='liblinear')  # liblinear works well for small datasets\n",
        "\n",
        "# Create Bagging Classifier with Logistic Regression\n",
        "bagging_model = BaggingClassifier(\n",
        "    # Use 'estimator' instead of 'base_estimator' for newer scikit-learn versions\n",
        "    estimator=base_lr,\n",
        "    n_estimators=10,\n",
        "    random_state=42\n",
        ")\n",
        "\n",
        "# Train the model\n",
        "bagging_model.fit(X_train, y_train)\n",
        "\n",
        "# Predict probabilities\n",
        "y_proba = bagging_model.predict_proba(X_test)[:, 1]\n",
        "\n",
        "# Compute AUC score\n",
        "auc = roc_auc_score(y_test, y_proba)\n",
        "print(f\"Bagging Classifier with Logistic Regression - AUC Score: {auc:.4f}\")"
      ],
      "metadata": {
        "colab": {
          "base_uri": "https://localhost:8080/"
        },
        "id": "KoU5Zg9CbIpm",
        "outputId": "b8769025-35f6-4370-f6c7-a1bb6a69f6f6"
      },
      "execution_count": 18,
      "outputs": [
        {
          "output_type": "stream",
          "name": "stdout",
          "text": [
            "Bagging Classifier with Logistic Regression - AUC Score: 0.9978\n"
          ]
        }
      ]
    },
    {
      "cell_type": "code",
      "source": [
        "Q29- Train a Random Forest Regressor and analyze feature importance scores"
      ],
      "metadata": {
        "id": "5VRs8fH4Zm9c"
      },
      "execution_count": null,
      "outputs": []
    },
    {
      "cell_type": "code",
      "source": [
        "from sklearn.ensemble import RandomForestRegressor\n",
        "from sklearn.datasets import fetch_california_housing\n",
        "from sklearn.model_selection import train_test_split\n",
        "import pandas as pd\n",
        "import matplotlib.pyplot as plt\n",
        "\n",
        "# Load the California Housing dataset\n",
        "data = fetch_california_housing()\n",
        "X, y = data.data, data.target\n",
        "feature_names = data.feature_names\n",
        "\n",
        "# Train-test split\n",
        "X_train, X_test, y_train, y_test = train_test_split(X, y, test_size=0.3, random_state=42)\n",
        "\n",
        "# Train Random Forest Regressor\n",
        "model = RandomForestRegressor(n_estimators=100, random_state=42)\n",
        "model.fit(X_train, y_train)\n",
        "\n",
        "# Extract feature importances\n",
        "importances = model.feature_importances_\n",
        "\n",
        "# Create a DataFrame for better readability\n",
        "importance_df = pd.DataFrame({\n",
        "    'Feature': feature_names,\n",
        "    'Importance': importances\n",
        "}).sort_values(by='Importance', ascending=False)\n",
        "\n",
        "# Display feature importance scores\n",
        "print(\"Feature Importance Scores:\")\n",
        "print(importance_df)\n",
        "\n",
        "# Plot feature importances\n",
        "plt.figure(figsize=(10, 6))\n",
        "plt.barh(importance_df['Feature'], importance_df['Importance'], color='skyblue')\n",
        "plt.xlabel('Importance Score')\n",
        "plt.title('Random Forest Regressor - Feature Importances')\n",
        "plt.gca().invert_yaxis()\n",
        "plt.tight_layout()\n",
        "plt.show()\n"
      ],
      "metadata": {
        "colab": {
          "base_uri": "https://localhost:8080/",
          "height": 786
        },
        "id": "uElHbRnnZpel",
        "outputId": "7209422b-7d4e-40bf-d166-a3385d33ba9c"
      },
      "execution_count": 12,
      "outputs": [
        {
          "output_type": "stream",
          "name": "stdout",
          "text": [
            "Feature Importance Scores:\n",
            "      Feature  Importance\n",
            "0      MedInc    0.526011\n",
            "5    AveOccup    0.138220\n",
            "7   Longitude    0.086124\n",
            "6    Latitude    0.086086\n",
            "1    HouseAge    0.054654\n",
            "2    AveRooms    0.047188\n",
            "4  Population    0.031722\n",
            "3   AveBedrms    0.029995\n"
          ]
        },
        {
          "output_type": "display_data",
          "data": {
            "text/plain": [
              "<Figure size 1000x600 with 1 Axes>"
            ],
            "image/png": "[encoded data removed]"
          },
          "metadata": {}
        }
      ]
    },
    {
      "cell_type": "code",
      "source": [
        "Q30- Train an ensemble model using both Bagging and Random Forest and compare accuracy."
      ],
      "metadata": {
        "id": "el2WFEc2Z2UP"
      },
      "execution_count": null,
      "outputs": []
    },
    {
      "cell_type": "code",
      "source": [
        "from sklearn.ensemble import BaggingClassifier, RandomForestClassifier\n",
        "from sklearn.tree import DecisionTreeClassifier\n",
        "from sklearn.datasets import load_breast_cancer\n",
        "from sklearn.model_selection import train_test_split\n",
        "from sklearn.metrics import accuracy_score\n",
        "\n",
        "# Load dataset\n",
        "data = load_breast_cancer()\n",
        "X, y = data.data, data.target\n",
        "\n",
        "# Split dataset\n",
        "X_train, X_test, y_train, y_test = train_test_split(X, y, test_size=0.3, random_state=42)\n",
        "\n",
        "# Bagging Classifier with Decision Tree base estimator\n",
        "bagging_model = BaggingClassifier(\n",
        "    # Changed base_estimator to estimator\n",
        "    estimator=DecisionTreeClassifier(),\n",
        "    n_estimators=100,\n",
        "    random_state=42\n",
        ")\n",
        "bagging_model.fit(X_train, y_train)\n",
        "bagging_preds = bagging_model.predict(X_test)\n",
        "bagging_acc = accuracy_score(y_test, bagging_preds)\n",
        "\n",
        "# Random Forest Classifier\n",
        "rf_model = RandomForestClassifier(\n",
        "    n_estimators=100,\n",
        "    random_state=42\n",
        ")\n",
        "rf_model.fit(X_train, y_train)\n",
        "rf_preds = rf_model.predict(X_test)\n",
        "rf_acc = accuracy_score(y_test, rf_preds)\n",
        "\n",
        "# Compare accuracies\n",
        "print(f\"Bagging Classifier Accuracy: {bagging_acc:.4f}\")\n",
        "print(f\"Random Forest Classifier Accuracy: {rf_acc:.4f}\")"
      ],
      "metadata": {
        "colab": {
          "base_uri": "https://localhost:8080/"
        },
        "id": "Vn_WrBWQbgqo",
        "outputId": "a3572487-e48e-4365-96c6-f2dd49d1dce0"
      },
      "execution_count": 19,
      "outputs": [
        {
          "output_type": "stream",
          "name": "stdout",
          "text": [
            "Bagging Classifier Accuracy: 0.9591\n",
            "Random Forest Classifier Accuracy: 0.9708\n"
          ]
        }
      ]
    },
    {
      "cell_type": "code",
      "source": [
        "Q31- Train a Random Forest Classifier and tune hyperparameters using GridSearchCV="
      ],
      "metadata": {
        "id": "jUfcMW4SaP40"
      },
      "execution_count": null,
      "outputs": []
    },
    {
      "cell_type": "code",
      "source": [
        "from sklearn.ensemble import RandomForestClassifier\n",
        "from sklearn.datasets import load_breast_cancer\n",
        "from sklearn.model_selection import train_test_split, GridSearchCV\n",
        "from sklearn.metrics import accuracy_score\n",
        "\n",
        "# Load dataset\n",
        "data = load_breast_cancer()\n",
        "X, y = data.data, data.target\n",
        "\n",
        "# Split data\n",
        "X_train, X_test, y_train, y_test = train_test_split(X, y, test_size=0.3, random_state=42)\n",
        "\n",
        "# Define the Random Forest model\n",
        "rf = RandomForestClassifier(random_state=42)\n",
        "\n",
        "# Define hyperparameter grid\n",
        "param_grid = {\n",
        "    'n_estimators': [50, 100, 200],\n",
        "    'max_depth': [None, 5, 10],\n",
        "    'min_samples_split': [2, 5],\n",
        "    'min_samples_leaf': [1, 2]\n",
        "}\n",
        "\n",
        "# Setup GridSearchCV\n",
        "grid_search = GridSearchCV(\n",
        "    estimator=rf,\n",
        "    param_grid=param_grid,\n",
        "    cv=5,\n",
        "    scoring='accuracy',\n",
        "    n_jobs=-1,\n",
        "    verbose=1\n",
        ")\n",
        "\n",
        "# Fit GridSearch to training data\n",
        "grid_search.fit(X_train, y_train)\n",
        "\n",
        "# Best hyperparameters\n",
        "print(\"Best Hyperparameters:\", grid_search.best_params_)\n",
        "\n",
        "# Predict with the best estimator\n",
        "best_rf = grid_search.best_estimator_\n",
        "y_pred = best_rf.predict(X_test)\n",
        "\n",
        "# Evaluate accuracy\n",
        "accuracy = accuracy_score(y_test, y_pred)\n",
        "print(f\"Test Accuracy with best params: {accuracy:.4f}\")\n"
      ],
      "metadata": {
        "colab": {
          "base_uri": "https://localhost:8080/"
        },
        "id": "367nb0s9aSlv",
        "outputId": "71a1c775-8c9f-474c-dda7-b9ccb1464e77"
      },
      "execution_count": 14,
      "outputs": [
        {
          "output_type": "stream",
          "name": "stdout",
          "text": [
            "Fitting 5 folds for each of 36 candidates, totalling 180 fits\n",
            "Best Hyperparameters: {'max_depth': None, 'min_samples_leaf': 2, 'min_samples_split': 2, 'n_estimators': 200}\n",
            "Test Accuracy with best params: 0.9708\n"
          ]
        }
      ]
    },
    {
      "cell_type": "code",
      "source": [
        "Q32- Train a Bagging Regressor with different numbers of base estimators and compare performance"
      ],
      "metadata": {
        "id": "9GtpW-h2aYtX"
      },
      "execution_count": null,
      "outputs": []
    },
    {
      "cell_type": "code",
      "source": [
        "from sklearn.ensemble import BaggingRegressor\n",
        "from sklearn.tree import DecisionTreeRegressor\n",
        "from sklearn.datasets import fetch_california_housing\n",
        "from sklearn.model_selection import train_test_split\n",
        "from sklearn.metrics import r2_score\n",
        "import matplotlib.pyplot as plt\n",
        "\n",
        "# Load dataset\n",
        "data = fetch_california_housing()\n",
        "X, y = data.data, data.target\n",
        "\n",
        "# Train-test split\n",
        "X_train, X_test, y_train, y_test = train_test_split(X, y, test_size=0.3, random_state=42)\n",
        "\n",
        "# Different numbers of base estimators to try\n",
        "estimators_list = [1, 5, 10, 50, 100]\n",
        "r2_scores = []\n",
        "\n",
        "for n in estimators_list:\n",
        "    model = BaggingRegressor(\n",
        "        base_estimator=DecisionTreeRegressor(),\n",
        "        n_estimators=n,\n",
        "        random_state=42\n",
        "    )\n",
        "    model.fit(X_train, y_train)\n",
        "    y_pred = model.predict(X_test)\n",
        "    score = r2_score(y_test, y_pred)\n",
        "    r2_scores.append(score)\n",
        "    print(f\"Number of estimators: {n} => R² score: {score:.4f}\")\n",
        "\n",
        "# Plotting results\n",
        "plt.figure(figsize=(8,5))\n",
        "plt.plot(estimators_list, r2_scores, marker='o')\n",
        "plt.title(\"Bagging Regressor Performance vs Number of Estimators\")\n",
        "plt.xlabel(\"Number of Base Estimators\")\n",
        "plt.ylabel(\"R² Score\")\n",
        "plt.grid(True)\n",
        "plt.show()\n"
      ],
      "metadata": {
        "id": "6SvwBEh7ahav"
      },
      "execution_count": null,
      "outputs": []
    },
    {
      "cell_type": "code",
      "source": [
        "Q33- Train a Random Forest Classifier and analyze misclassified samples="
      ],
      "metadata": {
        "id": "cTpf06JGao8N"
      },
      "execution_count": null,
      "outputs": []
    },
    {
      "cell_type": "code",
      "source": [
        "from sklearn.ensemble import RandomForestClassifier\n",
        "from sklearn.datasets import load_breast_cancer\n",
        "from sklearn.model_selection import train_test_split\n",
        "from sklearn.metrics import accuracy_score\n",
        "import pandas as pd\n",
        "\n",
        "# Load dataset\n",
        "data = load_breast_cancer()\n",
        "X, y = data.data, data.target\n",
        "feature_names = data.feature_names\n",
        "\n",
        "# Split dataset\n",
        "X_train, X_test, y_train, y_test = train_test_split(X, y, test_size=0.3, random_state=42)\n",
        "\n",
        "# Train Random Forest Classifier\n",
        "rf = RandomForestClassifier(n_estimators=100, random_state=42)\n",
        "rf.fit(X_train, y_train)\n",
        "\n",
        "# Predict on test set\n",
        "y_pred = rf.predict(X_test)\n",
        "\n",
        "# Evaluate accuracy\n",
        "accuracy = accuracy_score(y_test, y_pred)\n",
        "print(f\"Accuracy: {accuracy:.4f}\")\n",
        "\n",
        "# Identify misclassified samples\n",
        "misclassified_idx = (y_test != y_pred)\n",
        "\n",
        "# Create a DataFrame for misclassified samples with their features, true and predicted labels\n",
        "misclassified_samples = pd.DataFrame(X_test[misclassified_idx], columns=feature_names)\n",
        "misclassified_samples['True Label'] = y_test[misclassified_idx]\n",
        "misclassified_samples['Predicted Label'] = y_pred[misclassified_idx]\n",
        "\n",
        "print(f\"\\nNumber of misclassified samples: {misclassified_samples.shape[0]}\")\n",
        "print(\"\\nMisclassified samples (first 5 shown):\")\n",
        "print(misclassified_samples.head())\n"
      ],
      "metadata": {
        "colab": {
          "base_uri": "https://localhost:8080/"
        },
        "id": "XKk5PbGFasE8",
        "outputId": "7d85ba5c-dbcb-4e79-841f-b9d1d7b3edcf"
      },
      "execution_count": 16,
      "outputs": [
        {
          "output_type": "stream",
          "name": "stdout",
          "text": [
            "Accuracy: 0.9708\n",
            "\n",
            "Number of misclassified samples: 5\n",
            "\n",
            "Misclassified samples (first 5 shown):\n",
            "   mean radius  mean texture  mean perimeter  mean area  mean smoothness  \\\n",
            "0        13.34         15.86           86.49      520.0          0.10780   \n",
            "1        13.80         15.79           90.43      584.1          0.10070   \n",
            "2        13.96         17.05           91.43      602.4          0.10960   \n",
            "3        14.48         21.46           94.25      648.2          0.09444   \n",
            "4        15.13         29.81           96.71      719.5          0.08320   \n",
            "\n",
            "   mean compactness  mean concavity  mean concave points  mean symmetry  \\\n",
            "0           0.15350         0.11690              0.06987         0.1942   \n",
            "1           0.12800         0.07789              0.05069         0.1662   \n",
            "2           0.12790         0.09789              0.05246         0.1908   \n",
            "3           0.09947         0.12040              0.04938         0.2075   \n",
            "4           0.04605         0.04686              0.02739         0.1852   \n",
            "\n",
            "   mean fractal dimension  ...  worst perimeter  worst area  worst smoothness  \\\n",
            "0                 0.06902  ...            96.66       614.9            0.1536   \n",
            "1                 0.06566  ...           110.30       812.4            0.1411   \n",
            "2                 0.06130  ...           108.10       826.0            0.1512   \n",
            "3                 0.05636  ...           108.40       808.9            0.1306   \n",
            "4                 0.05294  ...           110.10       931.4            0.1148   \n",
            "\n",
            "   worst compactness  worst concavity  worst concave points  worst symmetry  \\\n",
            "0            0.47910           0.4858               0.17080          0.3527   \n",
            "1            0.35420           0.2779               0.13830          0.2589   \n",
            "2            0.32620           0.3209               0.13740          0.3068   \n",
            "3            0.19760           0.3349               0.12250          0.3020   \n",
            "4            0.09866           0.1547               0.06575          0.3233   \n",
            "\n",
            "   worst fractal dimension  True Label  Predicted Label  \n",
            "0                  0.10160           1                0  \n",
            "1                  0.10300           0                1  \n",
            "2                  0.07957           0                1  \n",
            "3                  0.06846           0                1  \n",
            "4                  0.06165           0                1  \n",
            "\n",
            "[5 rows x 32 columns]\n"
          ]
        }
      ]
    },
    {
      "cell_type": "code",
      "source": [
        "Q34- Train a Bagging Classifier and compare its performance with a single Decision Tree Classifier="
      ],
      "metadata": {
        "id": "qJ7yfM5Fa3Hm"
      },
      "execution_count": null,
      "outputs": []
    },
    {
      "cell_type": "code",
      "source": [
        "from sklearn.ensemble import BaggingClassifier\n",
        "from sklearn.tree import DecisionTreeClassifier\n",
        "from sklearn.datasets import load_breast_cancer\n",
        "from sklearn.model_selection import train_test_split\n",
        "from sklearn.metrics import accuracy_score\n",
        "\n",
        "# Load dataset\n",
        "data = load_breast_cancer()\n",
        "X, y = data.data, data.target\n",
        "\n",
        "# Split into train and test sets\n",
        "X_train, X_test, y_train, y_test = train_test_split(X, y, test_size=0.3, random_state=42)\n",
        "\n",
        "# Train a single Decision Tree\n",
        "dt = DecisionTreeClassifier(random_state=42)\n",
        "dt.fit(X_train, y_train)\n",
        "y_pred_dt = dt.predict(X_test)\n",
        "acc_dt = accuracy_score(y_test, y_pred_dt)\n",
        "\n",
        "# Train a Bagging Classifier using Decision Tree as base estimator\n",
        "bagging = BaggingClassifier(\n",
        "    # Changed base_estimator to estimator\n",
        "    estimator=DecisionTreeClassifier(),\n",
        "    n_estimators=50,\n",
        "    random_state=42\n",
        ")\n",
        "bagging.fit(X_train, y_train)\n",
        "y_pred_bag = bagging.predict(X_test)\n",
        "acc_bag = accuracy_score(y_test, y_pred_bag)\n",
        "\n",
        "print(f\"Single Decision Tree Accuracy: {acc_dt:.4f}\")\n",
        "print(f\"Bagging Classifier Accuracy: {acc_bag:.4f}\")"
      ],
      "metadata": {
        "colab": {
          "base_uri": "https://localhost:8080/"
        },
        "id": "VCA2lByNcOO_",
        "outputId": "d745032c-1cc9-48be-ef68-95cd33513a5f"
      },
      "execution_count": 20,
      "outputs": [
        {
          "output_type": "stream",
          "name": "stdout",
          "text": [
            "Single Decision Tree Accuracy: 0.9415\n",
            "Bagging Classifier Accuracy: 0.9591\n"
          ]
        }
      ]
    },
    {
      "cell_type": "code",
      "source": [
        "Q35- Train a Random Forest Classifier and visualize the confusion matrix="
      ],
      "metadata": {
        "id": "TJ0mATv2cKvi"
      },
      "execution_count": null,
      "outputs": []
    },
    {
      "cell_type": "code",
      "source": [
        "from sklearn.ensemble import RandomForestClassifier\n",
        "from sklearn.datasets import load_breast_cancer\n",
        "from sklearn.model_selection import train_test_split\n",
        "from sklearn.metrics import confusion_matrix, ConfusionMatrixDisplay\n",
        "import matplotlib.pyplot as plt\n",
        "\n",
        "# Load dataset\n",
        "data = load_breast_cancer()\n",
        "X, y = data.data, data.target\n",
        "\n",
        "# Split dataset\n",
        "X_train, X_test, y_train, y_test = train_test_split(X, y, test_size=0.3, random_state=42)\n",
        "\n",
        "# Train Random Forest Classifier\n",
        "rf = RandomForestClassifier(n_estimators=100, random_state=42)\n",
        "rf.fit(X_train, y_train)\n",
        "\n",
        "# Predict on test set\n",
        "y_pred = rf.predict(X_test)\n",
        "\n",
        "# Compute confusion matrix\n",
        "cm = confusion_matrix(y_test, y_pred)\n",
        "\n",
        "# Visualize confusion matrix\n",
        "disp = ConfusionMatrixDisplay(confusion_matrix=cm, display_labels=data.target_names)\n",
        "disp.plot(cmap=plt.cm.Blues)\n",
        "plt.title(\"Random Forest Confusion Matrix\")\n",
        "plt.show()\n"
      ],
      "metadata": {
        "colab": {
          "base_uri": "https://localhost:8080/",
          "height": 472
        },
        "id": "toBUSNphcZuv",
        "outputId": "250bed4e-5d5d-434d-a35f-eb7bdab44420"
      },
      "execution_count": 21,
      "outputs": [
        {
          "output_type": "display_data",
          "data": {
            "text/plain": [
              "<Figure size 640x480 with 2 Axes>"
            ],
            "image/png": "[encoded data removed]"
          },
          "metadata": {}
        }
      ]
    },
    {
      "cell_type": "code",
      "source": [
        "Q36-  Train a Stacking Classifier using Decision Trees, SVM, and Logistic Regression, and compare accuracy"
      ],
      "metadata": {
        "id": "de8CbUWLccMh"
      },
      "execution_count": null,
      "outputs": []
    },
    {
      "cell_type": "code",
      "source": [
        "from sklearn.datasets import load_breast_cancer\n",
        "from sklearn.model_selection import train_test_split\n",
        "from sklearn.tree import DecisionTreeClassifier\n",
        "from sklearn.svm import SVC\n",
        "from sklearn.linear_model import LogisticRegression\n",
        "from sklearn.ensemble import StackingClassifier\n",
        "from sklearn.metrics import accuracy_score\n",
        "\n",
        "# Load data\n",
        "data = load_breast_cancer()\n",
        "X, y = data.data, data.target\n",
        "\n",
        "# Train-test split\n",
        "X_train, X_test, y_train, y_test = train_test_split(X, y, test_size=0.3, random_state=42)\n",
        "\n",
        "# Base learners\n",
        "estimators = [\n",
        "    ('dt', DecisionTreeClassifier(random_state=42)),\n",
        "    ('svm', SVC(probability=True, random_state=42)),\n",
        "    ('lr', LogisticRegression(max_iter=1000, random_state=42))\n",
        "]\n",
        "\n",
        "# Stacking Classifier with Logistic Regression as final estimator\n",
        "stack_clf = StackingClassifier(\n",
        "    estimators=estimators,\n",
        "    final_estimator=LogisticRegression(),\n",
        "    cv=5\n",
        ")\n",
        "\n",
        "# Train stacking classifier\n",
        "stack_clf.fit(X_train, y_train)\n",
        "y_pred_stack = stack_clf.predict(X_test)\n",
        "acc_stack = accuracy_score(y_test, y_pred_stack)\n",
        "\n",
        "print(f\"Stacking Classifier Accuracy: {acc_stack:.4f}\")\n",
        "\n",
        "# Also evaluate base learners individually\n",
        "for name, model in estimators:\n",
        "    model.fit(X_train, y_train)\n",
        "    y_pred = model.predict(X_test)\n",
        "    acc = accuracy_score(y_test, y_pred)\n",
        "    print(f\"{name} Accuracy: {acc:.4f}\")\n"
      ],
      "metadata": {
        "colab": {
          "base_uri": "https://localhost:8080/"
        },
        "id": "ofJXPxJccj0W",
        "outputId": "088a7dc6-61ee-409b-f35a-6741f58fe00f"
      },
      "execution_count": 23,
      "outputs": [
        {
          "output_type": "stream",
          "name": "stderr",
          "text": [
            "/usr/local/lib/python3.11/dist-packages/sklearn/linear_model/_logistic.py:465: ConvergenceWarning: lbfgs failed to converge (status=1):\n",
            "STOP: TOTAL NO. OF ITERATIONS REACHED LIMIT.\n",
            "\n",
            "Increase the number of iterations (max_iter) or scale the data as shown in:\n",
            "    https://scikit-learn.org/stable/modules/preprocessing.html\n",
            "Please also refer to the documentation for alternative solver options:\n",
            "    https://scikit-learn.org/stable/modules/linear_model.html#logistic-regression\n",
            "  n_iter_i = _check_optimize_result(\n",
            "/usr/local/lib/python3.11/dist-packages/sklearn/linear_model/_logistic.py:465: ConvergenceWarning: lbfgs failed to converge (status=1):\n",
            "STOP: TOTAL NO. OF ITERATIONS REACHED LIMIT.\n",
            "\n",
            "Increase the number of iterations (max_iter) or scale the data as shown in:\n",
            "    https://scikit-learn.org/stable/modules/preprocessing.html\n",
            "Please also refer to the documentation for alternative solver options:\n",
            "    https://scikit-learn.org/stable/modules/linear_model.html#logistic-regression\n",
            "  n_iter_i = _check_optimize_result(\n",
            "/usr/local/lib/python3.11/dist-packages/sklearn/linear_model/_logistic.py:465: ConvergenceWarning: lbfgs failed to converge (status=1):\n",
            "STOP: TOTAL NO. OF ITERATIONS REACHED LIMIT.\n",
            "\n",
            "Increase the number of iterations (max_iter) or scale the data as shown in:\n",
            "    https://scikit-learn.org/stable/modules/preprocessing.html\n",
            "Please also refer to the documentation for alternative solver options:\n",
            "    https://scikit-learn.org/stable/modules/linear_model.html#logistic-regression\n",
            "  n_iter_i = _check_optimize_result(\n",
            "/usr/local/lib/python3.11/dist-packages/sklearn/linear_model/_logistic.py:465: ConvergenceWarning: lbfgs failed to converge (status=1):\n",
            "STOP: TOTAL NO. OF ITERATIONS REACHED LIMIT.\n",
            "\n",
            "Increase the number of iterations (max_iter) or scale the data as shown in:\n",
            "    https://scikit-learn.org/stable/modules/preprocessing.html\n",
            "Please also refer to the documentation for alternative solver options:\n",
            "    https://scikit-learn.org/stable/modules/linear_model.html#logistic-regression\n",
            "  n_iter_i = _check_optimize_result(\n",
            "/usr/local/lib/python3.11/dist-packages/sklearn/linear_model/_logistic.py:465: ConvergenceWarning: lbfgs failed to converge (status=1):\n",
            "STOP: TOTAL NO. OF ITERATIONS REACHED LIMIT.\n",
            "\n",
            "Increase the number of iterations (max_iter) or scale the data as shown in:\n",
            "    https://scikit-learn.org/stable/modules/preprocessing.html\n",
            "Please also refer to the documentation for alternative solver options:\n",
            "    https://scikit-learn.org/stable/modules/linear_model.html#logistic-regression\n",
            "  n_iter_i = _check_optimize_result(\n",
            "/usr/local/lib/python3.11/dist-packages/sklearn/linear_model/_logistic.py:465: ConvergenceWarning: lbfgs failed to converge (status=1):\n",
            "STOP: TOTAL NO. OF ITERATIONS REACHED LIMIT.\n",
            "\n",
            "Increase the number of iterations (max_iter) or scale the data as shown in:\n",
            "    https://scikit-learn.org/stable/modules/preprocessing.html\n",
            "Please also refer to the documentation for alternative solver options:\n",
            "    https://scikit-learn.org/stable/modules/linear_model.html#logistic-regression\n",
            "  n_iter_i = _check_optimize_result(\n"
          ]
        },
        {
          "output_type": "stream",
          "name": "stdout",
          "text": [
            "Stacking Classifier Accuracy: 0.9708\n",
            "dt Accuracy: 0.9415\n",
            "svm Accuracy: 0.9357\n",
            "lr Accuracy: 0.9708\n"
          ]
        },
        {
          "output_type": "stream",
          "name": "stderr",
          "text": [
            "/usr/local/lib/python3.11/dist-packages/sklearn/linear_model/_logistic.py:465: ConvergenceWarning: lbfgs failed to converge (status=1):\n",
            "STOP: TOTAL NO. OF ITERATIONS REACHED LIMIT.\n",
            "\n",
            "Increase the number of iterations (max_iter) or scale the data as shown in:\n",
            "    https://scikit-learn.org/stable/modules/preprocessing.html\n",
            "Please also refer to the documentation for alternative solver options:\n",
            "    https://scikit-learn.org/stable/modules/linear_model.html#logistic-regression\n",
            "  n_iter_i = _check_optimize_result(\n"
          ]
        }
      ]
    },
    {
      "cell_type": "code",
      "source": [
        "Q37- Train a Random Forest Classifier and print the top 5 most important features="
      ],
      "metadata": {
        "id": "WJhGx2vMcxcL"
      },
      "execution_count": null,
      "outputs": []
    },
    {
      "cell_type": "code",
      "source": [
        "from sklearn.ensemble import RandomForestClassifier\n",
        "from sklearn.datasets import load_breast_cancer\n",
        "from sklearn.model_selection import train_test_split\n",
        "import pandas as pd\n",
        "\n",
        "# Load dataset\n",
        "data = load_breast_cancer()\n",
        "X, y = data.data, data.target\n",
        "feature_names = data.feature_names\n",
        "\n",
        "# Split dataset\n",
        "X_train, X_test, y_train, y_test = train_test_split(X, y, test_size=0.3, random_state=42)\n",
        "\n",
        "# Train Random Forest\n",
        "rf = RandomForestClassifier(n_estimators=100, random_state=42)\n",
        "rf.fit(X_train, y_train)\n",
        "\n",
        "# Get feature importances\n",
        "importances = rf.feature_importances_\n",
        "\n",
        "# Create a DataFrame for features and their importance\n",
        "feat_imp_df = pd.DataFrame({\n",
        "    'Feature': feature_names,\n",
        "    'Importance': importances\n",
        "})\n",
        "\n",
        "# Sort by importance descending and print top 5\n",
        "top5 = feat_imp_df.sort_values(by='Importance', ascending=False).head(5)\n",
        "print(\"Top 5 Important Features:\")\n",
        "print(top5)\n"
      ],
      "metadata": {
        "colab": {
          "base_uri": "https://localhost:8080/"
        },
        "id": "pw6wpE0Tc2xG",
        "outputId": "9cb236b2-dc80-4080-c250-59d7c4f413d4"
      },
      "execution_count": 24,
      "outputs": [
        {
          "output_type": "stream",
          "name": "stdout",
          "text": [
            "Top 5 Important Features:\n",
            "                 Feature  Importance\n",
            "7    mean concave points    0.141934\n",
            "27  worst concave points    0.127136\n",
            "23            worst area    0.118217\n",
            "6         mean concavity    0.080557\n",
            "20          worst radius    0.077975\n"
          ]
        }
      ]
    },
    {
      "cell_type": "code",
      "source": [
        "Q38- Train a Bagging Classifier and evaluate performance using Precision, Recall, and F1-score="
      ],
      "metadata": {
        "id": "5w0sbw32c9fN"
      },
      "execution_count": null,
      "outputs": []
    },
    {
      "cell_type": "code",
      "source": [
        "from sklearn.ensemble import BaggingClassifier\n",
        "from sklearn.tree import DecisionTreeClassifier\n",
        "from sklearn.datasets import load_breast_cancer\n",
        "from sklearn.model_selection import train_test_split\n",
        "from sklearn.metrics import precision_score, recall_score, f1_score\n",
        "\n",
        "# Load dataset\n",
        "data = load_breast_cancer()\n",
        "X, y = data.data, data.target\n",
        "\n",
        "# Split dataset\n",
        "X_train, X_test, y_train, y_test = train_test_split(X, y, test_size=0.3, random_state=42)\n",
        "\n",
        "# Train Bagging Classifier\n",
        "bagging = BaggingClassifier(\n",
        "    # Changed base_estimator to estimator to fix TypeError\n",
        "    estimator=DecisionTreeClassifier(),\n",
        "    n_estimators=50,\n",
        "    random_state=42\n",
        ")\n",
        "bagging.fit(X_train, y_train)\n",
        "\n",
        "# Predict on test set\n",
        "y_pred = bagging.predict(X_test)\n",
        "\n",
        "# Calculate precision, recall, and f1-score\n",
        "precision = precision_score(y_test, y_pred)\n",
        "recall = recall_score(y_test, y_pred)\n",
        "f1 = f1_score(y_test, y_pred)\n",
        "\n",
        "print(f\"Precision: {precision:.4f}\")\n",
        "print(f\"Recall:    {recall:.4f}\")\n",
        "print(f\"F1-score:  {f1:.4f}\")"
      ],
      "metadata": {
        "id": "bNd47ERxdZyH"
      },
      "execution_count": null,
      "outputs": []
    },
    {
      "cell_type": "code",
      "source": [
        "Q39- Train a Random Forest Classifier and analyze the effect of max_depth on accuracy"
      ],
      "metadata": {
        "id": "k-Z9-wpRdLbq"
      },
      "execution_count": null,
      "outputs": []
    },
    {
      "cell_type": "code",
      "source": [
        "from sklearn.ensemble import RandomForestClassifier\n",
        "from sklearn.datasets import load_breast_cancer\n",
        "from sklearn.model_selection import train_test_split\n",
        "from sklearn.metrics import accuracy_score\n",
        "import matplotlib.pyplot as plt\n",
        "\n",
        "# Load dataset\n",
        "data = load_breast_cancer()\n",
        "X, y = data.data, data.target\n",
        "\n",
        "# Split dataset\n",
        "X_train, X_test, y_train, y_test = train_test_split(X, y, test_size=0.3, random_state=42)\n",
        "\n",
        "# Different max_depth values to test\n",
        "max_depth_values = [1, 2, 3, 5, 10, 15, 20, None]  # None means unlimited depth\n",
        "accuracies = []\n",
        "\n",
        "for depth in max_depth_values:\n",
        "    rf = RandomForestClassifier(n_estimators=100, max_depth=depth, random_state=42)\n",
        "    rf.fit(X_train, y_train)\n",
        "    y_pred = rf.predict(X_test)\n",
        "    acc = accuracy_score(y_test, y_pred)\n",
        "    accuracies.append(acc)\n",
        "    print(f\"max_depth={depth}: Accuracy={acc:.4f}\")\n",
        "\n",
        "# Plotting the effect of max_depth on accuracy\n",
        "plt.figure(figsize=(8,5))\n",
        "plt.plot([str(d) for d in max_depth_values], accuracies, marker='o')\n",
        "plt.title(\"Effect of max_depth on Random Forest Accuracy\")\n",
        "plt.xlabel(\"max_depth\")\n",
        "plt.ylabel(\"Accuracy\")\n",
        "plt.grid(True)\n",
        "plt.show()\n"
      ],
      "metadata": {
        "colab": {
          "base_uri": "https://localhost:8080/",
          "height": 630
        },
        "id": "4tRHu8PwdRnd",
        "outputId": "1a017678-69f5-4b2e-8888-c5f8cbf5ef44"
      },
      "execution_count": 26,
      "outputs": [
        {
          "output_type": "stream",
          "name": "stdout",
          "text": [
            "max_depth=1: Accuracy=0.9591\n",
            "max_depth=2: Accuracy=0.9532\n",
            "max_depth=3: Accuracy=0.9708\n",
            "max_depth=5: Accuracy=0.9649\n",
            "max_depth=10: Accuracy=0.9708\n",
            "max_depth=15: Accuracy=0.9708\n",
            "max_depth=20: Accuracy=0.9708\n",
            "max_depth=None: Accuracy=0.9708\n"
          ]
        },
        {
          "output_type": "display_data",
          "data": {
            "text/plain": [
              "<Figure size 800x500 with 1 Axes>"
            ],
            "image/png": "[encoded data removed]"
          },
          "metadata": {}
        }
      ]
    },
    {
      "cell_type": "code",
      "source": [
        "Q40- Train a Bagging Regressor using different base estimators (DecisionTree and KNeighbors) and compare\n",
        "performance="
      ],
      "metadata": {
        "id": "rosFKyB6dbXF"
      },
      "execution_count": null,
      "outputs": []
    },
    {
      "cell_type": "code",
      "source": [
        "from sklearn.ensemble import BaggingRegressor\n",
        "from sklearn.tree import DecisionTreeRegressor\n",
        "from sklearn.neighbors import KNeighborsRegressor\n",
        "from sklearn.datasets import fetch_california_housing\n",
        "from sklearn.model_selection import train_test_split\n",
        "from sklearn.metrics import r2_score\n",
        "\n",
        "# Load dataset\n",
        "data = fetch_california_housing()\n",
        "X, y = data.data, data.target\n",
        "\n",
        "# Split dataset\n",
        "X_train, X_test, y_train, y_test = train_test_split(X, y, test_size=0.3, random_state=42)\n",
        "\n",
        "# Bagging Regressor with Decision Tree base estimator\n",
        "bagging_dt = BaggingRegressor(\n",
        "    # Changed base_estimator to estimator\n",
        "    estimator=DecisionTreeRegressor(),\n",
        "    n_estimators=50,\n",
        "    random_state=42\n",
        ")\n",
        "bagging_dt.fit(X_train, y_train)\n",
        "y_pred_dt = bagging_dt.predict(X_test)\n",
        "r2_dt = r2_score(y_test, y_pred_dt)\n",
        "\n",
        "# Bagging Regressor with K-Neighbors base estimator\n",
        "bagging_knn = BaggingRegressor(\n",
        "    # Changed base_estimator to estimator\n",
        "    estimator=KNeighborsRegressor(),\n",
        "    n_estimators=50,\n",
        "    random_state=42\n",
        ")\n",
        "bagging_knn.fit(X_train, y_train)\n",
        "y_pred_knn = bagging_knn.predict(X_test)\n",
        "r2_knn = r2_score(y_test, y_pred_knn)\n",
        "\n",
        "print(f\"Bagging with Decision Tree R² Score: {r2_dt:.4f}\")\n",
        "print(f\"Bagging with K-Neighbors R² Score:  {r2_knn:.4f}\")"
      ],
      "metadata": {
        "colab": {
          "base_uri": "https://localhost:8080/"
        },
        "id": "Eign87MOdqu3",
        "outputId": "f976f50d-235f-4bf2-8a35-53a2421bbced"
      },
      "execution_count": 28,
      "outputs": [
        {
          "output_type": "stream",
          "name": "stdout",
          "text": [
            "Bagging with Decision Tree R² Score: 0.8035\n",
            "Bagging with K-Neighbors R² Score:  0.1603\n"
          ]
        }
      ]
    },
    {
      "cell_type": "code",
      "source": [
        "Q41- Train a Random Forest Classifier and evaluate its performance using ROC-AUC Score"
      ],
      "metadata": {
        "id": "TXOYpoUQdr9W"
      },
      "execution_count": null,
      "outputs": []
    },
    {
      "cell_type": "code",
      "source": [
        "from sklearn.ensemble import RandomForestClassifier\n",
        "from sklearn.datasets import load_breast_cancer\n",
        "from sklearn.model_selection import train_test_split\n",
        "from sklearn.metrics import roc_auc_score\n",
        "\n",
        "# Load dataset\n",
        "data = load_breast_cancer()\n",
        "X, y = data.data, data.target\n",
        "\n",
        "# Split dataset\n",
        "X_train, X_test, y_train, y_test = train_test_split(X, y, test_size=0.3, random_state=42)\n",
        "\n",
        "# Train Random Forest Classifier\n",
        "rf = RandomForestClassifier(n_estimators=100, random_state=42)\n",
        "rf.fit(X_train, y_train)\n",
        "\n",
        "# Predict probabilities for the positive class\n",
        "y_proba = rf.predict_proba(X_test)[:, 1]\n",
        "\n",
        "# Calculate ROC-AUC score\n",
        "roc_auc = roc_auc_score(y_test, y_proba)\n",
        "print(f\"ROC-AUC Score: {roc_auc:.4f}\")\n"
      ],
      "metadata": {
        "colab": {
          "base_uri": "https://localhost:8080/"
        },
        "id": "umafWzrrdxQY",
        "outputId": "e56f98d1-fc1b-4682-f125-7b81544e27f7"
      },
      "execution_count": 29,
      "outputs": [
        {
          "output_type": "stream",
          "name": "stdout",
          "text": [
            "ROC-AUC Score: 0.9968\n"
          ]
        }
      ]
    },
    {
      "cell_type": "code",
      "source": [
        "Q42- Train a Bagging Classifier and evaluate its performance using cross-validatio."
      ],
      "metadata": {
        "id": "1KGyBML6d1ls"
      },
      "execution_count": null,
      "outputs": []
    },
    {
      "cell_type": "code",
      "source": [
        "from sklearn.ensemble import BaggingClassifier\n",
        "from sklearn.tree import DecisionTreeClassifier\n",
        "from sklearn.datasets import load_breast_cancer\n",
        "from sklearn.model_selection import cross_val_score\n",
        "import numpy as np\n",
        "\n",
        "# Load dataset\n",
        "data = load_breast_cancer()\n",
        "X, y = data.data, data.target\n",
        "\n",
        "# Initialize Bagging Classifier with Decision Tree base estimator\n",
        "bagging = BaggingClassifier(\n",
        "    # Changed base_estimator to estimator to fix TypeError\n",
        "    estimator=DecisionTreeClassifier(),\n",
        "    n_estimators=50,\n",
        "    random_state=42\n",
        ")\n",
        "\n",
        "# Perform 5-fold cross-validation\n",
        "cv_scores = cross_val_score(bagging, X, y, cv=5, scoring='accuracy')\n",
        "\n",
        "# Print cross-validation results\n",
        "print(f\"Cross-Validation Accuracy Scores: {cv_scores}\")\n",
        "print(f\"Mean Accuracy: {np.mean(cv_scores):.4f}\")\n",
        "print(f\"Standard Deviation: {np.std(cv_scores):.4f}\")"
      ],
      "metadata": {
        "colab": {
          "base_uri": "https://localhost:8080/"
        },
        "id": "Go-ZxrXDeE5d",
        "outputId": "0c4b1599-edfc-4c4c-b587-987890b79b50"
      },
      "execution_count": 31,
      "outputs": [
        {
          "output_type": "stream",
          "name": "stdout",
          "text": [
            "Cross-Validation Accuracy Scores: [0.9122807  0.92105263 0.98245614 0.95614035 1.        ]\n",
            "Mean Accuracy: 0.9544\n",
            "Standard Deviation: 0.0339\n"
          ]
        }
      ]
    },
    {
      "cell_type": "code",
      "source": [
        "Q 43- Train a Random Forest Classifier and plot the Precision-Recall curv\u0010"
      ],
      "metadata": {
        "id": "jYc7ES-DeHtA"
      },
      "execution_count": null,
      "outputs": []
    },
    {
      "cell_type": "code",
      "source": [
        "import matplotlib.pyplot as plt\n",
        "from sklearn.ensemble import RandomForestClassifier\n",
        "from sklearn.datasets import load_breast_cancer\n",
        "from sklearn.model_selection import train_test_split\n",
        "from sklearn.metrics import precision_recall_curve, average_precision_score\n",
        "\n",
        "# Load dataset\n",
        "data = load_breast_cancer()\n",
        "X, y = data.data, data.target\n",
        "\n",
        "# Split data\n",
        "X_train, X_test, y_train, y_test = train_test_split(X, y, test_size=0.3, random_state=42)\n",
        "\n",
        "# Train Random Forest\n",
        "rf = RandomForestClassifier(n_estimators=100, random_state=42)\n",
        "rf.fit(X_train, y_train)\n",
        "\n",
        "# Predict probabilities for positive class\n",
        "y_scores = rf.predict_proba(X_test)[:, 1]\n",
        "\n",
        "# Compute precision-recall curve\n",
        "precision, recall, thresholds = precision_recall_curve(y_test, y_scores)\n",
        "\n",
        "# Compute average precision score (area under PR curve)\n",
        "avg_precision = average_precision_score(y_test, y_scores)\n",
        "\n",
        "# Plot Precision-Recall curve\n",
        "plt.figure(figsize=(8,6))\n",
        "plt.plot(recall, precision, label=f'PR curve (AP = {avg_precision:.2f})', color='b')\n",
        "plt.xlabel('Recall')\n",
        "plt.ylabel('Precision')\n",
        "plt.title('Precision-Recall Curve - Random Forest')\n",
        "plt.legend(loc='lower left')\n",
        "plt.grid(True)\n",
        "plt.show()\n"
      ],
      "metadata": {
        "colab": {
          "base_uri": "https://localhost:8080/",
          "height": 564
        },
        "id": "jS9yKLhfeNla",
        "outputId": "9154b658-bfae-496a-b25a-b92f25c53905"
      },
      "execution_count": 32,
      "outputs": [
        {
          "output_type": "display_data",
          "data": {
            "text/plain": [
              "<Figure size 800x600 with 1 Axes>"
            ],
            "image/png": "[encoded data removed]"
          },
          "metadata": {}
        }
      ]
    },
    {
      "cell_type": "code",
      "source": [
        "Q43-  Train a Stacking Classifier with Random Forest and Logistic Regression and compare accuracy="
      ],
      "metadata": {
        "id": "an5WobRoeYeT"
      },
      "execution_count": null,
      "outputs": []
    },
    {
      "cell_type": "code",
      "source": [
        "from sklearn.datasets import load_breast_cancer\n",
        "from sklearn.model_selection import train_test_split\n",
        "from sklearn.ensemble import RandomForestClassifier, StackingClassifier\n",
        "from sklearn.linear_model import LogisticRegression\n",
        "from sklearn.metrics import accuracy_score\n",
        "\n",
        "# Load data\n",
        "data = load_breast_cancer()\n",
        "X, y = data.data, data.target\n",
        "\n",
        "# Split data\n",
        "X_train, X_test, y_train, y_test = train_test_split(X, y, test_size=0.3, random_state=42)\n",
        "\n",
        "# Base learners\n",
        "estimators = [\n",
        "    ('rf', RandomForestClassifier(n_estimators=100, random_state=42)),\n",
        "    ('lr', LogisticRegression(max_iter=1000, random_state=42))\n",
        "]\n",
        "\n",
        "# Stacking Classifier with Logistic Regression as final estimator\n",
        "stack_clf = StackingClassifier(\n",
        "    estimators=estimators,\n",
        "    final_estimator=LogisticRegression(max_iter=1000),\n",
        "    cv=5\n",
        ")\n",
        "\n",
        "# Train stacking classifier\n",
        "stack_clf.fit(X_train, y_train)\n",
        "y_pred_stack = stack_clf.predict(X_test)\n",
        "acc_stack = accuracy_score(y_test, y_pred_stack)\n",
        "\n",
        "print(f\"Stacking Classifier Accuracy: {acc_stack:.4f}\")\n",
        "\n",
        "# Evaluate base learners individually\n",
        "for name, model in estimators:\n",
        "    model.fit(X_train, y_train)\n",
        "    y_pred = model.predict(X_test)\n",
        "    acc = accuracy_score(y_test, y_pred)\n",
        "    print(f\"{name} Accuracy: {acc:.4f}\")\n"
      ],
      "metadata": {
        "colab": {
          "base_uri": "https://localhost:8080/"
        },
        "id": "QCWHwm86eat3",
        "outputId": "109cce8d-1154-4328-9723-21bfecee561c"
      },
      "execution_count": 33,
      "outputs": [
        {
          "output_type": "stream",
          "name": "stderr",
          "text": [
            "/usr/local/lib/python3.11/dist-packages/sklearn/linear_model/_logistic.py:465: ConvergenceWarning: lbfgs failed to converge (status=1):\n",
            "STOP: TOTAL NO. OF ITERATIONS REACHED LIMIT.\n",
            "\n",
            "Increase the number of iterations (max_iter) or scale the data as shown in:\n",
            "    https://scikit-learn.org/stable/modules/preprocessing.html\n",
            "Please also refer to the documentation for alternative solver options:\n",
            "    https://scikit-learn.org/stable/modules/linear_model.html#logistic-regression\n",
            "  n_iter_i = _check_optimize_result(\n",
            "/usr/local/lib/python3.11/dist-packages/sklearn/linear_model/_logistic.py:465: ConvergenceWarning: lbfgs failed to converge (status=1):\n",
            "STOP: TOTAL NO. OF ITERATIONS REACHED LIMIT.\n",
            "\n",
            "Increase the number of iterations (max_iter) or scale the data as shown in:\n",
            "    https://scikit-learn.org/stable/modules/preprocessing.html\n",
            "Please also refer to the documentation for alternative solver options:\n",
            "    https://scikit-learn.org/stable/modules/linear_model.html#logistic-regression\n",
            "  n_iter_i = _check_optimize_result(\n",
            "/usr/local/lib/python3.11/dist-packages/sklearn/linear_model/_logistic.py:465: ConvergenceWarning: lbfgs failed to converge (status=1):\n",
            "STOP: TOTAL NO. OF ITERATIONS REACHED LIMIT.\n",
            "\n",
            "Increase the number of iterations (max_iter) or scale the data as shown in:\n",
            "    https://scikit-learn.org/stable/modules/preprocessing.html\n",
            "Please also refer to the documentation for alternative solver options:\n",
            "    https://scikit-learn.org/stable/modules/linear_model.html#logistic-regression\n",
            "  n_iter_i = _check_optimize_result(\n",
            "/usr/local/lib/python3.11/dist-packages/sklearn/linear_model/_logistic.py:465: ConvergenceWarning: lbfgs failed to converge (status=1):\n",
            "STOP: TOTAL NO. OF ITERATIONS REACHED LIMIT.\n",
            "\n",
            "Increase the number of iterations (max_iter) or scale the data as shown in:\n",
            "    https://scikit-learn.org/stable/modules/preprocessing.html\n",
            "Please also refer to the documentation for alternative solver options:\n",
            "    https://scikit-learn.org/stable/modules/linear_model.html#logistic-regression\n",
            "  n_iter_i = _check_optimize_result(\n",
            "/usr/local/lib/python3.11/dist-packages/sklearn/linear_model/_logistic.py:465: ConvergenceWarning: lbfgs failed to converge (status=1):\n",
            "STOP: TOTAL NO. OF ITERATIONS REACHED LIMIT.\n",
            "\n",
            "Increase the number of iterations (max_iter) or scale the data as shown in:\n",
            "    https://scikit-learn.org/stable/modules/preprocessing.html\n",
            "Please also refer to the documentation for alternative solver options:\n",
            "    https://scikit-learn.org/stable/modules/linear_model.html#logistic-regression\n",
            "  n_iter_i = _check_optimize_result(\n",
            "/usr/local/lib/python3.11/dist-packages/sklearn/linear_model/_logistic.py:465: ConvergenceWarning: lbfgs failed to converge (status=1):\n",
            "STOP: TOTAL NO. OF ITERATIONS REACHED LIMIT.\n",
            "\n",
            "Increase the number of iterations (max_iter) or scale the data as shown in:\n",
            "    https://scikit-learn.org/stable/modules/preprocessing.html\n",
            "Please also refer to the documentation for alternative solver options:\n",
            "    https://scikit-learn.org/stable/modules/linear_model.html#logistic-regression\n",
            "  n_iter_i = _check_optimize_result(\n"
          ]
        },
        {
          "output_type": "stream",
          "name": "stdout",
          "text": [
            "Stacking Classifier Accuracy: 0.9708\n",
            "rf Accuracy: 0.9708\n",
            "lr Accuracy: 0.9708\n"
          ]
        },
        {
          "output_type": "stream",
          "name": "stderr",
          "text": [
            "/usr/local/lib/python3.11/dist-packages/sklearn/linear_model/_logistic.py:465: ConvergenceWarning: lbfgs failed to converge (status=1):\n",
            "STOP: TOTAL NO. OF ITERATIONS REACHED LIMIT.\n",
            "\n",
            "Increase the number of iterations (max_iter) or scale the data as shown in:\n",
            "    https://scikit-learn.org/stable/modules/preprocessing.html\n",
            "Please also refer to the documentation for alternative solver options:\n",
            "    https://scikit-learn.org/stable/modules/linear_model.html#logistic-regression\n",
            "  n_iter_i = _check_optimize_result(\n"
          ]
        }
      ]
    },
    {
      "cell_type": "code",
      "source": [
        "Q44- Train a Bagging Regressor with different levels of bootstrap samples and compare performance."
      ],
      "metadata": {
        "id": "teuA63udee2l"
      },
      "execution_count": null,
      "outputs": []
    },
    {
      "cell_type": "code",
      "source": [
        "from sklearn.ensemble import BaggingRegressor\n",
        "from sklearn.tree import DecisionTreeRegressor\n",
        "from sklearn.datasets import fetch_california_housing\n",
        "from sklearn.model_selection import train_test_split\n",
        "from sklearn.metrics import r2_score\n",
        "import numpy as np\n",
        "import matplotlib.pyplot as plt\n",
        "\n",
        "# Load dataset\n",
        "data = fetch_california_housing()\n",
        "X, y = data.data, data.target\n",
        "\n",
        "# Split dataset\n",
        "X_train, X_test, y_train, y_test = train_test_split(X, y, test_size=0.3, random_state=42)\n",
        "\n",
        "# Different max_samples values to try (fractions of the training set)\n",
        "max_samples_values = [0.3, 0.5, 0.7, 1.0]\n",
        "r2_scores = []\n",
        "\n",
        "for max_samples in max_samples_values:\n",
        "    bagging = BaggingRegressor(\n",
        "        # Changed base_estimator to estimator\n",
        "        estimator=DecisionTreeRegressor(),\n",
        "        n_estimators=50,\n",
        "        max_samples=max_samples,\n",
        "        random_state=42\n",
        "    )\n",
        "    bagging.fit(X_train, y_train)\n",
        "    y_pred = bagging.predict(X_test)\n",
        "    r2 = r2_score(y_test, y_pred)\n",
        "    r2_scores.append(r2)\n",
        "    print(f\"max_samples={max_samples}: R² Score = {r2:.4f}\")\n",
        "\n",
        "# Plotting performance vs max_samples\n",
        "plt.figure(figsize=(8,5))\n",
        "plt.plot(max_samples_values, r2_scores, marker='o')\n",
        "plt.title(\"Effect of max_samples on Bagging Regressor Performance\")\n",
        "plt.xlabel(\"max_samples (fraction of training data)\")\n",
        "plt.ylabel(\"R² Score\")\n",
        "plt.grid(True)\n",
        "plt.show()"
      ],
      "metadata": {
        "colab": {
          "base_uri": "https://localhost:8080/",
          "height": 558
        },
        "id": "gnnCoVsre3MU",
        "outputId": "f7773675-a93a-4126-99aa-079996bf6d9a"
      },
      "execution_count": 35,
      "outputs": [
        {
          "output_type": "stream",
          "name": "stdout",
          "text": [
            "max_samples=0.3: R² Score = 0.7855\n",
            "max_samples=0.5: R² Score = 0.7994\n",
            "max_samples=0.7: R² Score = 0.8003\n",
            "max_samples=1.0: R² Score = 0.8035\n"
          ]
        },
        {
          "output_type": "display_data",
          "data": {
            "text/plain": [
              "<Figure size 800x500 with 1 Axes>"
            ],
            "image/png": "[encoded data removed]"
          },
          "metadata": {}
        }
      ]
    }
  ]
}