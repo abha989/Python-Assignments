{
  "nbformat": 4,
  "nbformat_minor": 0,
  "metadata": {
    "colab": {
      "provenance": [],
      "authorship_tag": "ABX9TyOC+JXCOQ7rmOKiq4QXH+nK",
      "include_colab_link": true
    },
    "kernelspec": {
      "name": "python3",
      "display_name": "Python 3"
    },
    "language_info": {
      "name": "python"
    }
  },
  "cells": [
    {
      "cell_type": "markdown",
      "metadata": {
        "id": "view-in-github",
        "colab_type": "text"
      },
      "source": [
        "<a href=\"https://colab.research.google.com/github/abha989/Python-Assignments/blob/main/OOPS_Assignment4.ipynb\" target=\"_parent\"><img src=\"https://colab.research.google.com/assets/colab-badge.svg\" alt=\"Open In Colab\"/></a>"
      ]
    },
    {
      "cell_type": "code",
      "execution_count": null,
      "metadata": {
        "id": "c6MBfE5J4Tvv"
      },
      "outputs": [],
      "source": [
        "#1-Create a parent class Animal with a method speak() that prints a generic message. Create a child class Dog that overrides the speak() method to print \"Bark!\"."
      ]
    },
    {
      "cell_type": "code",
      "source": [
        "class Animal:\n",
        "  def speak(self):\n",
        "    print(\"i can bark\")\n",
        "class Dog(Animal):\n",
        "  def speak(self):\n",
        "    print(\"Bark!\")\n",
        "my_animal = Animal()\n",
        "my_animal.speak()\n",
        "pet_dog = Dog()\n",
        "pet_dog.speak()\n"
      ],
      "metadata": {
        "colab": {
          "base_uri": "https://localhost:8080/"
        },
        "id": "31GW_CNM5G6E",
        "outputId": "cb889b2e-3b24-4b3e-a743-1018c36da733"
      },
      "execution_count": null,
      "outputs": [
        {
          "output_type": "stream",
          "name": "stdout",
          "text": [
            "i can bark\n",
            "Bark!\n"
          ]
        }
      ]
    },
    {
      "cell_type": "code",
      "source": [
        "#2- Write a program to create an abstract class Shape with a method area(). Derive classes Circle and Rectangle from it and implement the area() method in both."
      ],
      "metadata": {
        "id": "U9FjFG8Z9745"
      },
      "execution_count": null,
      "outputs": []
    },
    {
      "cell_type": "code",
      "source": [
        "from abc import ABC, abstractmethod\n",
        "\n",
        "\n",
        "class Shape(ABC):\n",
        "    @abstractmethod\n",
        "    def area(self):\n",
        "        pass\n",
        "\n",
        "\n",
        "class Circle(Shape):\n",
        "    def __init__(self, radius):\n",
        "        self.radius = radius\n",
        "\n",
        "    def area(self):\n",
        "        return 3.14 * self.radius * self.radius\n",
        "\n",
        "\n",
        "class Rectangle(Shape):\n",
        "    def __init__(self, length, breadth):\n",
        "        self.length = length\n",
        "        self.breadth = breadth\n",
        "\n",
        "    def area(self):\n",
        "        return self.length * self.breadth\n",
        "\n",
        "\n",
        "circle_radius = float(input(\"Enter the radius of the circle: \"))\n",
        "circle = Circle(circle_radius)\n",
        "print(f\"The area of the circle is: {circle.area()}\")\n",
        "\n",
        "\n",
        "rect_length = float(input(\"Enter the length of the rectangle: \"))\n",
        "rect_breadth = float(input(\"Enter the breadth of the rectangle: \"))\n",
        "rectangle = Rectangle(rect_length, rect_breadth)\n",
        "print(f\"The area of the rectangle is: {rectangle.area()}\")\n"
      ],
      "metadata": {
        "colab": {
          "base_uri": "https://localhost:8080/"
        },
        "id": "U3bYRgGKb6R3",
        "outputId": "7f8497b6-595e-4dc8-9689-721704c10b9b"
      },
      "execution_count": null,
      "outputs": [
        {
          "output_type": "stream",
          "name": "stdout",
          "text": [
            "Enter the radius of the circle: 15\n",
            "The area of the circle is: 706.5\n",
            "Enter the length of the rectangle: 15\n",
            "Enter the breadth of the rectangle: 30\n",
            "The area of the rectangle is: 450.0\n"
          ]
        }
      ]
    },
    {
      "cell_type": "code",
      "source": [
        "#3. Implement a multi-level inheritance scenario where a class Vehicle has an attribute type. Derive a class Car and further derive a class ElectricCar that adds a battery attribute."
      ],
      "metadata": {
        "id": "H8Atq_tIR4T0"
      },
      "execution_count": null,
      "outputs": []
    },
    {
      "cell_type": "code",
      "source": [
        "class Vehicle:\n",
        "  def type(self):\n",
        "    self.type\n",
        "class Car(Vehicle):\n",
        "  def automatic(self):\n",
        "    print(\"this is automatic\")\n",
        "class ElectricCar(Car):\n",
        "  def type(self):\n",
        "    print(\"this is electric car\")\n",
        "\n",
        "\n",
        "vehicle_1 = ElectricCar()\n",
        "vehicle_1.type()\n",
        "vehicle_1.automatic()\n"
      ],
      "metadata": {
        "id": "IuqdOlsTUfKU",
        "colab": {
          "base_uri": "https://localhost:8080/"
        },
        "outputId": "e765f791-6c0e-4d95-f6ee-6b0e913cc7f3"
      },
      "execution_count": null,
      "outputs": [
        {
          "output_type": "stream",
          "name": "stdout",
          "text": [
            "this is electric car\n",
            "this is automatic\n"
          ]
        }
      ]
    },
    {
      "cell_type": "code",
      "source": [
        "#4- Implement a multi-level inheritance scenario where a class Vehicle has an attribute type. Derive a class Car and further derive a class ElectricCar that adds a battery attribute."
      ],
      "metadata": {
        "id": "_TIWYD3YbdXV"
      },
      "execution_count": null,
      "outputs": []
    },
    {
      "cell_type": "code",
      "source": [
        "\n",
        "class Vehicle:\n",
        "    def __init__(self, vehicle_type):\n",
        "        self.vehicle_type = vehicle_type\n",
        "\n",
        "    def display_info(self):\n",
        "        print(f\"Vehicle Type: {self.vehicle_type}\")\n",
        "\n",
        "\n",
        "class Car(Vehicle):\n",
        "    def __init__(self, vehicle_type, brand, model):\n",
        "        super().__init__(vehicle_type)\n",
        "        self.brand = brand\n",
        "        self.model = model\n",
        "\n",
        "    def display_info(self):\n",
        "        super().display_info()\n",
        "        print(f\"Brand: {self.brand}, Model: {self.model}\")\n",
        "\n",
        "\n",
        "class ElectricCar(Car):\n",
        "    def __init__(self, vehicle_type, brand, model, battery_capacity):\n",
        "        super().__init__(vehicle_type, brand, model)\n",
        "        self.battery_capacity = battery_capacity\n",
        "\n",
        "    def display_info(self):\n",
        "        super().display_info()\n",
        "        print(f\"Battery Capacity: {self.battery_capacity} kWh\")\n",
        "\n",
        "\n",
        "my_electric_car = ElectricCar(\"Electric Vehicle\", \"Tesla\", \"Model S\", 100)\n",
        "\n",
        "\n",
        "my_electric_car.display_info()\n"
      ],
      "metadata": {
        "colab": {
          "base_uri": "https://localhost:8080/"
        },
        "id": "nP4MBXNGbm2H",
        "outputId": "a28769c7-0933-4c14-e936-648ffd29e41a"
      },
      "execution_count": 1,
      "outputs": [
        {
          "output_type": "stream",
          "name": "stdout",
          "text": [
            "Vehicle Type: Electric Vehicle\n",
            "Brand: Tesla, Model: Model S\n",
            "Battery Capacity: 100 kWh\n"
          ]
        }
      ]
    },
    {
      "cell_type": "code",
      "source": [
        "#5- Write a program to demonstrate encapsulation by creating a class BankAccount with private attributes balance and methods to deposit, withdraw, and check balance."
      ],
      "metadata": {
        "id": "vJzw9Snv7Gcz"
      },
      "execution_count": null,
      "outputs": []
    },
    {
      "cell_type": "code",
      "source": [
        "class BankAccount:\n",
        "    def __init__(self, account_number, balance):\n",
        "        self.account_number = account_number\n",
        "        self.balance = balance\n",
        "\n",
        "    def deposit(self, amount):\n",
        "        if amount > 0:\n",
        "            self.balance += amount\n",
        "            print(f\"${amount} deposited successfully. Current balance: ${self.balance}\")\n",
        "        else:\n",
        "            print(\"Deposit amount must be positive\")\n",
        "\n",
        "    def withdraw(self, amount):\n",
        "        if amount > self.balance:\n",
        "            print(\"Insufficient funds\")\n",
        "        elif amount > 0:\n",
        "            self.balance -= amount\n",
        "            print(f\"${amount} withdrawn successfully. Current balance: ${self.balance}\")\n",
        "        else:\n",
        "            print(\"Withdrawal amount must be positive\")\n",
        "\n",
        "    def check_balance(self):\n",
        "        print(f\"Current balance: ${self.balance}\")\n",
        "\n",
        "\n",
        "\n",
        "my_account = BankAccount(\"123456\", 500)\n",
        "my_account.deposit(200)\n",
        "my_account.withdraw(100)\n",
        "my_account.check_balance()\n"
      ],
      "metadata": {
        "colab": {
          "base_uri": "https://localhost:8080/"
        },
        "id": "G-4ISYlBSKHJ",
        "outputId": "081c45f9-8641-41c6-a240-bb919bdfd1a5"
      },
      "execution_count": null,
      "outputs": [
        {
          "output_type": "stream",
          "name": "stdout",
          "text": [
            "$200 deposited successfully. Current balance: $700\n",
            "$100 withdrawn successfully. Current balance: $600\n",
            "Current balance: $600\n"
          ]
        }
      ]
    },
    {
      "cell_type": "code",
      "source": [
        "#6- Demonstrate runtime polymorphism using a method play() in a base class Instrument. Derive classes Guitar and Piano that implement their own version of play()."
      ],
      "metadata": {
        "id": "F3u0_lfGTJTb"
      },
      "execution_count": null,
      "outputs": []
    },
    {
      "cell_type": "code",
      "source": [
        "class Instrument:\n",
        "  def play(self):\n",
        "    print(\"playing instrument\")\n",
        "\n",
        "class guitar(Instrument):\n",
        "  def play(self):\n",
        "    print(\"This is the guitar class\")\n",
        "class piano(Instrument):\n",
        "  def play(self):\n",
        "    print(\"This is the class piano\")\n",
        "\n",
        "def perform(Instrument):\n",
        "  Instrument.play()\n",
        "Guitar = guitar()\n",
        "Piano = piano()\n",
        "\n",
        "perform(Guitar)\n",
        "perform(Piano)\n"
      ],
      "metadata": {
        "id": "umZ1dPYTV3Mw",
        "colab": {
          "base_uri": "https://localhost:8080/"
        },
        "outputId": "93fcf12b-9ff5-482d-b23f-638dd73fff24"
      },
      "execution_count": null,
      "outputs": [
        {
          "output_type": "stream",
          "name": "stdout",
          "text": [
            "This is the guitar class\n",
            "This is the class piano\n"
          ]
        }
      ]
    },
    {
      "cell_type": "code",
      "source": [
        "#7- Create a class MathOperations with a class method add_numbers() to add two numbers and a static method subtract_numbers() to subtract two numbers."
      ],
      "metadata": {
        "id": "8rIDnXdK2-VY"
      },
      "execution_count": null,
      "outputs": []
    },
    {
      "cell_type": "code",
      "source": [
        "class MathOperations:\n",
        "  @classmethod\n",
        "  def add_numbers(cls,a,b):\n",
        "    return a + b\n",
        "  @staticmethod\n",
        "  def subtract_numbers(a,b):\n",
        "    return a - b\n",
        "\n",
        "print(\"Addition:\",MathOperations.add_numbers(10,15))\n",
        "print(\"Addtion:\",MathOperations.subtract_numbers(10,15))\n",
        "\n",
        "\n"
      ],
      "metadata": {
        "colab": {
          "base_uri": "https://localhost:8080/"
        },
        "id": "uwXjnd4s3D4V",
        "outputId": "39e8c86c-e5c7-4635-d598-f612cc43b117"
      },
      "execution_count": null,
      "outputs": [
        {
          "output_type": "stream",
          "name": "stdout",
          "text": [
            "Addition: 25\n",
            "Addtion: -5\n"
          ]
        }
      ]
    },
    {
      "cell_type": "code",
      "source": [
        "#8- Implement a class Person with a class method to count the total number of persons created"
      ],
      "metadata": {
        "id": "mp9DkCoxq037"
      },
      "execution_count": null,
      "outputs": []
    },
    {
      "cell_type": "code",
      "source": [
        "class person:\n",
        "  count = 0\n",
        "  def __init__(self):\n",
        "    person.count += 1\n",
        "\n",
        "p1 = person()\n",
        "p2 = person()\n",
        "p3 = person()\n",
        "print(person.count)"
      ],
      "metadata": {
        "id": "vsP1VUSkq4MY",
        "colab": {
          "base_uri": "https://localhost:8080/"
        },
        "outputId": "efa4d265-686e-4175-facc-9a4b8195c232"
      },
      "execution_count": null,
      "outputs": [
        {
          "output_type": "stream",
          "name": "stdout",
          "text": [
            "3\n"
          ]
        }
      ]
    },
    {
      "cell_type": "code",
      "source": [
        "#9. Write a class Fraction with attributes numerator and denominator. Override the str method to display the fraction as \"numerator/denominator\"."
      ],
      "metadata": {
        "id": "JK7c4hXCdpIy"
      },
      "execution_count": null,
      "outputs": []
    },
    {
      "cell_type": "code",
      "source": [
        "class Fraction:\n",
        "   def __init__(self,numerator,denominator):\n",
        "    self.numerator = numerator\n",
        "    self.denominator = denominator\n",
        "\n",
        "   def __str__(self):\n",
        "    return f\"{self.numerator}/{self.denominator}\"\n",
        "f1 = Fraction(1,2)\n",
        "f2 = Fraction(3,4)\n",
        "print(f1)\n",
        "print(f2)\n",
        "\n",
        "\n",
        "\n"
      ],
      "metadata": {
        "colab": {
          "base_uri": "https://localhost:8080/"
        },
        "id": "RvqOFkVaeBAX",
        "outputId": "2d78098a-a521-4426-e587-1f1238b09142"
      },
      "execution_count": null,
      "outputs": [
        {
          "output_type": "stream",
          "name": "stdout",
          "text": [
            "1/2\n",
            "3/4\n"
          ]
        }
      ]
    },
    {
      "cell_type": "code",
      "source": [
        "#10. Demonstrate operator overloading by creating a class Vector and overriding the add method to add two vectors."
      ],
      "metadata": {
        "id": "k6I_0-FBiI01"
      },
      "execution_count": null,
      "outputs": []
    },
    {
      "cell_type": "code",
      "source": [
        "class Vector:\n",
        "   def __init__(self,x,y):\n",
        "    self.x = x\n",
        "    self.y = y\n",
        "   def __str__(self):\n",
        "    return f\"{self.x,self.y}\"\n",
        "\n",
        "   def __add__(self,other):\n",
        "    if isinstance(other,Vector):\n",
        "      return Vector(self.x + other.x,self.y + other.y)\n",
        "    else:\n",
        "      print(\"unsupported data\")\n",
        "\n",
        "   def __repr__(self):\n",
        "        return f\"Vector({self.x}, {self.y})\"\n",
        "v1 = Vector(2, 3)\n",
        "v2 = Vector(4, 5)\n",
        "v3 = v1 + v2\n",
        "print(v1)\n",
        "print(v2)\n",
        "print(v3)\n",
        "\n"
      ],
      "metadata": {
        "colab": {
          "base_uri": "https://localhost:8080/"
        },
        "id": "c27v-WPyiW9T",
        "outputId": "eee5ed5c-4eeb-43b5-852d-6414b4e4055a"
      },
      "execution_count": null,
      "outputs": [
        {
          "output_type": "stream",
          "name": "stdout",
          "text": [
            "(2, 3)\n",
            "(4, 5)\n",
            "(6, 8)\n"
          ]
        }
      ]
    },
    {
      "cell_type": "code",
      "source": [
        "#11-  years old.\"Create a class Person with attributes name and age. Add a method greet() that prints \"Hello, my name is {name} and I am {age} years old"
      ],
      "metadata": {
        "id": "xZuIS51LvzWK"
      },
      "execution_count": null,
      "outputs": []
    },
    {
      "cell_type": "code",
      "source": [
        "class Person:\n",
        "  def __init__(self,name,age):\n",
        "    self.name = name\n",
        "    self.age = age\n",
        "\n",
        "  def greet(self):\n",
        "    print(f\"Hello, My name is {self.name} and i am {self.age} years old\")\n",
        "\n",
        "p = Person(\"abha\",30)\n",
        "p.greet()"
      ],
      "metadata": {
        "colab": {
          "base_uri": "https://localhost:8080/"
        },
        "id": "fgqzwjkwzQnw",
        "outputId": "03c5eb1b-6004-40c7-f082-d76b4fe4d331"
      },
      "execution_count": null,
      "outputs": [
        {
          "output_type": "stream",
          "name": "stdout",
          "text": [
            "Hello, My name is abha and i am 30 years old\n"
          ]
        }
      ]
    },
    {
      "cell_type": "code",
      "source": [
        "#12- Implement a class Student with attributes name and grades. Create a method average_grade() to compute the average of the grades."
      ],
      "metadata": {
        "id": "5V7KUxNu3NNJ"
      },
      "execution_count": null,
      "outputs": []
    },
    {
      "cell_type": "code",
      "source": [
        "class Students:\n",
        "  def __init__(self,name,grades):\n",
        "    self.name = name\n",
        "    self.grades = grades\n",
        "\n",
        "  def average_grade(self):\n",
        "    return sum(self.grades) / len(self.grades) if self.grades else 0\n",
        "S = Students(\"abha\",[1,2,3,4,5])\n",
        "S.average_grade()\n",
        "\n"
      ],
      "metadata": {
        "colab": {
          "base_uri": "https://localhost:8080/"
        },
        "id": "znuIDHe_Brq4",
        "outputId": "b4d6efeb-e7ea-4bb7-9e0e-70124854ace8"
      },
      "execution_count": null,
      "outputs": [
        {
          "output_type": "execute_result",
          "data": {
            "text/plain": [
              "3.0"
            ]
          },
          "metadata": {},
          "execution_count": 26
        }
      ]
    },
    {
      "cell_type": "code",
      "source": [
        "#13- Create a class Rectangle with methods set_dimensions() to set the dimensions and area() to calculate the area."
      ],
      "metadata": {
        "id": "8GaGFhhpNHkE"
      },
      "execution_count": null,
      "outputs": []
    },
    {
      "cell_type": "code",
      "source": [
        "class Rectangle:\n",
        "  def set_dimensions(self,length, height):\n",
        "    self.length = length\n",
        "    self.height = height\n",
        "\n",
        "  def area(self):\n",
        "    return self.length * self.height\n",
        "\n",
        "R = Rectangle()\n",
        "R.set_dimensions(25,50)\n",
        "print(R.area())"
      ],
      "metadata": {
        "colab": {
          "base_uri": "https://localhost:8080/"
        },
        "id": "FAlo7Pj8NWMP",
        "outputId": "89afab7f-f8c4-46be-f4f3-c1ab4566a646"
      },
      "execution_count": null,
      "outputs": [
        {
          "output_type": "stream",
          "name": "stdout",
          "text": [
            "1250\n"
          ]
        }
      ]
    },
    {
      "cell_type": "code",
      "source": [
        "#14-  Create a class Employee with a method calculate_salary() that computes the salary based on hours worked and hourly rate. Create a derived class Manager that adds a bonus to the salary."
      ],
      "metadata": {
        "id": "2yvMiwFwPDDs"
      },
      "execution_count": null,
      "outputs": []
    },
    {
      "cell_type": "code",
      "source": [
        "class Employee:\n",
        "    def __init__(self, name, hourly_rate, hours):\n",
        "        self.name = name\n",
        "        self.hourly_rate = hourly_rate\n",
        "        self.hours = hours\n",
        "\n",
        "    def calculate_salary(self):\n",
        "        return self.hourly_rate * self.hours\n",
        "\n",
        "class Manager(Employee):\n",
        "    def __init__(self, name, hourly_rate, hours, bonus):\n",
        "        super().__init__(name, hourly_rate, hours)\n",
        "        self.bonus = bonus\n",
        "\n",
        "    def calculate_salary(self):\n",
        "        base_salary = super().calculate_salary()\n",
        "        return base_salary + self.bonus\n",
        "employee = Employee(\"John\", 20, 40)\n",
        "print(f\"Employee Salary: ${employee.calculate_salary()}\")\n",
        "\n",
        "manager = Manager(\"Alice\", 30, 40, 500)\n",
        "print(f\"Manager Salary: ${manager.calculate_salary()}\")\n"
      ],
      "metadata": {
        "colab": {
          "base_uri": "https://localhost:8080/"
        },
        "id": "11Fh6PzldqrH",
        "outputId": "c0ed9b91-0526-48fd-c306-69231875bc5f"
      },
      "execution_count": null,
      "outputs": [
        {
          "output_type": "stream",
          "name": "stdout",
          "text": [
            "Employee Salary: $800\n",
            "Manager Salary: $1700\n"
          ]
        }
      ]
    },
    {
      "cell_type": "code",
      "source": [
        "#15. Create a class Product with attributes name, price, and quantity. Implement a method total_price() that calculates the total price of the product."
      ],
      "metadata": {
        "id": "YYLZMwekfiaH"
      },
      "execution_count": null,
      "outputs": []
    },
    {
      "cell_type": "code",
      "source": [
        "class Product:\n",
        "  def __init__(self,name,price,quantity):\n",
        "    self.name = name\n",
        "    self.price = price\n",
        "    self.quantity = quantity\n",
        "  def total_price(self):\n",
        "    return self.price * self.quantity\n",
        "\n",
        "P = Product(\"Biscuit\",50,5)\n",
        "print(P.total_price())"
      ],
      "metadata": {
        "colab": {
          "base_uri": "https://localhost:8080/"
        },
        "id": "BMSUPhJTfk6t",
        "outputId": "258e6300-275d-4dcb-cdc0-3064b9a9f44b"
      },
      "execution_count": null,
      "outputs": [
        {
          "output_type": "stream",
          "name": "stdout",
          "text": [
            "250\n"
          ]
        }
      ]
    },
    {
      "cell_type": "code",
      "source": [
        "#16. Create a class Animal with an abstract method sound(). Create two derived classes Cow and Sheep that implement the sound() method."
      ],
      "metadata": {
        "id": "ZaQkMBu7iCAi"
      },
      "execution_count": null,
      "outputs": []
    },
    {
      "cell_type": "code",
      "source": [
        "class Animal:\n",
        "  def sound(self):\n",
        "    print(\"How diffrent animal sound\")\n",
        "\n",
        "class Cow:\n",
        "  def sound(Animal):\n",
        "    print(\"\")\n",
        "\n",
        "class Sheep:"
      ],
      "metadata": {
        "id": "5TSPCr0AiPFb"
      },
      "execution_count": null,
      "outputs": []
    },
    {
      "cell_type": "code",
      "source": [
        "#17- Create a class Book with attributes title, author, and year_published. Add a method get_book_info() that returns a formatted string with the book's details."
      ],
      "metadata": {
        "id": "xLiBT0m4j3w5"
      },
      "execution_count": null,
      "outputs": []
    },
    {
      "cell_type": "code",
      "source": [
        "class Book:\n",
        "  def __init__ (self,title,author,year_published):\n",
        "    self.title = title\n",
        "    self.author = author\n",
        "    self.year_published = year_published\n",
        "\n",
        "  def get_book_info(self):\n",
        "    print(f\"Book details: {self.title}, {self.author}, {self.year_published}\")\n",
        "\n",
        "B = Book(\"Python\",\"Martin C. Brown\",\"2013\")\n",
        "B.get_book_info()\n",
        "\n"
      ],
      "metadata": {
        "colab": {
          "base_uri": "https://localhost:8080/"
        },
        "id": "vV5tRBiTj-KS",
        "outputId": "c1eace04-3582-46ea-93d8-66dcf68e9d8e"
      },
      "execution_count": null,
      "outputs": [
        {
          "output_type": "stream",
          "name": "stdout",
          "text": [
            "Book details: Python, Martin C. Brown, 2013\n"
          ]
        }
      ]
    },
    {
      "cell_type": "code",
      "source": [
        "#18. Create a class House with attributes address and price. Create a derived class Mansion that adds an attribute number_of_rooms."
      ],
      "metadata": {
        "id": "i-TDvdEGmMB_"
      },
      "execution_count": null,
      "outputs": []
    },
    {
      "cell_type": "code",
      "source": [
        "class House:\n",
        "  def __init__(self,address,price):\n",
        "    self.address = address\n",
        "    self.price = price\n",
        "\n",
        "  def get_details(self):\n",
        "    return f\"address: {self.address} price: ${self.price}\"\n",
        "\n",
        "\n",
        "class Mansion(House):\n",
        "  def __init__(self,address,price,no_of_rooms):\n",
        "    super().__init__(address,price)\n",
        "    self.no_of_rooms = no_of_rooms\n",
        "\n",
        "  def get_details(self):\n",
        "     return super().get_details()\n",
        "     return f\"{base_details}, Number of Rooms: {self.number_of_rooms}\"\n",
        "\n",
        "house = House(\"123 Maple Street\", 150000)\n",
        "print(house.get_details())\n",
        "\n",
        "mansion = Mansion(\"456 Oak Avenue\", 1200000, 10)\n",
        "print(mansion.get_details())\n",
        "\n"
      ],
      "metadata": {
        "colab": {
          "base_uri": "https://localhost:8080/"
        },
        "id": "NeD5Cc8AmTcn",
        "outputId": "f29013ca-da6f-4b39-e293-71fe438e54e8"
      },
      "execution_count": null,
      "outputs": [
        {
          "output_type": "stream",
          "name": "stdout",
          "text": [
            "address: 123 Maple Street price: $150000\n",
            "address: 456 Oak Avenue price: $1200000\n"
          ]
        }
      ]
    },
    {
      "cell_type": "code",
      "source": [
        "#Python OOPs Questions\n"
      ],
      "metadata": {
        "id": "0X1FRpeGswCT"
      },
      "execution_count": null,
      "outputs": []
    },
    {
      "cell_type": "code",
      "source": [
        "#1- What is Object-Oriented Programming (OOP)?"
      ],
      "metadata": {
        "id": "e1nFArtUvE2O"
      },
      "execution_count": null,
      "outputs": []
    },
    {
      "cell_type": "code",
      "source": [
        "'''Ans - Object-Oriented Programming (OOP) is a programming paradigm that organizes code around objects rather than functions and logic.\n",
        "An object represents a real-world entity that has attributes (data) and behaviors (methods or functions).\n",
        "Key Concepts of OOP:\n",
        "Classes:\n",
        "A class is a blueprint or template for creating objects.\n",
        "Objects:\n",
        "An object is an instance of a class. It holds actual data.\n",
        "Encapsulation:\n",
        "Hides the internal state of an object and restricts direct access to some components.\n",
        "Ensures data protection.\n",
        "Inheritance:\n",
        "Allows a class to inherit properties and methods from another class.\n",
        "Promotes code reusability.\n",
        "Polymorphism:\n",
        "Allows different classes to be treated as the same type through common interfaces.\n",
        "Abstraction:\n",
        "Hides complex implementation details and shows only the necessary features.\n",
        "Achieved using abstract classes and interfaces.\n",
        "\n",
        "'''"
      ],
      "metadata": {
        "id": "r-KaP5dmvLhK"
      },
      "execution_count": null,
      "outputs": []
    },
    {
      "cell_type": "code",
      "source": [
        "#2- What is a class in OOP?"
      ],
      "metadata": {
        "id": "RTv7fKLqwWA_"
      },
      "execution_count": null,
      "outputs": []
    },
    {
      "cell_type": "code",
      "source": [
        "'''- A class in OOP is like a blueprint or template used to create objects. It defines the attributes (data) and methods (functions) that the objects created\n",
        "from the class will have.\n",
        "Think of a class as a cookie cutter, and the objects are the actual cookies made from that cutter.\n",
        "The cutter (class) defines the shape, but the cookies (objects) are the real things you can see and interact with.\n",
        "\n",
        " Key Components of a Class:\n",
        "Attributes (Properties):\n",
        "\n",
        "These are the variables that hold the data related to the object.\n",
        "Example: name, age, color, price.\n",
        "Methods (Functions):\n",
        "\n",
        "These are functions defined inside a class that describe the behaviors of the objects.\n",
        "Example: drive(), speak(), calculate_area().\n",
        "Constructor (__init__ Method):\n",
        "\n",
        "A special method used to initialize the attributes when an object is created.\n",
        "In Python, this is done using __init__."
      ],
      "metadata": {
        "id": "U60yyuUawa1g"
      },
      "execution_count": null,
      "outputs": []
    },
    {
      "cell_type": "code",
      "source": [
        "#3- What is an object in OOP?"
      ],
      "metadata": {
        "id": "P-JNOzhkww2k"
      },
      "execution_count": null,
      "outputs": []
    },
    {
      "cell_type": "code",
      "source": [
        "'''- An object in OOP is an instance of a class. While a class is the blueprint or template, the object is the actual thing created based on that blueprint.\n",
        "Objects represent real-world entities with specific attributes (data) and behaviors (methods). Each object has its own unique data,\n",
        "even if it’s created from the same class.\n",
        "\n",
        "Key Features of an Object:\n",
        "Attributes (Properties):\n",
        "\n",
        "These hold the data or characteristics of the object.\n",
        "Example: For a Car object → color, brand, year.\n",
        "Methods (Behaviors):\n",
        "\n",
        "These are actions the object can perform.\n",
        "Example: A Car object can drive(), brake(), or honk().\n",
        "State and Behavior:\n",
        "\n",
        "State: Defined by the object’s attributes (e.g., color = red).\n",
        "Behavior: Defined by its methods (e.g., start(), stop()).'''\n",
        "\n",
        "\n"
      ],
      "metadata": {
        "id": "BfDViCFnxERn"
      },
      "execution_count": null,
      "outputs": []
    },
    {
      "cell_type": "code",
      "source": [
        "#4- What is the difference between abstraction and encapsulation1"
      ],
      "metadata": {
        "id": "jzKzAka-xUVj"
      },
      "execution_count": null,
      "outputs": []
    },
    {
      "cell_type": "code",
      "source": [
        "'''- Both abstraction and encapsulation are key principles of Object-Oriented Programming (OOP), but they serve different purposes.\n",
        "Let’s break them down clearly:\n",
        "\n",
        "1. Encapsulation (Data Hiding)\n",
        "Definition:\n",
        "Encapsulation is the process of wrapping data (attributes) and methods (functions) together as a single unit. It restricts direct access to some of the object's components to protect the data from unintended interference.\n",
        "Purpose:\n",
        "To hide internal details of an object and control access to them using getters and setters.\n",
        "How It Works:\n",
        "Use private variables (with __ in Python) to hide data.\n",
        "Provide public methods to access or modify the hidden data safely.\n",
        "Abstraction (Hiding Complexity)\n",
        "Definition:\n",
        "Abstraction is the concept of hiding complex implementation details and showing only the essential features of an object. It helps in focusing on what an object does, instead of how it does it.\n",
        "Purpose:\n",
        "To reduce complexity by hiding unnecessary details from the user and exposing only the relevant parts.\n",
        "How It Works:\n",
        "Use abstract classes and interfaces.\n",
        "Define abstract methods that must be implemented by derived classes.'''"
      ],
      "metadata": {
        "id": "iMP7pnBixYaA"
      },
      "execution_count": null,
      "outputs": []
    },
    {
      "cell_type": "code",
      "source": [
        "#5- What are dunder methods in Python?"
      ],
      "metadata": {
        "id": "VlvP041tx4Cl"
      },
      "execution_count": null,
      "outputs": []
    },
    {
      "cell_type": "code",
      "source": [
        "'''Dunder Methods, also known as Magic Methods or Special Methods, are built-in methods in Python that have double underscores (__) at the beginning and end of their names.\n",
        "The term \"dunder\" comes from \"double underscore\".\n",
        "These methods allow you to define custom behavior for your classes, especially for operator overloading, object representation, and built-in function behavior.'''"
      ],
      "metadata": {
        "id": "bksP-D_ayARl"
      },
      "execution_count": null,
      "outputs": []
    },
    {
      "cell_type": "code",
      "source": [
        "#6- Explain the concept of inheritance in OOP?"
      ],
      "metadata": {
        "id": "8SRg-iX7yLzW"
      },
      "execution_count": null,
      "outputs": []
    },
    {
      "cell_type": "code",
      "source": [
        "'''- Inheritance is a fundamental concept in OOP that allows one class (child or derived class) to inherit properties and behaviors\n",
        "(attributes and methods) from another class (parent or base class).\n",
        "It promotes code reusability, extensibility, and helps in creating a hierarchical relationship between classes.'''"
      ],
      "metadata": {
        "id": "tDWL3b8HyQXv"
      },
      "execution_count": null,
      "outputs": []
    },
    {
      "cell_type": "code",
      "source": [
        "#7- What is polymorphism in OOP?"
      ],
      "metadata": {
        "id": "SkQVbGs3ybLL"
      },
      "execution_count": null,
      "outputs": []
    },
    {
      "cell_type": "code",
      "source": [
        "'''- Polymorphism is one of the key principles of Object-Oriented Programming (OOP) that allows objects of different classes to be treated as objects\n",
        "of a common superclass. The term comes from the Greek words \"poly\" (meaning many) and \"morph\" (meaning form), so it literally means \"many forms.\" In OOP,\n",
        "polymorphism enables a single interface to be used for different underlying forms (objects).\n",
        "\n",
        "\n",
        "🌟 Polymorphism in Object-Oriented Programming (OOP)\n",
        "Polymorphism is one of the key principles of Object-Oriented Programming (OOP) that allows objects of different classes to be treated as objects of a common superclass. The term comes from the Greek words \"poly\" (meaning many) and \"morph\" (meaning form), so it literally means \"many forms.\" In OOP, polymorphism enables a single interface to be used for different underlying forms (objects).\n",
        "\n",
        "Key Concepts of Polymorphism:\n",
        "Method Overriding (Run-time Polymorphism):\n",
        "\n",
        "A subclass provides its own specific implementation of a method that is already defined in the parent class.\n",
        "The method in the child class overrides the method in the parent class.\n",
        "Method Overloading (Compile-time Polymorphism):\n",
        "\n",
        "A single method in the same class can have different signatures (i.e., different parameters) to perform different tasks.\n",
        "Note: Python doesn’t support true method overloading (based on parameter types), but we can achieve a similar effect with default parameters or variable-length arguments.\n",
        "Operator Overloading:\n",
        "\n",
        "Allows custom implementation of operators (+, -, *, etc.) for user-defined classes.'''\n"
      ],
      "metadata": {
        "id": "6Zxz8RWiyfYY"
      },
      "execution_count": null,
      "outputs": []
    },
    {
      "cell_type": "code",
      "source": [
        "#8- How is encapsulation achieved in Python?"
      ],
      "metadata": {
        "id": "37BR8xm4y4TT"
      },
      "execution_count": null,
      "outputs": []
    },
    {
      "cell_type": "code",
      "source": [
        "'''- In Python, encapsulation is typically achieved through the use of:\n",
        "Public Attributes/Methods: Accessible from outside the class.\n",
        "Protected Attributes/Methods: Intended to be accessed only within the class and its subclasses.\n",
        "Private Attributes/Methods: Intended to be hidden from outside access and to be used only within the class.'''"
      ],
      "metadata": {
        "id": "BJYvSkEsy8yN"
      },
      "execution_count": null,
      "outputs": []
    },
    {
      "cell_type": "code",
      "source": [
        "#9- What is a constructor in Python?"
      ],
      "metadata": {
        "id": "LswHQqatzHEq"
      },
      "execution_count": null,
      "outputs": []
    },
    {
      "cell_type": "code",
      "source": [
        "'''-A constructor in Python is a special method used to initialize an object's attributes when an instance of a class is created.\n",
        " It is automatically invoked during object creation.\n",
        "In Python, the constructor method is defined using __init__().\n",
        "\n",
        "Python provides three types of constructors:\n",
        "\n",
        "1.Default Constructor (No parameters except self)\n",
        "2.Parameterized Constructor (Takes parameters to initialize object attributes)\n",
        "3.Constructor with Default Values (Has optional parameters with default values)\n",
        "\n"
      ],
      "metadata": {
        "id": "GgA1o_sVzLPD"
      },
      "execution_count": null,
      "outputs": []
    },
    {
      "cell_type": "code",
      "source": [
        "#10- What are class and static methods in Python?"
      ],
      "metadata": {
        "id": "zTOFe81rFp17"
      },
      "execution_count": null,
      "outputs": []
    },
    {
      "cell_type": "code",
      "source": [
        "'''- Class Methods:- A class method is a method that is bound to the class and not the object of the class. It can modify the class state that applies across\n",
        " all instances of the class.\n",
        "Uses:\n",
        "To access or modify class-level data (shared among all objects).\n",
        "Often used as factory methods that return class instances.\n",
        "Key Points:\n",
        "Defined using the @classmethod decorator.\n",
        "Takes cls as the first parameter (refers to the class itself).\n",
        "Can access and modify class variables, but not instance variables directly.\n",
        "\n",
        "Static Methods:- A static method is a method that does not depend on class or instance attributes. It behaves like a regular function, but it's logically grouped\n",
        "within a class.\n",
        "\n",
        "Uses:\n",
        "To perform utility functions that are related to the class but don’t require access to class or instance data.\n",
        "Key Points:\n",
        "Defined using the @staticmethod decorator.\n",
        "Does NOT take self or cls as the first parameter.\n",
        "Cannot access or modify class or instance variables."
      ],
      "metadata": {
        "id": "8YfKUPgbF1TG"
      },
      "execution_count": null,
      "outputs": []
    },
    {
      "cell_type": "code",
      "source": [
        "#11- What is method overloading in Python?\n",
        "'''- Method Overloading is a concept in Object-Oriented Programming (OOP) where you can define multiple methods with the same name but with different parameters\n",
        "(number, type, or both). It allows a class to handle different types of data with the same method name, enhancing flexibility and readability.\n",
        "However, Python does not support traditional method overloading like languages such as Java or C++. Instead, Python achieves similar behavior using\n",
        "default arguments, variable-length arguments (*args, **kwargs), or conditional logic inside a single method.\n",
        "\n",
        "Key Concepts of Method Overloading in Python\n",
        "\n",
        "Python doesn’t allow multiple methods with the same name.\n",
        "The last defined method with the same name will overwrite the previous ones.\n",
        "To achieve overloading-like behavior, we use:\n",
        "Default Arguments\n",
        "Variable-Length Arguments (*args, **kwargs)\n",
        "Type Checking with Conditions"
      ],
      "metadata": {
        "id": "eFk80Pt8HBGS"
      },
      "execution_count": null,
      "outputs": []
    },
    {
      "cell_type": "code",
      "source": [
        "#12- What is method overriding in OOP?"
      ],
      "metadata": {
        "id": "xnzLiq5BHqMw"
      },
      "execution_count": null,
      "outputs": []
    },
    {
      "cell_type": "code",
      "source": [
        "'''- Method Overriding is a key concept in Object-Oriented Programming (OOP) that allows a subclass (child class) to provide a specific implementation of a method that\n",
        " is already defined in its superclass (parent class).\n",
        "In simple terms:\n",
        "When a child class has a method with the same name, same parameters, and same signature as the parent class, the child class’s version overrides the parent’s\n",
        "version.\n",
        "Key Features of Method Overriding\n",
        "\n",
        "1-Same Method Name: The method in the child class must have the same name as in the parent class.\n",
        "2-Same Parameters: The method signature (parameters) should be the same.\n",
        "3-Inheritance Required: Method overriding occurs only in an inheritance hierarchy (parent-child relationship).\n",
        "4-Polymorphism: It supports runtime polymorphism, where the method to be invoked is determined at runtime based on the object.\n",
        "\n",
        "Why Use Method Overriding?\n",
        "To modify or extend the behavior of the parent class method.\n",
        "To provide custom behavior for child classes while reusing code from the parent class.\n",
        "To achieve dynamic (runtime) polymorphism."
      ],
      "metadata": {
        "id": "KO0TATS2ISl4"
      },
      "execution_count": null,
      "outputs": []
    },
    {
      "cell_type": "code",
      "source": [
        "#13- What is a property decorator in Python?"
      ],
      "metadata": {
        "id": "4i-6CDU8JALv"
      },
      "execution_count": null,
      "outputs": []
    },
    {
      "cell_type": "code",
      "source": [
        "'''- The @property decorator in Python is used to create getter methods for class attributes, allowing you to access methods like attributes while still\n",
        "providing the power of encapsulation. It’s part of Python’s built-in property() function but offers a cleaner, more readable syntax.\n",
        "\n",
        "Think of it this way:\n",
        "\n",
        "Without @property: You’d need to call methods to access data (obj.get_value()).\n",
        "With @property: You can access data as if it’s a simple attribute (obj.value), even though it’s powered by a method behind the scenes.\n",
        "\n",
        "Why Use @property?\n",
        "Encapsulation: Protect class attributes from direct modification.\n",
        "Cleaner Syntax: Access methods like attributes without parentheses.\n",
        "Read-Only or Controlled Access: Allow read-only access or control how attributes are set.\n",
        "Backward Compatibility: Refactor code without changing how attributes are accessed"
      ],
      "metadata": {
        "id": "d-lfkwcwLtOI"
      },
      "execution_count": null,
      "outputs": []
    },
    {
      "cell_type": "code",
      "source": [
        "#14- Why is polymorphism important in OOP?"
      ],
      "metadata": {
        "id": "aOo2DyMTMm74"
      },
      "execution_count": null,
      "outputs": []
    },
    {
      "cell_type": "code",
      "source": [
        "'''- Polymorphism is one of the four core principles of Object-Oriented Programming (OOP)—alongside Encapsulation, Abstraction, and Inheritance. The term comes from the Greek words poly (many) and morph (forms),\n",
        "meaning \"many forms.\"\n",
        "At its core, polymorphism allows objects of different classes to be treated as objects of a common superclass.\n",
        "This enables a single interface to represent different types of objects, leading to more flexible and scalable code.\n",
        "\n",
        "\n",
        "🔄 Polymorphism in OOP: Why It’s Important\n",
        "Polymorphism is one of the four core principles of Object-Oriented Programming (OOP)—alongside Encapsulation, Abstraction, and Inheritance. The term comes from the Greek words poly (many) and morph (forms), meaning \"many forms.\"\n",
        "\n",
        "At its core, polymorphism allows objects of different classes to be treated as objects of a common superclass. This enables a single interface to represent different types of objects, leading to more flexible and scalable code.\n",
        "\n",
        "Why Is Polymorphism Important in OOP?\n",
        "Code Reusability:\n",
        "Write general code that works with different data types or objects without rewriting it for each specific case.\n",
        "\n",
        "Flexibility and Extensibility:\n",
        "Add new features or classes without changing existing code. You just need to override methods in new subclasses.\n",
        "\n",
        "Improved Maintainability:\n",
        "Reduce code duplication and complexity, making programs easier to read, maintain, and update.\n",
        "\n",
        "Dynamic Behavior:\n",
        "Enable behavior to change at runtime depending on the object that’s calling the method. This is known as runtime polymorphism.\n",
        "\n",
        "Promotes Interface-Based Design:\n",
        "Encourages designing programs based on interfaces rather than specific implementations, making systems more modular."
      ],
      "metadata": {
        "id": "fo8-Pee_Mtcr"
      },
      "execution_count": null,
      "outputs": []
    },
    {
      "cell_type": "code",
      "source": [
        "#15- What is an abstract class in Python?"
      ],
      "metadata": {
        "id": "M97gLdWFNK-g"
      },
      "execution_count": null,
      "outputs": []
    },
    {
      "cell_type": "code",
      "source": [
        "'''- An abstract class in Python is a class that cannot be instantiated directly. Instead, it serves as a blueprint for other classes.\n",
        "Abstract classes often define abstract methods—methods that must be implemented by any subclass that inherits from the abstract class.\n",
        "In Python, abstract classes are created using the abc (Abstract Base Class) module, along with the @abstractmethod decorator."
      ],
      "metadata": {
        "id": "wlxB0nSkNNzD"
      },
      "execution_count": null,
      "outputs": []
    },
    {
      "cell_type": "code",
      "source": [
        "#16- What are the advantages of OOP?"
      ],
      "metadata": {
        "id": "8TDibBAgNs8l"
      },
      "execution_count": null,
      "outputs": []
    },
    {
      "cell_type": "code",
      "source": [
        "'''- Object-Oriented Programming (OOP) is a programming paradigm based on the concept of \"objects\", which can contain data (attributes) and code (methods).\n",
        "OOP helps in organizing complex code structures, making programs more modular, reusable, and easier to maintain.\n",
        "\n",
        "Here are the key advantages of OOP:\n",
        "1. Modularity - The source code is divided into discrete, self-contained units called classes.\n",
        "2. Reusability - Classes can be reused across different parts of a program or even in other projects through inheritance.\n",
        "3. Data Encapsulation - OOP bundles data (attributes) and methods (functions) that operate on the data into a single unit called a class,\n",
        "restricting unauthorized access.\n",
        "4. Polymorphism - Allows the same operation to behave differently on different classes.\n",
        "5. Abstraction - Hides complex implementation details and shows only essential features.\n",
        "6. Easy Maintenance and Upgrades - OOP's modular structure makes it easier to update specific parts of the system without affecting the entire codebase.\n",
        "8. Code Scalability - OOP makes it easy to build scalable applications that can grow in complexity without becoming unmanageable.\n",
        "9. Real-World Mapping - OOP models real-world entities as objects, making it intuitive for developers.\n",
        "10. Better Collaboration - OOP allows developers to work on different classes or modules simultaneously without interfering with each other's work."
      ],
      "metadata": {
        "id": "80XR6gL3OFXt"
      },
      "execution_count": null,
      "outputs": []
    },
    {
      "cell_type": "code",
      "source": [
        "#17- What is the difference between a class variable and an instance variable?"
      ],
      "metadata": {
        "id": "vIIajF38Pofp"
      },
      "execution_count": null,
      "outputs": []
    },
    {
      "cell_type": "code",
      "source": [
        "''' Class Variable\n",
        "Definition: A class variable is shared by all instances of a class.\n",
        "Scope: Belongs to the class itself, not any specific object.\n",
        "Usage: Used to store data that is common to all objects (e.g., a counter for the number of objects created).\n",
        "Declaration: Defined inside the class but outside any instance methods.\n",
        "\n",
        "2. Instance Variable\n",
        "Definition: An instance variable is unique to each object (instance of the class).\n",
        "Scope: Belongs to the specific instance of the class.\n",
        "Usage: Used to store data that is unique for each object (e.g., name, age, salary).\n",
        "Declaration: Defined inside the constructor (__init__ method) using self."
      ],
      "metadata": {
        "id": "Hv2xEYyAPtQK"
      },
      "execution_count": null,
      "outputs": []
    },
    {
      "cell_type": "code",
      "source": [
        "#18- What is multiple inheritance in Python?"
      ],
      "metadata": {
        "id": "MdTITVv6UldP"
      },
      "execution_count": null,
      "outputs": []
    },
    {
      "cell_type": "code",
      "source": [
        "'''Multiple Inheritance is a feature in object-oriented programming where a class can inherit attributes and methods from more than one parent class.\n",
        "In Python, multiple inheritance is supported directly, allowing a derived class to inherit from two or more base classes.\n",
        "This helps create flexible and reusable code structures.'''"
      ],
      "metadata": {
        "id": "dqEehwYRUsyS"
      },
      "execution_count": null,
      "outputs": []
    },
    {
      "cell_type": "code",
      "source": [
        "#19-  Explain the purpose of ‘’__str__’ and ‘__repr__’ ‘ methods in Python?\n",
        "'''In Python, __str__ and __repr__ are magic methods (also called dunder methods because they begin and end with double underscores)\n",
        "used to define how an object is represented as a string. While both serve similar purposes, they are used in different contexts and have distinct purposes.\n",
        "Let's dive into each of them.\n",
        "\n",
        "1. __str__ Method:\n",
        "The __str__ method is used to define a user-friendly or informal string representation of an object. It's intended for printing or displaying an object in\n",
        " a way that makes sense for end-users.\n",
        "\n",
        "Purpose: Provide a readable, user-friendly string representation of the object.\n",
        "Used by: str() function, print() function, and when you try to convert an object to a string in a user-facing context.\n",
        "\n",
        "2. __repr__ Method:\n",
        "The __repr__ method is used to define a formal or unambiguous string representation of an object, which ideally can be used to recreate the object.\n",
        "If possible, the string returned by __repr__ should be valid Python code that, when passed to eval(), will create an object with the same state.\n",
        "\n",
        "Purpose: Provide an unambiguous, developer-focused string representation of the object.\n",
        "Used by: repr() function, interactive interpreters (e.g., Python shell), and when inspecting objects for debugging."
      ],
      "metadata": {
        "id": "-o4L32QjVTaM"
      },
      "execution_count": null,
      "outputs": []
    },
    {
      "cell_type": "code",
      "source": [
        "#20- What is the significance of the ‘super()’ function in Python?"
      ],
      "metadata": {
        "id": "UdBmpB73Wauh"
      },
      "execution_count": null,
      "outputs": []
    },
    {
      "cell_type": "code",
      "source": [
        "'''- In Python, the super() function plays a crucial role in object-oriented programming (OOP), especially in inheritance.\n",
        "It provides a way to call methods from parent classes (also called superclasses) in a derived class (or subclass).\n",
        "This is useful when you want to extend or modify the behavior of inherited methods without completely overriding them.'''"
      ],
      "metadata": {
        "id": "BvUCD6e8WfWp"
      },
      "execution_count": null,
      "outputs": []
    },
    {
      "cell_type": "code",
      "source": [
        "#21- What is the significance of the __del__ method in Python?\n",
        "'''The __del__ method in Python is a special method (also called a dunder method) that is invoked when an object is about to be destroyed or garbage collected.\n",
        "This method provides a way to define cleanup or finalization actions when an object is no longer needed, allowing the programmer to release resources\n",
        "such as file handles, database connections, or memory that the object was using.\n",
        "\n",
        "Purpose of __del__ Method:\n",
        "Resource Cleanup: It is typically used to perform clean-up tasks, such as closing files, releasing network connections, or deallocating other\n",
        "resources that were acquired during the object's lifetime.\n",
        "Garbage Collection Hook: It allows the programmer to define what should happen when an object is about to be destroyed by the garbage collector.\n",
        "\n",
        "How __del__ Works:\n",
        "When an object’s reference count reaches zero (i.e., when it is no longer accessible or used), Python automatically triggers the __del__ method, if defined.\n",
        "The __del__ method is not always called immediately when the object goes out of scope, especially in the case of circular references or\n",
        "if the program terminates abruptly.\n",
        "\n"
      ],
      "metadata": {
        "id": "EvE1rPeqW7Xn"
      },
      "execution_count": null,
      "outputs": []
    },
    {
      "cell_type": "code",
      "source": [
        "#22- What is the difference between @staticmethod and @classmethod in Python?"
      ],
      "metadata": {
        "id": "GmoETB__Xwhi"
      },
      "execution_count": null,
      "outputs": []
    },
    {
      "cell_type": "code",
      "source": [
        "'''- @staticmethod\n",
        "A static method does not take an implicit first argument (like self or cls). It behaves like a regular function, but it belongs to the class's namespace.\n",
        "A static method is not bound to an instance or the class itself.\n",
        "It does not have access to the class (cls) or instance (self) attributes.\n",
        "It is used for utility functions that are related to the class, but do not need access to any instance-specific or class-specific data.\n",
        "\n",
        "@classmethod\n",
        "A class method takes a class reference (cls) as the first parameter instead of self. This allows it to modify the class state and call other class methods.\n",
        "It is bound to the class (not to an instance), so it can modify class-level attributes, but it cannot modify instance-specific data (unless it explicitly has access to an instance).\n",
        "Class methods are often used for factory methods that instantiate objects or modify class-level attributes.\n"
      ],
      "metadata": {
        "id": "DqItj8KxXzE2"
      },
      "execution_count": null,
      "outputs": []
    },
    {
      "cell_type": "code",
      "source": [
        "#23-  How does polymorphism work in Python with inheritance?"
      ],
      "metadata": {
        "id": "4xBwC9goYYjL"
      },
      "execution_count": null,
      "outputs": []
    },
    {
      "cell_type": "code",
      "source": [
        "'''-Polymorphism is a core concept of Object-Oriented Programming (OOP), and it refers to the ability of different classes to respond to the same method call\n",
        "in a way that is specific to their own behavior. In Python, polymorphism allows you to use the same method name or operator for different types of objects,\n",
        "with each class providing its own implementation of the method.\n",
        "\n",
        "When combined with inheritance, polymorphism allows a subclass to override or extend methods from its parent class, while still maintaining the same interface.\n",
        "This means that you can call the same method on different objects, but each object can execute its own version of the method, depending on its class.\n",
        "\n",
        "Types of Polymorphism in Python\n",
        "Method Overriding (Runtime Polymorphism)\n",
        "Method Overloading (Not natively supported in Python, but can be simulated using default arguments or variable-length argument lists)\n",
        "\n",
        "How Polymorphism Works in Python with Inheritance\n",
        "Polymorphism in Python primarily works through method overriding in the context of inheritance. This means that a subclass can provide its own implementation\n",
        "of a method that is already defined in its parent class. When the method is called on an instance of the subclass, the subclass's version of the method is executed,\n",
        "even if the method was defined in the parent class.\n",
        "\n",
        "1. Method Overriding (Runtime Polymorphism)\n",
        "In method overriding, a subclass provides a new definition for a method that is already defined in its parent class. When the method is called on an instance of\n",
        "the subclass, Python calls the method from the subclass, not the parent class.\n",
        "\n",
        "2. Using Polymorphism with a Base Class Reference\n",
        "You can also use polymorphism in Python when referring to different objects through the base class type.\n",
        "This means that a variable of the base class type can hold references to objects of derived classes, and the method call will be resolved to the overridden\n",
        "version of the method based on the actual object type at runtime."
      ],
      "metadata": {
        "id": "g_X2Rh89Yc7V"
      },
      "execution_count": null,
      "outputs": []
    },
    {
      "cell_type": "code",
      "source": [
        "#24- What is method chaining in Python OOP?"
      ],
      "metadata": {
        "id": "Z-M3MAJwZR-c"
      },
      "execution_count": null,
      "outputs": []
    },
    {
      "cell_type": "code",
      "source": [
        "'''- Method chaining in Python refers to the technique of calling multiple methods on the same object in a single line of code.\n",
        "Each method call returns the object itself (or the same object type), allowing you to chain method calls one after the other.\n",
        "This creates a more concise and readable way to write code, especially when performing multiple operations on the same object.\n",
        "\n",
        "How Method Chaining Works\n",
        "For method chaining to work, each method in the chain must return the object it was called on.\n",
        "This allows the next method in the chain to be called on the same object. If a method does not return the object, the chain will break, and you will get an error."
      ],
      "metadata": {
        "id": "YtjAWMjNZXDa"
      },
      "execution_count": null,
      "outputs": []
    },
    {
      "cell_type": "code",
      "source": [
        "#25-  What is the purpose of the __call__ method in Python?"
      ],
      "metadata": {
        "id": "0vaLqD-FZ2wF"
      },
      "execution_count": null,
      "outputs": []
    },
    {
      "cell_type": "code",
      "source": [
        "'''The __call__ method in Python is a special (dunder) method that allows an instance of a class to be called like a function.\n",
        "When the __call__ method is defined in a class, the object of that class becomes callable, meaning you can use parentheses () with the object,\n",
        "just like a regular function.\n",
        "\n",
        "This can be useful in scenarios where you want an object to behave like a function or need more control over the behavior when an object is called.\n",
        "\n",
        "How __call__ Works\n",
        "When you define a __call__ method in a class, Python allows you to call instances of that class with arguments (just like you would call a function).\n",
        "When this happens, the __call__ method is automatically invoked."
      ],
      "metadata": {
        "id": "bh329TXyZ7Qb"
      },
      "execution_count": null,
      "outputs": []
    }
  ]
}